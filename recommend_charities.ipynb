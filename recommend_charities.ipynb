{
  "nbformat": 4,
  "nbformat_minor": 0,
  "metadata": {
    "colab": {
      "name": "recommend_charities.ipynb",
      "version": "0.3.2",
      "provenance": [],
      "collapsed_sections": [
        "5QG4rzWF4ko6"
      ],
      "toc_visible": true,
      "include_colab_link": true
    },
    "kernelspec": {
      "name": "python3",
      "display_name": "Python 3"
    },
    "accelerator": "GPU"
  },
  "cells": [
    {
      "cell_type": "markdown",
      "metadata": {
        "id": "view-in-github",
        "colab_type": "text"
      },
      "source": [
        "<a href=\"https://colab.research.google.com/github/Chris-Manna/charity_recommender/blob/master/recommend_charities.ipynb\" target=\"_parent\"><img src=\"https://colab.research.google.com/assets/colab-badge.svg\" alt=\"Open In Colab\"/></a>"
      ]
    },
    {
      "metadata": {
        "colab_type": "text",
        "id": "iDNZcq7WaqLY"
      },
      "cell_type": "markdown",
      "source": [
        "# Obtain The Data"
      ]
    },
    {
      "metadata": {
        "id": "UR6nMTafQ5AN",
        "colab_type": "text"
      },
      "cell_type": "markdown",
      "source": [
        "#### Access Google Drive Files"
      ]
    },
    {
      "metadata": {
        "id": "CwnMeRjhQ-fO",
        "colab_type": "code",
        "colab": {
          "base_uri": "https://localhost:8080/",
          "height": 177
        },
        "outputId": "52130cf9-97bb-429d-e514-0c3f59dad8ef"
      },
      "cell_type": "code",
      "source": [
        "### Connect personal Google drive to local Google Colabs\n",
        "# Install the PyDrive wrapper & import libraries.\n",
        "# This only needs to be done once per notebook.\n",
        "!pip install -U -q PyDrive\n",
        "from pydrive.auth import GoogleAuth\n",
        "from pydrive.drive import GoogleDrive\n",
        "from google.colab import auth\n",
        "from oauth2client.client import GoogleCredentials\n",
        "\n",
        "# Authenticate and create the PyDrive client.\n",
        "# This only needs to be done once per notebook.\n",
        "auth.authenticate_user()\n",
        "gauth = GoogleAuth()\n",
        "gauth.credentials = GoogleCredentials.get_application_default()\n",
        "drive = GoogleDrive(gauth)\n",
        "\n",
        "### import dependencies\n",
        "import pandas as pd\n",
        "import numpy as np\n",
        "import matplotlib.pyplot as plt\n",
        "%matplotlib inline\n",
        "from sklearn.cluster import KMeans\n",
        "\n",
        "#getting the right files in place\n",
        "import zipfile\n",
        "from os import listdir\n",
        "from os.path import isfile, join\n",
        "\n",
        "# ensuring we get the same results in randomized selections\n",
        "np.random.seed(1)\n",
        "\n",
        "# plotly\n",
        "from plotly import __version__\n",
        "from plotly.offline import download_plotlyjs, init_notebook_mode, plot#, iplot"
      ],
      "execution_count": 1,
      "outputs": [
        {
          "output_type": "stream",
          "text": [
            "\u001b[?25l\r\u001b[K    1% |▎                               | 10kB 18.9MB/s eta 0:00:01\r\u001b[K    2% |▋                               | 20kB 5.1MB/s eta 0:00:01\r\u001b[K    3% |█                               | 30kB 7.3MB/s eta 0:00:01\r\u001b[K    4% |█▎                              | 40kB 4.5MB/s eta 0:00:01\r\u001b[K    5% |█▋                              | 51kB 5.5MB/s eta 0:00:01\r\u001b[K    6% |██                              | 61kB 6.5MB/s eta 0:00:01\r\u001b[K    7% |██▎                             | 71kB 7.3MB/s eta 0:00:01\r\u001b[K    8% |██▋                             | 81kB 8.2MB/s eta 0:00:01\r\u001b[K    9% |███                             | 92kB 9.1MB/s eta 0:00:01\r\u001b[K    10% |███▎                            | 102kB 7.2MB/s eta 0:00:01\r\u001b[K    11% |███▋                            | 112kB 7.4MB/s eta 0:00:01\r\u001b[K    12% |████                            | 122kB 9.6MB/s eta 0:00:01\r\u001b[K    13% |████▎                           | 133kB 9.5MB/s eta 0:00:01\r\u001b[K    14% |████▋                           | 143kB 16.9MB/s eta 0:00:01\r\u001b[K    15% |█████                           | 153kB 17.1MB/s eta 0:00:01\r\u001b[K    16% |█████▎                          | 163kB 17.1MB/s eta 0:00:01\r\u001b[K    17% |█████▋                          | 174kB 16.6MB/s eta 0:00:01\r\u001b[K    18% |██████                          | 184kB 16.8MB/s eta 0:00:01\r\u001b[K    19% |██████▎                         | 194kB 16.8MB/s eta 0:00:01\r\u001b[K    20% |██████▋                         | 204kB 42.2MB/s eta 0:00:01\r\u001b[K    21% |███████                         | 215kB 18.4MB/s eta 0:00:01\r\u001b[K    22% |███████▎                        | 225kB 18.6MB/s eta 0:00:01\r\u001b[K    23% |███████▋                        | 235kB 18.6MB/s eta 0:00:01\r\u001b[K    24% |████████                        | 245kB 18.6MB/s eta 0:00:01\r\u001b[K    25% |████████▎                       | 256kB 18.4MB/s eta 0:00:01\r\u001b[K    26% |████████▋                       | 266kB 17.2MB/s eta 0:00:01\r\u001b[K    27% |█████████                       | 276kB 17.6MB/s eta 0:00:01\r\u001b[K    29% |█████████▎                      | 286kB 17.4MB/s eta 0:00:01\r\u001b[K    30% |█████████▋                      | 296kB 16.9MB/s eta 0:00:01\r\u001b[K    31% |██████████                      | 307kB 17.0MB/s eta 0:00:01\r\u001b[K    32% |██████████▎                     | 317kB 35.5MB/s eta 0:00:01\r\u001b[K    33% |██████████▋                     | 327kB 34.0MB/s eta 0:00:01\r\u001b[K    34% |███████████                     | 337kB 34.3MB/s eta 0:00:01\r\u001b[K    35% |███████████▎                    | 348kB 30.5MB/s eta 0:00:01\r\u001b[K    36% |███████████▋                    | 358kB 30.6MB/s eta 0:00:01\r\u001b[K    37% |████████████                    | 368kB 33.0MB/s eta 0:00:01\r\u001b[K    38% |████████████▎                   | 378kB 31.9MB/s eta 0:00:01\r\u001b[K    39% |████████████▋                   | 389kB 30.8MB/s eta 0:00:01\r\u001b[K    40% |█████████████                   | 399kB 30.4MB/s eta 0:00:01\r\u001b[K    41% |█████████████▎                  | 409kB 29.7MB/s eta 0:00:01\r\u001b[K    42% |█████████████▋                  | 419kB 30.0MB/s eta 0:00:01\r\u001b[K    43% |██████████████                  | 430kB 30.0MB/s eta 0:00:01\r\u001b[K    44% |██████████████▎                 | 440kB 29.5MB/s eta 0:00:01\r\u001b[K    45% |██████████████▋                 | 450kB 30.3MB/s eta 0:00:01\r\u001b[K    46% |███████████████                 | 460kB 30.0MB/s eta 0:00:01\r\u001b[K    47% |███████████████▎                | 471kB 30.5MB/s eta 0:00:01\r\u001b[K    48% |███████████████▋                | 481kB 31.4MB/s eta 0:00:01\r\u001b[K    49% |████████████████                | 491kB 31.6MB/s eta 0:00:01\r\u001b[K    50% |████████████████▎               | 501kB 32.6MB/s eta 0:00:01\r\u001b[K    51% |████████████████▋               | 512kB 31.6MB/s eta 0:00:01\r\u001b[K    52% |█████████████████               | 522kB 31.9MB/s eta 0:00:01\r\u001b[K    53% |█████████████████▎              | 532kB 31.1MB/s eta 0:00:01\r\u001b[K    54% |█████████████████▋              | 542kB 31.4MB/s eta 0:00:01\r\u001b[K    55% |██████████████████              | 552kB 33.7MB/s eta 0:00:01\r\u001b[K    57% |██████████████████▎             | 563kB 33.0MB/s eta 0:00:01\r\u001b[K    58% |██████████████████▋             | 573kB 31.9MB/s eta 0:00:01\r\u001b[K    59% |███████████████████             | 583kB 32.0MB/s eta 0:00:01\r\u001b[K    60% |███████████████████▎            | 593kB 32.5MB/s eta 0:00:01\r\u001b[K    61% |███████████████████▋            | 604kB 32.7MB/s eta 0:00:01\r\u001b[K    62% |████████████████████            | 614kB 33.4MB/s eta 0:00:01\r\u001b[K    63% |████████████████████▎           | 624kB 33.0MB/s eta 0:00:01\r\u001b[K    64% |████████████████████▋           | 634kB 33.2MB/s eta 0:00:01\r\u001b[K    65% |█████████████████████           | 645kB 33.2MB/s eta 0:00:01\r\u001b[K    66% |█████████████████████▎          | 655kB 32.8MB/s eta 0:00:01\r\u001b[K    67% |█████████████████████▋          | 665kB 28.4MB/s eta 0:00:01\r\u001b[K    68% |██████████████████████          | 675kB 30.0MB/s eta 0:00:01\r\u001b[K    69% |██████████████████████▎         | 686kB 30.7MB/s eta 0:00:01\r\u001b[K    70% |██████████████████████▋         | 696kB 31.7MB/s eta 0:00:01\r\u001b[K    71% |███████████████████████         | 706kB 32.1MB/s eta 0:00:01\r\u001b[K    72% |███████████████████████▎        | 716kB 33.7MB/s eta 0:00:01\r\u001b[K    73% |███████████████████████▋        | 727kB 35.0MB/s eta 0:00:01\r\u001b[K    74% |████████████████████████        | 737kB 36.9MB/s eta 0:00:01\r\u001b[K    75% |████████████████████████▎       | 747kB 38.2MB/s eta 0:00:01\r\u001b[K    76% |████████████████████████▋       | 757kB 39.2MB/s eta 0:00:01\r\u001b[K    77% |████████████████████████▉       | 768kB 52.0MB/s eta 0:00:01\r\u001b[K    78% |█████████████████████████▏      | 778kB 52.9MB/s eta 0:00:01\r\u001b[K    79% |█████████████████████████▌      | 788kB 52.7MB/s eta 0:00:01\r\u001b[K    80% |█████████████████████████▉      | 798kB 53.1MB/s eta 0:00:01\r\u001b[K    81% |██████████████████████████▏     | 808kB 53.9MB/s eta 0:00:01\r\u001b[K    82% |██████████████████████████▌     | 819kB 53.4MB/s eta 0:00:01\r\u001b[K    83% |██████████████████████████▉     | 829kB 53.8MB/s eta 0:00:01\r\u001b[K    85% |███████████████████████████▏    | 839kB 54.8MB/s eta 0:00:01\r\u001b[K    86% |███████████████████████████▌    | 849kB 54.9MB/s eta 0:00:01\r\u001b[K    87% |███████████████████████████▉    | 860kB 51.3MB/s eta 0:00:01\r\u001b[K    88% |████████████████████████████▏   | 870kB 50.9MB/s eta 0:00:01\r\u001b[K    89% |████████████████████████████▌   | 880kB 50.5MB/s eta 0:00:01\r\u001b[K    90% |████████████████████████████▉   | 890kB 50.6MB/s eta 0:00:01\r\u001b[K    91% |█████████████████████████████▏  | 901kB 49.4MB/s eta 0:00:01\r\u001b[K    92% |█████████████████████████████▌  | 911kB 48.9MB/s eta 0:00:01\r\u001b[K    93% |█████████████████████████████▉  | 921kB 49.4MB/s eta 0:00:01\r\u001b[K    94% |██████████████████████████████▏ | 931kB 48.7MB/s eta 0:00:01\r\u001b[K    95% |██████████████████████████████▌ | 942kB 47.3MB/s eta 0:00:01\r\u001b[K    96% |██████████████████████████████▉ | 952kB 47.2MB/s eta 0:00:01\r\u001b[K    97% |███████████████████████████████▏| 962kB 51.9MB/s eta 0:00:01\r\u001b[K    98% |███████████████████████████████▌| 972kB 52.3MB/s eta 0:00:01\r\u001b[K    99% |███████████████████████████████▉| 983kB 52.5MB/s eta 0:00:01\r\u001b[K    100% |████████████████████████████████| 993kB 19.3MB/s \n",
            "\u001b[?25h  Building wheel for PyDrive (setup.py) ... \u001b[?25ldone\n",
            "\u001b[?25h"
          ],
          "name": "stdout"
        }
      ]
    },
    {
      "metadata": {
        "id": "Gm9e2IBATGWJ",
        "colab_type": "code",
        "outputId": "97a37a2c-1a8a-4894-d662-993f9fe53db4",
        "colab": {
          "base_uri": "https://localhost:8080/",
          "height": 50
        }
      },
      "cell_type": "code",
      "source": [
        "### Clean up\n",
        "%cd data/CSVs\n",
        "\n",
        "# %cd ../../\n",
        "# !pwd\n",
        "# %rm -rf './data'"
      ],
      "execution_count": 0,
      "outputs": [
        {
          "output_type": "stream",
          "text": [
            "[Errno 2] No such file or directory: 'data/CSVs'\n",
            "/content\n"
          ],
          "name": "stdout"
        }
      ]
    },
    {
      "metadata": {
        "id": "xsRiigIc1W_J",
        "colab_type": "text"
      },
      "cell_type": "markdown",
      "source": [
        "#### Creating Directories, Loading Documents into Local Colabs Drive"
      ]
    },
    {
      "metadata": {
        "colab_type": "code",
        "cellView": "code",
        "id": "j8N0re15TZcb",
        "outputId": "3e46dc1f-d569-42b4-8edb-d1606c98a615",
        "colab": {
          "base_uri": "https://localhost:8080/",
          "height": 631
        }
      },
      "cell_type": "code",
      "source": [
        "# # Access data from Local Colab Drive\n",
        "!mkdir data\n",
        "!mkdir data/zipfiles\n",
        "!mkdir data/CSVs\n",
        "%cd data/zipfiles\n",
        "\n",
        "# https://www.kaggle.com/donorschoose/io#Resources.csv\n",
        "\n",
        "donors_id = '1e-4Lu8werRUdqeFzpM7cOL3vZ4gA7xh6'\n",
        "donations_id = '1GwzrUxOXduYRdx_qWNwjD7bJbksjEeeE'\n",
        "projects_id = '1OJXbjFo1tc3yn3SfDgq1Rk9HvAvKQ8O8'\n",
        "resources_id = '1A1EOiSF9kUWImCILRFZl9-zLgArtBDed'\n",
        "schools_id = '1W95AOCTg6kKj5nZTCUKaas668N9RcZ2U'\n",
        "teachers_id = '1W0pfHkFss8hJ5TGP_tyF2Vv-ubxX2FCd'\n",
        "\n",
        "zip_file_ids = [donors_id,\n",
        "                donations_id,\n",
        "                projects_id,\n",
        "                resources_id,\n",
        "                schools_id,\n",
        "                teachers_id]\n",
        "\n",
        "for file_id in zip_file_ids:\n",
        "  downloaded = drive.CreateFile({'id': file_id})\n",
        "  downloaded.GetContentFile(downloaded['title'])\n",
        "  \n",
        "%cd ../CSVs/\n",
        "!unzip ../zipfiles/Donations.csv.zip\n",
        "!unzip ../zipfiles/Donors.csv.zip\n",
        "!unzip ../zipfiles/Projects.csv.zip\n",
        "!unzip ../zipfiles/Resources.csv.zip\n",
        "!unzip ../zipfiles/Schools.csv.zip\n",
        "!unzip ../zipfiles/Teachers.csv.zip\n",
        "!ls\n",
        "%cd ./data/CSVs\n",
        "!pip install scikit-surprise"
      ],
      "execution_count": 2,
      "outputs": [
        {
          "output_type": "stream",
          "text": [
            "/content/data/zipfiles\n",
            "/content/data/CSVs\n",
            "Archive:  ../zipfiles/Donations.csv.zip\n",
            "  inflating: Donations.csv           \n",
            "Archive:  ../zipfiles/Donors.csv.zip\n",
            "  inflating: Donors.csv              \n",
            "Archive:  ../zipfiles/Projects.csv.zip\n",
            "  inflating: Projects.csv            \n",
            "Archive:  ../zipfiles/Resources.csv.zip\n",
            "  inflating: Resources.csv           \n",
            "Archive:  ../zipfiles/Schools.csv.zip\n",
            "  inflating: Schools.csv             \n",
            "Archive:  ../zipfiles/Teachers.csv.zip\n",
            "  inflating: Teachers.csv            \n",
            "Donations.csv  Projects.csv   Schools.csv\n",
            "Donors.csv     Resources.csv  Teachers.csv\n",
            "[Errno 2] No such file or directory: './data/CSVs'\n",
            "/content/data/CSVs\n",
            "Collecting scikit-surprise\n",
            "\u001b[?25l  Downloading https://files.pythonhosted.org/packages/4d/fc/cd4210b247d1dca421c25994740cbbf03c5e980e31881f10eaddf45fdab0/scikit-surprise-1.0.6.tar.gz (3.3MB)\n",
            "\u001b[K    100% |████████████████████████████████| 3.3MB 9.3MB/s \n",
            "\u001b[?25hRequirement already satisfied: joblib>=0.11 in /usr/local/lib/python3.6/dist-packages (from scikit-surprise) (0.13.2)\n",
            "Requirement already satisfied: numpy>=1.11.2 in /usr/local/lib/python3.6/dist-packages (from scikit-surprise) (1.14.6)\n",
            "Requirement already satisfied: scipy>=1.0.0 in /usr/local/lib/python3.6/dist-packages (from scikit-surprise) (1.1.0)\n",
            "Requirement already satisfied: six>=1.10.0 in /usr/local/lib/python3.6/dist-packages (from scikit-surprise) (1.11.0)\n",
            "Building wheels for collected packages: scikit-surprise\n",
            "  Building wheel for scikit-surprise (setup.py) ... \u001b[?25ldone\n",
            "\u001b[?25h  Stored in directory: /root/.cache/pip/wheels/ec/c0/55/3a28eab06b53c220015063ebbdb81213cd3dcbb72c088251ec\n",
            "Successfully built scikit-surprise\n",
            "Installing collected packages: scikit-surprise\n",
            "Successfully installed scikit-surprise-1.0.6\n"
          ],
          "name": "stdout"
        }
      ]
    },
    {
      "metadata": {
        "id": "h1PPtXkJbWR9",
        "colab_type": "text"
      },
      "cell_type": "markdown",
      "source": [
        "#### Get all content of files from CSVs folder"
      ]
    },
    {
      "metadata": {
        "id": "uQDO-LegbAmI",
        "colab_type": "code",
        "outputId": "130cd894-13d6-4df8-b22e-ff549a75d01f",
        "colab": {
          "base_uri": "https://localhost:8080/",
          "height": 85
        }
      },
      "cell_type": "code",
      "source": [
        "donations_data = pd.read_csv('Donations.csv')\n",
        "donors_data = pd.read_csv('Donors.csv')\n",
        "projects_data = pd.read_csv('Projects.csv')\n",
        "# resources_data = pd.read_csv('Resources.csv')\n",
        "# schools_data = pd.read_csv('Schools.csv')\n",
        "# teachers_data= pd.read_csv('Teachers.csv')"
      ],
      "execution_count": 3,
      "outputs": [
        {
          "output_type": "stream",
          "text": [
            "/usr/local/lib/python3.6/dist-packages/IPython/core/interactiveshell.py:2718: DtypeWarning:\n",
            "\n",
            "Columns (4) have mixed types. Specify dtype option on import or set low_memory=False.\n",
            "\n"
          ],
          "name": "stderr"
        }
      ]
    },
    {
      "metadata": {
        "id": "ac-X0_ujb-IE",
        "colab_type": "text"
      },
      "cell_type": "markdown",
      "source": [
        "# Explore Data\n",
        "---\n",
        "Total US DataSet:\n",
        "- Total Amount Received over 5 year period: $284,408,243.28\n",
        "\n",
        "- More Recent Date Donation Received: 2018-05-09\n",
        "\n",
        "- Earliest Data Donation Received: 2012-10-08\n",
        "\n",
        "- Max Single Donation: $60,000.00\n",
        "\n",
        "- Min Single Doation: $0.01\n",
        "\n",
        "- Total # of Donations: 4,687,884\n",
        "\n",
        "- Most Frequent Donor Donated 18,035 times and donated $1,879,624.97 over a five year period. This might be coming from one group of people using the same account?\n",
        "----\n",
        "\n",
        "New York State:\n",
        "\n",
        "- Total Amount Received over a 5 year period: $24,532,648.52\n",
        "\n",
        "- Total Number of Donations Received from NY: 355,926 \n",
        "\n",
        "- Most Recent Date Donation Received: 2018-05-09\n",
        "\n",
        "- Earliest Date Donation Received: 2012-10-08\n",
        "\n",
        "- The most common donor donated 10,515 times \n",
        "\n",
        "- Max Single Donation: $20,000.00\n",
        "\n",
        "- Min Single Donation: $0.08\n",
        "---\n",
        "New York City:\n",
        "\n",
        "- Total Amount Received over a 5 year period: $8,015,266.39\n",
        "\n",
        "- Total Number of Donations Received from NYC: 76,257 donations\n",
        "\n",
        "- Most Recent Date Donation Received: 2018-05-09\n",
        "\n",
        "- Earliest Date Donation Received: 2012-10-27\n",
        "\n",
        "- The most common donor donated 2,152 times \n",
        "\n",
        "- Max Single Donation: $19,588.38\n",
        "\n",
        "- Min Single Donation: $0.21\n"
      ]
    },
    {
      "metadata": {
        "id": "zYold1KTydkX",
        "colab_type": "code",
        "colab": {}
      },
      "cell_type": "code",
      "source": [
        "donors_donations_df = pd.DataFrame(donors_data.merge(donations_data,on='Donor ID'))\n",
        "total_donations = donations_data['Donation Amount'].sum()"
      ],
      "execution_count": 0,
      "outputs": []
    },
    {
      "metadata": {
        "id": "Hw_2N54PNTQn",
        "colab_type": "code",
        "colab": {
          "base_uri": "https://localhost:8080/",
          "height": 34
        },
        "outputId": "62aec52d-1fcb-425d-db92-c5a162ed706f"
      },
      "cell_type": "code",
      "source": [
        "# ny_state_donors = donors_donations_df.loc[donors_donations_df['Donor State'] == 'New York'] # 355,926 donations from NY\n",
        "# ny_state_donors['Donation Amount'].sum()\n",
        "# ny_state_donors['Donor ID'].value_counts()#['Donation Amount'].sum().max()\n",
        "\n",
        "# nyc_donors = ny_state_donors.loc[ny_state_donors['Donor City'] == 'New York'] # 76257 donations from NYC\n",
        "# nyc_donors['Donation Received Date'].min()\n",
        "# nyc_donors['Donor ID'].value_counts().max()\n",
        "# nyc_donors['Donation Amount'].sum() # $8,015,266.39\n",
        "# nyc_donors['Donor ID'].nunique() # 26,009 unique donors\n",
        "# len(nyc_donors['Donation Amount']) # 76,257 donations\n",
        "# averaging $104.91 per donation and $308.17 per donor\n",
        "nyc_donors['Donation Amount'].max()\n",
        "\n",
        "# nyc_donor_totals = pd.DataFrame(nyc_donors.groupby('Donor ID')['Donation Amount'].sum()) # Group by a single donor in NYC\n",
        "# # nyc_donor_totals[['Donation Amount']].max() # Single Donor Total Maximum Contribution: $1,243,529.69\n",
        "# # nyc_donor_totals[['Donation Amount']].min() # Single Donor Total Minimum Contribution: $1.00\n"
      ],
      "execution_count": 71,
      "outputs": [
        {
          "output_type": "execute_result",
          "data": {
            "text/plain": [
              "19588.38"
            ]
          },
          "metadata": {
            "tags": []
          },
          "execution_count": 71
        }
      ]
    },
    {
      "metadata": {
        "id": "ouPpnPQOowzQ",
        "colab_type": "code",
        "colab": {}
      },
      "cell_type": "code",
      "source": [
        ""
      ],
      "execution_count": 0,
      "outputs": []
    },
    {
      "metadata": {
        "id": "YT8dHwRo4lMF",
        "colab_type": "code",
        "colab": {}
      },
      "cell_type": "code",
      "source": [
        "# nyc_donor_totals.sort_values(by='Donation Amount')"
      ],
      "execution_count": 0,
      "outputs": []
    },
    {
      "metadata": {
        "id": "w2N1aRgJrCY9",
        "colab_type": "code",
        "colab": {}
      },
      "cell_type": "code",
      "source": [
        "nyc_quartiles = nyc_donor_totals[['Donation Amount']].quantile([0,0.25,0.5,0.75,1])"
      ],
      "execution_count": 0,
      "outputs": []
    },
    {
      "metadata": {
        "id": "n2RvWsbN8v9Q",
        "colab_type": "code",
        "outputId": "7a469585-4453-45d6-a28c-ea6f7e94539b",
        "colab": {
          "base_uri": "https://localhost:8080/",
          "height": 51
        }
      },
      "cell_type": "code",
      "source": [
        "nyc_donor_totals[['Donation Amount']].transform(np.log,axis=0).mean()"
      ],
      "execution_count": 73,
      "outputs": [
        {
          "output_type": "execute_result",
          "data": {
            "text/plain": [
              "Donation Amount    4.218604\n",
              "dtype: float64"
            ]
          },
          "metadata": {
            "tags": []
          },
          "execution_count": 73
        }
      ]
    },
    {
      "metadata": {
        "id": "QyrPhHFv81tx",
        "colab_type": "code",
        "colab": {}
      },
      "cell_type": "code",
      "source": [
        ""
      ],
      "execution_count": 0,
      "outputs": []
    },
    {
      "metadata": {
        "id": "0c-lAzCm55Td",
        "colab_type": "code",
        "outputId": "07649a0f-8acd-4144-e460-5c1ba87ecee6",
        "colab": {
          "base_uri": "https://localhost:8080/",
          "height": 204
        }
      },
      "cell_type": "code",
      "source": [
        "nyc_quartiles.transform(np.log,axis=0)"
      ],
      "execution_count": 74,
      "outputs": [
        {
          "output_type": "execute_result",
          "data": {
            "text/html": [
              "<div>\n",
              "<style scoped>\n",
              "    .dataframe tbody tr th:only-of-type {\n",
              "        vertical-align: middle;\n",
              "    }\n",
              "\n",
              "    .dataframe tbody tr th {\n",
              "        vertical-align: top;\n",
              "    }\n",
              "\n",
              "    .dataframe thead th {\n",
              "        text-align: right;\n",
              "    }\n",
              "</style>\n",
              "<table border=\"1\" class=\"dataframe\">\n",
              "  <thead>\n",
              "    <tr style=\"text-align: right;\">\n",
              "      <th></th>\n",
              "      <th>Donation Amount</th>\n",
              "    </tr>\n",
              "  </thead>\n",
              "  <tbody>\n",
              "    <tr>\n",
              "      <th>0.00</th>\n",
              "      <td>0.000000</td>\n",
              "    </tr>\n",
              "    <tr>\n",
              "      <th>0.25</th>\n",
              "      <td>3.218876</td>\n",
              "    </tr>\n",
              "    <tr>\n",
              "      <th>0.50</th>\n",
              "      <td>3.912023</td>\n",
              "    </tr>\n",
              "    <tr>\n",
              "      <th>0.75</th>\n",
              "      <td>4.724286</td>\n",
              "    </tr>\n",
              "    <tr>\n",
              "      <th>1.00</th>\n",
              "      <td>14.033464</td>\n",
              "    </tr>\n",
              "  </tbody>\n",
              "</table>\n",
              "</div>"
            ],
            "text/plain": [
              "      Donation Amount\n",
              "0.00         0.000000\n",
              "0.25         3.218876\n",
              "0.50         3.912023\n",
              "0.75         4.724286\n",
              "1.00        14.033464"
            ]
          },
          "metadata": {
            "tags": []
          },
          "execution_count": 74
        }
      ]
    },
    {
      "metadata": {
        "id": "ZRfaZG0wYvmC",
        "colab_type": "code",
        "colab": {}
      },
      "cell_type": "code",
      "source": [
        "nyc_donor_totals = pd.DataFrame(nyc_donors.groupby('Donor ID')['Donation Amount'].sum())\n",
        "# nyc_donor_totals_plt = nyc_donor_totals.sort_values(by='Donation Amount', ascending=True)\n",
        "# nyc_donor_totals_plt.plot(figsize=(12,8),title='Donor Amount Measured in Log',logy=True)\n",
        "# get_yticks([1,10,100,1000,10000,100000,100000])"
      ],
      "execution_count": 0,
      "outputs": []
    },
    {
      "metadata": {
        "id": "jrowKH8V6LtL",
        "colab_type": "code",
        "colab": {}
      },
      "cell_type": "code",
      "source": [
        "median_nyc_donation = list(nyc_donor_totals.median())[0]\n",
        "mean_nyc_donation = list(nyc_donor_totals.mean())[0]"
      ],
      "execution_count": 0,
      "outputs": []
    },
    {
      "metadata": {
        "id": "O79nCBplrtHQ",
        "colab_type": "code",
        "outputId": "b31e9316-81ff-4bc4-b11e-e744a86198e7",
        "colab": {
          "base_uri": "https://localhost:8080/",
          "height": 280
        }
      },
      "cell_type": "code",
      "source": [
        "donation_count = nyc_donor_totals.hist(bins=[0,50,200,500,1000,2000,3000])\n",
        "# plt.title(\"Total Donations Amount, NYC\")\n",
        "# mean = plt.axvline(nyc_donor_totals['Donation Amount'].mean(), color='cyan', linestyle='dashed', linewidth=1)\n",
        "# median = plt.axvline(nyc_donor_totals['Donation Amount'].median(), color='white', linestyle='dashed', linewidth=1)\n",
        "# plt.legend((mean,median),(\"Mean %s\" %(round(mean_nyc_donation,2)),\"Median %s\" %(round(median_nyc_donation,2))))\n",
        "# plt.show()"
      ],
      "execution_count": 77,
      "outputs": [
        {
          "output_type": "display_data",
          "data": {
            "image/png": "[encoded data removed]",
            "text/plain": [
              "<Figure size 432x288 with 1 Axes>"
            ]
          },
          "metadata": {
            "tags": []
          }
        }
      ]
    },
    {
      "metadata": {
        "id": "5e7Mrzl0OfkL",
        "colab_type": "code",
        "colab": {}
      },
      "cell_type": "code",
      "source": [
        "# nyc_donor_totals.head()#.value_counts()"
      ],
      "execution_count": 0,
      "outputs": []
    },
    {
      "metadata": {
        "id": "qddG7nRq6262",
        "colab_type": "code",
        "colab": {}
      },
      "cell_type": "code",
      "source": [
        "# nyc_donors.head()"
      ],
      "execution_count": 0,
      "outputs": []
    },
    {
      "metadata": {
        "id": "-tRjsPsB7YAI",
        "colab_type": "text"
      },
      "cell_type": "markdown",
      "source": [
        "# Donors"
      ]
    },
    {
      "metadata": {
        "id": "pd6igwx5Tq8-",
        "colab_type": "code",
        "outputId": "10115b8d-72d7-46d5-e830-3b73d6de61ad",
        "colab": {
          "base_uri": "https://localhost:8080/",
          "height": 360
        }
      },
      "cell_type": "code",
      "source": [
        "data_1000cs = donors_donations_df[['Donor State','Donor City','Donation Amount']][:1000]\n",
        "data_1000sc_sum = data_1000cs.set_index(['Donor State','Donor City']).groupby(level=[0, 1]).sum()\n",
        "data_1000sc_sum.nlargest(10,columns='Donation Amount').sort_values(by='Donation Amount',ascending=False,inplace=True)\n",
        "\n",
        "data_1000sc_sum.unstack().plot(kind='bar', stacked=True).get_legend().remove()"
      ],
      "execution_count": 80,
      "outputs": [
        {
          "output_type": "display_data",
          "data": {
            "image/png": "[encoded data removed]",
            "text/plain": [
              "<Figure size 432x288 with 1 Axes>"
            ]
          },
          "metadata": {
            "tags": []
          }
        }
      ]
    },
    {
      "metadata": {
        "id": "PBzmlcLKxaoq",
        "colab_type": "code",
        "outputId": "0ee74d83-e2e0-47ec-e669-5ba4805942ba",
        "colab": {
          "base_uri": "https://localhost:8080/",
          "height": 572
        }
      },
      "cell_type": "code",
      "source": [
        "temp = donors_donations_df[\"Donor State\"].value_counts().head(10)\n",
        "temp.plot(kind='bar', title = 'Number of Donors by State',color='orange',figsize=(12,8))"
      ],
      "execution_count": 81,
      "outputs": [
        {
          "output_type": "execute_result",
          "data": {
            "text/plain": [
              "<matplotlib.axes._subplots.AxesSubplot at 0x7f87dda454a8>"
            ]
          },
          "metadata": {
            "tags": []
          },
          "execution_count": 81
        },
        {
          "output_type": "display_data",
          "data": {
            "image/png": "[encoded data removed]",
            "text/plain": [
              "<Figure size 864x576 with 1 Axes>"
            ]
          },
          "metadata": {
            "tags": []
          }
        }
      ]
    },
    {
      "metadata": {
        "id": "J93vncEN4W2A",
        "colab_type": "code",
        "outputId": "db6dfd87-21ad-4914-b2fa-313367615d86",
        "colab": {
          "base_uri": "https://localhost:8080/",
          "height": 34
        }
      },
      "cell_type": "code",
      "source": [
        "len(list(donors_donations_df[\"Donor State\"].value_counts()))\n"
      ],
      "execution_count": 82,
      "outputs": [
        {
          "output_type": "execute_result",
          "data": {
            "text/plain": [
              "52"
            ]
          },
          "metadata": {
            "tags": []
          },
          "execution_count": 82
        }
      ]
    },
    {
      "metadata": {
        "id": "ZXGLLhAXdRhr",
        "colab_type": "code",
        "colab": {}
      },
      "cell_type": "code",
      "source": [
        "# donors_donations_df[\"Donation Amount\"].sum()"
      ],
      "execution_count": 0,
      "outputs": []
    },
    {
      "metadata": {
        "id": "V88jTm0rkRPh",
        "colab_type": "code",
        "outputId": "3e0986ee-2bbc-459a-e8de-29e674333987",
        "colab": {
          "base_uri": "https://localhost:8080/",
          "height": 1071
        }
      },
      "cell_type": "code",
      "source": [
        "donors_donations_df[\"Donor State\"]"
      ],
      "execution_count": 83,
      "outputs": [
        {
          "output_type": "execute_result",
          "data": {
            "text/plain": [
              "0                      Illinois\n",
              "1                         other\n",
              "2                    California\n",
              "3                    California\n",
              "4                    California\n",
              "5                    California\n",
              "6                    California\n",
              "7                    California\n",
              "8                    California\n",
              "9                    California\n",
              "10                   California\n",
              "11                   California\n",
              "12                   California\n",
              "13                      Indiana\n",
              "14                      Indiana\n",
              "15                      Indiana\n",
              "16                      Indiana\n",
              "17                      Indiana\n",
              "18                   New Jersey\n",
              "19                        other\n",
              "20                  Connecticut\n",
              "21                    Wisconsin\n",
              "22                     New York\n",
              "23                      Indiana\n",
              "24                      Indiana\n",
              "25                 Pennsylvania\n",
              "26                 Pennsylvania\n",
              "27                   New Jersey\n",
              "28                   New Jersey\n",
              "29                   New Jersey\n",
              "                   ...         \n",
              "4681870                 Florida\n",
              "4681871              California\n",
              "4681872              California\n",
              "4681873                New York\n",
              "4681874                 Georgia\n",
              "4681875                 Georgia\n",
              "4681876                 Georgia\n",
              "4681877                 Georgia\n",
              "4681878              New Jersey\n",
              "4681879           Massachusetts\n",
              "4681880    District of Columbia\n",
              "4681881                Virginia\n",
              "4681882          North Carolina\n",
              "4681883             Connecticut\n",
              "4681884                 Indiana\n",
              "4681885                Illinois\n",
              "4681886           Massachusetts\n",
              "4681887           Massachusetts\n",
              "4681888           Massachusetts\n",
              "4681889                 Indiana\n",
              "4681890                 Florida\n",
              "4681891                 Indiana\n",
              "4681892             Mississippi\n",
              "4681893             Mississippi\n",
              "4681894            Pennsylvania\n",
              "4681895                Maryland\n",
              "4681896                Virginia\n",
              "4681897              Washington\n",
              "4681898              California\n",
              "4681899                Michigan\n",
              "Name: Donor State, Length: 4681900, dtype: object"
            ]
          },
          "metadata": {
            "tags": []
          },
          "execution_count": 83
        }
      ]
    },
    {
      "metadata": {
        "id": "T0NaKjhaPahX",
        "colab_type": "code",
        "outputId": "d05a4eb0-2d09-456d-a23f-06c30ac2f1c8",
        "colab": {
          "base_uri": "https://localhost:8080/",
          "height": 180
        }
      },
      "cell_type": "code",
      "source": [
        "list(temp.keys())"
      ],
      "execution_count": 0,
      "outputs": [
        {
          "output_type": "execute_result",
          "data": {
            "text/plain": [
              "['California',\n",
              " 'New York',\n",
              " 'Texas',\n",
              " 'Florida',\n",
              " 'Illinois',\n",
              " 'North Carolina',\n",
              " 'other',\n",
              " 'Pennsylvania',\n",
              " 'Georgia',\n",
              " 'Massachusetts']"
            ]
          },
          "metadata": {
            "tags": []
          },
          "execution_count": 18
        }
      ]
    },
    {
      "metadata": {
        "id": "Rpd5wPQvgLhj",
        "colab_type": "code",
        "outputId": "ec364c47-3abc-40b5-8c66-3a8389ee991c",
        "colab": {
          "base_uri": "https://localhost:8080/",
          "height": 33
        }
      },
      "cell_type": "code",
      "source": [
        "(0,) * len(list(temp))"
      ],
      "execution_count": 0,
      "outputs": [
        {
          "output_type": "execute_result",
          "data": {
            "text/plain": [
              "(0, 0, 0, 0, 0, 0, 0, 0, 0, 0)"
            ]
          },
          "metadata": {
            "tags": []
          },
          "execution_count": 19
        }
      ]
    },
    {
      "metadata": {
        "id": "_Vq2o8wVkwLs",
        "colab_type": "code",
        "outputId": "0917f31d-f1f9-470a-d80d-65733d44a715",
        "colab": {
          "base_uri": "https://localhost:8080/",
          "height": 180
        }
      },
      "cell_type": "code",
      "source": [
        "list(temp)"
      ],
      "execution_count": 0,
      "outputs": [
        {
          "output_type": "execute_result",
          "data": {
            "text/plain": [
              "[704025,\n",
              " 355926,\n",
              " 276130,\n",
              " 234475,\n",
              " 233169,\n",
              " 198032,\n",
              " 185952,\n",
              " 151223,\n",
              " 150805,\n",
              " 138538]"
            ]
          },
          "metadata": {
            "tags": []
          },
          "execution_count": 20
        }
      ]
    },
    {
      "metadata": {
        "id": "KNJfVbAFOTPo",
        "colab_type": "code",
        "outputId": "6fb06106-aedc-40d3-a357-21b23cc79412",
        "colab": {
          "base_uri": "https://localhost:8080/",
          "height": 955
        }
      },
      "cell_type": "code",
      "source": [
        "plt.pie(temp,radius=3,labels=list(temp.keys()),frame=False,explode=((0.1,) * len(list(temp))))"
      ],
      "execution_count": 0,
      "outputs": [
        {
          "output_type": "execute_result",
          "data": {
            "text/plain": [
              "([<matplotlib.patches.Wedge at 0x7f06305d8cf8>,\n",
              "  <matplotlib.patches.Wedge at 0x7f06305e1208>,\n",
              "  <matplotlib.patches.Wedge at 0x7f06305e16d8>,\n",
              "  <matplotlib.patches.Wedge at 0x7f06305e1ba8>,\n",
              "  <matplotlib.patches.Wedge at 0x7f06305ec0b8>,\n",
              "  <matplotlib.patches.Wedge at 0x7f06305ec588>,\n",
              "  <matplotlib.patches.Wedge at 0x7f06305c14e0>,\n",
              "  <matplotlib.patches.Wedge at 0x7f06305ecef0>,\n",
              "  <matplotlib.patches.Wedge at 0x7f0630576400>,\n",
              "  <matplotlib.patches.Wedge at 0x7f06305768d0>],\n",
              " [Text(2.969819663514787, 1.6553462375590557, 'New Mexico'),\n",
              "  Text(0.16798518641800556, 3.3958476080566555, 'Hawaii'),\n",
              "  Text(-2.673788459369621, 2.100203626923311, 'West Virginia'),\n",
              "  Text(-3.3762462513089773, -0.40119976386094885, 'Nebraska'),\n",
              "  Text(-2.4256796949250092, -2.3824521018539944, 'Alaska'),\n",
              "  Text(-0.5076068513701574, -3.361894597461687, 'Montana'),\n",
              "  Text(1.3555961213649352, -3.118069780447568, 'South Dakota'),\n",
              "  Text(2.586486262544076, -2.2068277716375553, 'Vermont'),\n",
              "  Text(3.192947225676171, -1.1683698104824705, 'North Dakota'),\n",
              "  Text(3.381263427499307, -0.35645144670156625, 'Wyoming')])"
            ]
          },
          "metadata": {
            "tags": []
          },
          "execution_count": 57
        },
        {
          "output_type": "display_data",
          "data": {
            "image/png": "[encoded data removed]",
            "text/plain": [
              "<Figure size 432x288 with 1 Axes>"
            ]
          },
          "metadata": {
            "tags": []
          }
        }
      ]
    },
    {
      "metadata": {
        "id": "X51Q3Q53xgvZ",
        "colab_type": "code",
        "outputId": "83916d7e-c789-46d8-897b-bbf480106975",
        "colab": {
          "base_uri": "https://localhost:8080/",
          "height": 351
        }
      },
      "cell_type": "code",
      "source": [
        "temp = donors_donations_df[\"Donor City\"].value_counts().head(10)\n",
        "temp.plot(kind='bar', title = 'Donor City',color='orange')"
      ],
      "execution_count": 0,
      "outputs": [
        {
          "output_type": "execute_result",
          "data": {
            "text/plain": [
              "<matplotlib.axes._subplots.AxesSubplot at 0x7fd9dbec1710>"
            ]
          },
          "metadata": {
            "tags": []
          },
          "execution_count": 14
        },
        {
          "output_type": "display_data",
          "data": {
            "image/png": "[encoded data removed]",
            "text/plain": [
              "<Figure size 432x288 with 1 Axes>"
            ]
          },
          "metadata": {
            "tags": []
          }
        }
      ]
    },
    {
      "metadata": {
        "id": "PtodJ4mJSHbI",
        "colab_type": "code",
        "colab": {}
      },
      "cell_type": "code",
      "source": [
        "# list(donors_donations_df[\"Donor City\"].value_counts().head(10000))"
      ],
      "execution_count": 0,
      "outputs": []
    },
    {
      "metadata": {
        "id": "FekZucrcpPHS",
        "colab_type": "code",
        "colab": {}
      },
      "cell_type": "code",
      "source": [
        ""
      ],
      "execution_count": 0,
      "outputs": []
    },
    {
      "metadata": {
        "id": "ERucbpFpWFT9",
        "colab_type": "code",
        "outputId": "14fff957-0267-4de4-8307-bf52c169e08b",
        "colab": {
          "base_uri": "https://localhost:8080/",
          "height": 1828
        }
      },
      "cell_type": "code",
      "source": [
        "donors_donations_df[['Donor State','Donor City','Donation Amount']][:1000]"
      ],
      "execution_count": 0,
      "outputs": [
        {
          "output_type": "execute_result",
          "data": {
            "text/html": [
              "<div>\n",
              "<style scoped>\n",
              "    .dataframe tbody tr th:only-of-type {\n",
              "        vertical-align: middle;\n",
              "    }\n",
              "\n",
              "    .dataframe tbody tr th {\n",
              "        vertical-align: top;\n",
              "    }\n",
              "\n",
              "    .dataframe thead th {\n",
              "        text-align: right;\n",
              "    }\n",
              "</style>\n",
              "<table border=\"1\" class=\"dataframe\">\n",
              "  <thead>\n",
              "    <tr style=\"text-align: right;\">\n",
              "      <th></th>\n",
              "      <th>Donor State</th>\n",
              "      <th>Donor City</th>\n",
              "      <th>Donation Amount</th>\n",
              "    </tr>\n",
              "  </thead>\n",
              "  <tbody>\n",
              "    <tr>\n",
              "      <th>0</th>\n",
              "      <td>Illinois</td>\n",
              "      <td>Evanston</td>\n",
              "      <td>50.00</td>\n",
              "    </tr>\n",
              "    <tr>\n",
              "      <th>1</th>\n",
              "      <td>other</td>\n",
              "      <td>Appomattox</td>\n",
              "      <td>99.00</td>\n",
              "    </tr>\n",
              "    <tr>\n",
              "      <th>2</th>\n",
              "      <td>California</td>\n",
              "      <td>Winton</td>\n",
              "      <td>26.00</td>\n",
              "    </tr>\n",
              "    <tr>\n",
              "      <th>3</th>\n",
              "      <td>California</td>\n",
              "      <td>Winton</td>\n",
              "      <td>100.00</td>\n",
              "    </tr>\n",
              "    <tr>\n",
              "      <th>4</th>\n",
              "      <td>California</td>\n",
              "      <td>Winton</td>\n",
              "      <td>13.75</td>\n",
              "    </tr>\n",
              "    <tr>\n",
              "      <th>5</th>\n",
              "      <td>California</td>\n",
              "      <td>Winton</td>\n",
              "      <td>100.00</td>\n",
              "    </tr>\n",
              "    <tr>\n",
              "      <th>6</th>\n",
              "      <td>California</td>\n",
              "      <td>Winton</td>\n",
              "      <td>100.00</td>\n",
              "    </tr>\n",
              "    <tr>\n",
              "      <th>7</th>\n",
              "      <td>California</td>\n",
              "      <td>Winton</td>\n",
              "      <td>100.00</td>\n",
              "    </tr>\n",
              "    <tr>\n",
              "      <th>8</th>\n",
              "      <td>California</td>\n",
              "      <td>Winton</td>\n",
              "      <td>9.69</td>\n",
              "    </tr>\n",
              "    <tr>\n",
              "      <th>9</th>\n",
              "      <td>California</td>\n",
              "      <td>Winton</td>\n",
              "      <td>150.00</td>\n",
              "    </tr>\n",
              "    <tr>\n",
              "      <th>10</th>\n",
              "      <td>California</td>\n",
              "      <td>Winton</td>\n",
              "      <td>10.00</td>\n",
              "    </tr>\n",
              "    <tr>\n",
              "      <th>11</th>\n",
              "      <td>California</td>\n",
              "      <td>Winton</td>\n",
              "      <td>10.00</td>\n",
              "    </tr>\n",
              "    <tr>\n",
              "      <th>12</th>\n",
              "      <td>California</td>\n",
              "      <td>Winton</td>\n",
              "      <td>15.51</td>\n",
              "    </tr>\n",
              "    <tr>\n",
              "      <th>13</th>\n",
              "      <td>Indiana</td>\n",
              "      <td>Indianapolis</td>\n",
              "      <td>50.00</td>\n",
              "    </tr>\n",
              "    <tr>\n",
              "      <th>14</th>\n",
              "      <td>Indiana</td>\n",
              "      <td>Indianapolis</td>\n",
              "      <td>50.00</td>\n",
              "    </tr>\n",
              "    <tr>\n",
              "      <th>15</th>\n",
              "      <td>Indiana</td>\n",
              "      <td>Indianapolis</td>\n",
              "      <td>10.00</td>\n",
              "    </tr>\n",
              "    <tr>\n",
              "      <th>16</th>\n",
              "      <td>Indiana</td>\n",
              "      <td>Indianapolis</td>\n",
              "      <td>50.00</td>\n",
              "    </tr>\n",
              "    <tr>\n",
              "      <th>17</th>\n",
              "      <td>Indiana</td>\n",
              "      <td>Indianapolis</td>\n",
              "      <td>50.00</td>\n",
              "    </tr>\n",
              "    <tr>\n",
              "      <th>18</th>\n",
              "      <td>New Jersey</td>\n",
              "      <td>Paterson</td>\n",
              "      <td>50.00</td>\n",
              "    </tr>\n",
              "    <tr>\n",
              "      <th>19</th>\n",
              "      <td>other</td>\n",
              "      <td>NaN</td>\n",
              "      <td>25.00</td>\n",
              "    </tr>\n",
              "    <tr>\n",
              "      <th>20</th>\n",
              "      <td>Connecticut</td>\n",
              "      <td>Stamford</td>\n",
              "      <td>25.00</td>\n",
              "    </tr>\n",
              "    <tr>\n",
              "      <th>21</th>\n",
              "      <td>Wisconsin</td>\n",
              "      <td>Green Bay</td>\n",
              "      <td>10.00</td>\n",
              "    </tr>\n",
              "    <tr>\n",
              "      <th>22</th>\n",
              "      <td>New York</td>\n",
              "      <td>Argyle</td>\n",
              "      <td>100.00</td>\n",
              "    </tr>\n",
              "    <tr>\n",
              "      <th>23</th>\n",
              "      <td>Indiana</td>\n",
              "      <td>Valparaiso</td>\n",
              "      <td>74.32</td>\n",
              "    </tr>\n",
              "    <tr>\n",
              "      <th>24</th>\n",
              "      <td>Indiana</td>\n",
              "      <td>Valparaiso</td>\n",
              "      <td>25.00</td>\n",
              "    </tr>\n",
              "    <tr>\n",
              "      <th>25</th>\n",
              "      <td>Pennsylvania</td>\n",
              "      <td>Villanova</td>\n",
              "      <td>10.00</td>\n",
              "    </tr>\n",
              "    <tr>\n",
              "      <th>26</th>\n",
              "      <td>Pennsylvania</td>\n",
              "      <td>Villanova</td>\n",
              "      <td>10.00</td>\n",
              "    </tr>\n",
              "    <tr>\n",
              "      <th>27</th>\n",
              "      <td>New Jersey</td>\n",
              "      <td>Brick</td>\n",
              "      <td>5.00</td>\n",
              "    </tr>\n",
              "    <tr>\n",
              "      <th>28</th>\n",
              "      <td>New Jersey</td>\n",
              "      <td>Brick</td>\n",
              "      <td>5.00</td>\n",
              "    </tr>\n",
              "    <tr>\n",
              "      <th>29</th>\n",
              "      <td>New Jersey</td>\n",
              "      <td>Brick</td>\n",
              "      <td>25.00</td>\n",
              "    </tr>\n",
              "    <tr>\n",
              "      <th>...</th>\n",
              "      <td>...</td>\n",
              "      <td>...</td>\n",
              "      <td>...</td>\n",
              "    </tr>\n",
              "    <tr>\n",
              "      <th>970</th>\n",
              "      <td>Florida</td>\n",
              "      <td>Boynton Beach</td>\n",
              "      <td>25.00</td>\n",
              "    </tr>\n",
              "    <tr>\n",
              "      <th>971</th>\n",
              "      <td>Oregon</td>\n",
              "      <td>Corvallis</td>\n",
              "      <td>2.42</td>\n",
              "    </tr>\n",
              "    <tr>\n",
              "      <th>972</th>\n",
              "      <td>Texas</td>\n",
              "      <td>Fort Worth</td>\n",
              "      <td>10.00</td>\n",
              "    </tr>\n",
              "    <tr>\n",
              "      <th>973</th>\n",
              "      <td>Montana</td>\n",
              "      <td>Billings</td>\n",
              "      <td>25.00</td>\n",
              "    </tr>\n",
              "    <tr>\n",
              "      <th>974</th>\n",
              "      <td>California</td>\n",
              "      <td>Magalia</td>\n",
              "      <td>25.00</td>\n",
              "    </tr>\n",
              "    <tr>\n",
              "      <th>975</th>\n",
              "      <td>California</td>\n",
              "      <td>Magalia</td>\n",
              "      <td>25.00</td>\n",
              "    </tr>\n",
              "    <tr>\n",
              "      <th>976</th>\n",
              "      <td>Florida</td>\n",
              "      <td>Yulee</td>\n",
              "      <td>25.00</td>\n",
              "    </tr>\n",
              "    <tr>\n",
              "      <th>977</th>\n",
              "      <td>Florida</td>\n",
              "      <td>Yulee</td>\n",
              "      <td>25.00</td>\n",
              "    </tr>\n",
              "    <tr>\n",
              "      <th>978</th>\n",
              "      <td>Florida</td>\n",
              "      <td>Yulee</td>\n",
              "      <td>100.00</td>\n",
              "    </tr>\n",
              "    <tr>\n",
              "      <th>979</th>\n",
              "      <td>Florida</td>\n",
              "      <td>Yulee</td>\n",
              "      <td>50.00</td>\n",
              "    </tr>\n",
              "    <tr>\n",
              "      <th>980</th>\n",
              "      <td>Florida</td>\n",
              "      <td>Yulee</td>\n",
              "      <td>25.00</td>\n",
              "    </tr>\n",
              "    <tr>\n",
              "      <th>981</th>\n",
              "      <td>Florida</td>\n",
              "      <td>Yulee</td>\n",
              "      <td>25.00</td>\n",
              "    </tr>\n",
              "    <tr>\n",
              "      <th>982</th>\n",
              "      <td>Florida</td>\n",
              "      <td>Yulee</td>\n",
              "      <td>99.00</td>\n",
              "    </tr>\n",
              "    <tr>\n",
              "      <th>983</th>\n",
              "      <td>Florida</td>\n",
              "      <td>Yulee</td>\n",
              "      <td>40.00</td>\n",
              "    </tr>\n",
              "    <tr>\n",
              "      <th>984</th>\n",
              "      <td>Florida</td>\n",
              "      <td>Yulee</td>\n",
              "      <td>135.00</td>\n",
              "    </tr>\n",
              "    <tr>\n",
              "      <th>985</th>\n",
              "      <td>Florida</td>\n",
              "      <td>Yulee</td>\n",
              "      <td>340.00</td>\n",
              "    </tr>\n",
              "    <tr>\n",
              "      <th>986</th>\n",
              "      <td>Florida</td>\n",
              "      <td>Yulee</td>\n",
              "      <td>50.00</td>\n",
              "    </tr>\n",
              "    <tr>\n",
              "      <th>987</th>\n",
              "      <td>Florida</td>\n",
              "      <td>Yulee</td>\n",
              "      <td>25.00</td>\n",
              "    </tr>\n",
              "    <tr>\n",
              "      <th>988</th>\n",
              "      <td>Florida</td>\n",
              "      <td>Yulee</td>\n",
              "      <td>50.00</td>\n",
              "    </tr>\n",
              "    <tr>\n",
              "      <th>989</th>\n",
              "      <td>Florida</td>\n",
              "      <td>Yulee</td>\n",
              "      <td>25.00</td>\n",
              "    </tr>\n",
              "    <tr>\n",
              "      <th>990</th>\n",
              "      <td>Florida</td>\n",
              "      <td>Yulee</td>\n",
              "      <td>25.00</td>\n",
              "    </tr>\n",
              "    <tr>\n",
              "      <th>991</th>\n",
              "      <td>Florida</td>\n",
              "      <td>Yulee</td>\n",
              "      <td>43.63</td>\n",
              "    </tr>\n",
              "    <tr>\n",
              "      <th>992</th>\n",
              "      <td>Florida</td>\n",
              "      <td>Yulee</td>\n",
              "      <td>50.00</td>\n",
              "    </tr>\n",
              "    <tr>\n",
              "      <th>993</th>\n",
              "      <td>Florida</td>\n",
              "      <td>Yulee</td>\n",
              "      <td>50.00</td>\n",
              "    </tr>\n",
              "    <tr>\n",
              "      <th>994</th>\n",
              "      <td>Utah</td>\n",
              "      <td>Salt Lake City</td>\n",
              "      <td>125.00</td>\n",
              "    </tr>\n",
              "    <tr>\n",
              "      <th>995</th>\n",
              "      <td>New York</td>\n",
              "      <td>New York</td>\n",
              "      <td>100.00</td>\n",
              "    </tr>\n",
              "    <tr>\n",
              "      <th>996</th>\n",
              "      <td>Illinois</td>\n",
              "      <td>Chicago</td>\n",
              "      <td>99.00</td>\n",
              "    </tr>\n",
              "    <tr>\n",
              "      <th>997</th>\n",
              "      <td>California</td>\n",
              "      <td>Alameda</td>\n",
              "      <td>25.00</td>\n",
              "    </tr>\n",
              "    <tr>\n",
              "      <th>998</th>\n",
              "      <td>California</td>\n",
              "      <td>Alameda</td>\n",
              "      <td>50.00</td>\n",
              "    </tr>\n",
              "    <tr>\n",
              "      <th>999</th>\n",
              "      <td>California</td>\n",
              "      <td>Alameda</td>\n",
              "      <td>25.00</td>\n",
              "    </tr>\n",
              "  </tbody>\n",
              "</table>\n",
              "<p>1000 rows × 3 columns</p>\n",
              "</div>"
            ],
            "text/plain": [
              "      Donor State      Donor City  Donation Amount\n",
              "0        Illinois        Evanston            50.00\n",
              "1           other      Appomattox            99.00\n",
              "2      California          Winton            26.00\n",
              "3      California          Winton           100.00\n",
              "4      California          Winton            13.75\n",
              "5      California          Winton           100.00\n",
              "6      California          Winton           100.00\n",
              "7      California          Winton           100.00\n",
              "8      California          Winton             9.69\n",
              "9      California          Winton           150.00\n",
              "10     California          Winton            10.00\n",
              "11     California          Winton            10.00\n",
              "12     California          Winton            15.51\n",
              "13        Indiana    Indianapolis            50.00\n",
              "14        Indiana    Indianapolis            50.00\n",
              "15        Indiana    Indianapolis            10.00\n",
              "16        Indiana    Indianapolis            50.00\n",
              "17        Indiana    Indianapolis            50.00\n",
              "18     New Jersey        Paterson            50.00\n",
              "19          other             NaN            25.00\n",
              "20    Connecticut        Stamford            25.00\n",
              "21      Wisconsin       Green Bay            10.00\n",
              "22       New York          Argyle           100.00\n",
              "23        Indiana      Valparaiso            74.32\n",
              "24        Indiana      Valparaiso            25.00\n",
              "25   Pennsylvania       Villanova            10.00\n",
              "26   Pennsylvania       Villanova            10.00\n",
              "27     New Jersey           Brick             5.00\n",
              "28     New Jersey           Brick             5.00\n",
              "29     New Jersey           Brick            25.00\n",
              "..            ...             ...              ...\n",
              "970       Florida   Boynton Beach            25.00\n",
              "971        Oregon       Corvallis             2.42\n",
              "972         Texas      Fort Worth            10.00\n",
              "973       Montana        Billings            25.00\n",
              "974    California         Magalia            25.00\n",
              "975    California         Magalia            25.00\n",
              "976       Florida           Yulee            25.00\n",
              "977       Florida           Yulee            25.00\n",
              "978       Florida           Yulee           100.00\n",
              "979       Florida           Yulee            50.00\n",
              "980       Florida           Yulee            25.00\n",
              "981       Florida           Yulee            25.00\n",
              "982       Florida           Yulee            99.00\n",
              "983       Florida           Yulee            40.00\n",
              "984       Florida           Yulee           135.00\n",
              "985       Florida           Yulee           340.00\n",
              "986       Florida           Yulee            50.00\n",
              "987       Florida           Yulee            25.00\n",
              "988       Florida           Yulee            50.00\n",
              "989       Florida           Yulee            25.00\n",
              "990       Florida           Yulee            25.00\n",
              "991       Florida           Yulee            43.63\n",
              "992       Florida           Yulee            50.00\n",
              "993       Florida           Yulee            50.00\n",
              "994          Utah  Salt Lake City           125.00\n",
              "995      New York        New York           100.00\n",
              "996      Illinois         Chicago            99.00\n",
              "997    California         Alameda            25.00\n",
              "998    California         Alameda            50.00\n",
              "999    California         Alameda            25.00\n",
              "\n",
              "[1000 rows x 3 columns]"
            ]
          },
          "metadata": {
            "tags": []
          },
          "execution_count": 21
        }
      ]
    },
    {
      "metadata": {
        "id": "UFsTbcfGqAQ5",
        "colab_type": "code",
        "outputId": "b18ac2e2-7499-4baa-ab93-99413954688e",
        "colab": {
          "base_uri": "https://localhost:8080/",
          "height": 158
        }
      },
      "cell_type": "code",
      "source": [
        "top_ten"
      ],
      "execution_count": 0,
      "outputs": [
        {
          "output_type": "error",
          "ename": "NameError",
          "evalue": "ignored",
          "traceback": [
            "\u001b[0;31m---------------------------------------------------------------------------\u001b[0m",
            "\u001b[0;31mNameError\u001b[0m                                 Traceback (most recent call last)",
            "\u001b[0;32m<ipython-input-22-dc59e892f9e7>\u001b[0m in \u001b[0;36m<module>\u001b[0;34m()\u001b[0m\n\u001b[0;32m----> 1\u001b[0;31m \u001b[0mtop_ten\u001b[0m\u001b[0;34m\u001b[0m\u001b[0;34m\u001b[0m\u001b[0m\n\u001b[0m",
            "\u001b[0;31mNameError\u001b[0m: name 'top_ten' is not defined"
          ]
        }
      ]
    },
    {
      "metadata": {
        "id": "Fv8BzfcY7_qs",
        "colab_type": "code",
        "outputId": "d3e5b567-d30e-4c4f-c5fe-692a4370fd24",
        "colab": {
          "base_uri": "https://localhost:8080/",
          "height": 422
        }
      },
      "cell_type": "code",
      "source": [
        "nyc_donors.head()"
      ],
      "execution_count": 0,
      "outputs": [
        {
          "output_type": "execute_result",
          "data": {
            "text/html": [
              "<div>\n",
              "<style scoped>\n",
              "    .dataframe tbody tr th:only-of-type {\n",
              "        vertical-align: middle;\n",
              "    }\n",
              "\n",
              "    .dataframe tbody tr th {\n",
              "        vertical-align: top;\n",
              "    }\n",
              "\n",
              "    .dataframe thead th {\n",
              "        text-align: right;\n",
              "    }\n",
              "</style>\n",
              "<table border=\"1\" class=\"dataframe\">\n",
              "  <thead>\n",
              "    <tr style=\"text-align: right;\">\n",
              "      <th></th>\n",
              "      <th>Donor ID</th>\n",
              "      <th>Donor City</th>\n",
              "      <th>Donor State</th>\n",
              "      <th>Donor Is Teacher</th>\n",
              "      <th>Donor Zip</th>\n",
              "      <th>Project ID</th>\n",
              "      <th>Donation ID</th>\n",
              "      <th>Donation Included Optional Donation</th>\n",
              "      <th>Donation Amount</th>\n",
              "      <th>Donor Cart Sequence</th>\n",
              "      <th>Donation Received Date</th>\n",
              "    </tr>\n",
              "  </thead>\n",
              "  <tbody>\n",
              "    <tr>\n",
              "      <th>153</th>\n",
              "      <td>00019e1dcd80085636a622f27c5b1233</td>\n",
              "      <td>New York</td>\n",
              "      <td>New York</td>\n",
              "      <td>No</td>\n",
              "      <td>100</td>\n",
              "      <td>1e10246b6c98fd9928ecb9bf8a57c421</td>\n",
              "      <td>c4dbf0c6b7aecfacdf4f74b67d2ab3ca</td>\n",
              "      <td>Yes</td>\n",
              "      <td>50.0</td>\n",
              "      <td>1</td>\n",
              "      <td>2013-09-06 10:40:22</td>\n",
              "    </tr>\n",
              "    <tr>\n",
              "      <th>154</th>\n",
              "      <td>00019e1dcd80085636a622f27c5b1233</td>\n",
              "      <td>New York</td>\n",
              "      <td>New York</td>\n",
              "      <td>No</td>\n",
              "      <td>100</td>\n",
              "      <td>63c323ec98fadda04347847416c19a8c</td>\n",
              "      <td>59b268e17a2e21a71f64a8088357abf7</td>\n",
              "      <td>Yes</td>\n",
              "      <td>50.0</td>\n",
              "      <td>2</td>\n",
              "      <td>2015-05-19 12:53:00</td>\n",
              "    </tr>\n",
              "    <tr>\n",
              "      <th>155</th>\n",
              "      <td>00019e1dcd80085636a622f27c5b1233</td>\n",
              "      <td>New York</td>\n",
              "      <td>New York</td>\n",
              "      <td>No</td>\n",
              "      <td>100</td>\n",
              "      <td>80bbb681713c37970a4f70faa5d54cf4</td>\n",
              "      <td>8ad992723b3ade2c4f776dd5c5b6232a</td>\n",
              "      <td>Yes</td>\n",
              "      <td>250.0</td>\n",
              "      <td>3</td>\n",
              "      <td>2016-02-17 10:50:18</td>\n",
              "    </tr>\n",
              "    <tr>\n",
              "      <th>156</th>\n",
              "      <td>00019e1dcd80085636a622f27c5b1233</td>\n",
              "      <td>New York</td>\n",
              "      <td>New York</td>\n",
              "      <td>No</td>\n",
              "      <td>100</td>\n",
              "      <td>e00ad9791896490d45d91a3c00cd6e79</td>\n",
              "      <td>0d182a5eaa45273d7b227725a852d329</td>\n",
              "      <td>Yes</td>\n",
              "      <td>100.0</td>\n",
              "      <td>4</td>\n",
              "      <td>2016-09-08 20:41:49</td>\n",
              "    </tr>\n",
              "    <tr>\n",
              "      <th>418</th>\n",
              "      <td>0005ffefbb56fc35b8627c73c4c1c6fc</td>\n",
              "      <td>New York</td>\n",
              "      <td>New York</td>\n",
              "      <td>No</td>\n",
              "      <td>100</td>\n",
              "      <td>68c73a9f47ca6971e8bb246e99b521df</td>\n",
              "      <td>3079cb9276cb997ccbef75f9e531e9bd</td>\n",
              "      <td>Yes</td>\n",
              "      <td>50.0</td>\n",
              "      <td>1</td>\n",
              "      <td>2016-08-17 11:12:15</td>\n",
              "    </tr>\n",
              "  </tbody>\n",
              "</table>\n",
              "</div>"
            ],
            "text/plain": [
              "                             Donor ID Donor City Donor State Donor Is Teacher  \\\n",
              "153  00019e1dcd80085636a622f27c5b1233   New York    New York               No   \n",
              "154  00019e1dcd80085636a622f27c5b1233   New York    New York               No   \n",
              "155  00019e1dcd80085636a622f27c5b1233   New York    New York               No   \n",
              "156  00019e1dcd80085636a622f27c5b1233   New York    New York               No   \n",
              "418  0005ffefbb56fc35b8627c73c4c1c6fc   New York    New York               No   \n",
              "\n",
              "    Donor Zip                        Project ID  \\\n",
              "153       100  1e10246b6c98fd9928ecb9bf8a57c421   \n",
              "154       100  63c323ec98fadda04347847416c19a8c   \n",
              "155       100  80bbb681713c37970a4f70faa5d54cf4   \n",
              "156       100  e00ad9791896490d45d91a3c00cd6e79   \n",
              "418       100  68c73a9f47ca6971e8bb246e99b521df   \n",
              "\n",
              "                          Donation ID Donation Included Optional Donation  \\\n",
              "153  c4dbf0c6b7aecfacdf4f74b67d2ab3ca                                 Yes   \n",
              "154  59b268e17a2e21a71f64a8088357abf7                                 Yes   \n",
              "155  8ad992723b3ade2c4f776dd5c5b6232a                                 Yes   \n",
              "156  0d182a5eaa45273d7b227725a852d329                                 Yes   \n",
              "418  3079cb9276cb997ccbef75f9e531e9bd                                 Yes   \n",
              "\n",
              "     Donation Amount  Donor Cart Sequence Donation Received Date  \n",
              "153             50.0                    1    2013-09-06 10:40:22  \n",
              "154             50.0                    2    2015-05-19 12:53:00  \n",
              "155            250.0                    3    2016-02-17 10:50:18  \n",
              "156            100.0                    4    2016-09-08 20:41:49  \n",
              "418             50.0                    1    2016-08-17 11:12:15  "
            ]
          },
          "metadata": {
            "tags": []
          },
          "execution_count": 23
        }
      ]
    },
    {
      "metadata": {
        "id": "hhShd6H_UAR2",
        "colab_type": "code",
        "outputId": "4e39c417-dd5c-4135-eace-bd6ed00ba174",
        "colab": {
          "base_uri": "https://localhost:8080/",
          "height": 1823
        }
      },
      "cell_type": "code",
      "source": [
        "data_cs = donors_donations_df[['Donor State','Donor City','Donation Amount']]\n",
        "top_ten = data_cs.loc[data_cs['Donor State'].isin(['California','New York','Texas','Florida','Illinois','North Carolina','other','Pennsylvania','Georgia','Massachusetts'])]\n",
        "top_ten_sum = top_ten.set_index(['Donor State','Donor City']).groupby(level=[0, 1]).sum()\n",
        "\n",
        "top_ten_sum.unstack().plot(kind='bar', stacked=True).get_legend().remove()"
      ],
      "execution_count": 0,
      "outputs": [
        {
          "output_type": "error",
          "ename": "KeyboardInterrupt",
          "evalue": "ignored",
          "traceback": [
            "\u001b[0;31m---------------------------------------------------------------------------\u001b[0m",
            "\u001b[0;31mKeyboardInterrupt\u001b[0m                         Traceback (most recent call last)",
            "\u001b[0;32m<ipython-input-19-26ba17d7c72c>\u001b[0m in \u001b[0;36m<module>\u001b[0;34m()\u001b[0m\n\u001b[1;32m      3\u001b[0m \u001b[0mtop_ten_sum\u001b[0m \u001b[0;34m=\u001b[0m \u001b[0mtop_ten\u001b[0m\u001b[0;34m.\u001b[0m\u001b[0mset_index\u001b[0m\u001b[0;34m(\u001b[0m\u001b[0;34m[\u001b[0m\u001b[0;34m'Donor State'\u001b[0m\u001b[0;34m,\u001b[0m\u001b[0;34m'Donor City'\u001b[0m\u001b[0;34m]\u001b[0m\u001b[0;34m)\u001b[0m\u001b[0;34m.\u001b[0m\u001b[0mgroupby\u001b[0m\u001b[0;34m(\u001b[0m\u001b[0mlevel\u001b[0m\u001b[0;34m=\u001b[0m\u001b[0;34m[\u001b[0m\u001b[0;36m0\u001b[0m\u001b[0;34m,\u001b[0m \u001b[0;36m1\u001b[0m\u001b[0;34m]\u001b[0m\u001b[0;34m)\u001b[0m\u001b[0;34m.\u001b[0m\u001b[0msum\u001b[0m\u001b[0;34m(\u001b[0m\u001b[0;34m)\u001b[0m\u001b[0;34m\u001b[0m\u001b[0;34m\u001b[0m\u001b[0m\n\u001b[1;32m      4\u001b[0m \u001b[0;34m\u001b[0m\u001b[0m\n\u001b[0;32m----> 5\u001b[0;31m \u001b[0mtop_ten_sum\u001b[0m\u001b[0;34m.\u001b[0m\u001b[0munstack\u001b[0m\u001b[0;34m(\u001b[0m\u001b[0;34m)\u001b[0m\u001b[0;34m.\u001b[0m\u001b[0mplot\u001b[0m\u001b[0;34m(\u001b[0m\u001b[0mkind\u001b[0m\u001b[0;34m=\u001b[0m\u001b[0;34m'bar'\u001b[0m\u001b[0;34m,\u001b[0m \u001b[0mstacked\u001b[0m\u001b[0;34m=\u001b[0m\u001b[0;32mTrue\u001b[0m\u001b[0;34m)\u001b[0m\u001b[0;34m.\u001b[0m\u001b[0mget_legend\u001b[0m\u001b[0;34m(\u001b[0m\u001b[0;34m)\u001b[0m\u001b[0;34m.\u001b[0m\u001b[0mremove\u001b[0m\u001b[0;34m(\u001b[0m\u001b[0;34m)\u001b[0m\u001b[0;34m\u001b[0m\u001b[0;34m\u001b[0m\u001b[0m\n\u001b[0m",
            "\u001b[0;32m/usr/local/lib/python3.6/dist-packages/pandas/plotting/_core.py\u001b[0m in \u001b[0;36m__call__\u001b[0;34m(self, x, y, kind, ax, subplots, sharex, sharey, layout, figsize, use_index, title, grid, legend, style, logx, logy, loglog, xticks, yticks, xlim, ylim, rot, fontsize, colormap, table, yerr, xerr, secondary_y, sort_columns, **kwds)\u001b[0m\n\u001b[1;32m   2675\u001b[0m                           \u001b[0mfontsize\u001b[0m\u001b[0;34m=\u001b[0m\u001b[0mfontsize\u001b[0m\u001b[0;34m,\u001b[0m \u001b[0mcolormap\u001b[0m\u001b[0;34m=\u001b[0m\u001b[0mcolormap\u001b[0m\u001b[0;34m,\u001b[0m \u001b[0mtable\u001b[0m\u001b[0;34m=\u001b[0m\u001b[0mtable\u001b[0m\u001b[0;34m,\u001b[0m\u001b[0;34m\u001b[0m\u001b[0;34m\u001b[0m\u001b[0m\n\u001b[1;32m   2676\u001b[0m                           \u001b[0myerr\u001b[0m\u001b[0;34m=\u001b[0m\u001b[0myerr\u001b[0m\u001b[0;34m,\u001b[0m \u001b[0mxerr\u001b[0m\u001b[0;34m=\u001b[0m\u001b[0mxerr\u001b[0m\u001b[0;34m,\u001b[0m \u001b[0msecondary_y\u001b[0m\u001b[0;34m=\u001b[0m\u001b[0msecondary_y\u001b[0m\u001b[0;34m,\u001b[0m\u001b[0;34m\u001b[0m\u001b[0;34m\u001b[0m\u001b[0m\n\u001b[0;32m-> 2677\u001b[0;31m                           sort_columns=sort_columns, **kwds)\n\u001b[0m\u001b[1;32m   2678\u001b[0m     \u001b[0m__call__\u001b[0m\u001b[0;34m.\u001b[0m\u001b[0m__doc__\u001b[0m \u001b[0;34m=\u001b[0m \u001b[0mplot_frame\u001b[0m\u001b[0;34m.\u001b[0m\u001b[0m__doc__\u001b[0m\u001b[0;34m\u001b[0m\u001b[0;34m\u001b[0m\u001b[0m\n\u001b[1;32m   2679\u001b[0m \u001b[0;34m\u001b[0m\u001b[0m\n",
            "\u001b[0;32m/usr/local/lib/python3.6/dist-packages/pandas/plotting/_core.py\u001b[0m in \u001b[0;36mplot_frame\u001b[0;34m(data, x, y, kind, ax, subplots, sharex, sharey, layout, figsize, use_index, title, grid, legend, style, logx, logy, loglog, xticks, yticks, xlim, ylim, rot, fontsize, colormap, table, yerr, xerr, secondary_y, sort_columns, **kwds)\u001b[0m\n\u001b[1;32m   1900\u001b[0m                  \u001b[0myerr\u001b[0m\u001b[0;34m=\u001b[0m\u001b[0myerr\u001b[0m\u001b[0;34m,\u001b[0m \u001b[0mxerr\u001b[0m\u001b[0;34m=\u001b[0m\u001b[0mxerr\u001b[0m\u001b[0;34m,\u001b[0m\u001b[0;34m\u001b[0m\u001b[0;34m\u001b[0m\u001b[0m\n\u001b[1;32m   1901\u001b[0m                  \u001b[0msecondary_y\u001b[0m\u001b[0;34m=\u001b[0m\u001b[0msecondary_y\u001b[0m\u001b[0;34m,\u001b[0m \u001b[0msort_columns\u001b[0m\u001b[0;34m=\u001b[0m\u001b[0msort_columns\u001b[0m\u001b[0;34m,\u001b[0m\u001b[0;34m\u001b[0m\u001b[0;34m\u001b[0m\u001b[0m\n\u001b[0;32m-> 1902\u001b[0;31m                  **kwds)\n\u001b[0m\u001b[1;32m   1903\u001b[0m \u001b[0;34m\u001b[0m\u001b[0m\n\u001b[1;32m   1904\u001b[0m \u001b[0;34m\u001b[0m\u001b[0m\n",
            "\u001b[0;32m/usr/local/lib/python3.6/dist-packages/pandas/plotting/_core.py\u001b[0m in \u001b[0;36m_plot\u001b[0;34m(data, x, y, subplots, ax, kind, **kwds)\u001b[0m\n\u001b[1;32m   1727\u001b[0m         \u001b[0mplot_obj\u001b[0m \u001b[0;34m=\u001b[0m \u001b[0mklass\u001b[0m\u001b[0;34m(\u001b[0m\u001b[0mdata\u001b[0m\u001b[0;34m,\u001b[0m \u001b[0msubplots\u001b[0m\u001b[0;34m=\u001b[0m\u001b[0msubplots\u001b[0m\u001b[0;34m,\u001b[0m \u001b[0max\u001b[0m\u001b[0;34m=\u001b[0m\u001b[0max\u001b[0m\u001b[0;34m,\u001b[0m \u001b[0mkind\u001b[0m\u001b[0;34m=\u001b[0m\u001b[0mkind\u001b[0m\u001b[0;34m,\u001b[0m \u001b[0;34m**\u001b[0m\u001b[0mkwds\u001b[0m\u001b[0;34m)\u001b[0m\u001b[0;34m\u001b[0m\u001b[0;34m\u001b[0m\u001b[0m\n\u001b[1;32m   1728\u001b[0m \u001b[0;34m\u001b[0m\u001b[0m\n\u001b[0;32m-> 1729\u001b[0;31m     \u001b[0mplot_obj\u001b[0m\u001b[0;34m.\u001b[0m\u001b[0mgenerate\u001b[0m\u001b[0;34m(\u001b[0m\u001b[0;34m)\u001b[0m\u001b[0;34m\u001b[0m\u001b[0;34m\u001b[0m\u001b[0m\n\u001b[0m\u001b[1;32m   1730\u001b[0m     \u001b[0mplot_obj\u001b[0m\u001b[0;34m.\u001b[0m\u001b[0mdraw\u001b[0m\u001b[0;34m(\u001b[0m\u001b[0;34m)\u001b[0m\u001b[0;34m\u001b[0m\u001b[0;34m\u001b[0m\u001b[0m\n\u001b[1;32m   1731\u001b[0m     \u001b[0;32mreturn\u001b[0m \u001b[0mplot_obj\u001b[0m\u001b[0;34m.\u001b[0m\u001b[0mresult\u001b[0m\u001b[0;34m\u001b[0m\u001b[0;34m\u001b[0m\u001b[0m\n",
            "\u001b[0;32m/usr/local/lib/python3.6/dist-packages/pandas/plotting/_core.py\u001b[0m in \u001b[0;36mgenerate\u001b[0;34m(self)\u001b[0m\n\u001b[1;32m    250\u001b[0m         \u001b[0mself\u001b[0m\u001b[0;34m.\u001b[0m\u001b[0m_compute_plot_data\u001b[0m\u001b[0;34m(\u001b[0m\u001b[0;34m)\u001b[0m\u001b[0;34m\u001b[0m\u001b[0;34m\u001b[0m\u001b[0m\n\u001b[1;32m    251\u001b[0m         \u001b[0mself\u001b[0m\u001b[0;34m.\u001b[0m\u001b[0m_setup_subplots\u001b[0m\u001b[0;34m(\u001b[0m\u001b[0;34m)\u001b[0m\u001b[0;34m\u001b[0m\u001b[0;34m\u001b[0m\u001b[0m\n\u001b[0;32m--> 252\u001b[0;31m         \u001b[0mself\u001b[0m\u001b[0;34m.\u001b[0m\u001b[0m_make_plot\u001b[0m\u001b[0;34m(\u001b[0m\u001b[0;34m)\u001b[0m\u001b[0;34m\u001b[0m\u001b[0;34m\u001b[0m\u001b[0m\n\u001b[0m\u001b[1;32m    253\u001b[0m         \u001b[0mself\u001b[0m\u001b[0;34m.\u001b[0m\u001b[0m_add_table\u001b[0m\u001b[0;34m(\u001b[0m\u001b[0;34m)\u001b[0m\u001b[0;34m\u001b[0m\u001b[0;34m\u001b[0m\u001b[0m\n\u001b[1;32m    254\u001b[0m         \u001b[0mself\u001b[0m\u001b[0;34m.\u001b[0m\u001b[0m_make_legend\u001b[0m\u001b[0;34m(\u001b[0m\u001b[0;34m)\u001b[0m\u001b[0;34m\u001b[0m\u001b[0;34m\u001b[0m\u001b[0m\n",
            "\u001b[0;32m/usr/local/lib/python3.6/dist-packages/pandas/plotting/_core.py\u001b[0m in \u001b[0;36m_make_plot\u001b[0;34m(self)\u001b[0m\n\u001b[1;32m   1248\u001b[0m                 rect = self._plot(ax, self.ax_pos + w, y, self.bar_width,\n\u001b[1;32m   1249\u001b[0m                                   \u001b[0mstart\u001b[0m\u001b[0;34m=\u001b[0m\u001b[0mstart\u001b[0m\u001b[0;34m,\u001b[0m \u001b[0mlabel\u001b[0m\u001b[0;34m=\u001b[0m\u001b[0mlabel\u001b[0m\u001b[0;34m,\u001b[0m\u001b[0;34m\u001b[0m\u001b[0;34m\u001b[0m\u001b[0m\n\u001b[0;32m-> 1250\u001b[0;31m                                   log=self.log, **kwds)\n\u001b[0m\u001b[1;32m   1251\u001b[0m                 \u001b[0mpos_prior\u001b[0m \u001b[0;34m=\u001b[0m \u001b[0mpos_prior\u001b[0m \u001b[0;34m+\u001b[0m \u001b[0mnp\u001b[0m\u001b[0;34m.\u001b[0m\u001b[0mwhere\u001b[0m\u001b[0;34m(\u001b[0m\u001b[0mmask\u001b[0m\u001b[0;34m,\u001b[0m \u001b[0my\u001b[0m\u001b[0;34m,\u001b[0m \u001b[0;36m0\u001b[0m\u001b[0;34m)\u001b[0m\u001b[0;34m\u001b[0m\u001b[0;34m\u001b[0m\u001b[0m\n\u001b[1;32m   1252\u001b[0m                 \u001b[0mneg_prior\u001b[0m \u001b[0;34m=\u001b[0m \u001b[0mneg_prior\u001b[0m \u001b[0;34m+\u001b[0m \u001b[0mnp\u001b[0m\u001b[0;34m.\u001b[0m\u001b[0mwhere\u001b[0m\u001b[0;34m(\u001b[0m\u001b[0mmask\u001b[0m\u001b[0;34m,\u001b[0m \u001b[0;36m0\u001b[0m\u001b[0;34m,\u001b[0m \u001b[0my\u001b[0m\u001b[0;34m)\u001b[0m\u001b[0;34m\u001b[0m\u001b[0;34m\u001b[0m\u001b[0m\n",
            "\u001b[0;32m/usr/local/lib/python3.6/dist-packages/pandas/plotting/_core.py\u001b[0m in \u001b[0;36m_plot\u001b[0;34m(cls, ax, x, y, w, start, log, **kwds)\u001b[0m\n\u001b[1;32m   1199\u001b[0m     \u001b[0;34m@\u001b[0m\u001b[0mclassmethod\u001b[0m\u001b[0;34m\u001b[0m\u001b[0;34m\u001b[0m\u001b[0m\n\u001b[1;32m   1200\u001b[0m     \u001b[0;32mdef\u001b[0m \u001b[0m_plot\u001b[0m\u001b[0;34m(\u001b[0m\u001b[0mcls\u001b[0m\u001b[0;34m,\u001b[0m \u001b[0max\u001b[0m\u001b[0;34m,\u001b[0m \u001b[0mx\u001b[0m\u001b[0;34m,\u001b[0m \u001b[0my\u001b[0m\u001b[0;34m,\u001b[0m \u001b[0mw\u001b[0m\u001b[0;34m,\u001b[0m \u001b[0mstart\u001b[0m\u001b[0;34m=\u001b[0m\u001b[0;36m0\u001b[0m\u001b[0;34m,\u001b[0m \u001b[0mlog\u001b[0m\u001b[0;34m=\u001b[0m\u001b[0;32mFalse\u001b[0m\u001b[0;34m,\u001b[0m \u001b[0;34m**\u001b[0m\u001b[0mkwds\u001b[0m\u001b[0;34m)\u001b[0m\u001b[0;34m:\u001b[0m\u001b[0;34m\u001b[0m\u001b[0;34m\u001b[0m\u001b[0m\n\u001b[0;32m-> 1201\u001b[0;31m         \u001b[0;32mreturn\u001b[0m \u001b[0max\u001b[0m\u001b[0;34m.\u001b[0m\u001b[0mbar\u001b[0m\u001b[0;34m(\u001b[0m\u001b[0mx\u001b[0m\u001b[0;34m,\u001b[0m \u001b[0my\u001b[0m\u001b[0;34m,\u001b[0m \u001b[0mw\u001b[0m\u001b[0;34m,\u001b[0m \u001b[0mbottom\u001b[0m\u001b[0;34m=\u001b[0m\u001b[0mstart\u001b[0m\u001b[0;34m,\u001b[0m \u001b[0mlog\u001b[0m\u001b[0;34m=\u001b[0m\u001b[0mlog\u001b[0m\u001b[0;34m,\u001b[0m \u001b[0;34m**\u001b[0m\u001b[0mkwds\u001b[0m\u001b[0;34m)\u001b[0m\u001b[0;34m\u001b[0m\u001b[0;34m\u001b[0m\u001b[0m\n\u001b[0m\u001b[1;32m   1202\u001b[0m \u001b[0;34m\u001b[0m\u001b[0m\n\u001b[1;32m   1203\u001b[0m     \u001b[0;34m@\u001b[0m\u001b[0mproperty\u001b[0m\u001b[0;34m\u001b[0m\u001b[0;34m\u001b[0m\u001b[0m\n",
            "\u001b[0;32m/usr/local/lib/python3.6/dist-packages/matplotlib/__init__.py\u001b[0m in \u001b[0;36minner\u001b[0;34m(ax, data, *args, **kwargs)\u001b[0m\n\u001b[1;32m   1808\u001b[0m                         \u001b[0;34m\"the Matplotlib list!)\"\u001b[0m \u001b[0;34m%\u001b[0m \u001b[0;34m(\u001b[0m\u001b[0mlabel_namer\u001b[0m\u001b[0;34m,\u001b[0m \u001b[0mfunc\u001b[0m\u001b[0;34m.\u001b[0m\u001b[0m__name__\u001b[0m\u001b[0;34m)\u001b[0m\u001b[0;34m,\u001b[0m\u001b[0;34m\u001b[0m\u001b[0;34m\u001b[0m\u001b[0m\n\u001b[1;32m   1809\u001b[0m                         RuntimeWarning, stacklevel=2)\n\u001b[0;32m-> 1810\u001b[0;31m             \u001b[0;32mreturn\u001b[0m \u001b[0mfunc\u001b[0m\u001b[0;34m(\u001b[0m\u001b[0max\u001b[0m\u001b[0;34m,\u001b[0m \u001b[0;34m*\u001b[0m\u001b[0margs\u001b[0m\u001b[0;34m,\u001b[0m \u001b[0;34m**\u001b[0m\u001b[0mkwargs\u001b[0m\u001b[0;34m)\u001b[0m\u001b[0;34m\u001b[0m\u001b[0;34m\u001b[0m\u001b[0m\n\u001b[0m\u001b[1;32m   1811\u001b[0m \u001b[0;34m\u001b[0m\u001b[0m\n\u001b[1;32m   1812\u001b[0m         inner.__doc__ = _add_data_doc(inner.__doc__,\n",
            "\u001b[0;32m/usr/local/lib/python3.6/dist-packages/matplotlib/axes/_axes.py\u001b[0m in \u001b[0;36mbar\u001b[0;34m(self, x, height, width, bottom, align, **kwargs)\u001b[0m\n\u001b[1;32m   2223\u001b[0m \u001b[0;34m\u001b[0m\u001b[0m\n\u001b[1;32m   2224\u001b[0m         \u001b[0;32mif\u001b[0m \u001b[0morientation\u001b[0m \u001b[0;34m==\u001b[0m \u001b[0;34m'vertical'\u001b[0m\u001b[0;34m:\u001b[0m\u001b[0;34m\u001b[0m\u001b[0;34m\u001b[0m\u001b[0m\n\u001b[0;32m-> 2225\u001b[0;31m             \u001b[0mself\u001b[0m\u001b[0;34m.\u001b[0m\u001b[0m_process_unit_info\u001b[0m\u001b[0;34m(\u001b[0m\u001b[0mxdata\u001b[0m\u001b[0;34m=\u001b[0m\u001b[0mx\u001b[0m\u001b[0;34m,\u001b[0m \u001b[0mydata\u001b[0m\u001b[0;34m=\u001b[0m\u001b[0mheight\u001b[0m\u001b[0;34m,\u001b[0m \u001b[0mkwargs\u001b[0m\u001b[0;34m=\u001b[0m\u001b[0mkwargs\u001b[0m\u001b[0;34m)\u001b[0m\u001b[0;34m\u001b[0m\u001b[0;34m\u001b[0m\u001b[0m\n\u001b[0m\u001b[1;32m   2226\u001b[0m             \u001b[0;32mif\u001b[0m \u001b[0mlog\u001b[0m\u001b[0;34m:\u001b[0m\u001b[0;34m\u001b[0m\u001b[0;34m\u001b[0m\u001b[0m\n\u001b[1;32m   2227\u001b[0m                 \u001b[0mself\u001b[0m\u001b[0;34m.\u001b[0m\u001b[0mset_yscale\u001b[0m\u001b[0;34m(\u001b[0m\u001b[0;34m'log'\u001b[0m\u001b[0;34m,\u001b[0m \u001b[0mnonposy\u001b[0m\u001b[0;34m=\u001b[0m\u001b[0;34m'clip'\u001b[0m\u001b[0;34m)\u001b[0m\u001b[0;34m\u001b[0m\u001b[0;34m\u001b[0m\u001b[0m\n",
            "\u001b[0;32m/usr/local/lib/python3.6/dist-packages/matplotlib/axes/_base.py\u001b[0m in \u001b[0;36m_process_unit_info\u001b[0;34m(self, xdata, ydata, kwargs)\u001b[0m\n\u001b[1;32m   2133\u001b[0m             \u001b[0;32mreturn\u001b[0m \u001b[0mkwargs\u001b[0m\u001b[0;34m\u001b[0m\u001b[0;34m\u001b[0m\u001b[0m\n\u001b[1;32m   2134\u001b[0m \u001b[0;34m\u001b[0m\u001b[0m\n\u001b[0;32m-> 2135\u001b[0;31m         \u001b[0mkwargs\u001b[0m \u001b[0;34m=\u001b[0m \u001b[0m_process_single_axis\u001b[0m\u001b[0;34m(\u001b[0m\u001b[0mxdata\u001b[0m\u001b[0;34m,\u001b[0m \u001b[0mself\u001b[0m\u001b[0;34m.\u001b[0m\u001b[0mxaxis\u001b[0m\u001b[0;34m,\u001b[0m \u001b[0;34m'xunits'\u001b[0m\u001b[0;34m,\u001b[0m \u001b[0mkwargs\u001b[0m\u001b[0;34m)\u001b[0m\u001b[0;34m\u001b[0m\u001b[0;34m\u001b[0m\u001b[0m\n\u001b[0m\u001b[1;32m   2136\u001b[0m         \u001b[0mkwargs\u001b[0m \u001b[0;34m=\u001b[0m \u001b[0m_process_single_axis\u001b[0m\u001b[0;34m(\u001b[0m\u001b[0mydata\u001b[0m\u001b[0;34m,\u001b[0m \u001b[0mself\u001b[0m\u001b[0;34m.\u001b[0m\u001b[0myaxis\u001b[0m\u001b[0;34m,\u001b[0m \u001b[0;34m'yunits'\u001b[0m\u001b[0;34m,\u001b[0m \u001b[0mkwargs\u001b[0m\u001b[0;34m)\u001b[0m\u001b[0;34m\u001b[0m\u001b[0;34m\u001b[0m\u001b[0m\n\u001b[1;32m   2137\u001b[0m         \u001b[0;32mreturn\u001b[0m \u001b[0mkwargs\u001b[0m\u001b[0;34m\u001b[0m\u001b[0;34m\u001b[0m\u001b[0m\n",
            "\u001b[0;32m/usr/local/lib/python3.6/dist-packages/matplotlib/axes/_base.py\u001b[0m in \u001b[0;36m_process_single_axis\u001b[0;34m(data, axis, unit_name, kwargs)\u001b[0m\n\u001b[1;32m   2116\u001b[0m                 \u001b[0;31m# We only need to update if there is nothing set yet.\u001b[0m\u001b[0;34m\u001b[0m\u001b[0;34m\u001b[0m\u001b[0;34m\u001b[0m\u001b[0m\n\u001b[1;32m   2117\u001b[0m                 \u001b[0;32mif\u001b[0m \u001b[0;32mnot\u001b[0m \u001b[0maxis\u001b[0m\u001b[0;34m.\u001b[0m\u001b[0mhave_units\u001b[0m\u001b[0;34m(\u001b[0m\u001b[0;34m)\u001b[0m\u001b[0;34m:\u001b[0m\u001b[0;34m\u001b[0m\u001b[0;34m\u001b[0m\u001b[0m\n\u001b[0;32m-> 2118\u001b[0;31m                     \u001b[0maxis\u001b[0m\u001b[0;34m.\u001b[0m\u001b[0mupdate_units\u001b[0m\u001b[0;34m(\u001b[0m\u001b[0mdata\u001b[0m\u001b[0;34m)\u001b[0m\u001b[0;34m\u001b[0m\u001b[0;34m\u001b[0m\u001b[0m\n\u001b[0m\u001b[1;32m   2119\u001b[0m \u001b[0;34m\u001b[0m\u001b[0m\n\u001b[1;32m   2120\u001b[0m             \u001b[0;31m# Check for units in the kwargs, and if present update axis\u001b[0m\u001b[0;34m\u001b[0m\u001b[0;34m\u001b[0m\u001b[0;34m\u001b[0m\u001b[0m\n",
            "\u001b[0;32m/usr/local/lib/python3.6/dist-packages/matplotlib/axis.py\u001b[0m in \u001b[0;36mupdate_units\u001b[0;34m(self, data)\u001b[0m\n\u001b[1;32m   1465\u001b[0m         \"\"\"\n\u001b[1;32m   1466\u001b[0m \u001b[0;34m\u001b[0m\u001b[0m\n\u001b[0;32m-> 1467\u001b[0;31m         \u001b[0mconverter\u001b[0m \u001b[0;34m=\u001b[0m \u001b[0mmunits\u001b[0m\u001b[0;34m.\u001b[0m\u001b[0mregistry\u001b[0m\u001b[0;34m.\u001b[0m\u001b[0mget_converter\u001b[0m\u001b[0;34m(\u001b[0m\u001b[0mdata\u001b[0m\u001b[0;34m)\u001b[0m\u001b[0;34m\u001b[0m\u001b[0;34m\u001b[0m\u001b[0m\n\u001b[0m\u001b[1;32m   1468\u001b[0m         \u001b[0;32mif\u001b[0m \u001b[0mconverter\u001b[0m \u001b[0;32mis\u001b[0m \u001b[0;32mNone\u001b[0m\u001b[0;34m:\u001b[0m\u001b[0;34m\u001b[0m\u001b[0;34m\u001b[0m\u001b[0m\n\u001b[1;32m   1469\u001b[0m             \u001b[0;32mreturn\u001b[0m \u001b[0;32mFalse\u001b[0m\u001b[0;34m\u001b[0m\u001b[0;34m\u001b[0m\u001b[0m\n",
            "\u001b[0;32m/usr/local/lib/python3.6/dist-packages/matplotlib/units.py\u001b[0m in \u001b[0;36mget_converter\u001b[0;34m(self, x)\u001b[0m\n\u001b[1;32m    162\u001b[0m         \u001b[0;31m# If x is an array, look inside the array for data with units\u001b[0m\u001b[0;34m\u001b[0m\u001b[0;34m\u001b[0m\u001b[0;34m\u001b[0m\u001b[0m\n\u001b[1;32m    163\u001b[0m         \u001b[0;32mif\u001b[0m \u001b[0misinstance\u001b[0m\u001b[0;34m(\u001b[0m\u001b[0mx\u001b[0m\u001b[0;34m,\u001b[0m \u001b[0mnp\u001b[0m\u001b[0;34m.\u001b[0m\u001b[0mndarray\u001b[0m\u001b[0;34m)\u001b[0m \u001b[0;32mand\u001b[0m \u001b[0mx\u001b[0m\u001b[0;34m.\u001b[0m\u001b[0msize\u001b[0m\u001b[0;34m:\u001b[0m\u001b[0;34m\u001b[0m\u001b[0;34m\u001b[0m\u001b[0m\n\u001b[0;32m--> 164\u001b[0;31m             \u001b[0mxravel\u001b[0m \u001b[0;34m=\u001b[0m \u001b[0mx\u001b[0m\u001b[0;34m.\u001b[0m\u001b[0mravel\u001b[0m\u001b[0;34m(\u001b[0m\u001b[0;34m)\u001b[0m\u001b[0;34m\u001b[0m\u001b[0;34m\u001b[0m\u001b[0m\n\u001b[0m\u001b[1;32m    165\u001b[0m             \u001b[0;32mtry\u001b[0m\u001b[0;34m:\u001b[0m\u001b[0;34m\u001b[0m\u001b[0;34m\u001b[0m\u001b[0m\n\u001b[1;32m    166\u001b[0m                 \u001b[0;31m# pass the first value of x that is not masked back to\u001b[0m\u001b[0;34m\u001b[0m\u001b[0;34m\u001b[0m\u001b[0;34m\u001b[0m\u001b[0m\n",
            "\u001b[0;31mKeyboardInterrupt\u001b[0m: "
          ]
        },
        {
          "output_type": "display_data",
          "data": {
            "image/png": "[encoded data removed]",
            "text/plain": [
              "<Figure size 432x288 with 1 Axes>"
            ]
          },
          "metadata": {
            "tags": []
          }
        }
      ]
    },
    {
      "metadata": {
        "id": "RFxXdaEcp0da",
        "colab_type": "code",
        "outputId": "176e879c-64ff-44c9-f96d-3062637e5b14",
        "colab": {
          "base_uri": "https://localhost:8080/",
          "height": 223
        }
      },
      "cell_type": "code",
      "source": [
        "data_1000cs = top_ten[['Donor State','Donor City','Donation Amount']]\n",
        "data_1000sc_sum = data_1000cs.set_index(['Donor State','Donor City']).groupby(level=[0, 1]).sum()\n",
        "data_1000sc_sum.nlargest(10,columns='Donation Amount').sort_values(by='Donation Amount',ascending=False,inplace=True)\n",
        "\n",
        "# data_1000sc_sum.unstack().plot(kind='bar', stacked=True).get_legend().remove()"
      ],
      "execution_count": 0,
      "outputs": [
        {
          "output_type": "error",
          "ename": "NameError",
          "evalue": "ignored",
          "traceback": [
            "\u001b[0;31m---------------------------------------------------------------------------\u001b[0m",
            "\u001b[0;31mNameError\u001b[0m                                 Traceback (most recent call last)",
            "\u001b[0;32m<ipython-input-24-f2275e56002c>\u001b[0m in \u001b[0;36m<module>\u001b[0;34m()\u001b[0m\n\u001b[0;32m----> 1\u001b[0;31m \u001b[0mdata_1000cs\u001b[0m \u001b[0;34m=\u001b[0m \u001b[0mtop_ten\u001b[0m\u001b[0;34m[\u001b[0m\u001b[0;34m[\u001b[0m\u001b[0;34m'Donor State'\u001b[0m\u001b[0;34m,\u001b[0m\u001b[0;34m'Donor City'\u001b[0m\u001b[0;34m,\u001b[0m\u001b[0;34m'Donation Amount'\u001b[0m\u001b[0;34m]\u001b[0m\u001b[0;34m]\u001b[0m\u001b[0;34m\u001b[0m\u001b[0;34m\u001b[0m\u001b[0m\n\u001b[0m\u001b[1;32m      2\u001b[0m \u001b[0mdata_1000sc_sum\u001b[0m \u001b[0;34m=\u001b[0m \u001b[0mdata_1000cs\u001b[0m\u001b[0;34m.\u001b[0m\u001b[0mset_index\u001b[0m\u001b[0;34m(\u001b[0m\u001b[0;34m[\u001b[0m\u001b[0;34m'Donor State'\u001b[0m\u001b[0;34m,\u001b[0m\u001b[0;34m'Donor City'\u001b[0m\u001b[0;34m]\u001b[0m\u001b[0;34m)\u001b[0m\u001b[0;34m.\u001b[0m\u001b[0mgroupby\u001b[0m\u001b[0;34m(\u001b[0m\u001b[0mlevel\u001b[0m\u001b[0;34m=\u001b[0m\u001b[0;34m[\u001b[0m\u001b[0;36m0\u001b[0m\u001b[0;34m,\u001b[0m \u001b[0;36m1\u001b[0m\u001b[0;34m]\u001b[0m\u001b[0;34m)\u001b[0m\u001b[0;34m.\u001b[0m\u001b[0msum\u001b[0m\u001b[0;34m(\u001b[0m\u001b[0;34m)\u001b[0m\u001b[0;34m\u001b[0m\u001b[0;34m\u001b[0m\u001b[0m\n\u001b[1;32m      3\u001b[0m \u001b[0mdata_1000sc_sum\u001b[0m\u001b[0;34m.\u001b[0m\u001b[0mnlargest\u001b[0m\u001b[0;34m(\u001b[0m\u001b[0;36m10\u001b[0m\u001b[0;34m,\u001b[0m\u001b[0mcolumns\u001b[0m\u001b[0;34m=\u001b[0m\u001b[0;34m'Donation Amount'\u001b[0m\u001b[0;34m)\u001b[0m\u001b[0;34m.\u001b[0m\u001b[0msort_values\u001b[0m\u001b[0;34m(\u001b[0m\u001b[0mby\u001b[0m\u001b[0;34m=\u001b[0m\u001b[0;34m'Donation Amount'\u001b[0m\u001b[0;34m,\u001b[0m\u001b[0mascending\u001b[0m\u001b[0;34m=\u001b[0m\u001b[0;32mFalse\u001b[0m\u001b[0;34m,\u001b[0m\u001b[0minplace\u001b[0m\u001b[0;34m=\u001b[0m\u001b[0;32mTrue\u001b[0m\u001b[0;34m)\u001b[0m\u001b[0;34m\u001b[0m\u001b[0;34m\u001b[0m\u001b[0m\n\u001b[1;32m      4\u001b[0m \u001b[0;34m\u001b[0m\u001b[0m\n\u001b[1;32m      5\u001b[0m \u001b[0;31m# data_1000sc_sum.unstack().plot(kind='bar', stacked=True).get_legend().remove()\u001b[0m\u001b[0;34m\u001b[0m\u001b[0;34m\u001b[0m\u001b[0;34m\u001b[0m\u001b[0m\n",
            "\u001b[0;31mNameError\u001b[0m: name 'top_ten' is not defined"
          ]
        }
      ]
    },
    {
      "metadata": {
        "id": "5WSaNN84YG_1",
        "colab_type": "code",
        "outputId": "54cd4c26-58a1-4b77-ab9c-f82e61062ee2",
        "colab": {
          "base_uri": "https://localhost:8080/",
          "height": 1482
        }
      },
      "cell_type": "code",
      "source": [
        "data_1000cs = donors_donations_df[['Donor State','Donor City','Donation Amount']][:1000]\n",
        "data_1000sc_sum = data_1000cs.set_index(['Donor State','Donor City']).groupby(level=[0, 1]).sum()\n",
        "data_1000sc_sum.nlargest(10,columns='Donation Amount').sort_values(by='Donation Amount',ascending=False,inplace=True)\n",
        "\n",
        "data_1000sc_sum.unstack().plot(kind='bar', stacked=True).get_legend().remove()"
      ],
      "execution_count": 0,
      "outputs": [
        {
          "output_type": "error",
          "ename": "KeyboardInterrupt",
          "evalue": "ignored",
          "traceback": [
            "\u001b[0;31m---------------------------------------------------------------------------\u001b[0m",
            "\u001b[0;31mKeyboardInterrupt\u001b[0m                         Traceback (most recent call last)",
            "\u001b[0;32m<ipython-input-25-ac175b135a49>\u001b[0m in \u001b[0;36m<module>\u001b[0;34m()\u001b[0m\n\u001b[1;32m      3\u001b[0m \u001b[0mdata_1000sc_sum\u001b[0m\u001b[0;34m.\u001b[0m\u001b[0mnlargest\u001b[0m\u001b[0;34m(\u001b[0m\u001b[0;36m10\u001b[0m\u001b[0;34m,\u001b[0m\u001b[0mcolumns\u001b[0m\u001b[0;34m=\u001b[0m\u001b[0;34m'Donation Amount'\u001b[0m\u001b[0;34m)\u001b[0m\u001b[0;34m.\u001b[0m\u001b[0msort_values\u001b[0m\u001b[0;34m(\u001b[0m\u001b[0mby\u001b[0m\u001b[0;34m=\u001b[0m\u001b[0;34m'Donation Amount'\u001b[0m\u001b[0;34m,\u001b[0m\u001b[0mascending\u001b[0m\u001b[0;34m=\u001b[0m\u001b[0;32mFalse\u001b[0m\u001b[0;34m,\u001b[0m\u001b[0minplace\u001b[0m\u001b[0;34m=\u001b[0m\u001b[0;32mTrue\u001b[0m\u001b[0;34m)\u001b[0m\u001b[0;34m\u001b[0m\u001b[0;34m\u001b[0m\u001b[0m\n\u001b[1;32m      4\u001b[0m \u001b[0;34m\u001b[0m\u001b[0m\n\u001b[0;32m----> 5\u001b[0;31m \u001b[0mdata_1000sc_sum\u001b[0m\u001b[0;34m.\u001b[0m\u001b[0munstack\u001b[0m\u001b[0;34m(\u001b[0m\u001b[0;34m)\u001b[0m\u001b[0;34m.\u001b[0m\u001b[0mplot\u001b[0m\u001b[0;34m(\u001b[0m\u001b[0mkind\u001b[0m\u001b[0;34m=\u001b[0m\u001b[0;34m'bar'\u001b[0m\u001b[0;34m,\u001b[0m \u001b[0mstacked\u001b[0m\u001b[0;34m=\u001b[0m\u001b[0;32mTrue\u001b[0m\u001b[0;34m)\u001b[0m\u001b[0;34m.\u001b[0m\u001b[0mget_legend\u001b[0m\u001b[0;34m(\u001b[0m\u001b[0;34m)\u001b[0m\u001b[0;34m.\u001b[0m\u001b[0mremove\u001b[0m\u001b[0;34m(\u001b[0m\u001b[0;34m)\u001b[0m\u001b[0;34m\u001b[0m\u001b[0;34m\u001b[0m\u001b[0m\n\u001b[0m",
            "\u001b[0;32m/usr/local/lib/python3.6/dist-packages/pandas/plotting/_core.py\u001b[0m in \u001b[0;36m__call__\u001b[0;34m(self, x, y, kind, ax, subplots, sharex, sharey, layout, figsize, use_index, title, grid, legend, style, logx, logy, loglog, xticks, yticks, xlim, ylim, rot, fontsize, colormap, table, yerr, xerr, secondary_y, sort_columns, **kwds)\u001b[0m\n\u001b[1;32m   2675\u001b[0m                           \u001b[0mfontsize\u001b[0m\u001b[0;34m=\u001b[0m\u001b[0mfontsize\u001b[0m\u001b[0;34m,\u001b[0m \u001b[0mcolormap\u001b[0m\u001b[0;34m=\u001b[0m\u001b[0mcolormap\u001b[0m\u001b[0;34m,\u001b[0m \u001b[0mtable\u001b[0m\u001b[0;34m=\u001b[0m\u001b[0mtable\u001b[0m\u001b[0;34m,\u001b[0m\u001b[0;34m\u001b[0m\u001b[0;34m\u001b[0m\u001b[0m\n\u001b[1;32m   2676\u001b[0m                           \u001b[0myerr\u001b[0m\u001b[0;34m=\u001b[0m\u001b[0myerr\u001b[0m\u001b[0;34m,\u001b[0m \u001b[0mxerr\u001b[0m\u001b[0;34m=\u001b[0m\u001b[0mxerr\u001b[0m\u001b[0;34m,\u001b[0m \u001b[0msecondary_y\u001b[0m\u001b[0;34m=\u001b[0m\u001b[0msecondary_y\u001b[0m\u001b[0;34m,\u001b[0m\u001b[0;34m\u001b[0m\u001b[0;34m\u001b[0m\u001b[0m\n\u001b[0;32m-> 2677\u001b[0;31m                           sort_columns=sort_columns, **kwds)\n\u001b[0m\u001b[1;32m   2678\u001b[0m     \u001b[0m__call__\u001b[0m\u001b[0;34m.\u001b[0m\u001b[0m__doc__\u001b[0m \u001b[0;34m=\u001b[0m \u001b[0mplot_frame\u001b[0m\u001b[0;34m.\u001b[0m\u001b[0m__doc__\u001b[0m\u001b[0;34m\u001b[0m\u001b[0;34m\u001b[0m\u001b[0m\n\u001b[1;32m   2679\u001b[0m \u001b[0;34m\u001b[0m\u001b[0m\n",
            "\u001b[0;32m/usr/local/lib/python3.6/dist-packages/pandas/plotting/_core.py\u001b[0m in \u001b[0;36mplot_frame\u001b[0;34m(data, x, y, kind, ax, subplots, sharex, sharey, layout, figsize, use_index, title, grid, legend, style, logx, logy, loglog, xticks, yticks, xlim, ylim, rot, fontsize, colormap, table, yerr, xerr, secondary_y, sort_columns, **kwds)\u001b[0m\n\u001b[1;32m   1900\u001b[0m                  \u001b[0myerr\u001b[0m\u001b[0;34m=\u001b[0m\u001b[0myerr\u001b[0m\u001b[0;34m,\u001b[0m \u001b[0mxerr\u001b[0m\u001b[0;34m=\u001b[0m\u001b[0mxerr\u001b[0m\u001b[0;34m,\u001b[0m\u001b[0;34m\u001b[0m\u001b[0;34m\u001b[0m\u001b[0m\n\u001b[1;32m   1901\u001b[0m                  \u001b[0msecondary_y\u001b[0m\u001b[0;34m=\u001b[0m\u001b[0msecondary_y\u001b[0m\u001b[0;34m,\u001b[0m \u001b[0msort_columns\u001b[0m\u001b[0;34m=\u001b[0m\u001b[0msort_columns\u001b[0m\u001b[0;34m,\u001b[0m\u001b[0;34m\u001b[0m\u001b[0;34m\u001b[0m\u001b[0m\n\u001b[0;32m-> 1902\u001b[0;31m                  **kwds)\n\u001b[0m\u001b[1;32m   1903\u001b[0m \u001b[0;34m\u001b[0m\u001b[0m\n\u001b[1;32m   1904\u001b[0m \u001b[0;34m\u001b[0m\u001b[0m\n",
            "\u001b[0;32m/usr/local/lib/python3.6/dist-packages/pandas/plotting/_core.py\u001b[0m in \u001b[0;36m_plot\u001b[0;34m(data, x, y, subplots, ax, kind, **kwds)\u001b[0m\n\u001b[1;32m   1727\u001b[0m         \u001b[0mplot_obj\u001b[0m \u001b[0;34m=\u001b[0m \u001b[0mklass\u001b[0m\u001b[0;34m(\u001b[0m\u001b[0mdata\u001b[0m\u001b[0;34m,\u001b[0m \u001b[0msubplots\u001b[0m\u001b[0;34m=\u001b[0m\u001b[0msubplots\u001b[0m\u001b[0;34m,\u001b[0m \u001b[0max\u001b[0m\u001b[0;34m=\u001b[0m\u001b[0max\u001b[0m\u001b[0;34m,\u001b[0m \u001b[0mkind\u001b[0m\u001b[0;34m=\u001b[0m\u001b[0mkind\u001b[0m\u001b[0;34m,\u001b[0m \u001b[0;34m**\u001b[0m\u001b[0mkwds\u001b[0m\u001b[0;34m)\u001b[0m\u001b[0;34m\u001b[0m\u001b[0;34m\u001b[0m\u001b[0m\n\u001b[1;32m   1728\u001b[0m \u001b[0;34m\u001b[0m\u001b[0m\n\u001b[0;32m-> 1729\u001b[0;31m     \u001b[0mplot_obj\u001b[0m\u001b[0;34m.\u001b[0m\u001b[0mgenerate\u001b[0m\u001b[0;34m(\u001b[0m\u001b[0;34m)\u001b[0m\u001b[0;34m\u001b[0m\u001b[0;34m\u001b[0m\u001b[0m\n\u001b[0m\u001b[1;32m   1730\u001b[0m     \u001b[0mplot_obj\u001b[0m\u001b[0;34m.\u001b[0m\u001b[0mdraw\u001b[0m\u001b[0;34m(\u001b[0m\u001b[0;34m)\u001b[0m\u001b[0;34m\u001b[0m\u001b[0;34m\u001b[0m\u001b[0m\n\u001b[1;32m   1731\u001b[0m     \u001b[0;32mreturn\u001b[0m \u001b[0mplot_obj\u001b[0m\u001b[0;34m.\u001b[0m\u001b[0mresult\u001b[0m\u001b[0;34m\u001b[0m\u001b[0;34m\u001b[0m\u001b[0m\n",
            "\u001b[0;32m/usr/local/lib/python3.6/dist-packages/pandas/plotting/_core.py\u001b[0m in \u001b[0;36mgenerate\u001b[0;34m(self)\u001b[0m\n\u001b[1;32m    250\u001b[0m         \u001b[0mself\u001b[0m\u001b[0;34m.\u001b[0m\u001b[0m_compute_plot_data\u001b[0m\u001b[0;34m(\u001b[0m\u001b[0;34m)\u001b[0m\u001b[0;34m\u001b[0m\u001b[0;34m\u001b[0m\u001b[0m\n\u001b[1;32m    251\u001b[0m         \u001b[0mself\u001b[0m\u001b[0;34m.\u001b[0m\u001b[0m_setup_subplots\u001b[0m\u001b[0;34m(\u001b[0m\u001b[0;34m)\u001b[0m\u001b[0;34m\u001b[0m\u001b[0;34m\u001b[0m\u001b[0m\n\u001b[0;32m--> 252\u001b[0;31m         \u001b[0mself\u001b[0m\u001b[0;34m.\u001b[0m\u001b[0m_make_plot\u001b[0m\u001b[0;34m(\u001b[0m\u001b[0;34m)\u001b[0m\u001b[0;34m\u001b[0m\u001b[0;34m\u001b[0m\u001b[0m\n\u001b[0m\u001b[1;32m    253\u001b[0m         \u001b[0mself\u001b[0m\u001b[0;34m.\u001b[0m\u001b[0m_add_table\u001b[0m\u001b[0;34m(\u001b[0m\u001b[0;34m)\u001b[0m\u001b[0;34m\u001b[0m\u001b[0;34m\u001b[0m\u001b[0m\n\u001b[1;32m    254\u001b[0m         \u001b[0mself\u001b[0m\u001b[0;34m.\u001b[0m\u001b[0m_make_legend\u001b[0m\u001b[0;34m(\u001b[0m\u001b[0;34m)\u001b[0m\u001b[0;34m\u001b[0m\u001b[0;34m\u001b[0m\u001b[0m\n",
            "\u001b[0;32m/usr/local/lib/python3.6/dist-packages/pandas/plotting/_core.py\u001b[0m in \u001b[0;36m_make_plot\u001b[0;34m(self)\u001b[0m\n\u001b[1;32m   1248\u001b[0m                 rect = self._plot(ax, self.ax_pos + w, y, self.bar_width,\n\u001b[1;32m   1249\u001b[0m                                   \u001b[0mstart\u001b[0m\u001b[0;34m=\u001b[0m\u001b[0mstart\u001b[0m\u001b[0;34m,\u001b[0m \u001b[0mlabel\u001b[0m\u001b[0;34m=\u001b[0m\u001b[0mlabel\u001b[0m\u001b[0;34m,\u001b[0m\u001b[0;34m\u001b[0m\u001b[0;34m\u001b[0m\u001b[0m\n\u001b[0;32m-> 1250\u001b[0;31m                                   log=self.log, **kwds)\n\u001b[0m\u001b[1;32m   1251\u001b[0m                 \u001b[0mpos_prior\u001b[0m \u001b[0;34m=\u001b[0m \u001b[0mpos_prior\u001b[0m \u001b[0;34m+\u001b[0m \u001b[0mnp\u001b[0m\u001b[0;34m.\u001b[0m\u001b[0mwhere\u001b[0m\u001b[0;34m(\u001b[0m\u001b[0mmask\u001b[0m\u001b[0;34m,\u001b[0m \u001b[0my\u001b[0m\u001b[0;34m,\u001b[0m \u001b[0;36m0\u001b[0m\u001b[0;34m)\u001b[0m\u001b[0;34m\u001b[0m\u001b[0;34m\u001b[0m\u001b[0m\n\u001b[1;32m   1252\u001b[0m                 \u001b[0mneg_prior\u001b[0m \u001b[0;34m=\u001b[0m \u001b[0mneg_prior\u001b[0m \u001b[0;34m+\u001b[0m \u001b[0mnp\u001b[0m\u001b[0;34m.\u001b[0m\u001b[0mwhere\u001b[0m\u001b[0;34m(\u001b[0m\u001b[0mmask\u001b[0m\u001b[0;34m,\u001b[0m \u001b[0;36m0\u001b[0m\u001b[0;34m,\u001b[0m \u001b[0my\u001b[0m\u001b[0;34m)\u001b[0m\u001b[0;34m\u001b[0m\u001b[0;34m\u001b[0m\u001b[0m\n",
            "\u001b[0;32m/usr/local/lib/python3.6/dist-packages/pandas/plotting/_core.py\u001b[0m in \u001b[0;36m_plot\u001b[0;34m(cls, ax, x, y, w, start, log, **kwds)\u001b[0m\n\u001b[1;32m   1199\u001b[0m     \u001b[0;34m@\u001b[0m\u001b[0mclassmethod\u001b[0m\u001b[0;34m\u001b[0m\u001b[0;34m\u001b[0m\u001b[0m\n\u001b[1;32m   1200\u001b[0m     \u001b[0;32mdef\u001b[0m \u001b[0m_plot\u001b[0m\u001b[0;34m(\u001b[0m\u001b[0mcls\u001b[0m\u001b[0;34m,\u001b[0m \u001b[0max\u001b[0m\u001b[0;34m,\u001b[0m \u001b[0mx\u001b[0m\u001b[0;34m,\u001b[0m \u001b[0my\u001b[0m\u001b[0;34m,\u001b[0m \u001b[0mw\u001b[0m\u001b[0;34m,\u001b[0m \u001b[0mstart\u001b[0m\u001b[0;34m=\u001b[0m\u001b[0;36m0\u001b[0m\u001b[0;34m,\u001b[0m \u001b[0mlog\u001b[0m\u001b[0;34m=\u001b[0m\u001b[0;32mFalse\u001b[0m\u001b[0;34m,\u001b[0m \u001b[0;34m**\u001b[0m\u001b[0mkwds\u001b[0m\u001b[0;34m)\u001b[0m\u001b[0;34m:\u001b[0m\u001b[0;34m\u001b[0m\u001b[0;34m\u001b[0m\u001b[0m\n\u001b[0;32m-> 1201\u001b[0;31m         \u001b[0;32mreturn\u001b[0m \u001b[0max\u001b[0m\u001b[0;34m.\u001b[0m\u001b[0mbar\u001b[0m\u001b[0;34m(\u001b[0m\u001b[0mx\u001b[0m\u001b[0;34m,\u001b[0m \u001b[0my\u001b[0m\u001b[0;34m,\u001b[0m \u001b[0mw\u001b[0m\u001b[0;34m,\u001b[0m \u001b[0mbottom\u001b[0m\u001b[0;34m=\u001b[0m\u001b[0mstart\u001b[0m\u001b[0;34m,\u001b[0m \u001b[0mlog\u001b[0m\u001b[0;34m=\u001b[0m\u001b[0mlog\u001b[0m\u001b[0;34m,\u001b[0m \u001b[0;34m**\u001b[0m\u001b[0mkwds\u001b[0m\u001b[0;34m)\u001b[0m\u001b[0;34m\u001b[0m\u001b[0;34m\u001b[0m\u001b[0m\n\u001b[0m\u001b[1;32m   1202\u001b[0m \u001b[0;34m\u001b[0m\u001b[0m\n\u001b[1;32m   1203\u001b[0m     \u001b[0;34m@\u001b[0m\u001b[0mproperty\u001b[0m\u001b[0;34m\u001b[0m\u001b[0;34m\u001b[0m\u001b[0m\n",
            "\u001b[0;32m/usr/local/lib/python3.6/dist-packages/matplotlib/__init__.py\u001b[0m in \u001b[0;36minner\u001b[0;34m(ax, data, *args, **kwargs)\u001b[0m\n\u001b[1;32m   1808\u001b[0m                         \u001b[0;34m\"the Matplotlib list!)\"\u001b[0m \u001b[0;34m%\u001b[0m \u001b[0;34m(\u001b[0m\u001b[0mlabel_namer\u001b[0m\u001b[0;34m,\u001b[0m \u001b[0mfunc\u001b[0m\u001b[0;34m.\u001b[0m\u001b[0m__name__\u001b[0m\u001b[0;34m)\u001b[0m\u001b[0;34m,\u001b[0m\u001b[0;34m\u001b[0m\u001b[0;34m\u001b[0m\u001b[0m\n\u001b[1;32m   1809\u001b[0m                         RuntimeWarning, stacklevel=2)\n\u001b[0;32m-> 1810\u001b[0;31m             \u001b[0;32mreturn\u001b[0m \u001b[0mfunc\u001b[0m\u001b[0;34m(\u001b[0m\u001b[0max\u001b[0m\u001b[0;34m,\u001b[0m \u001b[0;34m*\u001b[0m\u001b[0margs\u001b[0m\u001b[0;34m,\u001b[0m \u001b[0;34m**\u001b[0m\u001b[0mkwargs\u001b[0m\u001b[0;34m)\u001b[0m\u001b[0;34m\u001b[0m\u001b[0;34m\u001b[0m\u001b[0m\n\u001b[0m\u001b[1;32m   1811\u001b[0m \u001b[0;34m\u001b[0m\u001b[0m\n\u001b[1;32m   1812\u001b[0m         inner.__doc__ = _add_data_doc(inner.__doc__,\n",
            "\u001b[0;32m/usr/local/lib/python3.6/dist-packages/matplotlib/axes/_axes.py\u001b[0m in \u001b[0;36mbar\u001b[0;34m(self, x, height, width, bottom, align, **kwargs)\u001b[0m\n\u001b[1;32m   2339\u001b[0m             \u001b[0mymin\u001b[0m \u001b[0;34m=\u001b[0m \u001b[0mmax\u001b[0m\u001b[0;34m(\u001b[0m\u001b[0mymin\u001b[0m \u001b[0;34m*\u001b[0m \u001b[0;36m0.9\u001b[0m\u001b[0;34m,\u001b[0m \u001b[0;36m1e-100\u001b[0m\u001b[0;34m)\u001b[0m\u001b[0;34m\u001b[0m\u001b[0;34m\u001b[0m\u001b[0m\n\u001b[1;32m   2340\u001b[0m             \u001b[0mself\u001b[0m\u001b[0;34m.\u001b[0m\u001b[0mdataLim\u001b[0m\u001b[0;34m.\u001b[0m\u001b[0mintervaly\u001b[0m \u001b[0;34m=\u001b[0m \u001b[0;34m(\u001b[0m\u001b[0mymin\u001b[0m\u001b[0;34m,\u001b[0m \u001b[0mymax\u001b[0m\u001b[0;34m)\u001b[0m\u001b[0;34m\u001b[0m\u001b[0;34m\u001b[0m\u001b[0m\n\u001b[0;32m-> 2341\u001b[0;31m         \u001b[0mself\u001b[0m\u001b[0;34m.\u001b[0m\u001b[0mautoscale_view\u001b[0m\u001b[0;34m(\u001b[0m\u001b[0;34m)\u001b[0m\u001b[0;34m\u001b[0m\u001b[0;34m\u001b[0m\u001b[0m\n\u001b[0m\u001b[1;32m   2342\u001b[0m \u001b[0;34m\u001b[0m\u001b[0m\n\u001b[1;32m   2343\u001b[0m         \u001b[0mbar_container\u001b[0m \u001b[0;34m=\u001b[0m \u001b[0mBarContainer\u001b[0m\u001b[0;34m(\u001b[0m\u001b[0mpatches\u001b[0m\u001b[0;34m,\u001b[0m \u001b[0merrorbar\u001b[0m\u001b[0;34m,\u001b[0m \u001b[0mlabel\u001b[0m\u001b[0;34m=\u001b[0m\u001b[0mlabel\u001b[0m\u001b[0;34m)\u001b[0m\u001b[0;34m\u001b[0m\u001b[0;34m\u001b[0m\u001b[0m\n",
            "\u001b[0;32m/usr/local/lib/python3.6/dist-packages/matplotlib/axes/_base.py\u001b[0m in \u001b[0;36mautoscale_view\u001b[0;34m(self, tight, scalex, scaley)\u001b[0m\n\u001b[1;32m   2426\u001b[0m             \u001b[0mstickies\u001b[0m \u001b[0;34m=\u001b[0m \u001b[0;34m[\u001b[0m\u001b[0martist\u001b[0m\u001b[0;34m.\u001b[0m\u001b[0msticky_edges\u001b[0m \u001b[0;32mfor\u001b[0m \u001b[0martist\u001b[0m \u001b[0;32min\u001b[0m \u001b[0mself\u001b[0m\u001b[0;34m.\u001b[0m\u001b[0mget_children\u001b[0m\u001b[0;34m(\u001b[0m\u001b[0;34m)\u001b[0m\u001b[0;34m]\u001b[0m\u001b[0;34m\u001b[0m\u001b[0;34m\u001b[0m\u001b[0m\n\u001b[1;32m   2427\u001b[0m             \u001b[0mx_stickies\u001b[0m \u001b[0;34m=\u001b[0m \u001b[0msum\u001b[0m\u001b[0;34m(\u001b[0m\u001b[0;34m[\u001b[0m\u001b[0msticky\u001b[0m\u001b[0;34m.\u001b[0m\u001b[0mx\u001b[0m \u001b[0;32mfor\u001b[0m \u001b[0msticky\u001b[0m \u001b[0;32min\u001b[0m \u001b[0mstickies\u001b[0m\u001b[0;34m]\u001b[0m\u001b[0;34m,\u001b[0m \u001b[0;34m[\u001b[0m\u001b[0;34m]\u001b[0m\u001b[0;34m)\u001b[0m\u001b[0;34m\u001b[0m\u001b[0;34m\u001b[0m\u001b[0m\n\u001b[0;32m-> 2428\u001b[0;31m             \u001b[0my_stickies\u001b[0m \u001b[0;34m=\u001b[0m \u001b[0msum\u001b[0m\u001b[0;34m(\u001b[0m\u001b[0;34m[\u001b[0m\u001b[0msticky\u001b[0m\u001b[0;34m.\u001b[0m\u001b[0my\u001b[0m \u001b[0;32mfor\u001b[0m \u001b[0msticky\u001b[0m \u001b[0;32min\u001b[0m \u001b[0mstickies\u001b[0m\u001b[0;34m]\u001b[0m\u001b[0;34m,\u001b[0m \u001b[0;34m[\u001b[0m\u001b[0;34m]\u001b[0m\u001b[0;34m)\u001b[0m\u001b[0;34m\u001b[0m\u001b[0;34m\u001b[0m\u001b[0m\n\u001b[0m\u001b[1;32m   2429\u001b[0m             \u001b[0;32mif\u001b[0m \u001b[0mself\u001b[0m\u001b[0;34m.\u001b[0m\u001b[0mget_xscale\u001b[0m\u001b[0;34m(\u001b[0m\u001b[0;34m)\u001b[0m\u001b[0;34m.\u001b[0m\u001b[0mlower\u001b[0m\u001b[0;34m(\u001b[0m\u001b[0;34m)\u001b[0m \u001b[0;34m==\u001b[0m \u001b[0;34m'log'\u001b[0m\u001b[0;34m:\u001b[0m\u001b[0;34m\u001b[0m\u001b[0;34m\u001b[0m\u001b[0m\n\u001b[1;32m   2430\u001b[0m                 \u001b[0mx_stickies\u001b[0m \u001b[0;34m=\u001b[0m \u001b[0;34m[\u001b[0m\u001b[0mxs\u001b[0m \u001b[0;32mfor\u001b[0m \u001b[0mxs\u001b[0m \u001b[0;32min\u001b[0m \u001b[0mx_stickies\u001b[0m \u001b[0;32mif\u001b[0m \u001b[0mxs\u001b[0m \u001b[0;34m>\u001b[0m \u001b[0;36m0\u001b[0m\u001b[0;34m]\u001b[0m\u001b[0;34m\u001b[0m\u001b[0;34m\u001b[0m\u001b[0m\n",
            "\u001b[0;31mKeyboardInterrupt\u001b[0m: "
          ]
        },
        {
          "output_type": "display_data",
          "data": {
            "image/png": "[encoded data removed]",
            "text/plain": [
              "<Figure size 432x288 with 1 Axes>"
            ]
          },
          "metadata": {
            "tags": []
          }
        }
      ]
    },
    {
      "metadata": {
        "id": "3HDxcvMrct-a",
        "colab_type": "text"
      },
      "cell_type": "markdown",
      "source": [
        "#### Combine Pandas DataFrames"
      ]
    },
    {
      "metadata": {
        "id": "lqA8pSui2h52",
        "colab_type": "code",
        "colab": {}
      },
      "cell_type": "code",
      "source": [
        "projects_donations = projects_data.merge(donations_data, on='Project ID')\n",
        "# projects_donations.columns"
      ],
      "execution_count": 0,
      "outputs": []
    },
    {
      "metadata": {
        "id": "-l2sEy0PZiLA",
        "colab_type": "code",
        "outputId": "dd1f9b60-5480-4136-c091-56db0c2ee2fa",
        "colab": {
          "base_uri": "https://localhost:8080/",
          "height": 191
        }
      },
      "cell_type": "code",
      "source": [
        "donors_data.head()"
      ],
      "execution_count": 0,
      "outputs": [
        {
          "output_type": "execute_result",
          "data": {
            "text/html": [
              "<div>\n",
              "<style scoped>\n",
              "    .dataframe tbody tr th:only-of-type {\n",
              "        vertical-align: middle;\n",
              "    }\n",
              "\n",
              "    .dataframe tbody tr th {\n",
              "        vertical-align: top;\n",
              "    }\n",
              "\n",
              "    .dataframe thead th {\n",
              "        text-align: right;\n",
              "    }\n",
              "</style>\n",
              "<table border=\"1\" class=\"dataframe\">\n",
              "  <thead>\n",
              "    <tr style=\"text-align: right;\">\n",
              "      <th></th>\n",
              "      <th>Donor ID</th>\n",
              "      <th>Donor City</th>\n",
              "      <th>Donor State</th>\n",
              "      <th>Donor Is Teacher</th>\n",
              "      <th>Donor Zip</th>\n",
              "    </tr>\n",
              "  </thead>\n",
              "  <tbody>\n",
              "    <tr>\n",
              "      <th>0</th>\n",
              "      <td>00000ce845c00cbf0686c992fc369df4</td>\n",
              "      <td>Evanston</td>\n",
              "      <td>Illinois</td>\n",
              "      <td>No</td>\n",
              "      <td>602</td>\n",
              "    </tr>\n",
              "    <tr>\n",
              "      <th>1</th>\n",
              "      <td>00002783bc5d108510f3f9666c8b1edd</td>\n",
              "      <td>Appomattox</td>\n",
              "      <td>other</td>\n",
              "      <td>No</td>\n",
              "      <td>245</td>\n",
              "    </tr>\n",
              "    <tr>\n",
              "      <th>2</th>\n",
              "      <td>00002d44003ed46b066607c5455a999a</td>\n",
              "      <td>Winton</td>\n",
              "      <td>California</td>\n",
              "      <td>Yes</td>\n",
              "      <td>953</td>\n",
              "    </tr>\n",
              "    <tr>\n",
              "      <th>3</th>\n",
              "      <td>00002eb25d60a09c318efbd0797bffb5</td>\n",
              "      <td>Indianapolis</td>\n",
              "      <td>Indiana</td>\n",
              "      <td>No</td>\n",
              "      <td>462</td>\n",
              "    </tr>\n",
              "    <tr>\n",
              "      <th>4</th>\n",
              "      <td>0000300773fe015f870914b42528541b</td>\n",
              "      <td>Paterson</td>\n",
              "      <td>New Jersey</td>\n",
              "      <td>No</td>\n",
              "      <td>075</td>\n",
              "    </tr>\n",
              "  </tbody>\n",
              "</table>\n",
              "</div>"
            ],
            "text/plain": [
              "                           Donor ID    Donor City Donor State  \\\n",
              "0  00000ce845c00cbf0686c992fc369df4      Evanston    Illinois   \n",
              "1  00002783bc5d108510f3f9666c8b1edd    Appomattox       other   \n",
              "2  00002d44003ed46b066607c5455a999a        Winton  California   \n",
              "3  00002eb25d60a09c318efbd0797bffb5  Indianapolis     Indiana   \n",
              "4  0000300773fe015f870914b42528541b      Paterson  New Jersey   \n",
              "\n",
              "  Donor Is Teacher Donor Zip  \n",
              "0               No       602  \n",
              "1               No       245  \n",
              "2              Yes       953  \n",
              "3               No       462  \n",
              "4               No       075  "
            ]
          },
          "metadata": {
            "tags": []
          },
          "execution_count": 31
        }
      ]
    },
    {
      "metadata": {
        "id": "nhWIIjQ2c36a",
        "colab_type": "code",
        "outputId": "cf460a65-235e-481b-fcab-6db8b7a0d988",
        "colab": {
          "base_uri": "https://localhost:8080/",
          "height": 288
        }
      },
      "cell_type": "code",
      "source": [
        "data_df = donors_data.merge(projects_donations[['Donor ID','Project ID','Project Title','Project Type','Donation Amount']], on='Donor ID')\n",
        "data_df.head()"
      ],
      "execution_count": 0,
      "outputs": [
        {
          "output_type": "execute_result",
          "data": {
            "text/html": [
              "<div>\n",
              "<style scoped>\n",
              "    .dataframe tbody tr th:only-of-type {\n",
              "        vertical-align: middle;\n",
              "    }\n",
              "\n",
              "    .dataframe tbody tr th {\n",
              "        vertical-align: top;\n",
              "    }\n",
              "\n",
              "    .dataframe thead th {\n",
              "        text-align: right;\n",
              "    }\n",
              "</style>\n",
              "<table border=\"1\" class=\"dataframe\">\n",
              "  <thead>\n",
              "    <tr style=\"text-align: right;\">\n",
              "      <th></th>\n",
              "      <th>Donor ID</th>\n",
              "      <th>Donor City</th>\n",
              "      <th>Donor State</th>\n",
              "      <th>Donor Is Teacher</th>\n",
              "      <th>Donor Zip</th>\n",
              "      <th>Project ID</th>\n",
              "      <th>Project Title</th>\n",
              "      <th>Project Type</th>\n",
              "      <th>Donation Amount</th>\n",
              "    </tr>\n",
              "  </thead>\n",
              "  <tbody>\n",
              "    <tr>\n",
              "      <th>0</th>\n",
              "      <td>00000ce845c00cbf0686c992fc369df4</td>\n",
              "      <td>Evanston</td>\n",
              "      <td>Illinois</td>\n",
              "      <td>No</td>\n",
              "      <td>602</td>\n",
              "      <td>5bab6101eed588c396a59f6bd64274b6</td>\n",
              "      <td>Projecting the World in One Unique Classroom</td>\n",
              "      <td>Teacher-Led</td>\n",
              "      <td>50.00</td>\n",
              "    </tr>\n",
              "    <tr>\n",
              "      <th>1</th>\n",
              "      <td>00002783bc5d108510f3f9666c8b1edd</td>\n",
              "      <td>Appomattox</td>\n",
              "      <td>other</td>\n",
              "      <td>No</td>\n",
              "      <td>245</td>\n",
              "      <td>9db61b1b1e43a7b256eec9b20b42d854</td>\n",
              "      <td>Small Town Dreams: Legislating in the Commonwe...</td>\n",
              "      <td>Student-Led</td>\n",
              "      <td>99.00</td>\n",
              "    </tr>\n",
              "    <tr>\n",
              "      <th>2</th>\n",
              "      <td>00002d44003ed46b066607c5455a999a</td>\n",
              "      <td>Winton</td>\n",
              "      <td>California</td>\n",
              "      <td>Yes</td>\n",
              "      <td>953</td>\n",
              "      <td>2f7996f08052785e9b146f72c0c4990d</td>\n",
              "      <td>Bring Robotics to Our Library Makerspace!</td>\n",
              "      <td>Teacher-Led</td>\n",
              "      <td>13.75</td>\n",
              "    </tr>\n",
              "    <tr>\n",
              "      <th>3</th>\n",
              "      <td>00002d44003ed46b066607c5455a999a</td>\n",
              "      <td>Winton</td>\n",
              "      <td>California</td>\n",
              "      <td>Yes</td>\n",
              "      <td>953</td>\n",
              "      <td>dfdaf35bb33f9c105530c82984960ff3</td>\n",
              "      <td>If It Ain't BAROQUE, Don't Fix It: Baroque-Fin...</td>\n",
              "      <td>Teacher-Led</td>\n",
              "      <td>9.69</td>\n",
              "    </tr>\n",
              "    <tr>\n",
              "      <th>4</th>\n",
              "      <td>00002d44003ed46b066607c5455a999a</td>\n",
              "      <td>Winton</td>\n",
              "      <td>California</td>\n",
              "      <td>Yes</td>\n",
              "      <td>953</td>\n",
              "      <td>e2beb818569f66adaa4ced21ca299ac6</td>\n",
              "      <td>Discover a New World With Books</td>\n",
              "      <td>Teacher-Led</td>\n",
              "      <td>10.00</td>\n",
              "    </tr>\n",
              "  </tbody>\n",
              "</table>\n",
              "</div>"
            ],
            "text/plain": [
              "                           Donor ID  Donor City Donor State Donor Is Teacher  \\\n",
              "0  00000ce845c00cbf0686c992fc369df4    Evanston    Illinois               No   \n",
              "1  00002783bc5d108510f3f9666c8b1edd  Appomattox       other               No   \n",
              "2  00002d44003ed46b066607c5455a999a      Winton  California              Yes   \n",
              "3  00002d44003ed46b066607c5455a999a      Winton  California              Yes   \n",
              "4  00002d44003ed46b066607c5455a999a      Winton  California              Yes   \n",
              "\n",
              "  Donor Zip                        Project ID  \\\n",
              "0       602  5bab6101eed588c396a59f6bd64274b6   \n",
              "1       245  9db61b1b1e43a7b256eec9b20b42d854   \n",
              "2       953  2f7996f08052785e9b146f72c0c4990d   \n",
              "3       953  dfdaf35bb33f9c105530c82984960ff3   \n",
              "4       953  e2beb818569f66adaa4ced21ca299ac6   \n",
              "\n",
              "                                       Project Title Project Type  \\\n",
              "0       Projecting the World in One Unique Classroom  Teacher-Led   \n",
              "1  Small Town Dreams: Legislating in the Commonwe...  Student-Led   \n",
              "2         Bring Robotics to Our Library Makerspace!   Teacher-Led   \n",
              "3  If It Ain't BAROQUE, Don't Fix It: Baroque-Fin...  Teacher-Led   \n",
              "4                    Discover a New World With Books  Teacher-Led   \n",
              "\n",
              "   Donation Amount  \n",
              "0            50.00  \n",
              "1            99.00  \n",
              "2            13.75  \n",
              "3             9.69  \n",
              "4            10.00  "
            ]
          },
          "metadata": {
            "tags": []
          },
          "execution_count": 32
        }
      ]
    },
    {
      "metadata": {
        "id": "qLlIi6oxBGtn",
        "colab_type": "code",
        "colab": {}
      },
      "cell_type": "code",
      "source": [
        "nyc_project_donations = nyc_donors.merge(projects_data[['Project ID','Project Title','Project Type']], on='Project ID')\n",
        "# nyc_project_donations.head()"
      ],
      "execution_count": 0,
      "outputs": []
    },
    {
      "metadata": {
        "id": "9k1XYH5B821t",
        "colab_type": "text"
      },
      "cell_type": "markdown",
      "source": [
        "#### Append binary column for donated"
      ]
    },
    {
      "metadata": {
        "id": "GK_m78Bi9ZBw",
        "colab_type": "code",
        "colab": {}
      },
      "cell_type": "code",
      "source": [
        "def f(row):\n",
        "  if isinstance(row['Donation Amount'],float) and row['Donation Amount'] > 0:\n",
        "    return 1\n",
        "  else:\n",
        "    return 0\n",
        "\n",
        "# isinstance(data_df['Donation Amount'][1],int)\n",
        "# data_df['Donated'] = data_df.apply(f, axis=1)\n",
        "# data_df.head(100)"
      ],
      "execution_count": 0,
      "outputs": []
    },
    {
      "metadata": {
        "id": "YHyDXONc-QCU",
        "colab_type": "code",
        "outputId": "3b24313a-93ba-49cc-8adb-e43015ad398e",
        "colab": {
          "base_uri": "https://localhost:8080/",
          "height": 520
        }
      },
      "cell_type": "code",
      "source": [
        "nyc_project_donations.head()"
      ],
      "execution_count": 0,
      "outputs": [
        {
          "output_type": "execute_result",
          "data": {
            "text/html": [
              "<div>\n",
              "<style scoped>\n",
              "    .dataframe tbody tr th:only-of-type {\n",
              "        vertical-align: middle;\n",
              "    }\n",
              "\n",
              "    .dataframe tbody tr th {\n",
              "        vertical-align: top;\n",
              "    }\n",
              "\n",
              "    .dataframe thead th {\n",
              "        text-align: right;\n",
              "    }\n",
              "</style>\n",
              "<table border=\"1\" class=\"dataframe\">\n",
              "  <thead>\n",
              "    <tr style=\"text-align: right;\">\n",
              "      <th></th>\n",
              "      <th>Donor ID</th>\n",
              "      <th>Donor City</th>\n",
              "      <th>Donor State</th>\n",
              "      <th>Donor Is Teacher</th>\n",
              "      <th>Donor Zip</th>\n",
              "      <th>Project ID</th>\n",
              "      <th>Donation ID</th>\n",
              "      <th>Donation Included Optional Donation</th>\n",
              "      <th>Donation Amount</th>\n",
              "      <th>Donor Cart Sequence</th>\n",
              "      <th>Donation Received Date</th>\n",
              "      <th>Project Title</th>\n",
              "      <th>Project Type</th>\n",
              "    </tr>\n",
              "  </thead>\n",
              "  <tbody>\n",
              "    <tr>\n",
              "      <th>0</th>\n",
              "      <td>00019e1dcd80085636a622f27c5b1233</td>\n",
              "      <td>New York</td>\n",
              "      <td>New York</td>\n",
              "      <td>No</td>\n",
              "      <td>100</td>\n",
              "      <td>1e10246b6c98fd9928ecb9bf8a57c421</td>\n",
              "      <td>c4dbf0c6b7aecfacdf4f74b67d2ab3ca</td>\n",
              "      <td>Yes</td>\n",
              "      <td>50.0</td>\n",
              "      <td>1</td>\n",
              "      <td>2013-09-06 10:40:22</td>\n",
              "      <td>Mapping To Save The Planet</td>\n",
              "      <td>Teacher-Led</td>\n",
              "    </tr>\n",
              "    <tr>\n",
              "      <th>1</th>\n",
              "      <td>00019e1dcd80085636a622f27c5b1233</td>\n",
              "      <td>New York</td>\n",
              "      <td>New York</td>\n",
              "      <td>No</td>\n",
              "      <td>100</td>\n",
              "      <td>63c323ec98fadda04347847416c19a8c</td>\n",
              "      <td>59b268e17a2e21a71f64a8088357abf7</td>\n",
              "      <td>Yes</td>\n",
              "      <td>50.0</td>\n",
              "      <td>2</td>\n",
              "      <td>2015-05-19 12:53:00</td>\n",
              "      <td>Camping Supplies</td>\n",
              "      <td>Teacher-Led</td>\n",
              "    </tr>\n",
              "    <tr>\n",
              "      <th>2</th>\n",
              "      <td>00019e1dcd80085636a622f27c5b1233</td>\n",
              "      <td>New York</td>\n",
              "      <td>New York</td>\n",
              "      <td>No</td>\n",
              "      <td>100</td>\n",
              "      <td>80bbb681713c37970a4f70faa5d54cf4</td>\n",
              "      <td>8ad992723b3ade2c4f776dd5c5b6232a</td>\n",
              "      <td>Yes</td>\n",
              "      <td>250.0</td>\n",
              "      <td>3</td>\n",
              "      <td>2016-02-17 10:50:18</td>\n",
              "      <td>Science Computers and Programming Innovation</td>\n",
              "      <td>Teacher-Led</td>\n",
              "    </tr>\n",
              "    <tr>\n",
              "      <th>3</th>\n",
              "      <td>00019e1dcd80085636a622f27c5b1233</td>\n",
              "      <td>New York</td>\n",
              "      <td>New York</td>\n",
              "      <td>No</td>\n",
              "      <td>100</td>\n",
              "      <td>e00ad9791896490d45d91a3c00cd6e79</td>\n",
              "      <td>0d182a5eaa45273d7b227725a852d329</td>\n",
              "      <td>Yes</td>\n",
              "      <td>100.0</td>\n",
              "      <td>4</td>\n",
              "      <td>2016-09-08 20:41:49</td>\n",
              "      <td>Body Systems Frankenstein Project Supplies</td>\n",
              "      <td>Teacher-Led</td>\n",
              "    </tr>\n",
              "    <tr>\n",
              "      <th>4</th>\n",
              "      <td>0005ffefbb56fc35b8627c73c4c1c6fc</td>\n",
              "      <td>New York</td>\n",
              "      <td>New York</td>\n",
              "      <td>No</td>\n",
              "      <td>100</td>\n",
              "      <td>68c73a9f47ca6971e8bb246e99b521df</td>\n",
              "      <td>3079cb9276cb997ccbef75f9e531e9bd</td>\n",
              "      <td>Yes</td>\n",
              "      <td>50.0</td>\n",
              "      <td>1</td>\n",
              "      <td>2016-08-17 11:12:15</td>\n",
              "      <td>With a Small Group Table, We Can Learn Together!</td>\n",
              "      <td>Teacher-Led</td>\n",
              "    </tr>\n",
              "  </tbody>\n",
              "</table>\n",
              "</div>"
            ],
            "text/plain": [
              "                           Donor ID Donor City Donor State Donor Is Teacher  \\\n",
              "0  00019e1dcd80085636a622f27c5b1233   New York    New York               No   \n",
              "1  00019e1dcd80085636a622f27c5b1233   New York    New York               No   \n",
              "2  00019e1dcd80085636a622f27c5b1233   New York    New York               No   \n",
              "3  00019e1dcd80085636a622f27c5b1233   New York    New York               No   \n",
              "4  0005ffefbb56fc35b8627c73c4c1c6fc   New York    New York               No   \n",
              "\n",
              "  Donor Zip                        Project ID  \\\n",
              "0       100  1e10246b6c98fd9928ecb9bf8a57c421   \n",
              "1       100  63c323ec98fadda04347847416c19a8c   \n",
              "2       100  80bbb681713c37970a4f70faa5d54cf4   \n",
              "3       100  e00ad9791896490d45d91a3c00cd6e79   \n",
              "4       100  68c73a9f47ca6971e8bb246e99b521df   \n",
              "\n",
              "                        Donation ID Donation Included Optional Donation  \\\n",
              "0  c4dbf0c6b7aecfacdf4f74b67d2ab3ca                                 Yes   \n",
              "1  59b268e17a2e21a71f64a8088357abf7                                 Yes   \n",
              "2  8ad992723b3ade2c4f776dd5c5b6232a                                 Yes   \n",
              "3  0d182a5eaa45273d7b227725a852d329                                 Yes   \n",
              "4  3079cb9276cb997ccbef75f9e531e9bd                                 Yes   \n",
              "\n",
              "   Donation Amount  Donor Cart Sequence Donation Received Date  \\\n",
              "0             50.0                    1    2013-09-06 10:40:22   \n",
              "1             50.0                    2    2015-05-19 12:53:00   \n",
              "2            250.0                    3    2016-02-17 10:50:18   \n",
              "3            100.0                    4    2016-09-08 20:41:49   \n",
              "4             50.0                    1    2016-08-17 11:12:15   \n",
              "\n",
              "                                      Project Title Project Type  \n",
              "0                        Mapping To Save The Planet  Teacher-Led  \n",
              "1                                 Camping Supplies   Teacher-Led  \n",
              "2      Science Computers and Programming Innovation  Teacher-Led  \n",
              "3        Body Systems Frankenstein Project Supplies  Teacher-Led  \n",
              "4  With a Small Group Table, We Can Learn Together!  Teacher-Led  "
            ]
          },
          "metadata": {
            "tags": []
          },
          "execution_count": 34
        }
      ]
    },
    {
      "metadata": {
        "id": "FB3zM8qv-YFD",
        "colab_type": "code",
        "colab": {}
      },
      "cell_type": "code",
      "source": [
        "# nyc_project_donations['Project Type'].value_counts().plot()\n",
        "# plt.pie(nyc_project_donations['Donor Is Teacher'].value_counts(),radius=3,labels=['Yes','No'],frame=False,explode=((0.1,0.1)),autopct=True)"
      ],
      "execution_count": 0,
      "outputs": []
    },
    {
      "metadata": {
        "id": "65YZbMQSZY0e",
        "colab_type": "code",
        "colab": {}
      },
      "cell_type": "code",
      "source": [
        "nyc_projects_3 = nyc_project_donations[['Donor ID','Project Title','Donation Amount']]"
      ],
      "execution_count": 0,
      "outputs": []
    },
    {
      "metadata": {
        "id": "PUmCIln3YfYN",
        "colab_type": "code",
        "outputId": "cdc8bf21-b4ee-482a-9b6a-9822849bbc06",
        "colab": {
          "base_uri": "https://localhost:8080/",
          "height": 261
        }
      },
      "cell_type": "code",
      "source": [
        "nyc_projects_3['Donated'] = nyc_projects_3.apply(f,axis=1)\n",
        "nyc_projects_3.drop(columns='Donation Amount',inplace=True)"
      ],
      "execution_count": 0,
      "outputs": [
        {
          "output_type": "stream",
          "text": [
            "/usr/local/lib/python3.6/dist-packages/ipykernel_launcher.py:1: SettingWithCopyWarning:\n",
            "\n",
            "\n",
            "A value is trying to be set on a copy of a slice from a DataFrame.\n",
            "Try using .loc[row_indexer,col_indexer] = value instead\n",
            "\n",
            "See the caveats in the documentation: http://pandas.pydata.org/pandas-docs/stable/indexing.html#indexing-view-versus-copy\n",
            "\n",
            "/usr/local/lib/python3.6/dist-packages/ipykernel_launcher.py:2: SettingWithCopyWarning:\n",
            "\n",
            "\n",
            "A value is trying to be set on a copy of a slice from a DataFrame\n",
            "\n",
            "See the caveats in the documentation: http://pandas.pydata.org/pandas-docs/stable/indexing.html#indexing-view-versus-copy\n",
            "\n"
          ],
          "name": "stderr"
        }
      ]
    },
    {
      "metadata": {
        "id": "4DG2rsSPz8Yg",
        "colab_type": "code",
        "outputId": "75ff939c-9148-4e9f-cca6-0f682bff143b",
        "colab": {
          "base_uri": "https://localhost:8080/",
          "height": 33
        }
      },
      "cell_type": "code",
      "source": [
        "len(nyc_projects_3['Project Title'])"
      ],
      "execution_count": 0,
      "outputs": [
        {
          "output_type": "execute_result",
          "data": {
            "text/plain": [
              "75676"
            ]
          },
          "metadata": {
            "tags": []
          },
          "execution_count": 37
        }
      ]
    },
    {
      "metadata": {
        "id": "y95hZpxPdx2i",
        "colab_type": "text"
      },
      "cell_type": "markdown",
      "source": [
        "## Using Surprise"
      ]
    },
    {
      "metadata": {
        "id": "LK17kGeoh2zJ",
        "colab_type": "code",
        "colab": {}
      },
      "cell_type": "code",
      "source": [
        "from surprise import NormalPredictor\n",
        "from surprise import Dataset\n",
        "from surprise import Reader\n",
        "from surprise.model_selection import cross_validate\n",
        "from surprise import KNNBasic\n",
        "from surprise import SVDpp\n",
        "from surprise import SVD\n",
        "from surprise import NMF\n",
        "from surprise import CoClustering\n",
        "from surprise import model_selection\n",
        "\n",
        "# we want to use the neighborhood method (KNN)\n",
        "# - if you have to recommend items to a given user, \n",
        "#   try to find people that have the same taste as the user "
      ],
      "execution_count": 0,
      "outputs": []
    },
    {
      "metadata": {
        "id": "yZteAPVrAK3G",
        "colab_type": "text"
      },
      "cell_type": "markdown",
      "source": [
        "#### Binarizing NYC Utility Matrix"
      ]
    },
    {
      "metadata": {
        "id": "x1ubqf4vAJ23",
        "colab_type": "code",
        "colab": {}
      },
      "cell_type": "code",
      "source": [
        "# A reader is still needed but only the rating_scale param is required.\n",
        "reader = Reader(rating_scale=(0, 1))"
      ],
      "execution_count": 0,
      "outputs": []
    },
    {
      "metadata": {
        "id": "6s4X1cfVAgAD",
        "colab_type": "code",
        "colab": {}
      },
      "cell_type": "code",
      "source": [
        "data = Dataset.load_from_df(nyc_projects_3[['Donor ID','Project Title','Donated']], reader)\n",
        "trainset = data.build_full_trainset()"
      ],
      "execution_count": 0,
      "outputs": []
    },
    {
      "metadata": {
        "id": "pn7rceRvizf9",
        "colab_type": "code",
        "colab": {}
      },
      "cell_type": "code",
      "source": [
        "# param_grid = {'k': [10, 20],\n",
        "#               'sim_options': {'name': ['msd', 'cosine'],\n",
        "#                               'min_support': [1, 5],\n",
        "#                               'user_based': [False]}\n",
        "#               }"
      ],
      "execution_count": 0,
      "outputs": []
    },
    {
      "metadata": {
        "id": "FcKngP9Xgp5g",
        "colab_type": "code",
        "colab": {}
      },
      "cell_type": "code",
      "source": [
        "# cross_validate(algo_svd, data, measures=[u'rmse', u'mae'], verbose=1)\n",
        "# could not use 'fcp' because every user must have at least two predictions and there are instances where users only have one charity donation"
      ],
      "execution_count": 0,
      "outputs": []
    },
    {
      "metadata": {
        "id": "osNeGPlaiwbN",
        "colab_type": "code",
        "outputId": "a007722d-708d-4e27-9d9b-d2875591934a",
        "colab": {
          "base_uri": "https://localhost:8080/",
          "height": 931
        }
      },
      "cell_type": "code",
      "source": [
        "algos = [SVD(),SVDpp(),NMF(),CoClustering(),NormalPredictor()]\n",
        "\n",
        "for algo in algos:\n",
        "  print(cross_validate(algo,data, measures=[u'rmse', u'mae'], verbose=1))\n",
        "  print('\\n\\n')"
      ],
      "execution_count": 0,
      "outputs": [
        {
          "output_type": "stream",
          "text": [
            "Evaluating RMSE, MAE of algorithm SVD on 5 split(s).\n",
            "\n",
            "                  Fold 1  Fold 2  Fold 3  Fold 4  Fold 5  Mean    Std     \n",
            "RMSE (testset)    0.0345  0.0341  0.0327  0.0334  0.0329  0.0335  0.0007  \n",
            "MAE (testset)     0.0123  0.0125  0.0119  0.0120  0.0119  0.0121  0.0002  \n",
            "Fit time          5.03    4.85    4.81    4.80    4.83    4.86    0.08    \n",
            "Test time         0.14    0.13    0.27    0.13    0.13    0.16    0.05    \n",
            "{'test_rmse': array([0.03446423, 0.03405514, 0.03270281, 0.03342321, 0.03290554]), 'test_mae': array([0.01226032, 0.01249155, 0.01186511, 0.01204237, 0.01186961]), 'fit_time': (5.026256561279297, 4.845373153686523, 4.813767433166504, 4.8039021492004395, 4.829265832901001), 'test_time': (0.1383805274963379, 0.12766218185424805, 0.265946626663208, 0.1293048858642578, 0.1283886432647705)}\n",
            "\n",
            "\n",
            "\n",
            "Evaluating RMSE, MAE of algorithm SVDpp on 5 split(s).\n",
            "\n",
            "                  Fold 1  Fold 2  Fold 3  Fold 4  Fold 5  Mean    Std     \n",
            "RMSE (testset)    0.0203  0.0208  0.0200  0.0206  0.0209  0.0205  0.0003  \n",
            "MAE (testset)     0.0075  0.0077  0.0075  0.0077  0.0077  0.0076  0.0001  \n",
            "Fit time          166.27  164.01  164.48  162.50  168.34  165.12  2.01    \n",
            "Test time         1.01    0.93    1.01    0.99    1.00    0.99    0.03    \n",
            "{'test_rmse': array([0.02029787, 0.02080073, 0.01999525, 0.0206145 , 0.020911  ]), 'test_mae': array([0.00748218, 0.007673  , 0.00745463, 0.00769869, 0.00768925]), 'fit_time': (166.26717376708984, 164.00890922546387, 164.4780261516571, 162.50034546852112, 168.34451174736023), 'test_time': (1.0058236122131348, 0.9322240352630615, 1.007314682006836, 0.9912049770355225, 1.0041148662567139)}\n",
            "\n",
            "\n",
            "\n",
            "Evaluating RMSE, MAE of algorithm NMF on 5 split(s).\n",
            "\n",
            "                  Fold 1  Fold 2  Fold 3  Fold 4  Fold 5  Mean    Std     \n",
            "RMSE (testset)    0.1371  0.1372  0.1361  0.1325  0.1325  0.1351  0.0021  \n",
            "MAE (testset)     0.0571  0.0577  0.0562  0.0552  0.0552  0.0563  0.0010  \n",
            "Fit time          9.88    9.72    9.89    9.91    9.85    9.85    0.07    \n",
            "Test time         0.12    0.12    0.12    0.31    0.12    0.16    0.08    \n",
            "{'test_rmse': array([0.13709887, 0.13716234, 0.13606214, 0.13248859, 0.13253733]), 'test_mae': array([0.05708135, 0.05772805, 0.05624998, 0.05518615, 0.05523115]), 'fit_time': (9.875113010406494, 9.71527361869812, 9.88578462600708, 9.907928466796875, 9.852965831756592), 'test_time': (0.12025737762451172, 0.12118053436279297, 0.1230630874633789, 0.3120405673980713, 0.12160491943359375)}\n",
            "\n",
            "\n",
            "\n",
            "Evaluating RMSE, MAE of algorithm CoClustering on 5 split(s).\n",
            "\n",
            "                  Fold 1  Fold 2  Fold 3  Fold 4  Fold 5  Mean    Std     \n",
            "RMSE (testset)    0.0000  0.0000  0.0000  0.0000  0.0000  0.0000  0.0000  \n",
            "MAE (testset)     0.0000  0.0000  0.0000  0.0000  0.0000  0.0000  0.0000  \n",
            "Fit time          6.45    6.58    6.48    6.52    6.54    6.51    0.04    \n",
            "Test time         0.11    0.11    0.11    0.11    0.11    0.11    0.00    \n",
            "{'test_rmse': array([0., 0., 0., 0., 0.]), 'test_mae': array([0., 0., 0., 0., 0.]), 'fit_time': (6.448572635650635, 6.575486421585083, 6.48270058631897, 6.517053842544556, 6.543681383132935), 'test_time': (0.10752415657043457, 0.11415553092956543, 0.11217284202575684, 0.10605788230895996, 0.1073613166809082)}\n",
            "\n",
            "\n",
            "\n",
            "Evaluating RMSE, MAE of algorithm NormalPredictor on 5 split(s).\n",
            "\n",
            "                  Fold 1  Fold 2  Fold 3  Fold 4  Fold 5  Mean    Std     \n",
            "RMSE (testset)    0.0000  0.0000  0.0000  0.0000  0.0000  0.0000  0.0000  \n",
            "MAE (testset)     0.0000  0.0000  0.0000  0.0000  0.0000  0.0000  0.0000  \n",
            "Fit time          0.10    0.11    0.11    0.12    0.12    0.11    0.01    \n",
            "Test time         0.38    0.12    0.13    0.12    0.37    0.23    0.12    \n",
            "{'test_rmse': array([0., 0., 0., 0., 0.]), 'test_mae': array([0., 0., 0., 0., 0.]), 'fit_time': (0.0988764762878418, 0.1144709587097168, 0.11350321769714355, 0.1155548095703125, 0.12462997436523438), 'test_time': (0.3776233196258545, 0.1246652603149414, 0.13280487060546875, 0.12379312515258789, 0.37312889099121094)}\n",
            "\n",
            "\n",
            "\n"
          ],
          "name": "stdout"
        }
      ]
    },
    {
      "metadata": {
        "id": "YBDiVrsGdxuH",
        "colab_type": "code",
        "outputId": "cf4d4b8e-0166-433a-9202-3b98623744ba",
        "colab": {
          "base_uri": "https://localhost:8080/",
          "height": 98
        }
      },
      "cell_type": "code",
      "source": [
        "print('SVD++')\n",
        "algo_svdpp = SVDpp()\n",
        "\n",
        "algo_svdpp.fit(trainset)\n",
        "print(algo_svdpp.predict('00019e1dcd80085636a622f27c5b1233','Mapping To Save The Planet'))\n",
        "print(algo_svdpp.predict('00019e1dcd80085636a622f27c5b1233','Camping Supplies'))\n",
        "print('\\n')"
      ],
      "execution_count": 0,
      "outputs": [
        {
          "output_type": "stream",
          "text": [
            "SVD++\n",
            "user: 00019e1dcd80085636a622f27c5b1233 item: Mapping To Save The Planet r_ui = None   est = 0.99   {'was_impossible': False}\n",
            "user: 00019e1dcd80085636a622f27c5b1233 item: Camping Supplies r_ui = None   est = 1.00   {'was_impossible': False}\n",
            "\n",
            "\n"
          ],
          "name": "stdout"
        }
      ]
    },
    {
      "metadata": {
        "id": "G-Az5mW_8fWx",
        "colab_type": "text"
      },
      "cell_type": "markdown",
      "source": [
        "# Recommender Systems for users\n",
        "https://surprise.readthedocs.io/en/stable/FAQ.html"
      ]
    },
    {
      "metadata": {
        "id": "zVf7gvE-f_5K",
        "colab_type": "text"
      },
      "cell_type": "markdown",
      "source": [
        "## Predicting User Single Donation\n",
        "\n",
        "Return charities a single donor would be most likely to donate to"
      ]
    },
    {
      "metadata": {
        "id": "genMbdSW0kjc",
        "colab_type": "text"
      },
      "cell_type": "markdown",
      "source": [
        "Donors are similar to users or customers of a online platform providing various products. \n",
        "Recommend more items based on customer a's history and the history of other customers who are similar to customer a\n",
        "\n",
        "Once donor a donates to one or more projects at DonorsChoose.org, \n",
        "We will be able to recommend more projects to her based on her donation history and the donation history of other donors who are similar to her\n",
        "\n",
        "**Content-Based Filtering:** This method uses only information about the description and attributes of the projects donors has previously donated to when modeling the donor's preferences. In other words, these algorithms try to recommend projects that are similar to those that a donor has donated to in the past. In particular, various candidate projects are compared with projects the donor has donated to, and the best-matching projects will be recommended.\n",
        "\n",
        "**Collaborative Filtering:** This method makes automatic predictions (filtering) about the preference of a donor by collecting preferences from many other donors (collaborating). It predicts what a particular donor will donate to based on what projects other similar donors have donated to. The underlying assumption of the collaborative filtering approach is that if Alice and Bob have donated to the same project(s), Alice is more likely to share Bob's preference for a given project than that of a randomly chosen donor.\n",
        "\n",
        "**Hybrid methods:** Most companies like Netflix and Hulu use a hybrid approach in their recommendation models, which provide recommendation based on the combination of what content a user like in the past as well as what other similar user like. Recent research has demonstrated that a hybrid approach that combines collaborative filtering and content-based filtering could be more effective than both approaches in some cases. These hybrid methods can also be used to overcome some of the common problems in recommender systems such as cold start and the sparsity problem."
      ]
    },
    {
      "metadata": {
        "id": "y5VwviQj443J",
        "colab_type": "text"
      },
      "cell_type": "markdown",
      "source": [
        "## Getting the top-N recommendations \n",
        " - Get the top-10 items with highest rating prediction for each user.\n",
        " - First train an SVD algorithm on the whole dataset,\n",
        " - Then predict all the ratings for the pairs (user, item) that are not in the training set.\n",
        " ? What is training set? "
      ]
    },
    {
      "metadata": {
        "id": "IqBcQme75IrZ",
        "colab_type": "code",
        "colab": {}
      },
      "cell_type": "code",
      "source": [
        "# Import libraries\n",
        "from collections import defaultdict\n",
        "\n",
        "from surprise import SVD\n",
        "from surprise import SVDpp\n",
        "from surprise import Dataset"
      ],
      "execution_count": 0,
      "outputs": []
    },
    {
      "metadata": {
        "id": "bUuCEjPMZkab",
        "colab_type": "code",
        "colab": {}
      },
      "cell_type": "code",
      "source": [
        "data_1000 = nyc_projects_3[['Donor ID','Project Title','Donated']].head(1000)"
      ],
      "execution_count": 0,
      "outputs": []
    },
    {
      "metadata": {
        "id": "ROhBHuujy6sc",
        "colab_type": "code",
        "outputId": "5ea9ffd3-7fba-4c7d-c666-b070d84f6873",
        "colab": {
          "base_uri": "https://localhost:8080/",
          "height": 191
        }
      },
      "cell_type": "code",
      "source": [
        "data_1000.head()"
      ],
      "execution_count": 0,
      "outputs": [
        {
          "output_type": "execute_result",
          "data": {
            "text/html": [
              "<div>\n",
              "<style scoped>\n",
              "    .dataframe tbody tr th:only-of-type {\n",
              "        vertical-align: middle;\n",
              "    }\n",
              "\n",
              "    .dataframe tbody tr th {\n",
              "        vertical-align: top;\n",
              "    }\n",
              "\n",
              "    .dataframe thead th {\n",
              "        text-align: right;\n",
              "    }\n",
              "</style>\n",
              "<table border=\"1\" class=\"dataframe\">\n",
              "  <thead>\n",
              "    <tr style=\"text-align: right;\">\n",
              "      <th></th>\n",
              "      <th>Donor ID</th>\n",
              "      <th>Project Title</th>\n",
              "      <th>Donated</th>\n",
              "    </tr>\n",
              "  </thead>\n",
              "  <tbody>\n",
              "    <tr>\n",
              "      <th>0</th>\n",
              "      <td>00019e1dcd80085636a622f27c5b1233</td>\n",
              "      <td>Mapping To Save The Planet</td>\n",
              "      <td>1</td>\n",
              "    </tr>\n",
              "    <tr>\n",
              "      <th>1</th>\n",
              "      <td>00019e1dcd80085636a622f27c5b1233</td>\n",
              "      <td>Camping Supplies</td>\n",
              "      <td>1</td>\n",
              "    </tr>\n",
              "    <tr>\n",
              "      <th>2</th>\n",
              "      <td>00019e1dcd80085636a622f27c5b1233</td>\n",
              "      <td>Science Computers and Programming Innovation</td>\n",
              "      <td>1</td>\n",
              "    </tr>\n",
              "    <tr>\n",
              "      <th>3</th>\n",
              "      <td>00019e1dcd80085636a622f27c5b1233</td>\n",
              "      <td>Body Systems Frankenstein Project Supplies</td>\n",
              "      <td>1</td>\n",
              "    </tr>\n",
              "    <tr>\n",
              "      <th>4</th>\n",
              "      <td>0005ffefbb56fc35b8627c73c4c1c6fc</td>\n",
              "      <td>With a Small Group Table, We Can Learn Together!</td>\n",
              "      <td>1</td>\n",
              "    </tr>\n",
              "  </tbody>\n",
              "</table>\n",
              "</div>"
            ],
            "text/plain": [
              "                           Donor ID  \\\n",
              "0  00019e1dcd80085636a622f27c5b1233   \n",
              "1  00019e1dcd80085636a622f27c5b1233   \n",
              "2  00019e1dcd80085636a622f27c5b1233   \n",
              "3  00019e1dcd80085636a622f27c5b1233   \n",
              "4  0005ffefbb56fc35b8627c73c4c1c6fc   \n",
              "\n",
              "                                      Project Title  Donated  \n",
              "0                        Mapping To Save The Planet        1  \n",
              "1                                 Camping Supplies         1  \n",
              "2      Science Computers and Programming Innovation        1  \n",
              "3        Body Systems Frankenstein Project Supplies        1  \n",
              "4  With a Small Group Table, We Can Learn Together!        1  "
            ]
          },
          "metadata": {
            "tags": []
          },
          "execution_count": 46
        }
      ]
    },
    {
      "metadata": {
        "id": "Ndd7w2BfEdtK",
        "colab_type": "text"
      },
      "cell_type": "markdown",
      "source": [
        "With what certainty are each of these recommednations made? \n",
        "\n",
        "Has the user already made a charitable contribution?"
      ]
    },
    {
      "metadata": {
        "id": "arfmLLlz39fx",
        "colab_type": "code",
        "colab": {}
      },
      "cell_type": "code",
      "source": [
        "# All the ratings returned are a 1\n",
        "# - does that mean it's 100% certain the user will want to donate?\n",
        "\n",
        "def get_top_n(predictions, n=10):\n",
        "    '''Return the top-N recommendation for each user from a set of predictions.\n",
        "\n",
        "    Args:\n",
        "        predictions(list of Prediction objects): The list of predictions, as\n",
        "            returned by the test method of an algorithm.\n",
        "        n(int): The number of recommendation to output for each user. Default\n",
        "            is 10.\n",
        "\n",
        "    Returns:\n",
        "    A dict where keys are user (raw) ids and values are lists of tuples:\n",
        "        [(raw item id, rating estimation), ...] of size n.\n",
        "    '''\n",
        "\n",
        "    # First map the predictions to each user.\n",
        "    top_n = defaultdict(list)\n",
        "    for uid, iid, true_r, est, _ in predictions:\n",
        "        top_n[uid].append((iid, est))\n",
        "#         print(true_r)\n",
        "\n",
        "    # Then sort the predictions for each user and retrieve the k highest ones.\n",
        "    for uid, user_ratings in top_n.items():\n",
        "        user_ratings.sort(key=lambda x: x[1], reverse=True)\n",
        "        top_n[uid] = user_ratings[:n]\n",
        "\n",
        "    return top_n\n",
        "\n",
        "def give_recs(uid, df):\n",
        "  \n",
        "  # First train an algorithm on the dataset.\n",
        "  data = Dataset.load_from_df(df, reader)\n",
        "  trainset = data.build_full_trainset()\n",
        "\n",
        "#   algo = SVDpp(random_state=3)\n",
        "  algo = NMF(random_state=3)\n",
        "  algo.fit(trainset)\n",
        "\n",
        "  # Then predict ratings for all pairs (u, i) that are NOT in the training set.\n",
        "  testset = trainset.build_anti_testset()\n",
        "  predictions = algo.test(testset)\n",
        "\n",
        "  top_n = get_top_n(predictions, n=10)\n",
        "  return top_n[uid]"
      ],
      "execution_count": 0,
      "outputs": []
    },
    {
      "metadata": {
        "id": "q0cg6QXbhmHN",
        "colab_type": "code",
        "outputId": "b3f2bf18-b504-450b-ae04-71f3ff6f24fd",
        "colab": {
          "base_uri": "https://localhost:8080/",
          "height": 11201
        }
      },
      "cell_type": "code",
      "source": [
        "  # First train an algorithm on the dataset.\n",
        "  data = Dataset.load_from_df(data_1000, reader)\n",
        "  trainset = data.build_full_trainset()\n",
        "\n",
        "  algo = SVDpp(random_state=3)\n",
        "#   algo = NMF(random_state=3)\n",
        "  # algo = CoClustering()\n",
        "  # algo = SVD()\n",
        "  # algo = NormalPredictor()\n",
        "  algo.fit(trainset)\n",
        "\n",
        "  # Then predict ratings for all pairs (u, i) that are NOT in the training set.\n",
        "  testset = trainset.build_anti_testset()\n",
        "  predictions = algo.test(testset)\n",
        "  predictions\n",
        "\n",
        "  top_n = get_top_n(predictions, n=10)\n",
        "\n",
        "# Print the recommended items for each user\n",
        "  for uid, user_ratings in top_n.items():\n",
        "      print(uid, [iid for (iid, _) in user_ratings])"
      ],
      "execution_count": 0,
      "outputs": [
        {
          "output_type": "stream",
          "text": [
            "00019e1dcd80085636a622f27c5b1233 ['Students Helping Students', 'A 3D Classroom', 'Be a \"Bucket Filler\" Donate Prizes!', \"Chromebooks for Harlem's Brightest  \", '\"Oh, the Places You\\'ll Go...\" With Technology! (2)', 'Yoga Mats for Awesome Kids', 'Keep Calm and Crochet On!', 'Finding Books That Are \"Just Right\"', 'Kindle Saves the Day!', 'Motivation Station: No Hangry Child Left Behind']\n",
            "0005ffefbb56fc35b8627c73c4c1c6fc ['Camping Supplies ', 'Science Computers and Programming Innovation', 'Rocking The Bronx: Bringing Music To The Classroom', 'Flipped Classroom Start-Up', 'Be a \"Bucket Filler\" Donate Prizes!', \"Slimmer's Seat Pockets\", 'Class Trip Project: Washington DC', '\"Oh, the Places You\\'ll Go...\" With Technology! (2)', 'Help Us Achieve The Common Core', 'Spring Art Show Materials']\n",
            "14dd2ccecad07d00c95d7594d6b45683 ['Camping Supplies ', 'Body Systems Frankenstein Project Supplies', '1st Grade Math Center: Putting Things in Order', 'Students Helping Students', 'Rocking The Bronx: Bringing Music To The Classroom', 'Flipped Classroom Start-Up', 'A 3D Classroom', 'Be a \"Bucket Filler\" Donate Prizes!', 'Class Trip Project: Washington DC', 'Brilliant Scholars In Need  Of A Larger Leveled Library']\n",
            "000a7e6c31b7a385e6eaaed373ab5a61 ['Mapping To Save The Planet', 'Science Computers and Programming Innovation', 'Body Systems Frankenstein Project Supplies', 'A 3D Classroom', 'Make Math Fun ', \"Chromebooks for Harlem's Brightest  \", '\"Oh, the Places You\\'ll Go...\" With Technology! (2)', 'Help Us Achieve The Common Core', 'Yoga Mats for Awesome Kids', 'Strengthening Social Skills Through Reading']\n",
            "c34b246b0de659e567af78b4ec48c547 ['Mapping To Save The Planet', 'Camping Supplies ', 'Science Computers and Programming Innovation', 'With a Small Group Table, We Can Learn Together!', 'Students Helping Students', 'A 3D Classroom', \"Slimmer's Seat Pockets\", 'Class Trip Project: Washington DC', '\"Oh, the Places You\\'ll Go...\" With Technology! (2)', 'Help Us Achieve The Common Core']\n",
            "000ae37b903154ffa02fe2235fc8d5dc ['Mapping To Save The Planet', 'Camping Supplies ', 'With a Small Group Table, We Can Learn Together!', '1st Grade Math Center: Putting Things in Order', 'Rocking The Bronx: Bringing Music To The Classroom', 'Flipped Classroom Start-Up', 'A 3D Classroom', 'Make Math Fun ', \"Chromebooks for Harlem's Brightest  \", \"Slimmer's Seat Pockets\"]\n",
            "170aaa2bc3eaf7b7767588564d0dd8af ['Camping Supplies ', 'Science Computers and Programming Innovation', 'With a Small Group Table, We Can Learn Together!', 'Rocking The Bronx: Bringing Music To The Classroom', 'A 3D Classroom', 'Make Math Fun ', \"Chromebooks for Harlem's Brightest  \", 'Science Alive!', \"Slimmer's Seat Pockets\", 'Class Trip Project: Washington DC']\n",
            "000e61db51f93b5363eefd9981a381f7 ['Mapping To Save The Planet', 'Camping Supplies ', '1st Grade Math Center: Putting Things in Order', 'Flipped Classroom Start-Up', 'A 3D Classroom', 'Be a \"Bucket Filler\" Donate Prizes!', \"Chromebooks for Harlem's Brightest  \", 'Help Us Achieve The Common Core', 'Spring Art Show Materials', 'Brilliant Scholars In Need  Of A Larger Leveled Library']\n",
            "3fcafa5662719c5e2cc2ff5b0b59927d ['Mapping To Save The Planet', 'Body Systems Frankenstein Project Supplies', 'With a Small Group Table, We Can Learn Together!', 'Students Helping Students', 'A 3D Classroom', 'Be a \"Bucket Filler\" Donate Prizes!', \"Chromebooks for Harlem's Brightest  \", 'Science Alive!', 'Spring Art Show Materials', 'Support Females in Athletics!']\n",
            "4ce5950e81f603b9f512ba467121bee9 ['Mapping To Save The Planet', 'Camping Supplies ', 'Body Systems Frankenstein Project Supplies', 'With a Small Group Table, We Can Learn Together!', '1st Grade Math Center: Putting Things in Order', 'Students Helping Students', 'Flipped Classroom Start-Up', 'A 3D Classroom', 'Be a \"Bucket Filler\" Donate Prizes!', \"Chromebooks for Harlem's Brightest  \"]\n",
            "6aae5361398220cbd0d4bca32b72263a ['Mapping To Save The Planet', 'Camping Supplies ', '1st Grade Math Center: Putting Things in Order', 'Students Helping Students', 'Flipped Classroom Start-Up', 'A 3D Classroom', 'Be a \"Bucket Filler\" Donate Prizes!', \"Chromebooks for Harlem's Brightest  \", '\"Oh, the Places You\\'ll Go...\" With Technology! (2)', 'Help Us Achieve The Common Core']\n",
            "c9ec236706fb91f72cd6eeb4af5f578f ['Mapping To Save The Planet', 'Camping Supplies ', 'Body Systems Frankenstein Project Supplies', '1st Grade Math Center: Putting Things in Order', 'Students Helping Students', 'Flipped Classroom Start-Up', 'A 3D Classroom', 'Make Math Fun ', 'Be a \"Bucket Filler\" Donate Prizes!', \"Chromebooks for Harlem's Brightest  \"]\n",
            "db7ed4cca84fc7394b0e6f802bca6c02 ['Mapping To Save The Planet', 'Science Computers and Programming Innovation', 'With a Small Group Table, We Can Learn Together!', '1st Grade Math Center: Putting Things in Order', 'Students Helping Students', 'Flipped Classroom Start-Up', 'A 3D Classroom', 'Be a \"Bucket Filler\" Donate Prizes!', \"Chromebooks for Harlem's Brightest  \", \"Slimmer's Seat Pockets\"]\n",
            "eb72a915ae1d80c323d68898885c2059 ['Mapping To Save The Planet', 'Science Computers and Programming Innovation', 'Body Systems Frankenstein Project Supplies', 'With a Small Group Table, We Can Learn Together!', '1st Grade Math Center: Putting Things in Order', 'Students Helping Students', 'A 3D Classroom', 'Be a \"Bucket Filler\" Donate Prizes!', \"Chromebooks for Harlem's Brightest  \", 'Yoga Mats for Awesome Kids']\n",
            "000eb78c57daf3c687021ba0f4164429 ['Mapping To Save The Planet', 'Science Computers and Programming Innovation', 'With a Small Group Table, We Can Learn Together!', '1st Grade Math Center: Putting Things in Order', 'Students Helping Students', 'Be a \"Bucket Filler\" Donate Prizes!', \"Slimmer's Seat Pockets\", 'Help Us Achieve The Common Core', 'Spring Art Show Materials', 'Yoga Mats for Awesome Kids']\n",
            "931eaec53e2d6d3da468bf50512b5d7b ['Mapping To Save The Planet', 'Science Computers and Programming Innovation', 'Body Systems Frankenstein Project Supplies', '1st Grade Math Center: Putting Things in Order', 'A 3D Classroom', 'Be a \"Bucket Filler\" Donate Prizes!', \"Slimmer's Seat Pockets\", 'Class Trip Project: Washington DC', 'Brilliant Scholars In Need  Of A Larger Leveled Library', 'Yoga Mats for Awesome Kids']\n",
            "8a0ebc3a3e839e9ef207078f640f8e74 ['Mapping To Save The Planet', 'Science Computers and Programming Innovation', 'Body Systems Frankenstein Project Supplies', 'With a Small Group Table, We Can Learn Together!', '1st Grade Math Center: Putting Things in Order', 'Rocking The Bronx: Bringing Music To The Classroom', 'Flipped Classroom Start-Up', 'Be a \"Bucket Filler\" Donate Prizes!', 'Science Alive!', 'Class Trip Project: Washington DC']\n",
            "ccc6cf238fc92c8ce79dfe6a6128538e ['Mapping To Save The Planet', 'Body Systems Frankenstein Project Supplies', 'With a Small Group Table, We Can Learn Together!', '1st Grade Math Center: Putting Things in Order', 'Students Helping Students', 'Rocking The Bronx: Bringing Music To The Classroom', 'Flipped Classroom Start-Up', 'Make Math Fun ', 'Be a \"Bucket Filler\" Donate Prizes!', 'Science Alive!']\n",
            "000f0b2c05428a4d100d31d19f205af6 ['Science Computers and Programming Innovation', 'With a Small Group Table, We Can Learn Together!', '1st Grade Math Center: Putting Things in Order', 'Students Helping Students', 'Rocking The Bronx: Bringing Music To The Classroom', 'A 3D Classroom', 'Be a \"Bucket Filler\" Donate Prizes!', \"Chromebooks for Harlem's Brightest  \", 'Science Alive!', 'Class Trip Project: Washington DC']\n",
            "001401ce50ea3812915ec86792a1715e ['Mapping To Save The Planet', 'Camping Supplies ', 'Body Systems Frankenstein Project Supplies', '1st Grade Math Center: Putting Things in Order', 'Flipped Classroom Start-Up', 'A 3D Classroom', \"Chromebooks for Harlem's Brightest  \", 'Science Alive!', \"Slimmer's Seat Pockets\", 'Class Trip Project: Washington DC']\n",
            "2a43e1b39162a2e3d824e59812790171 ['Camping Supplies ', 'Science Computers and Programming Innovation', 'Students Helping Students', 'A 3D Classroom', \"Chromebooks for Harlem's Brightest  \", '\"Oh, the Places You\\'ll Go...\" With Technology! (2)', 'Spring Art Show Materials', 'Strengthening Social Skills Through Reading', 'Support Females in Athletics!', 'Learning Through the Technological Lens ']\n",
            "00169716cfc3f0fc8ca637d20e245efd ['Mapping To Save The Planet', 'Camping Supplies ', 'Science Computers and Programming Innovation', 'Students Helping Students', 'A 3D Classroom', 'Be a \"Bucket Filler\" Donate Prizes!', 'Science Alive!', 'Class Trip Project: Washington DC', 'Help Us Achieve The Common Core', 'Support Females in Athletics!']\n",
            "06f5c4540fbb6727837f94b2bc280b1c ['Mapping To Save The Planet', 'Science Computers and Programming Innovation', '1st Grade Math Center: Putting Things in Order', 'Students Helping Students', 'A 3D Classroom', 'Be a \"Bucket Filler\" Donate Prizes!', 'Help Us Achieve The Common Core', 'Yoga Mats for Awesome Kids', 'Support Females in Athletics!', 'Learning Through the Technological Lens ']\n",
            "0017f72e7b44ddd8055bd05a6443fa5f ['Camping Supplies ', 'Body Systems Frankenstein Project Supplies', 'With a Small Group Table, We Can Learn Together!', '1st Grade Math Center: Putting Things in Order', 'Rocking The Bronx: Bringing Music To The Classroom', 'Flipped Classroom Start-Up', 'A 3D Classroom', 'Make Math Fun ', \"Chromebooks for Harlem's Brightest  \", \"Slimmer's Seat Pockets\"]\n",
            "23c6387ed0c4a7ea96dad6a2537800fd ['Mapping To Save The Planet', 'Science Computers and Programming Innovation', 'Body Systems Frankenstein Project Supplies', 'With a Small Group Table, We Can Learn Together!', '1st Grade Math Center: Putting Things in Order', 'Students Helping Students', 'Rocking The Bronx: Bringing Music To The Classroom', 'Flipped Classroom Start-Up', 'A 3D Classroom', 'Class Trip Project: Washington DC']\n",
            "7171dc1ad3cd78d8545da7674459e9b4 ['Mapping To Save The Planet', 'Camping Supplies ', 'Body Systems Frankenstein Project Supplies', 'With a Small Group Table, We Can Learn Together!', '1st Grade Math Center: Putting Things in Order', 'Students Helping Students', 'Rocking The Bronx: Bringing Music To The Classroom', 'Flipped Classroom Start-Up', 'A 3D Classroom', 'Make Math Fun ']\n",
            "ed3a9e0bcd327ad4ca0ac4d195d847f4 ['With a Small Group Table, We Can Learn Together!', '1st Grade Math Center: Putting Things in Order', 'Rocking The Bronx: Bringing Music To The Classroom', 'Flipped Classroom Start-Up', 'A 3D Classroom', \"Slimmer's Seat Pockets\", 'Class Trip Project: Washington DC', '\"Oh, the Places You\\'ll Go...\" With Technology! (2)', 'Help Us Achieve The Common Core', 'Brilliant Scholars In Need  Of A Larger Leveled Library']\n",
            "001a1a5b3e05e0a886c6b8cb9f1d8a67 ['Mapping To Save The Planet', 'Science Computers and Programming Innovation', 'With a Small Group Table, We Can Learn Together!', 'Students Helping Students', 'Rocking The Bronx: Bringing Music To The Classroom', 'Flipped Classroom Start-Up', 'Make Math Fun ', 'Help Us Achieve The Common Core', 'Spring Art Show Materials', 'Strengthening Social Skills Through Reading']\n",
            "f001b642e0e6cea6f5e339044b2fc37e ['Mapping To Save The Planet', 'Camping Supplies ', 'With a Small Group Table, We Can Learn Together!', '1st Grade Math Center: Putting Things in Order', 'Students Helping Students', 'Rocking The Bronx: Bringing Music To The Classroom', 'Flipped Classroom Start-Up', 'Make Math Fun ', 'Be a \"Bucket Filler\" Donate Prizes!', 'Science Alive!']\n",
            "001a9dcfdac727a5591c038d366fbfa5 ['Camping Supplies ', 'Body Systems Frankenstein Project Supplies', '1st Grade Math Center: Putting Things in Order', 'Rocking The Bronx: Bringing Music To The Classroom', 'A 3D Classroom', 'Make Math Fun ', 'Be a \"Bucket Filler\" Donate Prizes!', \"Chromebooks for Harlem's Brightest  \", 'Science Alive!', \"Slimmer's Seat Pockets\"]\n",
            "d0b190ee28ccd3a6d74dc15445e56ff8 ['Camping Supplies ', 'With a Small Group Table, We Can Learn Together!', '1st Grade Math Center: Putting Things in Order', 'Flipped Classroom Start-Up', 'A 3D Classroom', 'Be a \"Bucket Filler\" Donate Prizes!', 'Science Alive!', \"Slimmer's Seat Pockets\", 'Class Trip Project: Washington DC', 'Help Us Achieve The Common Core']\n",
            "001bd86d8a7cc95cb53313c9d8f63182 ['Camping Supplies ', 'Body Systems Frankenstein Project Supplies', 'With a Small Group Table, We Can Learn Together!', '1st Grade Math Center: Putting Things in Order', 'Rocking The Bronx: Bringing Music To The Classroom', 'Make Math Fun ', \"Chromebooks for Harlem's Brightest  \", \"Slimmer's Seat Pockets\", 'Class Trip Project: Washington DC', '\"Oh, the Places You\\'ll Go...\" With Technology! (2)']\n",
            "001cb08f4a41ffbeac1ef2d1549d71cc ['Camping Supplies ', 'Body Systems Frankenstein Project Supplies', 'With a Small Group Table, We Can Learn Together!', '1st Grade Math Center: Putting Things in Order', 'Students Helping Students', 'Rocking The Bronx: Bringing Music To The Classroom', 'A 3D Classroom', 'Make Math Fun ', 'Be a \"Bucket Filler\" Donate Prizes!', \"Chromebooks for Harlem's Brightest  \"]\n",
            "6d1c87ea9061180372f13bb422fe8a03 ['Mapping To Save The Planet', 'Camping Supplies ', 'Science Computers and Programming Innovation', 'With a Small Group Table, We Can Learn Together!', 'Students Helping Students', 'Rocking The Bronx: Bringing Music To The Classroom', 'Flipped Classroom Start-Up', 'A 3D Classroom', 'Make Math Fun ', 'Class Trip Project: Washington DC']\n",
            "38de699ec53a05e7bc9636dde87a5a77 ['Camping Supplies ', 'With a Small Group Table, We Can Learn Together!', '1st Grade Math Center: Putting Things in Order', 'Students Helping Students', 'Rocking The Bronx: Bringing Music To The Classroom', 'Flipped Classroom Start-Up', 'Make Math Fun ', \"Slimmer's Seat Pockets\", 'Class Trip Project: Washington DC', 'Help Us Achieve The Common Core']\n",
            "e987e5aeb4d5a0e096ff248ba8ee6f11 ['Camping Supplies ', 'Body Systems Frankenstein Project Supplies', 'With a Small Group Table, We Can Learn Together!', '1st Grade Math Center: Putting Things in Order', 'Rocking The Bronx: Bringing Music To The Classroom', 'Flipped Classroom Start-Up', 'Make Math Fun ', \"Slimmer's Seat Pockets\", 'Class Trip Project: Washington DC', 'Help Us Achieve The Common Core']\n",
            "001e053d61eb68955edac703443d90eb ['Mapping To Save The Planet', 'Science Computers and Programming Innovation', 'Body Systems Frankenstein Project Supplies', 'With a Small Group Table, We Can Learn Together!', '1st Grade Math Center: Putting Things in Order', 'Students Helping Students', 'A 3D Classroom', 'Make Math Fun ', \"Chromebooks for Harlem's Brightest  \", \"Slimmer's Seat Pockets\"]\n",
            "001fdceb1f8776d71f0fd6093a6284ed ['Science Computers and Programming Innovation', 'A 3D Classroom', 'Be a \"Bucket Filler\" Donate Prizes!', \"Chromebooks for Harlem's Brightest  \", 'Class Trip Project: Washington DC', '\"Oh, the Places You\\'ll Go...\" With Technology! (2)', 'Help Us Achieve The Common Core', 'Spring Art Show Materials', 'Students Need Shakespeare\\'s Insults: \"Thou Cream Faced Loon\"', 'Singing with Preparation and Pride']\n",
            "cec8af18a8083d71eae99f9fe6fbc37b ['Mapping To Save The Planet', 'Camping Supplies ', 'Body Systems Frankenstein Project Supplies', 'With a Small Group Table, We Can Learn Together!', '1st Grade Math Center: Putting Things in Order', 'Rocking The Bronx: Bringing Music To The Classroom', 'Flipped Classroom Start-Up', 'Make Math Fun ', 'Class Trip Project: Washington DC', '\"Oh, the Places You\\'ll Go...\" With Technology! (2)']\n",
            "0021843b6ea9ca2f1a80534a3b17cd1c ['Science Computers and Programming Innovation', 'Body Systems Frankenstein Project Supplies', 'With a Small Group Table, We Can Learn Together!', '1st Grade Math Center: Putting Things in Order', 'Rocking The Bronx: Bringing Music To The Classroom', \"Chromebooks for Harlem's Brightest  \", 'Science Alive!', \"Slimmer's Seat Pockets\", 'Class Trip Project: Washington DC', '\"Oh, the Places You\\'ll Go...\" With Technology! (2)']\n",
            "409c67b241c5fbbe6b9a66d4a2e0d3d7 ['Camping Supplies ', 'Science Computers and Programming Innovation', 'Rocking The Bronx: Bringing Music To The Classroom', 'Flipped Classroom Start-Up', 'Be a \"Bucket Filler\" Donate Prizes!', \"Slimmer's Seat Pockets\", 'Class Trip Project: Washington DC', 'Help Us Achieve The Common Core', 'Spring Art Show Materials', 'Brilliant Scholars In Need  Of A Larger Leveled Library']\n",
            "5f5a0175a97f7393aba1ed6158a6a3ba ['Camping Supplies ', 'Body Systems Frankenstein Project Supplies', 'With a Small Group Table, We Can Learn Together!', 'Rocking The Bronx: Bringing Music To The Classroom', 'A 3D Classroom', 'Be a \"Bucket Filler\" Donate Prizes!', \"Chromebooks for Harlem's Brightest  \", 'Science Alive!', \"Slimmer's Seat Pockets\", 'Class Trip Project: Washington DC']\n",
            "f699129ec4366240c4a4e803e4c21f78 ['Science Computers and Programming Innovation', 'Body Systems Frankenstein Project Supplies', 'Rocking The Bronx: Bringing Music To The Classroom', \"Chromebooks for Harlem's Brightest  \", '\"Oh, the Places You\\'ll Go...\" With Technology! (2)', 'Spring Art Show Materials', 'Strengthening Social Skills Through Reading', 'Support Females in Athletics!', 'Students Need Shakespeare\\'s Insults: \"Thou Cream Faced Loon\"', 'Singing with Preparation and Pride']\n",
            "0021d125424e9370716d885373fce038 ['Mapping To Save The Planet', 'Body Systems Frankenstein Project Supplies', 'With a Small Group Table, We Can Learn Together!', '1st Grade Math Center: Putting Things in Order', 'Students Helping Students', 'Rocking The Bronx: Bringing Music To The Classroom', 'Flipped Classroom Start-Up', \"Chromebooks for Harlem's Brightest  \", 'Science Alive!', \"Slimmer's Seat Pockets\"]\n",
            "3ab86f986dc51c50f470674be672048c ['Body Systems Frankenstein Project Supplies', '1st Grade Math Center: Putting Things in Order', 'Rocking The Bronx: Bringing Music To The Classroom', 'Be a \"Bucket Filler\" Donate Prizes!', \"Chromebooks for Harlem's Brightest  \", 'Science Alive!', 'Support Females in Athletics!', 'Learning Through the Technological Lens ', 'Singing with Preparation and Pride', 'Tonka Toys...  for BOYS???']\n",
            "45dac747c9ab1c4c276f3cedda4d8705 ['Camping Supplies ', 'With a Small Group Table, We Can Learn Together!', '1st Grade Math Center: Putting Things in Order', 'Students Helping Students', 'Rocking The Bronx: Bringing Music To The Classroom', 'Flipped Classroom Start-Up', 'A 3D Classroom', 'Make Math Fun ', \"Chromebooks for Harlem's Brightest  \", 'Science Alive!']\n",
            "5bf00738b20e3ee08573df2ae59e558e ['Body Systems Frankenstein Project Supplies', 'With a Small Group Table, We Can Learn Together!', '1st Grade Math Center: Putting Things in Order', 'Rocking The Bronx: Bringing Music To The Classroom', \"Chromebooks for Harlem's Brightest  \", \"Slimmer's Seat Pockets\", 'Class Trip Project: Washington DC', '\"Oh, the Places You\\'ll Go...\" With Technology! (2)', 'Help Us Achieve The Common Core', 'Spring Art Show Materials']\n",
            "845afa4e7070980ae6096caa363dcf6b ['Camping Supplies ', 'With a Small Group Table, We Can Learn Together!', '1st Grade Math Center: Putting Things in Order', 'Students Helping Students', 'Rocking The Bronx: Bringing Music To The Classroom', 'Flipped Classroom Start-Up', 'A 3D Classroom', 'Be a \"Bucket Filler\" Donate Prizes!', \"Chromebooks for Harlem's Brightest  \", 'Science Alive!']\n",
            "8828f8c1a2fbe2574805e67bd1d343a4 ['Mapping To Save The Planet', 'Camping Supplies ', 'Body Systems Frankenstein Project Supplies', 'With a Small Group Table, We Can Learn Together!', '1st Grade Math Center: Putting Things in Order', 'Students Helping Students', 'Rocking The Bronx: Bringing Music To The Classroom', 'Flipped Classroom Start-Up', 'Make Math Fun ', \"Chromebooks for Harlem's Brightest  \"]\n",
            "ea2e62fe7a1a5c3d9d801af1b452deb3 ['Camping Supplies ', 'With a Small Group Table, We Can Learn Together!', '1st Grade Math Center: Putting Things in Order', 'Students Helping Students', 'Rocking The Bronx: Bringing Music To The Classroom', 'Flipped Classroom Start-Up', 'A 3D Classroom', 'Be a \"Bucket Filler\" Donate Prizes!', \"Slimmer's Seat Pockets\", 'Class Trip Project: Washington DC']\n",
            "0dc3ca6a66de11d47ead4c356d96302a ['Camping Supplies ', 'With a Small Group Table, We Can Learn Together!', '1st Grade Math Center: Putting Things in Order', 'Students Helping Students', 'Rocking The Bronx: Bringing Music To The Classroom', 'Flipped Classroom Start-Up', 'Science Alive!', 'Help Us Achieve The Common Core', 'Strengthening Social Skills Through Reading', 'Support Females in Athletics!']\n",
            "652d188594cf1af090b3d163f36b369a ['With a Small Group Table, We Can Learn Together!', '1st Grade Math Center: Putting Things in Order', 'Rocking The Bronx: Bringing Music To The Classroom', 'Flipped Classroom Start-Up', 'A 3D Classroom', 'Make Math Fun ', 'Science Alive!', 'Help Us Achieve The Common Core', 'Strengthening Social Skills Through Reading', 'Support Females in Athletics!']\n",
            "cf15b58b9617c7d49d70c448df20c6c5 ['Science Computers and Programming Innovation', 'With a Small Group Table, We Can Learn Together!', '1st Grade Math Center: Putting Things in Order', 'Rocking The Bronx: Bringing Music To The Classroom', 'Flipped Classroom Start-Up', 'Make Math Fun ', \"Slimmer's Seat Pockets\", 'Help Us Achieve The Common Core', 'Spring Art Show Materials', 'Brilliant Scholars In Need  Of A Larger Leveled Library']\n",
            "0031e05019ea618d66ac20efa7302206 ['Mapping To Save The Planet', 'Body Systems Frankenstein Project Supplies', 'With a Small Group Table, We Can Learn Together!', '1st Grade Math Center: Putting Things in Order', 'Students Helping Students', 'Rocking The Bronx: Bringing Music To The Classroom', 'Flipped Classroom Start-Up', 'Make Math Fun ', \"Chromebooks for Harlem's Brightest  \", 'Science Alive!']\n",
            "0e80449eaf83ef3efd9ea0f869e6ff39 ['Mapping To Save The Planet', 'Camping Supplies ', 'With a Small Group Table, We Can Learn Together!', 'Students Helping Students', 'Rocking The Bronx: Bringing Music To The Classroom', 'Flipped Classroom Start-Up', 'Make Math Fun ', \"Slimmer's Seat Pockets\", 'Class Trip Project: Washington DC', 'Help Us Achieve The Common Core']\n",
            "335da331ab8b8a1492edcb5604a028eb ['Mapping To Save The Planet', 'Body Systems Frankenstein Project Supplies', 'With a Small Group Table, We Can Learn Together!', 'Rocking The Bronx: Bringing Music To The Classroom', 'A 3D Classroom', 'Make Math Fun ', \"Chromebooks for Harlem's Brightest  \", 'Science Alive!', \"Slimmer's Seat Pockets\", '\"Oh, the Places You\\'ll Go...\" With Technology! (2)']\n",
            "42eb33ff31381eba3f672964fe6d4ec2 ['Mapping To Save The Planet', 'Camping Supplies ', 'With a Small Group Table, We Can Learn Together!', 'Rocking The Bronx: Bringing Music To The Classroom', 'Make Math Fun ', 'Be a \"Bucket Filler\" Donate Prizes!', \"Chromebooks for Harlem's Brightest  \", 'Science Alive!', \"Slimmer's Seat Pockets\", '\"Oh, the Places You\\'ll Go...\" With Technology! (2)']\n",
            "45617e99fc853ea81a839b975ababac5 ['Mapping To Save The Planet', 'Body Systems Frankenstein Project Supplies', 'Students Helping Students', 'Make Math Fun ', 'Be a \"Bucket Filler\" Donate Prizes!', \"Chromebooks for Harlem's Brightest  \", \"Slimmer's Seat Pockets\", 'Class Trip Project: Washington DC', 'Spring Art Show Materials', 'Brilliant Scholars In Need  Of A Larger Leveled Library']\n",
            "79b1a64508c392ead08fc90e28bffaba ['Mapping To Save The Planet', 'Camping Supplies ', 'Body Systems Frankenstein Project Supplies', 'With a Small Group Table, We Can Learn Together!', '1st Grade Math Center: Putting Things in Order', 'Students Helping Students', 'Rocking The Bronx: Bringing Music To The Classroom', 'Make Math Fun ', 'Help Us Achieve The Common Core', 'Spring Art Show Materials']\n",
            "8bf3a8a2a6030c58749646cf7d410059 ['Mapping To Save The Planet', 'Body Systems Frankenstein Project Supplies', 'With a Small Group Table, We Can Learn Together!', '1st Grade Math Center: Putting Things in Order', 'Students Helping Students', 'Rocking The Bronx: Bringing Music To The Classroom', 'Make Math Fun ', 'Be a \"Bucket Filler\" Donate Prizes!', 'Science Alive!', \"Slimmer's Seat Pockets\"]\n",
            "b9267dd6e6f362f646054f918591a47d ['Mapping To Save The Planet', 'Body Systems Frankenstein Project Supplies', 'With a Small Group Table, We Can Learn Together!', '1st Grade Math Center: Putting Things in Order', 'Students Helping Students', 'Rocking The Bronx: Bringing Music To The Classroom', 'Make Math Fun ', 'Be a \"Bucket Filler\" Donate Prizes!', \"Chromebooks for Harlem's Brightest  \", 'Science Alive!']\n",
            "bf4912ec6153a7758808bab3537bf9f3 ['Mapping To Save The Planet', 'Science Computers and Programming Innovation', 'Body Systems Frankenstein Project Supplies', '1st Grade Math Center: Putting Things in Order', 'Students Helping Students', 'Make Math Fun ', 'Be a \"Bucket Filler\" Donate Prizes!', \"Slimmer's Seat Pockets\", 'Class Trip Project: Washington DC', '\"Oh, the Places You\\'ll Go...\" With Technology! (2)']\n",
            "c9f1034b58a467fcd5ec67ec7c391db3 ['Mapping To Save The Planet', 'With a Small Group Table, We Can Learn Together!', '1st Grade Math Center: Putting Things in Order', 'Students Helping Students', 'Rocking The Bronx: Bringing Music To The Classroom', 'Flipped Classroom Start-Up', 'Make Math Fun ', \"Chromebooks for Harlem's Brightest  \", 'Science Alive!', \"Slimmer's Seat Pockets\"]\n",
            "5ddde9f82ba58bae8c803fb36e2fecfc ['Mapping To Save The Planet', 'Body Systems Frankenstein Project Supplies', '1st Grade Math Center: Putting Things in Order', 'Students Helping Students', 'Make Math Fun ', \"Chromebooks for Harlem's Brightest  \", \"Slimmer's Seat Pockets\", 'Class Trip Project: Washington DC', 'Help Us Achieve The Common Core', 'Spring Art Show Materials']\n",
            "67ba8306bd560fa982c902386e957fcf ['Mapping To Save The Planet', 'Body Systems Frankenstein Project Supplies', '1st Grade Math Center: Putting Things in Order', 'Students Helping Students', 'Rocking The Bronx: Bringing Music To The Classroom', 'Flipped Classroom Start-Up', 'A 3D Classroom', 'Be a \"Bucket Filler\" Donate Prizes!', 'Class Trip Project: Washington DC', 'Brilliant Scholars In Need  Of A Larger Leveled Library']\n",
            "fb03a969ce85b8e35dabf202345a4195 ['Mapping To Save The Planet', 'Body Systems Frankenstein Project Supplies', 'With a Small Group Table, We Can Learn Together!', '1st Grade Math Center: Putting Things in Order', 'Students Helping Students', 'Rocking The Bronx: Bringing Music To The Classroom', 'Be a \"Bucket Filler\" Donate Prizes!', \"Chromebooks for Harlem's Brightest  \", 'Science Alive!', \"Slimmer's Seat Pockets\"]\n",
            "00255f7b68297475a85083e8344bc487 ['Science Computers and Programming Innovation', '1st Grade Math Center: Putting Things in Order', 'Rocking The Bronx: Bringing Music To The Classroom', 'Make Math Fun ', 'Be a \"Bucket Filler\" Donate Prizes!', 'Class Trip Project: Washington DC', 'Strengthening Social Skills Through Reading', 'Support Females in Athletics!', 'Students Need Shakespeare\\'s Insults: \"Thou Cream Faced Loon\"', 'Keep Calm and Crochet On!']\n",
            "00291cd8f1d6c9eba42c235af065530e ['Science Computers and Programming Innovation', 'With a Small Group Table, We Can Learn Together!', 'Students Helping Students', 'Rocking The Bronx: Bringing Music To The Classroom', 'A 3D Classroom', 'Make Math Fun ', 'Science Alive!', 'Class Trip Project: Washington DC', '\"Oh, the Places You\\'ll Go...\" With Technology! (2)', 'Support Females in Athletics!']\n",
            "1cd469ed6d8265707d46d164b7265df6 ['Camping Supplies ', 'With a Small Group Table, We Can Learn Together!', 'Rocking The Bronx: Bringing Music To The Classroom', 'Make Math Fun ', \"Chromebooks for Harlem's Brightest  \", 'Science Alive!', \"Slimmer's Seat Pockets\", 'Class Trip Project: Washington DC', '\"Oh, the Places You\\'ll Go...\" With Technology! (2)', 'Help Us Achieve The Common Core']\n",
            "7ee4354a042855cf0e02150aeb3f16a2 ['Camping Supplies ', 'With a Small Group Table, We Can Learn Together!', 'Students Helping Students', 'Rocking The Bronx: Bringing Music To The Classroom', 'Flipped Classroom Start-Up', 'A 3D Classroom', 'Make Math Fun ', 'Science Alive!', 'Class Trip Project: Washington DC', '\"Oh, the Places You\\'ll Go...\" With Technology! (2)']\n",
            "9fab0b6dd6b48565bae6507288b9cc71 ['Camping Supplies ', 'Science Computers and Programming Innovation', 'With a Small Group Table, We Can Learn Together!', 'Rocking The Bronx: Bringing Music To The Classroom', 'Make Math Fun ', \"Chromebooks for Harlem's Brightest  \", 'Class Trip Project: Washington DC', '\"Oh, the Places You\\'ll Go...\" With Technology! (2)', 'Spring Art Show Materials', 'Support Females in Athletics!']\n",
            "bc646f141f4e39784a03fd546078a8ab ['Camping Supplies ', 'With a Small Group Table, We Can Learn Together!', 'Rocking The Bronx: Bringing Music To The Classroom', 'Flipped Classroom Start-Up', 'A 3D Classroom', \"Chromebooks for Harlem's Brightest  \", 'Science Alive!', \"Slimmer's Seat Pockets\", 'Class Trip Project: Washington DC', '\"Oh, the Places You\\'ll Go...\" With Technology! (2)']\n",
            "fbdeb5abd9fd9313e54c9beca5cc523f ['Mapping To Save The Planet', 'Camping Supplies ', 'With a Small Group Table, We Can Learn Together!', 'Rocking The Bronx: Bringing Music To The Classroom', 'A 3D Classroom', 'Make Math Fun ', 'Science Alive!', 'Class Trip Project: Washington DC', '\"Oh, the Places You\\'ll Go...\" With Technology! (2)', 'Help Us Achieve The Common Core']\n",
            "002a81f3cdd35afa668dc10f30414673 ['Camping Supplies ', '1st Grade Math Center: Putting Things in Order', 'Rocking The Bronx: Bringing Music To The Classroom', 'Flipped Classroom Start-Up', 'A 3D Classroom', 'Make Math Fun ', 'Be a \"Bucket Filler\" Donate Prizes!', 'Class Trip Project: Washington DC', 'Brilliant Scholars In Need  Of A Larger Leveled Library', 'Yoga Mats for Awesome Kids']\n",
            "002af6683a42a07a4f21b975f63ff010 ['Camping Supplies ', 'Body Systems Frankenstein Project Supplies', 'With a Small Group Table, We Can Learn Together!', '1st Grade Math Center: Putting Things in Order', 'Rocking The Bronx: Bringing Music To The Classroom', 'Flipped Classroom Start-Up', 'Make Math Fun ', \"Chromebooks for Harlem's Brightest  \", 'Science Alive!', \"Slimmer's Seat Pockets\"]\n",
            "38309a7f900dd3b7cbe75f8898f8ea37 ['Body Systems Frankenstein Project Supplies', '1st Grade Math Center: Putting Things in Order', 'Students Helping Students', 'Rocking The Bronx: Bringing Music To The Classroom', 'Make Math Fun ', \"Chromebooks for Harlem's Brightest  \", 'Science Alive!', \"Slimmer's Seat Pockets\", 'Class Trip Project: Washington DC', '\"Oh, the Places You\\'ll Go...\" With Technology! (2)']\n",
            "675531be6c4bcd4e5c20e0641ba79a35 ['Camping Supplies ', 'Body Systems Frankenstein Project Supplies', 'With a Small Group Table, We Can Learn Together!', '1st Grade Math Center: Putting Things in Order', 'Students Helping Students', 'Rocking The Bronx: Bringing Music To The Classroom', 'Make Math Fun ', \"Chromebooks for Harlem's Brightest  \", 'Science Alive!', \"Slimmer's Seat Pockets\"]\n",
            "002af7c71cbede5a6e439ca8ade589e3 ['Mapping To Save The Planet', 'Science Computers and Programming Innovation', 'With a Small Group Table, We Can Learn Together!', 'Students Helping Students', 'Rocking The Bronx: Bringing Music To The Classroom', \"Chromebooks for Harlem's Brightest  \", 'Science Alive!', '\"Oh, the Places You\\'ll Go...\" With Technology! (2)', 'Spring Art Show Materials', 'Support Females in Athletics!']\n",
            "0892bd95d1d544ffbd308537e1044259 ['Science Computers and Programming Innovation', 'Body Systems Frankenstein Project Supplies', '1st Grade Math Center: Putting Things in Order', 'Students Helping Students', 'Rocking The Bronx: Bringing Music To The Classroom', 'A 3D Classroom', 'Be a \"Bucket Filler\" Donate Prizes!', 'Support Females in Athletics!', 'Learning Through the Technological Lens ', 'Finding Books That Are \"Just Right\"']\n",
            "2935ba63af3782204e74f32ebd58daa4 ['Mapping To Save The Planet', 'Camping Supplies ', 'Science Computers and Programming Innovation', '1st Grade Math Center: Putting Things in Order', 'Students Helping Students', 'Rocking The Bronx: Bringing Music To The Classroom', 'Flipped Classroom Start-Up', 'A 3D Classroom', 'Class Trip Project: Washington DC', '\"Oh, the Places You\\'ll Go...\" With Technology! (2)']\n",
            "42aac1db0c5b3249fa0e24d5b456ad24 ['Science Computers and Programming Innovation', 'Body Systems Frankenstein Project Supplies', 'Students Helping Students', 'A 3D Classroom', 'Be a \"Bucket Filler\" Donate Prizes!', \"Chromebooks for Harlem's Brightest  \", '\"Oh, the Places You\\'ll Go...\" With Technology! (2)', 'Spring Art Show Materials', 'Strengthening Social Skills Through Reading', 'Support Females in Athletics!']\n",
            "48632f8c2451841f68c470c6d2a3c0c5 ['Science Computers and Programming Innovation', 'Body Systems Frankenstein Project Supplies', 'With a Small Group Table, We Can Learn Together!', 'Students Helping Students', 'A 3D Classroom', 'Be a \"Bucket Filler\" Donate Prizes!', \"Chromebooks for Harlem's Brightest  \", 'Science Alive!', \"Slimmer's Seat Pockets\", '\"Oh, the Places You\\'ll Go...\" With Technology! (2)']\n",
            "c0df2663c657823b2f81c0feb871f2b6 ['Mapping To Save The Planet', 'Camping Supplies ', 'Science Computers and Programming Innovation', '1st Grade Math Center: Putting Things in Order', 'Students Helping Students', 'Rocking The Bronx: Bringing Music To The Classroom', 'Flipped Classroom Start-Up', 'A 3D Classroom', 'Make Math Fun ', 'Be a \"Bucket Filler\" Donate Prizes!']\n",
            "c83d03ec8bf4db62bb06b8bb4fad0d86 ['Mapping To Save The Planet', 'Science Computers and Programming Innovation', 'Body Systems Frankenstein Project Supplies', '1st Grade Math Center: Putting Things in Order', 'Students Helping Students', 'Rocking The Bronx: Bringing Music To The Classroom', 'Flipped Classroom Start-Up', 'Be a \"Bucket Filler\" Donate Prizes!', 'Class Trip Project: Washington DC', '\"Oh, the Places You\\'ll Go...\" With Technology! (2)']\n",
            "002e1eedce8d72cf0936c2b8ab2cd57d ['Camping Supplies ', 'Science Computers and Programming Innovation', '1st Grade Math Center: Putting Things in Order', 'Rocking The Bronx: Bringing Music To The Classroom', 'Make Math Fun ', \"Slimmer's Seat Pockets\", 'Class Trip Project: Washington DC', '\"Oh, the Places You\\'ll Go...\" With Technology! (2)', 'Help Us Achieve The Common Core', 'Brilliant Scholars In Need  Of A Larger Leveled Library']\n",
            "002e3421f0f17793507eeff8ab2ce460 ['Camping Supplies ', 'Science Computers and Programming Innovation', 'Rocking The Bronx: Bringing Music To The Classroom', 'Flipped Classroom Start-Up', 'Science Alive!', \"Slimmer's Seat Pockets\", '\"Oh, the Places You\\'ll Go...\" With Technology! (2)', 'Spring Art Show Materials', 'Brilliant Scholars In Need  Of A Larger Leveled Library', 'Yoga Mats for Awesome Kids']\n",
            "daf838b1dd07ac0cc0df6708e7a86411 ['Mapping To Save The Planet', 'Science Computers and Programming Innovation', 'Rocking The Bronx: Bringing Music To The Classroom', 'Be a \"Bucket Filler\" Donate Prizes!', \"Slimmer's Seat Pockets\", 'Class Trip Project: Washington DC', '\"Oh, the Places You\\'ll Go...\" With Technology! (2)', 'Help Us Achieve The Common Core', 'Spring Art Show Materials', 'Support Females in Athletics!']\n",
            "002f621804688e9f6e8c95e91a45333b ['Camping Supplies ', 'With a Small Group Table, We Can Learn Together!', 'A 3D Classroom', 'Make Math Fun ', \"Slimmer's Seat Pockets\", 'Help Us Achieve The Common Core', 'Yoga Mats for Awesome Kids', 'Students Need Shakespeare\\'s Insults: \"Thou Cream Faced Loon\"', 'Keep Calm and Crochet On!', 'Finding Books That Are \"Just Right\"']\n",
            "869b94e3b2f4f07a332aa2decb73fa33 ['Mapping To Save The Planet', 'Science Computers and Programming Innovation', 'Body Systems Frankenstein Project Supplies', '1st Grade Math Center: Putting Things in Order', 'Students Helping Students', 'Rocking The Bronx: Bringing Music To The Classroom', 'Flipped Classroom Start-Up', 'A 3D Classroom', 'Be a \"Bucket Filler\" Donate Prizes!', 'Science Alive!']\n",
            "bc8ebbd55e9a2c96cc14dd28e4c1aa58 ['Science Computers and Programming Innovation', 'Body Systems Frankenstein Project Supplies', 'With a Small Group Table, We Can Learn Together!', 'Students Helping Students', 'Rocking The Bronx: Bringing Music To The Classroom', 'Make Math Fun ', 'Be a \"Bucket Filler\" Donate Prizes!', 'Science Alive!', 'Class Trip Project: Washington DC', '\"Oh, the Places You\\'ll Go...\" With Technology! (2)']\n",
            "8e23cb99ef5300e3989e631734503b6d ['Mapping To Save The Planet', 'Body Systems Frankenstein Project Supplies', 'With a Small Group Table, We Can Learn Together!', '1st Grade Math Center: Putting Things in Order', 'Rocking The Bronx: Bringing Music To The Classroom', 'Flipped Classroom Start-Up', 'A 3D Classroom', 'Make Math Fun ', \"Slimmer's Seat Pockets\", 'Class Trip Project: Washington DC']\n",
            "30427efa3351c7c9ae89e53a998b745f ['Mapping To Save The Planet', 'Body Systems Frankenstein Project Supplies', 'With a Small Group Table, We Can Learn Together!', '1st Grade Math Center: Putting Things in Order', 'Rocking The Bronx: Bringing Music To The Classroom', 'Flipped Classroom Start-Up', \"Chromebooks for Harlem's Brightest  \", 'Science Alive!', \"Slimmer's Seat Pockets\", 'Spring Art Show Materials']\n",
            "8520db2481f0a1584e39696bbce5812f ['Mapping To Save The Planet', 'Body Systems Frankenstein Project Supplies', 'With a Small Group Table, We Can Learn Together!', '1st Grade Math Center: Putting Things in Order', 'Rocking The Bronx: Bringing Music To The Classroom', 'Flipped Classroom Start-Up', 'A 3D Classroom', 'Be a \"Bucket Filler\" Donate Prizes!', 'Science Alive!', \"Slimmer's Seat Pockets\"]\n",
            "a58b673fa1869b3e082aab85475a036c ['Body Systems Frankenstein Project Supplies', 'With a Small Group Table, We Can Learn Together!', '1st Grade Math Center: Putting Things in Order', 'Rocking The Bronx: Bringing Music To The Classroom', 'Make Math Fun ', \"Chromebooks for Harlem's Brightest  \", 'Science Alive!', \"Slimmer's Seat Pockets\", 'Class Trip Project: Washington DC', '\"Oh, the Places You\\'ll Go...\" With Technology! (2)']\n",
            "e0fbd76faa5bc77d83c4af7e2da8259e ['Mapping To Save The Planet', 'Camping Supplies ', 'With a Small Group Table, We Can Learn Together!', '1st Grade Math Center: Putting Things in Order', 'Students Helping Students', 'Rocking The Bronx: Bringing Music To The Classroom', 'Flipped Classroom Start-Up', 'Make Math Fun ', \"Chromebooks for Harlem's Brightest  \", 'Science Alive!']\n",
            "f2f6953287e9eda0da11cfa1ff5712b7 ['Mapping To Save The Planet', 'Science Computers and Programming Innovation', 'Body Systems Frankenstein Project Supplies', 'With a Small Group Table, We Can Learn Together!', '1st Grade Math Center: Putting Things in Order', 'Rocking The Bronx: Bringing Music To The Classroom', 'Be a \"Bucket Filler\" Donate Prizes!', 'Science Alive!', \"Slimmer's Seat Pockets\", '\"Oh, the Places You\\'ll Go...\" With Technology! (2)']\n",
            "12b32abf2157ab3a6d88177312776302 ['Mapping To Save The Planet', '1st Grade Math Center: Putting Things in Order', 'Students Helping Students', 'Flipped Classroom Start-Up', 'Make Math Fun ', \"Slimmer's Seat Pockets\", 'Class Trip Project: Washington DC', 'Help Us Achieve The Common Core', 'Spring Art Show Materials', 'Brilliant Scholars In Need  Of A Larger Leveled Library']\n",
            "1bbbefdf0fc3b3e3077fb8412d82887d ['Mapping To Save The Planet', 'Science Computers and Programming Innovation', 'Body Systems Frankenstein Project Supplies', 'With a Small Group Table, We Can Learn Together!', 'Students Helping Students', 'Make Math Fun ', 'Be a \"Bucket Filler\" Donate Prizes!', \"Chromebooks for Harlem's Brightest  \", 'Science Alive!', 'Class Trip Project: Washington DC']\n",
            "d645a211fbc8911dd674d5abcae11b4e ['Mapping To Save The Planet', 'Body Systems Frankenstein Project Supplies', 'Students Helping Students', 'Rocking The Bronx: Bringing Music To The Classroom', 'Flipped Classroom Start-Up', \"Slimmer's Seat Pockets\", 'Class Trip Project: Washington DC', 'Help Us Achieve The Common Core', 'Brilliant Scholars In Need  Of A Larger Leveled Library', 'Yoga Mats for Awesome Kids']\n",
            "ee805d11159e3096d03de4400875a926 ['Mapping To Save The Planet', 'Science Computers and Programming Innovation', 'Body Systems Frankenstein Project Supplies', '1st Grade Math Center: Putting Things in Order', 'Students Helping Students', 'Rocking The Bronx: Bringing Music To The Classroom', 'Flipped Classroom Start-Up', 'Be a \"Bucket Filler\" Donate Prizes!', 'Class Trip Project: Washington DC', 'Help Us Achieve The Common Core']\n",
            "f3e007c60ed74a70aa31832dec836a97 ['Mapping To Save The Planet', 'Science Computers and Programming Innovation', 'Body Systems Frankenstein Project Supplies', 'Be a \"Bucket Filler\" Donate Prizes!', 'Class Trip Project: Washington DC', '\"Oh, the Places You\\'ll Go...\" With Technology! (2)', 'Help Us Achieve The Common Core', 'Spring Art Show Materials', 'Yoga Mats for Awesome Kids', 'Support Females in Athletics!']\n",
            "a41f4ba372485a209ca2ba8d8f6a362f ['Science Computers and Programming Innovation', 'With a Small Group Table, We Can Learn Together!', 'Students Helping Students', 'Rocking The Bronx: Bringing Music To The Classroom', \"Slimmer's Seat Pockets\", '\"Oh, the Places You\\'ll Go...\" With Technology! (2)', 'Yoga Mats for Awesome Kids', 'Support Females in Athletics!', 'Visually Simplifying Concrete Theory and History', 'Keep Calm and Crochet On!']\n",
            "ae70503cfc7c0c9ae25e10c91280315c ['Science Computers and Programming Innovation', 'Body Systems Frankenstein Project Supplies', 'Students Helping Students', 'Rocking The Bronx: Bringing Music To The Classroom', 'Flipped Classroom Start-Up', 'Be a \"Bucket Filler\" Donate Prizes!', 'Science Alive!', 'Yoga Mats for Awesome Kids', 'Strengthening Social Skills Through Reading', 'Learning Through the Technological Lens ']\n",
            "645628888e68f06cb51f15997dc71648 ['Mapping To Save The Planet', 'Science Computers and Programming Innovation', '1st Grade Math Center: Putting Things in Order', 'Students Helping Students', 'Rocking The Bronx: Bringing Music To The Classroom', 'Flipped Classroom Start-Up', \"Slimmer's Seat Pockets\", 'Class Trip Project: Washington DC', 'Help Us Achieve The Common Core', 'Spring Art Show Materials']\n",
            "66d29d32f05aec0eaec6b5aaa4608ce1 ['Body Systems Frankenstein Project Supplies', 'With a Small Group Table, We Can Learn Together!', '1st Grade Math Center: Putting Things in Order', 'Rocking The Bronx: Bringing Music To The Classroom', \"Chromebooks for Harlem's Brightest  \", 'Science Alive!', \"Slimmer's Seat Pockets\", 'Class Trip Project: Washington DC', '\"Oh, the Places You\\'ll Go...\" With Technology! (2)', 'Spring Art Show Materials']\n",
            "7107736767dc5dca9e981b97f0577f31 ['Mapping To Save The Planet', 'Body Systems Frankenstein Project Supplies', 'With a Small Group Table, We Can Learn Together!', '1st Grade Math Center: Putting Things in Order', 'Rocking The Bronx: Bringing Music To The Classroom', 'Flipped Classroom Start-Up', 'Make Math Fun ', 'Science Alive!', \"Slimmer's Seat Pockets\", 'Class Trip Project: Washington DC']\n",
            "7f3c73df17260b0a9fcbd15bc12cf1ad ['Camping Supplies ', 'With a Small Group Table, We Can Learn Together!', 'Rocking The Bronx: Bringing Music To The Classroom', 'Flipped Classroom Start-Up', 'Science Alive!', \"Slimmer's Seat Pockets\", 'Class Trip Project: Washington DC', 'Help Us Achieve The Common Core', 'Spring Art Show Materials', 'Brilliant Scholars In Need  Of A Larger Leveled Library']\n",
            "9c126c720abaacff05b91237d65ef173 ['Mapping To Save The Planet', 'Camping Supplies ', 'With a Small Group Table, We Can Learn Together!', '1st Grade Math Center: Putting Things in Order', 'Rocking The Bronx: Bringing Music To The Classroom', 'Flipped Classroom Start-Up', \"Slimmer's Seat Pockets\", 'Class Trip Project: Washington DC', '\"Oh, the Places You\\'ll Go...\" With Technology! (2)', 'Help Us Achieve The Common Core']\n",
            "9f11489ca7a60a0a650e3c1c99b9543a ['Mapping To Save The Planet', 'Science Computers and Programming Innovation', 'Body Systems Frankenstein Project Supplies', 'With a Small Group Table, We Can Learn Together!', '1st Grade Math Center: Putting Things in Order', 'Rocking The Bronx: Bringing Music To The Classroom', 'Flipped Classroom Start-Up', 'A 3D Classroom', 'Make Math Fun ', \"Chromebooks for Harlem's Brightest  \"]\n",
            "b6dea14032c9c2d2c258a814792886e4 ['Mapping To Save The Planet', 'With a Small Group Table, We Can Learn Together!', '1st Grade Math Center: Putting Things in Order', 'Rocking The Bronx: Bringing Music To The Classroom', 'Flipped Classroom Start-Up', 'A 3D Classroom', \"Chromebooks for Harlem's Brightest  \", 'Science Alive!', \"Slimmer's Seat Pockets\", 'Class Trip Project: Washington DC']\n",
            "be5f0f1dd81b510f8f07e13487307934 ['Mapping To Save The Planet', 'With a Small Group Table, We Can Learn Together!', '1st Grade Math Center: Putting Things in Order', 'Rocking The Bronx: Bringing Music To The Classroom', 'Make Math Fun ', \"Slimmer's Seat Pockets\", 'Class Trip Project: Washington DC', '\"Oh, the Places You\\'ll Go...\" With Technology! (2)', 'Help Us Achieve The Common Core', 'Spring Art Show Materials']\n",
            "d249d7e45d07b88d802039d12bf23658 ['Mapping To Save The Planet', 'Science Computers and Programming Innovation', 'Body Systems Frankenstein Project Supplies', 'With a Small Group Table, We Can Learn Together!', '1st Grade Math Center: Putting Things in Order', 'Students Helping Students', 'Rocking The Bronx: Bringing Music To The Classroom', 'Flipped Classroom Start-Up', 'Make Math Fun ', \"Slimmer's Seat Pockets\"]\n",
            "017855d6a7799692cada45247b41f9ab ['Science Computers and Programming Innovation', 'Body Systems Frankenstein Project Supplies', 'With a Small Group Table, We Can Learn Together!', 'Students Helping Students', 'Rocking The Bronx: Bringing Music To The Classroom', 'Make Math Fun ', \"Slimmer's Seat Pockets\", 'Class Trip Project: Washington DC', '\"Oh, the Places You\\'ll Go...\" With Technology! (2)', 'Help Us Achieve The Common Core']\n",
            "3031ac8c097db7e56d5122da43125750 ['Mapping To Save The Planet', 'Science Computers and Programming Innovation', 'Body Systems Frankenstein Project Supplies', '1st Grade Math Center: Putting Things in Order', 'Rocking The Bronx: Bringing Music To The Classroom', 'Make Math Fun ', 'Be a \"Bucket Filler\" Donate Prizes!', \"Slimmer's Seat Pockets\", 'Class Trip Project: Washington DC', 'Help Us Achieve The Common Core']\n",
            "3a3c404f5b94cea7983b214bbbf455bb ['Mapping To Save The Planet', 'Camping Supplies ', 'With a Small Group Table, We Can Learn Together!', 'Rocking The Bronx: Bringing Music To The Classroom', 'Flipped Classroom Start-Up', 'Make Math Fun ', 'Science Alive!', \"Slimmer's Seat Pockets\", 'Class Trip Project: Washington DC', 'Spring Art Show Materials']\n",
            "8a7e9ecd39e09b887eac5aa2cc319402 ['Science Computers and Programming Innovation', 'Body Systems Frankenstein Project Supplies', 'With a Small Group Table, We Can Learn Together!', '1st Grade Math Center: Putting Things in Order', 'Rocking The Bronx: Bringing Music To The Classroom', 'Make Math Fun ', '\"Oh, the Places You\\'ll Go...\" With Technology! (2)', 'Help Us Achieve The Common Core', 'Spring Art Show Materials', 'Support Females in Athletics!']\n",
            "a50782cafe34936e81f881d6ca28f12e ['Science Computers and Programming Innovation', 'Body Systems Frankenstein Project Supplies', 'With a Small Group Table, We Can Learn Together!', '1st Grade Math Center: Putting Things in Order', 'Rocking The Bronx: Bringing Music To The Classroom', 'Be a \"Bucket Filler\" Donate Prizes!', 'Science Alive!', 'Class Trip Project: Washington DC', '\"Oh, the Places You\\'ll Go...\" With Technology! (2)', 'Help Us Achieve The Common Core']\n",
            "65064c7d9c0c0b993138954dfb51f389 ['Mapping To Save The Planet', 'Camping Supplies ', 'Body Systems Frankenstein Project Supplies', 'With a Small Group Table, We Can Learn Together!', '1st Grade Math Center: Putting Things in Order', 'Students Helping Students', 'Rocking The Bronx: Bringing Music To The Classroom', 'Flipped Classroom Start-Up', 'A 3D Classroom', 'Make Math Fun ']\n",
            "a3599ee13e6a430ae8eb6cf05f618bbc ['Camping Supplies ', 'With a Small Group Table, We Can Learn Together!', '1st Grade Math Center: Putting Things in Order', 'Students Helping Students', 'Rocking The Bronx: Bringing Music To The Classroom', 'Flipped Classroom Start-Up', 'Be a \"Bucket Filler\" Donate Prizes!', 'Science Alive!', 'Class Trip Project: Washington DC', 'Help Us Achieve The Common Core']\n",
            "b88d1cf2e4df04bc198beef552142d4f ['Mapping To Save The Planet', 'Camping Supplies ', 'Body Systems Frankenstein Project Supplies', 'With a Small Group Table, We Can Learn Together!', '1st Grade Math Center: Putting Things in Order', 'Students Helping Students', 'Rocking The Bronx: Bringing Music To The Classroom', 'Flipped Classroom Start-Up', 'A 3D Classroom', 'Be a \"Bucket Filler\" Donate Prizes!']\n",
            "c011e3de5770e054c74d2a04c79a9a61 ['Mapping To Save The Planet', 'Camping Supplies ', 'Body Systems Frankenstein Project Supplies', 'With a Small Group Table, We Can Learn Together!', 'Students Helping Students', 'Flipped Classroom Start-Up', 'A 3D Classroom', 'Make Math Fun ', 'Be a \"Bucket Filler\" Donate Prizes!', 'Science Alive!']\n",
            "d35ba9d5284604ac81a6350e0798b8e3 ['Mapping To Save The Planet', 'Camping Supplies ', 'With a Small Group Table, We Can Learn Together!', 'Students Helping Students', 'Rocking The Bronx: Bringing Music To The Classroom', 'Flipped Classroom Start-Up', 'A 3D Classroom', 'Science Alive!', \"Slimmer's Seat Pockets\", 'Class Trip Project: Washington DC']\n",
            "ba88c2b76a1169926fd21892c184f3c6 ['Mapping To Save The Planet', 'Science Computers and Programming Innovation', 'Body Systems Frankenstein Project Supplies', 'Rocking The Bronx: Bringing Music To The Classroom', 'A 3D Classroom', 'Be a \"Bucket Filler\" Donate Prizes!', 'Strengthening Social Skills Through Reading', 'Singing with Preparation and Pride', 'Visually Simplifying Concrete Theory and History', 'Keep Calm and Crochet On!']\n",
            "7f5e93ce259e4527ca497b368cd05589 ['1st Grade Math Center: Putting Things in Order', 'Rocking The Bronx: Bringing Music To The Classroom', 'Flipped Classroom Start-Up', 'A 3D Classroom', 'Be a \"Bucket Filler\" Donate Prizes!', \"Chromebooks for Harlem's Brightest  \", '\"Oh, the Places You\\'ll Go...\" With Technology! (2)', 'Help Us Achieve The Common Core', 'Spring Art Show Materials', 'Learning Through the Technological Lens ']\n",
            "86b8ab24fa739905be12bf0a81712f90 ['Mapping To Save The Planet', 'Camping Supplies ', 'With a Small Group Table, We Can Learn Together!', '1st Grade Math Center: Putting Things in Order', 'Rocking The Bronx: Bringing Music To The Classroom', 'Flipped Classroom Start-Up', 'A 3D Classroom', 'Be a \"Bucket Filler\" Donate Prizes!', \"Chromebooks for Harlem's Brightest  \", 'Science Alive!']\n",
            "9adf63fab9d3b444f80a09e5f23f1bf6 ['Mapping To Save The Planet', 'Camping Supplies ', 'With a Small Group Table, We Can Learn Together!', '1st Grade Math Center: Putting Things in Order', 'Rocking The Bronx: Bringing Music To The Classroom', 'A 3D Classroom', 'Be a \"Bucket Filler\" Donate Prizes!', \"Chromebooks for Harlem's Brightest  \", 'Science Alive!', 'Support Females in Athletics!']\n",
            "0035a53cf9723dac4e24cce09c2cc1b9 ['Mapping To Save The Planet', 'Camping Supplies ', 'Body Systems Frankenstein Project Supplies', 'With a Small Group Table, We Can Learn Together!', 'Students Helping Students', 'Rocking The Bronx: Bringing Music To The Classroom', 'Flipped Classroom Start-Up', 'A 3D Classroom', 'Make Math Fun ', 'Be a \"Bucket Filler\" Donate Prizes!']\n",
            "003946015374e2fb4a15fc31d3b3d857 ['Camping Supplies ', 'Rocking The Bronx: Bringing Music To The Classroom', 'Flipped Classroom Start-Up', 'Be a \"Bucket Filler\" Donate Prizes!', \"Chromebooks for Harlem's Brightest  \", 'Science Alive!', \"Slimmer's Seat Pockets\", 'Spring Art Show Materials', 'Learning Through the Technological Lens ', 'Keep Calm and Crochet On!']\n",
            "003ee6c3527565539a50d593c5c509ff ['Mapping To Save The Planet', 'Body Systems Frankenstein Project Supplies', 'With a Small Group Table, We Can Learn Together!', '1st Grade Math Center: Putting Things in Order', 'Students Helping Students', 'Rocking The Bronx: Bringing Music To The Classroom', 'A 3D Classroom', 'Make Math Fun ', \"Chromebooks for Harlem's Brightest  \", 'Science Alive!']\n",
            "3c1486f98641b6aee8a30a7c1283f99f ['Body Systems Frankenstein Project Supplies', 'With a Small Group Table, We Can Learn Together!', '1st Grade Math Center: Putting Things in Order', 'Students Helping Students', 'Rocking The Bronx: Bringing Music To The Classroom', 'A 3D Classroom', 'Make Math Fun ', 'Be a \"Bucket Filler\" Donate Prizes!', 'Science Alive!', 'Yoga Mats for Awesome Kids']\n",
            "546a4eb2b908fdeee53eb215e50f3910 ['Camping Supplies ', 'Science Computers and Programming Innovation', 'Body Systems Frankenstein Project Supplies', 'With a Small Group Table, We Can Learn Together!', '1st Grade Math Center: Putting Things in Order', 'Students Helping Students', 'Rocking The Bronx: Bringing Music To The Classroom', 'A 3D Classroom', 'Make Math Fun ', 'Be a \"Bucket Filler\" Donate Prizes!']\n",
            "8abff73d6eb2dad24674561c07844a1d ['Mapping To Save The Planet', 'Science Computers and Programming Innovation', 'With a Small Group Table, We Can Learn Together!', 'Students Helping Students', 'Rocking The Bronx: Bringing Music To The Classroom', 'A 3D Classroom', 'Make Math Fun ', 'Be a \"Bucket Filler\" Donate Prizes!', 'Science Alive!', 'Class Trip Project: Washington DC']\n",
            "8fbc6856948c073d5d6382378c0e1a50 ['Camping Supplies ', 'With a Small Group Table, We Can Learn Together!', '1st Grade Math Center: Putting Things in Order', 'Rocking The Bronx: Bringing Music To The Classroom', 'A 3D Classroom', 'Science Alive!', '\"Oh, the Places You\\'ll Go...\" With Technology! (2)', 'Help Us Achieve The Common Core', 'Support Females in Athletics!', 'Learning Through the Technological Lens ']\n",
            "c4db9588312fc4b500db0a2bbc65d205 ['Camping Supplies ', 'With a Small Group Table, We Can Learn Together!', '1st Grade Math Center: Putting Things in Order', 'Students Helping Students', 'Rocking The Bronx: Bringing Music To The Classroom', 'A 3D Classroom', 'Make Math Fun ', 'Be a \"Bucket Filler\" Donate Prizes!', \"Chromebooks for Harlem's Brightest  \", 'Science Alive!']\n",
            "d53a964355f3c1812b7827e6311b9dd9 ['Mapping To Save The Planet', 'Camping Supplies ', 'Body Systems Frankenstein Project Supplies', 'With a Small Group Table, We Can Learn Together!', '1st Grade Math Center: Putting Things in Order', 'Rocking The Bronx: Bringing Music To The Classroom', 'A 3D Classroom', 'Make Math Fun ', \"Chromebooks for Harlem's Brightest  \", 'Science Alive!']\n",
            "003f13ba29ddf22edb5235ec7f186ddd ['Mapping To Save The Planet', 'Science Computers and Programming Innovation', 'Body Systems Frankenstein Project Supplies', 'With a Small Group Table, We Can Learn Together!', 'Students Helping Students', 'Rocking The Bronx: Bringing Music To The Classroom', 'Make Math Fun ', 'Be a \"Bucket Filler\" Donate Prizes!', '\"Oh, the Places You\\'ll Go...\" With Technology! (2)', 'Spring Art Show Materials']\n",
            "1278e6c423b12b1d88b923ed5e110066 ['Science Computers and Programming Innovation', 'Students Helping Students', 'Rocking The Bronx: Bringing Music To The Classroom', 'Make Math Fun ', \"Slimmer's Seat Pockets\", 'Class Trip Project: Washington DC', '\"Oh, the Places You\\'ll Go...\" With Technology! (2)', 'Strengthening Social Skills Through Reading', 'Support Females in Athletics!', 'Learning Through the Technological Lens ']\n",
            "95fcf0f2e0fb7b80c391c363b9a84eff ['Mapping To Save The Planet', 'Science Computers and Programming Innovation', 'Body Systems Frankenstein Project Supplies', '1st Grade Math Center: Putting Things in Order', 'Students Helping Students', 'Rocking The Bronx: Bringing Music To The Classroom', 'A 3D Classroom', 'Be a \"Bucket Filler\" Donate Prizes!', 'Support Females in Athletics!', 'Learning Through the Technological Lens ']\n",
            "bc1b043a85114146f1c2c45e75f21919 ['Mapping To Save The Planet', 'Body Systems Frankenstein Project Supplies', 'With a Small Group Table, We Can Learn Together!', '1st Grade Math Center: Putting Things in Order', 'Students Helping Students', 'Rocking The Bronx: Bringing Music To The Classroom', 'Make Math Fun ', '\"Oh, the Places You\\'ll Go...\" With Technology! (2)', 'Strengthening Social Skills Through Reading', 'Support Females in Athletics!']\n",
            "003fb59679d46a0c841d76e39e087d90 ['Mapping To Save The Planet', 'Body Systems Frankenstein Project Supplies', 'With a Small Group Table, We Can Learn Together!', '1st Grade Math Center: Putting Things in Order', 'Students Helping Students', 'Rocking The Bronx: Bringing Music To The Classroom', 'A 3D Classroom', 'Make Math Fun ', \"Chromebooks for Harlem's Brightest  \", '\"Oh, the Places You\\'ll Go...\" With Technology! (2)']\n",
            "f8e3d8411bb52f0daf159a56c1127fd4 ['Mapping To Save The Planet', 'Science Computers and Programming Innovation', 'Body Systems Frankenstein Project Supplies', 'With a Small Group Table, We Can Learn Together!', '1st Grade Math Center: Putting Things in Order', 'Students Helping Students', 'Rocking The Bronx: Bringing Music To The Classroom', 'Make Math Fun ', 'Be a \"Bucket Filler\" Donate Prizes!', 'Science Alive!']\n",
            "003fc2aa7a6e054f2b72e7de63df1b5c ['Body Systems Frankenstein Project Supplies', 'With a Small Group Table, We Can Learn Together!', '1st Grade Math Center: Putting Things in Order', 'Rocking The Bronx: Bringing Music To The Classroom', 'Flipped Classroom Start-Up', 'A 3D Classroom', 'Make Math Fun ', 'Be a \"Bucket Filler\" Donate Prizes!', \"Chromebooks for Harlem's Brightest  \", 'Science Alive!']\n",
            "1cca483791f5ac1f27677e466fd4bbb7 ['Science Computers and Programming Innovation', 'Body Systems Frankenstein Project Supplies', 'With a Small Group Table, We Can Learn Together!', '1st Grade Math Center: Putting Things in Order', 'Students Helping Students', 'Rocking The Bronx: Bringing Music To The Classroom', 'Flipped Classroom Start-Up', 'A 3D Classroom', 'Class Trip Project: Washington DC', '\"Oh, the Places You\\'ll Go...\" With Technology! (2)']\n",
            "00442ff926d089cf2eb815f85b83a080 ['Camping Supplies ', 'Body Systems Frankenstein Project Supplies', 'Rocking The Bronx: Bringing Music To The Classroom', 'Flipped Classroom Start-Up', 'A 3D Classroom', 'Be a \"Bucket Filler\" Donate Prizes!', \"Chromebooks for Harlem's Brightest  \", 'Science Alive!', 'Spring Art Show Materials', 'Brilliant Scholars In Need  Of A Larger Leveled Library']\n",
            "49ec24b87f8b36217917488d20ec907a ['Camping Supplies ', 'Body Systems Frankenstein Project Supplies', 'Students Helping Students', 'A 3D Classroom', \"Chromebooks for Harlem's Brightest  \", 'Science Alive!', 'Class Trip Project: Washington DC', '\"Oh, the Places You\\'ll Go...\" With Technology! (2)', 'Spring Art Show Materials', 'Brilliant Scholars In Need  Of A Larger Leveled Library']\n",
            "00456d9b6cd6b2f9442ff979a6b76acd ['Camping Supplies ', 'With a Small Group Table, We Can Learn Together!', 'Students Helping Students', 'Rocking The Bronx: Bringing Music To The Classroom', 'Flipped Classroom Start-Up', 'A 3D Classroom', 'Make Math Fun ', \"Slimmer's Seat Pockets\", 'Help Us Achieve The Common Core', 'Strengthening Social Skills Through Reading']\n",
            "32f3f2988385be0e513ed9a62ba5a8ec ['Science Computers and Programming Innovation', 'With a Small Group Table, We Can Learn Together!', 'Students Helping Students', 'Rocking The Bronx: Bringing Music To The Classroom', 'Flipped Classroom Start-Up', 'A 3D Classroom', 'Make Math Fun ', \"Slimmer's Seat Pockets\", 'Help Us Achieve The Common Core', 'Spring Art Show Materials']\n",
            "95269cf2cc8fca68e07ded3a477928bc ['Camping Supplies ', 'Science Computers and Programming Innovation', 'With a Small Group Table, We Can Learn Together!', 'Rocking The Bronx: Bringing Music To The Classroom', 'Make Math Fun ', \"Slimmer's Seat Pockets\", '\"Oh, the Places You\\'ll Go...\" With Technology! (2)', 'Help Us Achieve The Common Core', 'Support Females in Athletics!', 'Students Need Shakespeare\\'s Insults: \"Thou Cream Faced Loon\"']\n",
            "c69f630cce92956f5cf538a33dc36e57 ['With a Small Group Table, We Can Learn Together!', '1st Grade Math Center: Putting Things in Order', 'Students Helping Students', 'Flipped Classroom Start-Up', 'A 3D Classroom', \"Chromebooks for Harlem's Brightest  \", 'Science Alive!', '\"Oh, the Places You\\'ll Go...\" With Technology! (2)', 'Help Us Achieve The Common Core', 'Support Females in Athletics!']\n",
            "f59c7309961a6e133694452c3716680e ['Mapping To Save The Planet', 'Camping Supplies ', 'Science Computers and Programming Innovation', 'With a Small Group Table, We Can Learn Together!', 'Students Helping Students', 'Flipped Classroom Start-Up', 'A 3D Classroom', 'Make Math Fun ', \"Slimmer's Seat Pockets\", 'Class Trip Project: Washington DC']\n",
            "0045f952a8490ef4b568dc947e26e162 ['Camping Supplies ', 'Body Systems Frankenstein Project Supplies', 'Students Helping Students', 'Rocking The Bronx: Bringing Music To The Classroom', 'A 3D Classroom', 'Be a \"Bucket Filler\" Donate Prizes!', \"Chromebooks for Harlem's Brightest  \", 'Science Alive!', \"Slimmer's Seat Pockets\", 'Class Trip Project: Washington DC']\n",
            "9e1edb87c543ea69e1bd68f633b7ebc1 ['Camping Supplies ', 'With a Small Group Table, We Can Learn Together!', '1st Grade Math Center: Putting Things in Order', 'Rocking The Bronx: Bringing Music To The Classroom', 'A 3D Classroom', 'Make Math Fun ', \"Chromebooks for Harlem's Brightest  \", 'Science Alive!', \"Slimmer's Seat Pockets\", 'Class Trip Project: Washington DC']\n",
            "b5d4e59a34c01252483406c973437337 ['Body Systems Frankenstein Project Supplies', 'With a Small Group Table, We Can Learn Together!', '1st Grade Math Center: Putting Things in Order', 'Rocking The Bronx: Bringing Music To The Classroom', 'Make Math Fun ', 'Be a \"Bucket Filler\" Donate Prizes!', 'Science Alive!', \"Slimmer's Seat Pockets\", 'Class Trip Project: Washington DC', '\"Oh, the Places You\\'ll Go...\" With Technology! (2)']\n",
            "0046c33cb990f9d2c9e932a401b4d8a8 ['Mapping To Save The Planet', 'Body Systems Frankenstein Project Supplies', '1st Grade Math Center: Putting Things in Order', 'Students Helping Students', 'Rocking The Bronx: Bringing Music To The Classroom', 'Make Math Fun ', 'Class Trip Project: Washington DC', 'Brilliant Scholars In Need  Of A Larger Leveled Library', 'Strengthening Social Skills Through Reading', 'Support Females in Athletics!']\n",
            "5dd2a2d389162bae32578b6601758cfc ['Mapping To Save The Planet', 'Camping Supplies ', 'With a Small Group Table, We Can Learn Together!', 'Students Helping Students', 'Rocking The Bronx: Bringing Music To The Classroom', 'Flipped Classroom Start-Up', 'Make Math Fun ', 'Be a \"Bucket Filler\" Donate Prizes!', \"Slimmer's Seat Pockets\", 'Class Trip Project: Washington DC']\n",
            "00492bf70628c3d86b1beed95180eb60 ['Camping Supplies ', 'Body Systems Frankenstein Project Supplies', 'With a Small Group Table, We Can Learn Together!', '1st Grade Math Center: Putting Things in Order', 'Rocking The Bronx: Bringing Music To The Classroom', 'Make Math Fun ', 'Be a \"Bucket Filler\" Donate Prizes!', \"Chromebooks for Harlem's Brightest  \", \"Slimmer's Seat Pockets\", '\"Oh, the Places You\\'ll Go...\" With Technology! (2)']\n",
            "0c3d3ef453df79c5f91e95009737b365 ['Mapping To Save The Planet', 'Science Computers and Programming Innovation', 'Body Systems Frankenstein Project Supplies', 'Students Helping Students', 'Rocking The Bronx: Bringing Music To The Classroom', 'A 3D Classroom', 'Make Math Fun ', 'Be a \"Bucket Filler\" Donate Prizes!', \"Chromebooks for Harlem's Brightest  \", 'Science Alive!']\n",
            "50b4267ceeb575a39c78dd7f8fafe80b ['Camping Supplies ', 'Science Computers and Programming Innovation', 'With a Small Group Table, We Can Learn Together!', 'Rocking The Bronx: Bringing Music To The Classroom', 'Be a \"Bucket Filler\" Donate Prizes!', 'Science Alive!', \"Slimmer's Seat Pockets\", '\"Oh, the Places You\\'ll Go...\" With Technology! (2)', 'Help Us Achieve The Common Core', 'Yoga Mats for Awesome Kids']\n",
            "ea7440ef3ec37d9f17621967b58d4229 ['Mapping To Save The Planet', 'Science Computers and Programming Innovation', 'Rocking The Bronx: Bringing Music To The Classroom', 'A 3D Classroom', 'Be a \"Bucket Filler\" Donate Prizes!', \"Slimmer's Seat Pockets\", 'Class Trip Project: Washington DC', 'Help Us Achieve The Common Core', 'Brilliant Scholars In Need  Of A Larger Leveled Library', 'Yoga Mats for Awesome Kids']\n",
            "0b94d714dce9a74638956b5aaa4ff66b ['Camping Supplies ', 'With a Small Group Table, We Can Learn Together!', '1st Grade Math Center: Putting Things in Order', 'Students Helping Students', 'Rocking The Bronx: Bringing Music To The Classroom', 'Flipped Classroom Start-Up', 'A 3D Classroom', 'Make Math Fun ', 'Be a \"Bucket Filler\" Donate Prizes!', 'Science Alive!']\n",
            "1e9ea809afa5db09926be4a646d152b2 ['Mapping To Save The Planet', 'Camping Supplies ', 'With a Small Group Table, We Can Learn Together!', '1st Grade Math Center: Putting Things in Order', 'Students Helping Students', 'Rocking The Bronx: Bringing Music To The Classroom', 'Flipped Classroom Start-Up', 'A 3D Classroom', 'Make Math Fun ', 'Be a \"Bucket Filler\" Donate Prizes!']\n",
            "4a487fc0f7b20a35a9a9f9c5f9461a8a ['Camping Supplies ', 'With a Small Group Table, We Can Learn Together!', 'Rocking The Bronx: Bringing Music To The Classroom', 'Flipped Classroom Start-Up', 'A 3D Classroom', 'Be a \"Bucket Filler\" Donate Prizes!', 'Science Alive!', 'Spring Art Show Materials', 'Students Need Shakespeare\\'s Insults: \"Thou Cream Faced Loon\"', 'Keep Calm and Crochet On!']\n",
            "9d0bd18d772a209339303195ba89144d ['Camping Supplies ', 'With a Small Group Table, We Can Learn Together!', '1st Grade Math Center: Putting Things in Order', 'Students Helping Students', 'Rocking The Bronx: Bringing Music To The Classroom', 'Flipped Classroom Start-Up', 'A 3D Classroom', 'Make Math Fun ', 'Be a \"Bucket Filler\" Donate Prizes!', 'Spring Art Show Materials']\n",
            "afb066420df4676667f9d29dcefa7482 ['Camping Supplies ', 'Body Systems Frankenstein Project Supplies', '1st Grade Math Center: Putting Things in Order', 'Students Helping Students', 'Rocking The Bronx: Bringing Music To The Classroom', 'Flipped Classroom Start-Up', 'A 3D Classroom', 'Make Math Fun ', 'Be a \"Bucket Filler\" Donate Prizes!', \"Chromebooks for Harlem's Brightest  \"]\n",
            "004957e28720406da82661ed1f61b0f2 ['Mapping To Save The Planet', 'Body Systems Frankenstein Project Supplies', '1st Grade Math Center: Putting Things in Order', 'Students Helping Students', 'Make Math Fun ', \"Slimmer's Seat Pockets\", 'Class Trip Project: Washington DC', 'Help Us Achieve The Common Core', 'Brilliant Scholars In Need  Of A Larger Leveled Library', 'Yoga Mats for Awesome Kids']\n",
            "2339cc2f11945e5465bae470e07a6499 ['Mapping To Save The Planet', 'Science Computers and Programming Innovation', 'Body Systems Frankenstein Project Supplies', '1st Grade Math Center: Putting Things in Order', 'Students Helping Students', 'A 3D Classroom', 'Make Math Fun ', 'Be a \"Bucket Filler\" Donate Prizes!', \"Chromebooks for Harlem's Brightest  \", 'Spring Art Show Materials']\n",
            "3caa5214e73d32910318e09b99577aa2 ['Mapping To Save The Planet', 'Body Systems Frankenstein Project Supplies', '1st Grade Math Center: Putting Things in Order', 'Students Helping Students', 'Rocking The Bronx: Bringing Music To The Classroom', 'A 3D Classroom', 'Make Math Fun ', 'Be a \"Bucket Filler\" Donate Prizes!', 'Class Trip Project: Washington DC', 'Brilliant Scholars In Need  Of A Larger Leveled Library']\n",
            "4a7e9a549c1e3901bd77e82c680aec5e ['Science Computers and Programming Innovation', 'Body Systems Frankenstein Project Supplies', '1st Grade Math Center: Putting Things in Order', 'Students Helping Students', 'A 3D Classroom', 'Be a \"Bucket Filler\" Donate Prizes!', \"Chromebooks for Harlem's Brightest  \", 'Science Alive!', 'Spring Art Show Materials', 'Strengthening Social Skills Through Reading']\n",
            "625eb0d72c23b8fc29944e0f07883fc5 ['Mapping To Save The Planet', 'Camping Supplies ', 'Body Systems Frankenstein Project Supplies', 'With a Small Group Table, We Can Learn Together!', '1st Grade Math Center: Putting Things in Order', 'Students Helping Students', 'Rocking The Bronx: Bringing Music To The Classroom', 'Flipped Classroom Start-Up', 'A 3D Classroom', 'Make Math Fun ']\n",
            "6c47bd1858cd77f1420516df37c765c0 ['Mapping To Save The Planet', 'Science Computers and Programming Innovation', 'Body Systems Frankenstein Project Supplies', '1st Grade Math Center: Putting Things in Order', 'Students Helping Students', 'A 3D Classroom', 'Be a \"Bucket Filler\" Donate Prizes!', 'Brilliant Scholars In Need  Of A Larger Leveled Library', 'Strengthening Social Skills Through Reading', 'Support Females in Athletics!']\n",
            "70192a61f153cb6daf73fa4a323e2324 ['Science Computers and Programming Innovation', 'Body Systems Frankenstein Project Supplies', '1st Grade Math Center: Putting Things in Order', 'Students Helping Students', 'Be a \"Bucket Filler\" Donate Prizes!', \"Slimmer's Seat Pockets\", 'Class Trip Project: Washington DC', 'Spring Art Show Materials', 'Brilliant Scholars In Need  Of A Larger Leveled Library', 'Yoga Mats for Awesome Kids']\n",
            "7e01f3792144866d961c7a027643be50 ['Camping Supplies ', 'Science Computers and Programming Innovation', 'Body Systems Frankenstein Project Supplies', '1st Grade Math Center: Putting Things in Order', 'Students Helping Students', 'A 3D Classroom', 'Make Math Fun ', 'Be a \"Bucket Filler\" Donate Prizes!', \"Chromebooks for Harlem's Brightest  \", 'Class Trip Project: Washington DC']\n",
            "814386f168bff218d707dc06b98868cb ['Mapping To Save The Planet', 'Body Systems Frankenstein Project Supplies', 'With a Small Group Table, We Can Learn Together!', '1st Grade Math Center: Putting Things in Order', 'Students Helping Students', 'Rocking The Bronx: Bringing Music To The Classroom', 'A 3D Classroom', 'Make Math Fun ', \"Chromebooks for Harlem's Brightest  \", 'Strengthening Social Skills Through Reading']\n",
            "9add1da38b2f7dc3dcd0d00930568599 ['Camping Supplies ', 'Body Systems Frankenstein Project Supplies', 'With a Small Group Table, We Can Learn Together!', '1st Grade Math Center: Putting Things in Order', 'Students Helping Students', 'Rocking The Bronx: Bringing Music To The Classroom', 'Flipped Classroom Start-Up', 'A 3D Classroom', 'Make Math Fun ', 'Be a \"Bucket Filler\" Donate Prizes!']\n",
            "b14569b73a4167d1f23d651737539aa2 ['Mapping To Save The Planet', 'Body Systems Frankenstein Project Supplies', 'With a Small Group Table, We Can Learn Together!', '1st Grade Math Center: Putting Things in Order', 'Students Helping Students', 'Rocking The Bronx: Bringing Music To The Classroom', 'Flipped Classroom Start-Up', 'A 3D Classroom', 'Make Math Fun ', 'Brilliant Scholars In Need  Of A Larger Leveled Library']\n",
            "bc5530e129f811a412bf2e29d8cf846b ['Mapping To Save The Planet', 'Science Computers and Programming Innovation', 'Body Systems Frankenstein Project Supplies', '1st Grade Math Center: Putting Things in Order', 'Students Helping Students', 'Rocking The Bronx: Bringing Music To The Classroom', 'A 3D Classroom', 'Class Trip Project: Washington DC', 'Spring Art Show Materials', 'Brilliant Scholars In Need  Of A Larger Leveled Library']\n",
            "be60b02f7fff35bfa63c07998fdcb9a0 ['Mapping To Save The Planet', 'Camping Supplies ', 'With a Small Group Table, We Can Learn Together!', '1st Grade Math Center: Putting Things in Order', 'Students Helping Students', 'Rocking The Bronx: Bringing Music To The Classroom', 'Flipped Classroom Start-Up', 'A 3D Classroom', 'Make Math Fun ', 'Spring Art Show Materials']\n",
            "ffe43d190c5a790687f31ea449674710 ['Science Computers and Programming Innovation', 'Body Systems Frankenstein Project Supplies', '1st Grade Math Center: Putting Things in Order', 'Students Helping Students', 'A 3D Classroom', 'Be a \"Bucket Filler\" Donate Prizes!', \"Chromebooks for Harlem's Brightest  \", 'Class Trip Project: Washington DC', '\"Oh, the Places You\\'ll Go...\" With Technology! (2)', 'Yoga Mats for Awesome Kids']\n",
            "0049a33d6cae394ab0da4422a829d8d5 ['Body Systems Frankenstein Project Supplies', '1st Grade Math Center: Putting Things in Order', 'Students Helping Students', 'Rocking The Bronx: Bringing Music To The Classroom', 'Be a \"Bucket Filler\" Donate Prizes!', 'Science Alive!', 'Class Trip Project: Washington DC', 'Strengthening Social Skills Through Reading', 'Support Females in Athletics!', 'Motivation Station: No Hangry Child Left Behind']\n",
            "5d2e7a479a5bc3485650f5d35322feb1 ['Mapping To Save The Planet', 'Camping Supplies ', 'With a Small Group Table, We Can Learn Together!', 'Students Helping Students', 'Rocking The Bronx: Bringing Music To The Classroom', 'Flipped Classroom Start-Up', 'Make Math Fun ', \"Slimmer's Seat Pockets\", 'Help Us Achieve The Common Core', 'Spring Art Show Materials']\n",
            "7c64c1b88b9c776b85af4510955a0cfa ['Mapping To Save The Planet', 'Body Systems Frankenstein Project Supplies', '1st Grade Math Center: Putting Things in Order', 'Rocking The Bronx: Bringing Music To The Classroom', 'Flipped Classroom Start-Up', 'Make Math Fun ', \"Slimmer's Seat Pockets\", 'Class Trip Project: Washington DC', 'Help Us Achieve The Common Core', 'Spring Art Show Materials']\n",
            "004eee2c496fe74bd358e36492733a88 ['Mapping To Save The Planet', 'Camping Supplies ', 'Body Systems Frankenstein Project Supplies', 'With a Small Group Table, We Can Learn Together!', 'Students Helping Students', 'Rocking The Bronx: Bringing Music To The Classroom', 'A 3D Classroom', 'Make Math Fun ', 'Be a \"Bucket Filler\" Donate Prizes!', 'Science Alive!']\n",
            "004f36ec92b9ef7ad277e5ff8af4fe29 ['Mapping To Save The Planet', 'Science Computers and Programming Innovation', 'Body Systems Frankenstein Project Supplies', 'With a Small Group Table, We Can Learn Together!', '1st Grade Math Center: Putting Things in Order', 'Students Helping Students', 'Rocking The Bronx: Bringing Music To The Classroom', 'A 3D Classroom', 'Make Math Fun ', 'Be a \"Bucket Filler\" Donate Prizes!']\n",
            "1ebff9fa9b1209ac3c78c7ac61884ea2 ['Mapping To Save The Planet', 'Camping Supplies ', 'Science Computers and Programming Innovation', 'Rocking The Bronx: Bringing Music To The Classroom', 'Be a \"Bucket Filler\" Donate Prizes!', \"Slimmer's Seat Pockets\", 'Help Us Achieve The Common Core', 'Spring Art Show Materials', 'Brilliant Scholars In Need  Of A Larger Leveled Library', 'Yoga Mats for Awesome Kids']\n",
            "5d37b1041c337ec763ac6d7d85580a3c ['Mapping To Save The Planet', 'Science Computers and Programming Innovation', 'Body Systems Frankenstein Project Supplies', '1st Grade Math Center: Putting Things in Order', 'Rocking The Bronx: Bringing Music To The Classroom', 'Flipped Classroom Start-Up', 'A 3D Classroom', 'Make Math Fun ', 'Be a \"Bucket Filler\" Donate Prizes!', 'Science Alive!']\n",
            "c18577344517465c5b9dc91f8ff94bff ['Camping Supplies ', 'Body Systems Frankenstein Project Supplies', 'With a Small Group Table, We Can Learn Together!', '1st Grade Math Center: Putting Things in Order', 'Students Helping Students', 'Rocking The Bronx: Bringing Music To The Classroom', 'A 3D Classroom', 'Make Math Fun ', \"Chromebooks for Harlem's Brightest  \", 'Science Alive!']\n",
            "4cd3f5301cd78dae6eefffd622932393 ['Body Systems Frankenstein Project Supplies', 'With a Small Group Table, We Can Learn Together!', '1st Grade Math Center: Putting Things in Order', 'Rocking The Bronx: Bringing Music To The Classroom', 'A 3D Classroom', 'Make Math Fun ', 'Be a \"Bucket Filler\" Donate Prizes!', \"Chromebooks for Harlem's Brightest  \", 'Science Alive!', '\"Oh, the Places You\\'ll Go...\" With Technology! (2)']\n",
            "0050f079be6904ed4a230510c99384fd ['Mapping To Save The Planet', 'Science Computers and Programming Innovation', 'Body Systems Frankenstein Project Supplies', '1st Grade Math Center: Putting Things in Order', 'Students Helping Students', 'Rocking The Bronx: Bringing Music To The Classroom', 'A 3D Classroom', 'Brilliant Scholars In Need  Of A Larger Leveled Library', 'Strengthening Social Skills Through Reading', 'Support Females in Athletics!']\n",
            "01aea306471e351db6100bf420c43d36 ['Science Computers and Programming Innovation', 'Body Systems Frankenstein Project Supplies', 'Students Helping Students', 'Make Math Fun ', 'Be a \"Bucket Filler\" Donate Prizes!', 'Spring Art Show Materials', 'Support Females in Athletics!', 'Students Need Shakespeare\\'s Insults: \"Thou Cream Faced Loon\"', 'Keep Calm and Crochet On!', 'Finding Books That Are \"Just Right\"']\n",
            "20ac32f55ed7311611e20999ed15adea ['Mapping To Save The Planet', 'Science Computers and Programming Innovation', 'Rocking The Bronx: Bringing Music To The Classroom', 'Flipped Classroom Start-Up', 'A 3D Classroom', 'Science Alive!', 'Spring Art Show Materials', 'Strengthening Social Skills Through Reading', 'Support Females in Athletics!', 'Learning Through the Technological Lens ']\n",
            "3e257c26ab7b572157f7468459427e3a ['Camping Supplies ', 'Body Systems Frankenstein Project Supplies', 'With a Small Group Table, We Can Learn Together!', 'Students Helping Students', 'Rocking The Bronx: Bringing Music To The Classroom', 'Flipped Classroom Start-Up', 'Make Math Fun ', \"Chromebooks for Harlem's Brightest  \", '\"Oh, the Places You\\'ll Go...\" With Technology! (2)', 'Spring Art Show Materials']\n",
            "78424b5c108876fa6f148250585cc3ea ['Camping Supplies ', 'Science Computers and Programming Innovation', 'Body Systems Frankenstein Project Supplies', 'With a Small Group Table, We Can Learn Together!', 'Students Helping Students', 'Rocking The Bronx: Bringing Music To The Classroom', 'Make Math Fun ', \"Chromebooks for Harlem's Brightest  \", 'Science Alive!', \"Slimmer's Seat Pockets\"]\n",
            "24dbef4ff9fd610880df13aba3cfede0 ['Mapping To Save The Planet', 'Body Systems Frankenstein Project Supplies', 'With a Small Group Table, We Can Learn Together!', '1st Grade Math Center: Putting Things in Order', 'Students Helping Students', 'Rocking The Bronx: Bringing Music To The Classroom', 'Flipped Classroom Start-Up', 'A 3D Classroom', 'Make Math Fun ', 'Science Alive!']\n",
            "2e4d7672fe3571f59df8448384ec8b29 ['Mapping To Save The Planet', 'Body Systems Frankenstein Project Supplies', 'Students Helping Students', 'Spring Art Show Materials', 'Brilliant Scholars In Need  Of A Larger Leveled Library', 'Yoga Mats for Awesome Kids', 'Students Need Shakespeare\\'s Insults: \"Thou Cream Faced Loon\"', 'Visually Simplifying Concrete Theory and History', 'Keep Calm and Crochet On!', 'Kindle Saves the Day!']\n",
            "4546b6c622bd26669a42193df94e2378 ['Mapping To Save The Planet', 'Camping Supplies ', 'With a Small Group Table, We Can Learn Together!', 'Students Helping Students', 'Flipped Classroom Start-Up', 'A 3D Classroom', 'Make Math Fun ', 'Be a \"Bucket Filler\" Donate Prizes!', 'Science Alive!', 'Support Females in Athletics!']\n",
            "cbd3b0f2267e7c18cbe97dc94920eefc ['Camping Supplies ', 'Science Computers and Programming Innovation', 'With a Small Group Table, We Can Learn Together!', 'Students Helping Students', 'Flipped Classroom Start-Up', 'A 3D Classroom', 'Science Alive!', \"Slimmer's Seat Pockets\", 'Class Trip Project: Washington DC', '\"Oh, the Places You\\'ll Go...\" With Technology! (2)']\n",
            "d57588716a2a3c67c5547427bfea81d8 ['Mapping To Save The Planet', 'Science Computers and Programming Innovation', 'Body Systems Frankenstein Project Supplies', 'With a Small Group Table, We Can Learn Together!', '1st Grade Math Center: Putting Things in Order', 'Students Helping Students', 'Rocking The Bronx: Bringing Music To The Classroom', 'A 3D Classroom', '\"Oh, the Places You\\'ll Go...\" With Technology! (2)', 'Help Us Achieve The Common Core']\n",
            "f8ee25d0b0e6292c54857bb67496857a ['Camping Supplies ', 'Body Systems Frankenstein Project Supplies', 'Students Helping Students', 'A 3D Classroom', 'Be a \"Bucket Filler\" Donate Prizes!', \"Chromebooks for Harlem's Brightest  \", 'Science Alive!', '\"Oh, the Places You\\'ll Go...\" With Technology! (2)', 'Spring Art Show Materials', 'Support Females in Athletics!']\n",
            "0f653eb18c4018ab4080cccbc9b3d3a4 ['Mapping To Save The Planet', 'Camping Supplies ', 'Body Systems Frankenstein Project Supplies', 'With a Small Group Table, We Can Learn Together!', '1st Grade Math Center: Putting Things in Order', 'Rocking The Bronx: Bringing Music To The Classroom', 'Flipped Classroom Start-Up', 'A 3D Classroom', 'Make Math Fun ', 'Science Alive!']\n",
            "3eb118eb614b7d27de7c9ee5779b2829 ['Mapping To Save The Planet', 'Camping Supplies ', 'Body Systems Frankenstein Project Supplies', 'With a Small Group Table, We Can Learn Together!', '1st Grade Math Center: Putting Things in Order', 'Students Helping Students', 'Rocking The Bronx: Bringing Music To The Classroom', 'Make Math Fun ', \"Slimmer's Seat Pockets\", 'Class Trip Project: Washington DC']\n",
            "54dfa8ca37fa4d0f4a6cd47a8a562261 ['Mapping To Save The Planet', 'Camping Supplies ', 'With a Small Group Table, We Can Learn Together!', 'Students Helping Students', 'Rocking The Bronx: Bringing Music To The Classroom', 'Flipped Classroom Start-Up', 'A 3D Classroom', 'Be a \"Bucket Filler\" Donate Prizes!', 'Science Alive!', '\"Oh, the Places You\\'ll Go...\" With Technology! (2)']\n",
            "5c86f28580bf537f02d8a03bf3255e37 ['Mapping To Save The Planet', 'Camping Supplies ', 'Body Systems Frankenstein Project Supplies', 'With a Small Group Table, We Can Learn Together!', 'Students Helping Students', 'Rocking The Bronx: Bringing Music To The Classroom', 'Flipped Classroom Start-Up', 'A 3D Classroom', 'Be a \"Bucket Filler\" Donate Prizes!', 'Science Alive!']\n",
            "969e9f792a4666afa24dc45b363bf3d2 ['Mapping To Save The Planet', 'Camping Supplies ', 'Body Systems Frankenstein Project Supplies', 'With a Small Group Table, We Can Learn Together!', '1st Grade Math Center: Putting Things in Order', 'Students Helping Students', 'Rocking The Bronx: Bringing Music To The Classroom', 'Flipped Classroom Start-Up', 'Make Math Fun ', 'Be a \"Bucket Filler\" Donate Prizes!']\n",
            "a08a61d2cfed2b83ccd663bb67f69fc7 ['Mapping To Save The Planet', 'Camping Supplies ', 'With a Small Group Table, We Can Learn Together!', 'Rocking The Bronx: Bringing Music To The Classroom', 'Flipped Classroom Start-Up', 'Be a \"Bucket Filler\" Donate Prizes!', 'Science Alive!', '\"Oh, the Places You\\'ll Go...\" With Technology! (2)', 'Help Us Achieve The Common Core', 'Spring Art Show Materials']\n",
            "e9b87818b3aca2ce4ef14cacedcf528c ['Mapping To Save The Planet', 'Body Systems Frankenstein Project Supplies', 'With a Small Group Table, We Can Learn Together!', '1st Grade Math Center: Putting Things in Order', 'Students Helping Students', 'Rocking The Bronx: Bringing Music To The Classroom', 'Flipped Classroom Start-Up', 'A 3D Classroom', 'Make Math Fun ', 'Spring Art Show Materials']\n",
            "f1478d6607dd47ab1d2c4ac0f46773b8 ['Mapping To Save The Planet', 'Camping Supplies ', 'Body Systems Frankenstein Project Supplies', 'With a Small Group Table, We Can Learn Together!', '1st Grade Math Center: Putting Things in Order', 'Students Helping Students', 'Rocking The Bronx: Bringing Music To The Classroom', 'A 3D Classroom', 'Make Math Fun ', 'Be a \"Bucket Filler\" Donate Prizes!']\n",
            "1177d2f319ec93925deff74ca2c64118 ['Mapping To Save The Planet', 'Science Computers and Programming Innovation', 'Body Systems Frankenstein Project Supplies', '1st Grade Math Center: Putting Things in Order', 'Students Helping Students', 'Flipped Classroom Start-Up', 'A 3D Classroom', 'Be a \"Bucket Filler\" Donate Prizes!', \"Chromebooks for Harlem's Brightest  \", 'Class Trip Project: Washington DC']\n",
            "18adc574046b9e8767480aec4dc7f3af ['Mapping To Save The Planet', 'Body Systems Frankenstein Project Supplies', '1st Grade Math Center: Putting Things in Order', 'Students Helping Students', 'Rocking The Bronx: Bringing Music To The Classroom', 'A 3D Classroom', 'Be a \"Bucket Filler\" Donate Prizes!', 'Class Trip Project: Washington DC', 'Brilliant Scholars In Need  Of A Larger Leveled Library', 'Yoga Mats for Awesome Kids']\n",
            "1ce878c97354622bf42bb7e87f0259b2 ['Mapping To Save The Planet', 'Rocking The Bronx: Bringing Music To The Classroom', 'Flipped Classroom Start-Up', 'Help Us Achieve The Common Core', 'Spring Art Show Materials', 'Learning Through the Technological Lens ', 'Students Need Shakespeare\\'s Insults: \"Thou Cream Faced Loon\"', 'Visually Simplifying Concrete Theory and History', 'Keep Calm and Crochet On!', 'Finding Books That Are \"Just Right\"']\n",
            "1d464687636de66d0615422ec929fb46 ['Mapping To Save The Planet', 'Camping Supplies ', 'Rocking The Bronx: Bringing Music To The Classroom', 'Make Math Fun ', \"Slimmer's Seat Pockets\", 'Class Trip Project: Washington DC', 'Help Us Achieve The Common Core', 'Spring Art Show Materials', 'Brilliant Scholars In Need  Of A Larger Leveled Library', 'Strengthening Social Skills Through Reading']\n",
            "21e42381027f23ed9530fa53f73a9b02 ['Mapping To Save The Planet', 'Science Computers and Programming Innovation', 'Body Systems Frankenstein Project Supplies', '1st Grade Math Center: Putting Things in Order', 'Students Helping Students', 'Rocking The Bronx: Bringing Music To The Classroom', 'Flipped Classroom Start-Up', 'A 3D Classroom', 'Be a \"Bucket Filler\" Donate Prizes!', \"Chromebooks for Harlem's Brightest  \"]\n",
            "22cfcb1eef1ee0ad0b8a38e0c48620cf ['Mapping To Save The Planet', 'Science Computers and Programming Innovation', 'Body Systems Frankenstein Project Supplies', '1st Grade Math Center: Putting Things in Order', \"Chromebooks for Harlem's Brightest  \", \"Slimmer's Seat Pockets\", 'Class Trip Project: Washington DC', 'Spring Art Show Materials', 'Brilliant Scholars In Need  Of A Larger Leveled Library', 'Yoga Mats for Awesome Kids']\n",
            "2866a1a3ed9fa5c081d16a5f099fba7e ['Mapping To Save The Planet', 'Body Systems Frankenstein Project Supplies', '1st Grade Math Center: Putting Things in Order', 'Students Helping Students', 'Rocking The Bronx: Bringing Music To The Classroom', 'A 3D Classroom', 'Make Math Fun ', 'Be a \"Bucket Filler\" Donate Prizes!', 'Brilliant Scholars In Need  Of A Larger Leveled Library', 'Strengthening Social Skills Through Reading']\n",
            "2edfaaa9130e8adfa71d7753c5b46bb4 ['Mapping To Save The Planet', 'Science Computers and Programming Innovation', 'Students Helping Students', 'Rocking The Bronx: Bringing Music To The Classroom', 'Flipped Classroom Start-Up', 'A 3D Classroom', 'Class Trip Project: Washington DC', 'Spring Art Show Materials', 'Brilliant Scholars In Need  Of A Larger Leveled Library', 'Strengthening Social Skills Through Reading']\n",
            "35c1c56fc47d1c7dee2b1bbe5471eb54 ['Mapping To Save The Planet', 'Science Computers and Programming Innovation', '1st Grade Math Center: Putting Things in Order', 'Students Helping Students', 'Flipped Classroom Start-Up', 'A 3D Classroom', 'Be a \"Bucket Filler\" Donate Prizes!', 'Class Trip Project: Washington DC', 'Help Us Achieve The Common Core', 'Spring Art Show Materials']\n",
            "4dbcd0db05154f396e2186a58c49178c ['Mapping To Save The Planet', 'Science Computers and Programming Innovation', 'Body Systems Frankenstein Project Supplies', 'With a Small Group Table, We Can Learn Together!', 'Students Helping Students', 'Rocking The Bronx: Bringing Music To The Classroom', 'Flipped Classroom Start-Up', 'A 3D Classroom', 'Class Trip Project: Washington DC', '\"Oh, the Places You\\'ll Go...\" With Technology! (2)']\n",
            "91494e936c36ffcd85ea23f04e5abf46 ['Mapping To Save The Planet', '1st Grade Math Center: Putting Things in Order', 'Students Helping Students', 'Rocking The Bronx: Bringing Music To The Classroom', 'Flipped Classroom Start-Up', 'A 3D Classroom', 'Be a \"Bucket Filler\" Donate Prizes!', 'Class Trip Project: Washington DC', 'Brilliant Scholars In Need  Of A Larger Leveled Library', 'Strengthening Social Skills Through Reading']\n",
            "deb7cd6dff612b528a21a95f5d0355a5 ['Mapping To Save The Planet', 'Science Computers and Programming Innovation', 'With a Small Group Table, We Can Learn Together!', 'Students Helping Students', 'Rocking The Bronx: Bringing Music To The Classroom', 'Flipped Classroom Start-Up', 'Class Trip Project: Washington DC', 'Help Us Achieve The Common Core', 'Spring Art Show Materials', 'Strengthening Social Skills Through Reading']\n",
            "f98f0086ca3ae2e39d831727bdd021dc ['Mapping To Save The Planet', 'Body Systems Frankenstein Project Supplies', 'With a Small Group Table, We Can Learn Together!', '1st Grade Math Center: Putting Things in Order', 'Students Helping Students', 'Rocking The Bronx: Bringing Music To The Classroom', 'Flipped Classroom Start-Up', 'A 3D Classroom', 'Make Math Fun ', 'Be a \"Bucket Filler\" Donate Prizes!']\n",
            "163cacf75afd51e3ab275c92925e9f35 ['Mapping To Save The Planet', 'Body Systems Frankenstein Project Supplies', 'With a Small Group Table, We Can Learn Together!', '1st Grade Math Center: Putting Things in Order', 'Rocking The Bronx: Bringing Music To The Classroom', 'A 3D Classroom', \"Chromebooks for Harlem's Brightest  \", '\"Oh, the Places You\\'ll Go...\" With Technology! (2)', 'Help Us Achieve The Common Core', 'Spring Art Show Materials']\n",
            "3967ec6471a902629678b094f8eeae07 ['Body Systems Frankenstein Project Supplies', 'With a Small Group Table, We Can Learn Together!', '1st Grade Math Center: Putting Things in Order', 'Rocking The Bronx: Bringing Music To The Classroom', 'Flipped Classroom Start-Up', \"Slimmer's Seat Pockets\", 'Help Us Achieve The Common Core', 'Spring Art Show Materials', 'Brilliant Scholars In Need  Of A Larger Leveled Library', 'Strengthening Social Skills Through Reading']\n",
            "7c3517f9f29bd25c9d92df96c202ee53 ['Camping Supplies ', 'Body Systems Frankenstein Project Supplies', 'With a Small Group Table, We Can Learn Together!', '1st Grade Math Center: Putting Things in Order', 'Students Helping Students', 'Rocking The Bronx: Bringing Music To The Classroom', 'A 3D Classroom', 'Make Math Fun ', \"Chromebooks for Harlem's Brightest  \", \"Slimmer's Seat Pockets\"]\n",
            "ce148b503c2a5e32b5cd13bffe46414a ['With a Small Group Table, We Can Learn Together!', '1st Grade Math Center: Putting Things in Order', 'Flipped Classroom Start-Up', 'A 3D Classroom', \"Slimmer's Seat Pockets\", 'Help Us Achieve The Common Core', 'Brilliant Scholars In Need  Of A Larger Leveled Library', 'Yoga Mats for Awesome Kids', 'Strengthening Social Skills Through Reading', 'Students Need Shakespeare\\'s Insults: \"Thou Cream Faced Loon\"']\n",
            "e159df750cf41e545bd337ccf1afa68c ['Body Systems Frankenstein Project Supplies', 'With a Small Group Table, We Can Learn Together!', '1st Grade Math Center: Putting Things in Order', 'Rocking The Bronx: Bringing Music To The Classroom', 'Flipped Classroom Start-Up', \"Chromebooks for Harlem's Brightest  \", \"Slimmer's Seat Pockets\", 'Help Us Achieve The Common Core', 'Spring Art Show Materials', 'Brilliant Scholars In Need  Of A Larger Leveled Library']\n",
            "e3ca653ef675f2c88260d8486d5c9268 ['Body Systems Frankenstein Project Supplies', 'With a Small Group Table, We Can Learn Together!', '1st Grade Math Center: Putting Things in Order', 'Students Helping Students', 'Rocking The Bronx: Bringing Music To The Classroom', 'Make Math Fun ', \"Chromebooks for Harlem's Brightest  \", \"Slimmer's Seat Pockets\", 'Brilliant Scholars In Need  Of A Larger Leveled Library', 'Yoga Mats for Awesome Kids']\n",
            "e4d51dabdbcf515d589c6ae962b60967 ['Body Systems Frankenstein Project Supplies', 'With a Small Group Table, We Can Learn Together!', '1st Grade Math Center: Putting Things in Order', 'Students Helping Students', 'Rocking The Bronx: Bringing Music To The Classroom', 'Flipped Classroom Start-Up', \"Chromebooks for Harlem's Brightest  \", \"Slimmer's Seat Pockets\", 'Help Us Achieve The Common Core', 'Spring Art Show Materials']\n",
            "1fd2ec528d80de78cd89aa9b066e386e ['Mapping To Save The Planet', 'Body Systems Frankenstein Project Supplies', 'With a Small Group Table, We Can Learn Together!', '1st Grade Math Center: Putting Things in Order', 'Students Helping Students', 'Rocking The Bronx: Bringing Music To The Classroom', 'Flipped Classroom Start-Up', 'A 3D Classroom', 'Make Math Fun ', \"Chromebooks for Harlem's Brightest  \"]\n",
            "3e4b8edebd8c20036485144c6e538d9a ['Mapping To Save The Planet', 'Science Computers and Programming Innovation', 'Body Systems Frankenstein Project Supplies', 'Flipped Classroom Start-Up', 'A 3D Classroom', \"Slimmer's Seat Pockets\", 'Class Trip Project: Washington DC', 'Brilliant Scholars In Need  Of A Larger Leveled Library', 'Strengthening Social Skills Through Reading', 'Students Need Shakespeare\\'s Insults: \"Thou Cream Faced Loon\"']\n",
            "485754fc28360061be6e44fc1bfb7412 ['Body Systems Frankenstein Project Supplies', 'With a Small Group Table, We Can Learn Together!', 'Students Helping Students', 'Flipped Classroom Start-Up', 'A 3D Classroom', 'Class Trip Project: Washington DC', '\"Oh, the Places You\\'ll Go...\" With Technology! (2)', 'Brilliant Scholars In Need  Of A Larger Leveled Library', 'Strengthening Social Skills Through Reading', 'Students Need Shakespeare\\'s Insults: \"Thou Cream Faced Loon\"']\n",
            "053cdf8444663669d2d1f4c23b3ea81f ['Mapping To Save The Planet', 'Camping Supplies ', 'Body Systems Frankenstein Project Supplies', 'With a Small Group Table, We Can Learn Together!', 'Students Helping Students', 'Rocking The Bronx: Bringing Music To The Classroom', 'Make Math Fun ', \"Chromebooks for Harlem's Brightest  \", 'Science Alive!', \"Slimmer's Seat Pockets\"]\n",
            "22bb39e6c2228e5ca52359efb99c76fc ['Mapping To Save The Planet', 'Science Computers and Programming Innovation', 'Body Systems Frankenstein Project Supplies', '1st Grade Math Center: Putting Things in Order', 'Rocking The Bronx: Bringing Music To The Classroom', 'Be a \"Bucket Filler\" Donate Prizes!', \"Chromebooks for Harlem's Brightest  \", 'Class Trip Project: Washington DC', 'Spring Art Show Materials', 'Brilliant Scholars In Need  Of A Larger Leveled Library']\n",
            "2f936a973819699a5e2973742ca3258c ['Mapping To Save The Planet', 'Science Computers and Programming Innovation', 'Body Systems Frankenstein Project Supplies', 'With a Small Group Table, We Can Learn Together!', '1st Grade Math Center: Putting Things in Order', 'Students Helping Students', 'Rocking The Bronx: Bringing Music To The Classroom', 'A 3D Classroom', 'Be a \"Bucket Filler\" Donate Prizes!', 'Spring Art Show Materials']\n",
            "35a66ff61079d31b07372ae1d76e30a0 ['Mapping To Save The Planet', 'Science Computers and Programming Innovation', 'With a Small Group Table, We Can Learn Together!', 'Students Helping Students', 'Rocking The Bronx: Bringing Music To The Classroom', 'Make Math Fun ', 'Be a \"Bucket Filler\" Donate Prizes!', 'Science Alive!', '\"Oh, the Places You\\'ll Go...\" With Technology! (2)', 'Spring Art Show Materials']\n",
            "3ca9a06718999342154ade4a484b1cf8 ['Science Computers and Programming Innovation', 'Body Systems Frankenstein Project Supplies', 'With a Small Group Table, We Can Learn Together!', 'Rocking The Bronx: Bringing Music To The Classroom', \"Chromebooks for Harlem's Brightest  \", 'Science Alive!', '\"Oh, the Places You\\'ll Go...\" With Technology! (2)', 'Spring Art Show Materials', 'Support Females in Athletics!', 'Learning Through the Technological Lens ']\n",
            "50de9ac35696957f50ee5bc0e1eedc5e ['Mapping To Save The Planet', 'Rocking The Bronx: Bringing Music To The Classroom', 'Flipped Classroom Start-Up', \"Slimmer's Seat Pockets\", 'Help Us Achieve The Common Core', 'Spring Art Show Materials', 'Students Need Shakespeare\\'s Insults: \"Thou Cream Faced Loon\"', 'Keep Calm and Crochet On!', 'Tonka Toys...  for BOYS???', 'Chemistry Lab Equipment for FSSA']\n",
            "6f9cc4b61ca4062e4809651f51c54b08 ['Mapping To Save The Planet', 'Science Computers and Programming Innovation', 'With a Small Group Table, We Can Learn Together!', 'Rocking The Bronx: Bringing Music To The Classroom', 'Flipped Classroom Start-Up', \"Slimmer's Seat Pockets\", 'Class Trip Project: Washington DC', 'Help Us Achieve The Common Core', 'Spring Art Show Materials', 'Brilliant Scholars In Need  Of A Larger Leveled Library']\n",
            "75eb545e4cfc11644732df688efd8b72 ['Mapping To Save The Planet', 'Science Computers and Programming Innovation', 'Students Helping Students', 'Flipped Classroom Start-Up', 'Be a \"Bucket Filler\" Donate Prizes!', \"Slimmer's Seat Pockets\", 'Class Trip Project: Washington DC', 'Spring Art Show Materials', 'Brilliant Scholars In Need  Of A Larger Leveled Library', 'Students Need Shakespeare\\'s Insults: \"Thou Cream Faced Loon\"']\n",
            "7a01387bb2f1e95e39a83eef003419e6 ['Mapping To Save The Planet', 'Body Systems Frankenstein Project Supplies', 'With a Small Group Table, We Can Learn Together!', 'Students Helping Students', 'Rocking The Bronx: Bringing Music To The Classroom', 'Make Math Fun ', \"Chromebooks for Harlem's Brightest  \", 'Science Alive!', \"Slimmer's Seat Pockets\", 'Class Trip Project: Washington DC']\n",
            "8baf067d45e025e7f5d652662a4d01f6 ['Mapping To Save The Planet', 'With a Small Group Table, We Can Learn Together!', '1st Grade Math Center: Putting Things in Order', 'Students Helping Students', 'Rocking The Bronx: Bringing Music To The Classroom', 'Flipped Classroom Start-Up', 'A 3D Classroom', 'Make Math Fun ', 'Science Alive!', 'Spring Art Show Materials']\n",
            "9124dc5bc2d885f57d780f70e31d77ab ['Mapping To Save The Planet', 'Science Computers and Programming Innovation', 'Rocking The Bronx: Bringing Music To The Classroom', 'A 3D Classroom', 'Be a \"Bucket Filler\" Donate Prizes!', 'Science Alive!', '\"Oh, the Places You\\'ll Go...\" With Technology! (2)', 'Help Us Achieve The Common Core', 'Spring Art Show Materials', 'Learning Through the Technological Lens ']\n",
            "9794a1a33fc90af870adf12de34fe5e4 ['Mapping To Save The Planet', 'Camping Supplies ', 'With a Small Group Table, We Can Learn Together!', 'Students Helping Students', 'Rocking The Bronx: Bringing Music To The Classroom', 'A 3D Classroom', 'Make Math Fun ', \"Chromebooks for Harlem's Brightest  \", 'Science Alive!', 'Spring Art Show Materials']\n",
            "bfe915b95f4378cbe7fd39a8409487e5 ['Mapping To Save The Planet', 'Science Computers and Programming Innovation', '1st Grade Math Center: Putting Things in Order', 'Students Helping Students', 'Rocking The Bronx: Bringing Music To The Classroom', 'A 3D Classroom', 'Be a \"Bucket Filler\" Donate Prizes!', \"Slimmer's Seat Pockets\", 'Class Trip Project: Washington DC', 'Spring Art Show Materials']\n",
            "f12e3d5d97b3d3c9c5e3ffdbb7294ed7 ['Mapping To Save The Planet', 'Science Computers and Programming Innovation', 'With a Small Group Table, We Can Learn Together!', 'Rocking The Bronx: Bringing Music To The Classroom', 'Flipped Classroom Start-Up', 'A 3D Classroom', 'Make Math Fun ', \"Chromebooks for Harlem's Brightest  \", 'Science Alive!', 'Class Trip Project: Washington DC']\n",
            "fbd1ad733b8a6f8410781b56e0b5ac6c ['Science Computers and Programming Innovation', 'With a Small Group Table, We Can Learn Together!', '1st Grade Math Center: Putting Things in Order', 'Rocking The Bronx: Bringing Music To The Classroom', 'Make Math Fun ', \"Slimmer's Seat Pockets\", '\"Oh, the Places You\\'ll Go...\" With Technology! (2)', 'Spring Art Show Materials', 'Support Females in Athletics!', 'Students Need Shakespeare\\'s Insults: \"Thou Cream Faced Loon\"']\n",
            "00517b9efea62a94123e6baccc6bbbee ['Science Computers and Programming Innovation', 'Body Systems Frankenstein Project Supplies', '1st Grade Math Center: Putting Things in Order', 'Students Helping Students', 'A 3D Classroom', 'Be a \"Bucket Filler\" Donate Prizes!', \"Chromebooks for Harlem's Brightest  \", 'Science Alive!', '\"Oh, the Places You\\'ll Go...\" With Technology! (2)', 'Yoga Mats for Awesome Kids']\n",
            "415cebf4068c650791b93e2d81d1da69 ['Science Computers and Programming Innovation', 'Body Systems Frankenstein Project Supplies', '1st Grade Math Center: Putting Things in Order', 'Rocking The Bronx: Bringing Music To The Classroom', 'A 3D Classroom', \"Chromebooks for Harlem's Brightest  \", \"Slimmer's Seat Pockets\", '\"Oh, the Places You\\'ll Go...\" With Technology! (2)', 'Yoga Mats for Awesome Kids', 'Strengthening Social Skills Through Reading']\n",
            "52ec2ef6dba31d78894fd7e81f7f7b84 ['Science Computers and Programming Innovation', '1st Grade Math Center: Putting Things in Order', 'Students Helping Students', 'A 3D Classroom', \"Chromebooks for Harlem's Brightest  \", \"Slimmer's Seat Pockets\", 'Class Trip Project: Washington DC', '\"Oh, the Places You\\'ll Go...\" With Technology! (2)', 'Spring Art Show Materials', 'Brilliant Scholars In Need  Of A Larger Leveled Library']\n",
            "5de000f2442740508427b51207da3419 ['Science Computers and Programming Innovation', 'Body Systems Frankenstein Project Supplies', 'Students Helping Students', \"Chromebooks for Harlem's Brightest  \", \"Slimmer's Seat Pockets\", '\"Oh, the Places You\\'ll Go...\" With Technology! (2)', 'Spring Art Show Materials', 'Yoga Mats for Awesome Kids', 'Strengthening Social Skills Through Reading', 'Support Females in Athletics!']\n",
            "60e7cc6452e4243ce7cfa8483ab94781 ['Science Computers and Programming Innovation', 'Body Systems Frankenstein Project Supplies', '1st Grade Math Center: Putting Things in Order', 'A 3D Classroom', 'Be a \"Bucket Filler\" Donate Prizes!', \"Chromebooks for Harlem's Brightest  \", '\"Oh, the Places You\\'ll Go...\" With Technology! (2)', 'Yoga Mats for Awesome Kids', 'Support Females in Athletics!', 'Students Need Shakespeare\\'s Insults: \"Thou Cream Faced Loon\"']\n",
            "918ec766630950dba521cd12b57205eb ['Science Computers and Programming Innovation', 'Body Systems Frankenstein Project Supplies', 'A 3D Classroom', 'Be a \"Bucket Filler\" Donate Prizes!', \"Chromebooks for Harlem's Brightest  \", \"Slimmer's Seat Pockets\", 'Class Trip Project: Washington DC', '\"Oh, the Places You\\'ll Go...\" With Technology! (2)', 'Strengthening Social Skills Through Reading', 'Support Females in Athletics!']\n",
            "c03c8122152dcf63c8a5c05443fdf4c8 ['Science Computers and Programming Innovation', 'Body Systems Frankenstein Project Supplies', 'With a Small Group Table, We Can Learn Together!', '1st Grade Math Center: Putting Things in Order', 'Students Helping Students', 'A 3D Classroom', 'Be a \"Bucket Filler\" Donate Prizes!', \"Chromebooks for Harlem's Brightest  \", \"Slimmer's Seat Pockets\", 'Class Trip Project: Washington DC']\n",
            "dd252961703da09da37865b6612f157b ['Science Computers and Programming Innovation', 'Body Systems Frankenstein Project Supplies', '1st Grade Math Center: Putting Things in Order', 'A 3D Classroom', \"Chromebooks for Harlem's Brightest  \", 'Science Alive!', \"Slimmer's Seat Pockets\", 'Class Trip Project: Washington DC', '\"Oh, the Places You\\'ll Go...\" With Technology! (2)', 'Brilliant Scholars In Need  Of A Larger Leveled Library']\n",
            "e879a1896d88388021c9f2da5cfc2c35 ['Science Computers and Programming Innovation', 'Body Systems Frankenstein Project Supplies', '1st Grade Math Center: Putting Things in Order', 'A 3D Classroom', \"Chromebooks for Harlem's Brightest  \", \"Slimmer's Seat Pockets\", '\"Oh, the Places You\\'ll Go...\" With Technology! (2)', 'Brilliant Scholars In Need  Of A Larger Leveled Library', 'Yoga Mats for Awesome Kids', 'Strengthening Social Skills Through Reading']\n",
            "ed998df29c0c809d17a8c9d03c75e04b ['Science Computers and Programming Innovation', 'Body Systems Frankenstein Project Supplies', '1st Grade Math Center: Putting Things in Order', 'Students Helping Students', \"Chromebooks for Harlem's Brightest  \", \"Slimmer's Seat Pockets\", '\"Oh, the Places You\\'ll Go...\" With Technology! (2)', 'Strengthening Social Skills Through Reading', 'Support Females in Athletics!', 'Students Need Shakespeare\\'s Insults: \"Thou Cream Faced Loon\"']\n",
            "f1244b7825679d27a53ad83383fb8446 ['Science Computers and Programming Innovation', 'Body Systems Frankenstein Project Supplies', '1st Grade Math Center: Putting Things in Order', \"Chromebooks for Harlem's Brightest  \", \"Slimmer's Seat Pockets\", '\"Oh, the Places You\\'ll Go...\" With Technology! (2)', 'Brilliant Scholars In Need  Of A Larger Leveled Library', 'Yoga Mats for Awesome Kids', 'Strengthening Social Skills Through Reading', 'Support Females in Athletics!']\n",
            "ff6fc860bbd3f877e1b57c70e534e47f ['Science Computers and Programming Innovation', 'Body Systems Frankenstein Project Supplies', '1st Grade Math Center: Putting Things in Order', 'Students Helping Students', \"Chromebooks for Harlem's Brightest  \", \"Slimmer's Seat Pockets\", 'Class Trip Project: Washington DC', '\"Oh, the Places You\\'ll Go...\" With Technology! (2)', 'Spring Art Show Materials', 'Brilliant Scholars In Need  Of A Larger Leveled Library']\n",
            "005214a899cf3bc431e25c5c4c37c632 ['Camping Supplies ', 'With a Small Group Table, We Can Learn Together!', '1st Grade Math Center: Putting Things in Order', 'Students Helping Students', 'Flipped Classroom Start-Up', 'Make Math Fun ', 'Be a \"Bucket Filler\" Donate Prizes!', \"Slimmer's Seat Pockets\", 'Class Trip Project: Washington DC', 'Help Us Achieve The Common Core']\n",
            "028f6cc88bd35e02f26b0518668b01f6 ['Mapping To Save The Planet', 'Camping Supplies ', 'Science Computers and Programming Innovation', 'With a Small Group Table, We Can Learn Together!', '1st Grade Math Center: Putting Things in Order', 'Rocking The Bronx: Bringing Music To The Classroom', 'A 3D Classroom', 'Class Trip Project: Washington DC', '\"Oh, the Places You\\'ll Go...\" With Technology! (2)', 'Help Us Achieve The Common Core']\n",
            "0305f33189ce911a395e3341240f1ff2 ['Mapping To Save The Planet', 'Camping Supplies ', 'With a Small Group Table, We Can Learn Together!', '1st Grade Math Center: Putting Things in Order', 'Rocking The Bronx: Bringing Music To The Classroom', 'Flipped Classroom Start-Up', 'A 3D Classroom', \"Slimmer's Seat Pockets\", 'Class Trip Project: Washington DC', 'Help Us Achieve The Common Core']\n",
            "0357f6b02d6751c4171bcd57336f98c3 ['Mapping To Save The Planet', 'Body Systems Frankenstein Project Supplies', '1st Grade Math Center: Putting Things in Order', 'Rocking The Bronx: Bringing Music To The Classroom', 'Flipped Classroom Start-Up', 'A 3D Classroom', 'Make Math Fun ', 'Class Trip Project: Washington DC', 'Help Us Achieve The Common Core', 'Spring Art Show Materials']\n",
            "06d92013369cba12cee816df6893ca88 ['Mapping To Save The Planet', 'Science Computers and Programming Innovation', 'Body Systems Frankenstein Project Supplies', '1st Grade Math Center: Putting Things in Order', 'Flipped Classroom Start-Up', 'A 3D Classroom', 'Class Trip Project: Washington DC', '\"Oh, the Places You\\'ll Go...\" With Technology! (2)', 'Help Us Achieve The Common Core', 'Brilliant Scholars In Need  Of A Larger Leveled Library']\n",
            "0bc27c178a06bc6370419c12969bb57d ['Mapping To Save The Planet', 'Science Computers and Programming Innovation', 'Body Systems Frankenstein Project Supplies', '1st Grade Math Center: Putting Things in Order', 'Students Helping Students', \"Slimmer's Seat Pockets\", 'Class Trip Project: Washington DC', 'Help Us Achieve The Common Core', 'Brilliant Scholars In Need  Of A Larger Leveled Library', 'Yoga Mats for Awesome Kids']\n",
            "0e210f62f3f0cb27598664a7f0116b09 ['Mapping To Save The Planet', 'Camping Supplies ', '1st Grade Math Center: Putting Things in Order', 'Students Helping Students', 'Rocking The Bronx: Bringing Music To The Classroom', 'Flipped Classroom Start-Up', 'A 3D Classroom', 'Make Math Fun ', 'Be a \"Bucket Filler\" Donate Prizes!', \"Slimmer's Seat Pockets\"]\n",
            "12af518894601a26f277cbbab19d8ab8 ['Mapping To Save The Planet', 'Camping Supplies ', 'Body Systems Frankenstein Project Supplies', 'With a Small Group Table, We Can Learn Together!', 'Rocking The Bronx: Bringing Music To The Classroom', 'Flipped Classroom Start-Up', 'A 3D Classroom', 'Make Math Fun ', 'Science Alive!', \"Slimmer's Seat Pockets\"]\n",
            "1436fadb99d1738674deb317974c6609 ['Mapping To Save The Planet', 'Body Systems Frankenstein Project Supplies', 'With a Small Group Table, We Can Learn Together!', '1st Grade Math Center: Putting Things in Order', 'Students Helping Students', 'Rocking The Bronx: Bringing Music To The Classroom', 'Flipped Classroom Start-Up', 'Make Math Fun ', \"Slimmer's Seat Pockets\", 'Class Trip Project: Washington DC']\n",
            "197802055a7a8597260798f046d31c9c ['Camping Supplies ', 'Body Systems Frankenstein Project Supplies', '1st Grade Math Center: Putting Things in Order', 'Students Helping Students', 'Rocking The Bronx: Bringing Music To The Classroom', 'Make Math Fun ', \"Slimmer's Seat Pockets\", 'Class Trip Project: Washington DC', 'Help Us Achieve The Common Core', 'Brilliant Scholars In Need  Of A Larger Leveled Library']\n",
            "1f17bd847608ede86ac78975f23f0108 ['Mapping To Save The Planet', 'Camping Supplies ', 'Body Systems Frankenstein Project Supplies', 'With a Small Group Table, We Can Learn Together!', 'Rocking The Bronx: Bringing Music To The Classroom', 'Flipped Classroom Start-Up', 'Make Math Fun ', \"Slimmer's Seat Pockets\", 'Class Trip Project: Washington DC', 'Help Us Achieve The Common Core']\n",
            "1ffe9ce1781f8118d9d0ab9c2d5ad654 ['Body Systems Frankenstein Project Supplies', 'With a Small Group Table, We Can Learn Together!', '1st Grade Math Center: Putting Things in Order', 'Rocking The Bronx: Bringing Music To The Classroom', 'Flipped Classroom Start-Up', 'Be a \"Bucket Filler\" Donate Prizes!', \"Slimmer's Seat Pockets\", 'Class Trip Project: Washington DC', '\"Oh, the Places You\\'ll Go...\" With Technology! (2)', 'Help Us Achieve The Common Core']\n",
            "25b0b82d2b54c05e9456a7d961abd9c5 ['Mapping To Save The Planet', 'Body Systems Frankenstein Project Supplies', '1st Grade Math Center: Putting Things in Order', 'Students Helping Students', 'Flipped Classroom Start-Up', \"Slimmer's Seat Pockets\", 'Class Trip Project: Washington DC', 'Help Us Achieve The Common Core', 'Brilliant Scholars In Need  Of A Larger Leveled Library', 'Yoga Mats for Awesome Kids']\n",
            "269d82a2a7dfc77c5b79618e2c551229 ['Mapping To Save The Planet', 'Camping Supplies ', 'Body Systems Frankenstein Project Supplies', 'With a Small Group Table, We Can Learn Together!', '1st Grade Math Center: Putting Things in Order', 'Students Helping Students', 'Rocking The Bronx: Bringing Music To The Classroom', 'Flipped Classroom Start-Up', 'Make Math Fun ', \"Chromebooks for Harlem's Brightest  \"]\n",
            "2c39f82dbedf7ef5c5444b03d3b10389 ['Camping Supplies ', 'With a Small Group Table, We Can Learn Together!', '1st Grade Math Center: Putting Things in Order', 'Students Helping Students', 'Flipped Classroom Start-Up', \"Slimmer's Seat Pockets\", 'Class Trip Project: Washington DC', 'Help Us Achieve The Common Core', 'Spring Art Show Materials', 'Brilliant Scholars In Need  Of A Larger Leveled Library']\n",
            "2f036d8aab6bee76ef42f0a893cff529 ['Mapping To Save The Planet', 'Body Systems Frankenstein Project Supplies', '1st Grade Math Center: Putting Things in Order', 'Rocking The Bronx: Bringing Music To The Classroom', \"Slimmer's Seat Pockets\", '\"Oh, the Places You\\'ll Go...\" With Technology! (2)', 'Help Us Achieve The Common Core', 'Spring Art Show Materials', 'Brilliant Scholars In Need  Of A Larger Leveled Library', 'Yoga Mats for Awesome Kids']\n",
            "392385b7a59f816943fec495c3629aa9 ['Mapping To Save The Planet', 'Camping Supplies ', 'Rocking The Bronx: Bringing Music To The Classroom', 'Flipped Classroom Start-Up', \"Slimmer's Seat Pockets\", 'Help Us Achieve The Common Core', 'Brilliant Scholars In Need  Of A Larger Leveled Library', 'Strengthening Social Skills Through Reading', 'Learning Through the Technological Lens ', 'Students Need Shakespeare\\'s Insults: \"Thou Cream Faced Loon\"']\n",
            "39a779e53067ad45ae79e00f7bab3193 ['Mapping To Save The Planet', 'Body Systems Frankenstein Project Supplies', '1st Grade Math Center: Putting Things in Order', 'Students Helping Students', 'Flipped Classroom Start-Up', 'A 3D Classroom', 'Be a \"Bucket Filler\" Donate Prizes!', \"Chromebooks for Harlem's Brightest  \", 'Class Trip Project: Washington DC', 'Spring Art Show Materials']\n",
            "3e8aaa2a0e75404ec30787b0f830de1b ['Mapping To Save The Planet', 'Body Systems Frankenstein Project Supplies', '1st Grade Math Center: Putting Things in Order', \"Chromebooks for Harlem's Brightest  \", \"Slimmer's Seat Pockets\", 'Class Trip Project: Washington DC', 'Help Us Achieve The Common Core', 'Brilliant Scholars In Need  Of A Larger Leveled Library', 'Yoga Mats for Awesome Kids', 'Strengthening Social Skills Through Reading']\n",
            "3ebf1a50705c0c000bb215053bcde2e5 ['Mapping To Save The Planet', 'Camping Supplies ', 'Body Systems Frankenstein Project Supplies', '1st Grade Math Center: Putting Things in Order', 'Students Helping Students', 'Flipped Classroom Start-Up', 'Make Math Fun ', \"Slimmer's Seat Pockets\", 'Class Trip Project: Washington DC', 'Help Us Achieve The Common Core']\n",
            "4fbae8bbacd530c0447ccbe17dfd8155 ['Body Systems Frankenstein Project Supplies', 'With a Small Group Table, We Can Learn Together!', '1st Grade Math Center: Putting Things in Order', 'Make Math Fun ', \"Chromebooks for Harlem's Brightest  \", \"Slimmer's Seat Pockets\", 'Class Trip Project: Washington DC', '\"Oh, the Places You\\'ll Go...\" With Technology! (2)', 'Help Us Achieve The Common Core', 'Brilliant Scholars In Need  Of A Larger Leveled Library']\n",
            "51e65dcff1b727d427453831e05cbe96 ['Mapping To Save The Planet', 'Camping Supplies ', 'Rocking The Bronx: Bringing Music To The Classroom', 'Flipped Classroom Start-Up', 'A 3D Classroom', \"Chromebooks for Harlem's Brightest  \", \"Slimmer's Seat Pockets\", 'Class Trip Project: Washington DC', '\"Oh, the Places You\\'ll Go...\" With Technology! (2)', 'Help Us Achieve The Common Core']\n",
            "523f421793a3c9ac884354718bb555aa ['Camping Supplies ', 'With a Small Group Table, We Can Learn Together!', '1st Grade Math Center: Putting Things in Order', 'Rocking The Bronx: Bringing Music To The Classroom', 'Flipped Classroom Start-Up', 'Make Math Fun ', \"Slimmer's Seat Pockets\", 'Class Trip Project: Washington DC', 'Help Us Achieve The Common Core', 'Brilliant Scholars In Need  Of A Larger Leveled Library']\n",
            "56a9e81d155459b4b926c41bbbd2150a ['Science Computers and Programming Innovation', 'Body Systems Frankenstein Project Supplies', 'With a Small Group Table, We Can Learn Together!', '1st Grade Math Center: Putting Things in Order', 'Students Helping Students', 'Flipped Classroom Start-Up', 'Make Math Fun ', \"Slimmer's Seat Pockets\", 'Class Trip Project: Washington DC', '\"Oh, the Places You\\'ll Go...\" With Technology! (2)']\n",
            "57aae6ffdaf16d77d7d7e371bb0cb7bc ['Mapping To Save The Planet', 'Science Computers and Programming Innovation', '1st Grade Math Center: Putting Things in Order', 'Students Helping Students', 'Rocking The Bronx: Bringing Music To The Classroom', 'Flipped Classroom Start-Up', 'A 3D Classroom', 'Be a \"Bucket Filler\" Donate Prizes!', \"Slimmer's Seat Pockets\", 'Class Trip Project: Washington DC']\n",
            "587c496354f4a8a2e17dcad022732419 ['Mapping To Save The Planet', 'Body Systems Frankenstein Project Supplies', 'With a Small Group Table, We Can Learn Together!', '1st Grade Math Center: Putting Things in Order', 'Students Helping Students', 'Rocking The Bronx: Bringing Music To The Classroom', 'Flipped Classroom Start-Up', 'A 3D Classroom', 'Make Math Fun ', \"Chromebooks for Harlem's Brightest  \"]\n",
            "6c1a0ddbf6493e3d7829a30aa806ddd5 ['Mapping To Save The Planet', 'Body Systems Frankenstein Project Supplies', '1st Grade Math Center: Putting Things in Order', 'Rocking The Bronx: Bringing Music To The Classroom', 'Flipped Classroom Start-Up', 'Make Math Fun ', \"Slimmer's Seat Pockets\", 'Class Trip Project: Washington DC', 'Help Us Achieve The Common Core', 'Brilliant Scholars In Need  Of A Larger Leveled Library']\n",
            "6c99a4ef90680a492b57a1680aea612e ['Camping Supplies ', 'With a Small Group Table, We Can Learn Together!', 'Rocking The Bronx: Bringing Music To The Classroom', 'Flipped Classroom Start-Up', \"Slimmer's Seat Pockets\", 'Class Trip Project: Washington DC', '\"Oh, the Places You\\'ll Go...\" With Technology! (2)', 'Help Us Achieve The Common Core', 'Spring Art Show Materials', 'Brilliant Scholars In Need  Of A Larger Leveled Library']\n",
            "6e28886e07fda16c6a04b5b60f755046 ['Mapping To Save The Planet', 'Body Systems Frankenstein Project Supplies', '1st Grade Math Center: Putting Things in Order', 'Students Helping Students', 'Flipped Classroom Start-Up', 'A 3D Classroom', 'Make Math Fun ', 'Be a \"Bucket Filler\" Donate Prizes!', \"Chromebooks for Harlem's Brightest  \", 'Class Trip Project: Washington DC']\n",
            "6efcc1bf4aaefb2983adebf1ace80584 ['Camping Supplies ', 'Body Systems Frankenstein Project Supplies', '1st Grade Math Center: Putting Things in Order', 'Students Helping Students', 'Flipped Classroom Start-Up', 'Make Math Fun ', \"Slimmer's Seat Pockets\", 'Class Trip Project: Washington DC', '\"Oh, the Places You\\'ll Go...\" With Technology! (2)', 'Help Us Achieve The Common Core']\n",
            "707274ce3a2a10edf13badf1e2ed91e4 ['Mapping To Save The Planet', '1st Grade Math Center: Putting Things in Order', 'Students Helping Students', 'Rocking The Bronx: Bringing Music To The Classroom', 'Flipped Classroom Start-Up', \"Slimmer's Seat Pockets\", 'Class Trip Project: Washington DC', 'Help Us Achieve The Common Core', 'Brilliant Scholars In Need  Of A Larger Leveled Library', 'Strengthening Social Skills Through Reading']\n",
            "75504670ae5f4027e07546f93bda1dad ['Mapping To Save The Planet', 'With a Small Group Table, We Can Learn Together!', '1st Grade Math Center: Putting Things in Order', 'Rocking The Bronx: Bringing Music To The Classroom', 'Flipped Classroom Start-Up', 'A 3D Classroom', \"Chromebooks for Harlem's Brightest  \", \"Slimmer's Seat Pockets\", 'Class Trip Project: Washington DC', 'Help Us Achieve The Common Core']\n",
            "7c3d7ca7b58c252a2c208e5e178ae338 ['Mapping To Save The Planet', 'Body Systems Frankenstein Project Supplies', '1st Grade Math Center: Putting Things in Order', 'Rocking The Bronx: Bringing Music To The Classroom', 'Flipped Classroom Start-Up', \"Slimmer's Seat Pockets\", 'Class Trip Project: Washington DC', '\"Oh, the Places You\\'ll Go...\" With Technology! (2)', 'Help Us Achieve The Common Core', 'Spring Art Show Materials']\n",
            "7d69d1b399f6ae4cb01551180d83253f ['Body Systems Frankenstein Project Supplies', '1st Grade Math Center: Putting Things in Order', 'Students Helping Students', 'Flipped Classroom Start-Up', 'A 3D Classroom', 'Make Math Fun ', 'Be a \"Bucket Filler\" Donate Prizes!', \"Slimmer's Seat Pockets\", 'Class Trip Project: Washington DC', 'Help Us Achieve The Common Core']\n",
            "7e031b0298295d8e5ad8565921c6d0fc ['Mapping To Save The Planet', 'Camping Supplies ', 'Body Systems Frankenstein Project Supplies', 'With a Small Group Table, We Can Learn Together!', '1st Grade Math Center: Putting Things in Order', 'Students Helping Students', 'Rocking The Bronx: Bringing Music To The Classroom', 'Flipped Classroom Start-Up', 'A 3D Classroom', 'Make Math Fun ']\n",
            "85741977d7531671a8a54005f16e3185 ['Mapping To Save The Planet', 'Body Systems Frankenstein Project Supplies', 'Students Helping Students', 'Flipped Classroom Start-Up', 'Make Math Fun ', 'Be a \"Bucket Filler\" Donate Prizes!', \"Slimmer's Seat Pockets\", 'Class Trip Project: Washington DC', 'Spring Art Show Materials', 'Brilliant Scholars In Need  Of A Larger Leveled Library']\n",
            "8641451ac7f5ce2b77f667aa4619ad31 ['Mapping To Save The Planet', 'Science Computers and Programming Innovation', 'Body Systems Frankenstein Project Supplies', '1st Grade Math Center: Putting Things in Order', 'Students Helping Students', 'Rocking The Bronx: Bringing Music To The Classroom', 'Flipped Classroom Start-Up', 'A 3D Classroom', 'Make Math Fun ', 'Be a \"Bucket Filler\" Donate Prizes!']\n",
            "98dcffc63605a9557462353638f5993f ['Body Systems Frankenstein Project Supplies', '1st Grade Math Center: Putting Things in Order', 'Students Helping Students', 'Flipped Classroom Start-Up', 'Make Math Fun ', \"Slimmer's Seat Pockets\", 'Class Trip Project: Washington DC', 'Help Us Achieve The Common Core', 'Brilliant Scholars In Need  Of A Larger Leveled Library', 'Yoga Mats for Awesome Kids']\n",
            "9e6908927c6bad0943d5d484068b5d7f ['Mapping To Save The Planet', 'Camping Supplies ', 'With a Small Group Table, We Can Learn Together!', 'Students Helping Students', 'Flipped Classroom Start-Up', 'A 3D Classroom', 'Science Alive!', \"Slimmer's Seat Pockets\", 'Class Trip Project: Washington DC', '\"Oh, the Places You\\'ll Go...\" With Technology! (2)']\n",
            "a2d971d35c52c12eadb6f8476f87cf87 ['Body Systems Frankenstein Project Supplies', 'With a Small Group Table, We Can Learn Together!', '1st Grade Math Center: Putting Things in Order', 'Students Helping Students', 'Flipped Classroom Start-Up', 'Make Math Fun ', \"Slimmer's Seat Pockets\", 'Class Trip Project: Washington DC', 'Help Us Achieve The Common Core', 'Brilliant Scholars In Need  Of A Larger Leveled Library']\n",
            "a729a21bced4f0a46fbc7c87aad7719d ['Camping Supplies ', 'With a Small Group Table, We Can Learn Together!', '1st Grade Math Center: Putting Things in Order', 'Students Helping Students', 'Rocking The Bronx: Bringing Music To The Classroom', 'Flipped Classroom Start-Up', 'Make Math Fun ', \"Slimmer's Seat Pockets\", 'Class Trip Project: Washington DC', 'Help Us Achieve The Common Core']\n",
            "b407a9ba2d3b3affdbb8bb3048c6c464 ['Mapping To Save The Planet', 'Camping Supplies ', 'Body Systems Frankenstein Project Supplies', 'With a Small Group Table, We Can Learn Together!', '1st Grade Math Center: Putting Things in Order', 'Students Helping Students', 'Flipped Classroom Start-Up', 'A 3D Classroom', 'Make Math Fun ', \"Slimmer's Seat Pockets\"]\n",
            "b8ba97ab1788509b49fcad20ba077fec ['Camping Supplies ', 'Body Systems Frankenstein Project Supplies', 'With a Small Group Table, We Can Learn Together!', 'Students Helping Students', \"Chromebooks for Harlem's Brightest  \", \"Slimmer's Seat Pockets\", 'Help Us Achieve The Common Core', 'Spring Art Show Materials', 'Brilliant Scholars In Need  Of A Larger Leveled Library', 'Yoga Mats for Awesome Kids']\n",
            "c1ac42f797297d32d72f6dada0b65d10 ['Camping Supplies ', 'Body Systems Frankenstein Project Supplies', 'Students Helping Students', 'Be a \"Bucket Filler\" Donate Prizes!', \"Slimmer's Seat Pockets\", 'Class Trip Project: Washington DC', 'Help Us Achieve The Common Core', 'Brilliant Scholars In Need  Of A Larger Leveled Library', 'Yoga Mats for Awesome Kids', 'Strengthening Social Skills Through Reading']\n",
            "c2f1a6bd271a6158e640663e8e08cb1f ['Mapping To Save The Planet', 'Camping Supplies ', 'Body Systems Frankenstein Project Supplies', '1st Grade Math Center: Putting Things in Order', 'Students Helping Students', 'Rocking The Bronx: Bringing Music To The Classroom', 'Flipped Classroom Start-Up', 'A 3D Classroom', 'Make Math Fun ', \"Chromebooks for Harlem's Brightest  \"]\n",
            "c4b8b3aa7b3213c2f9a57e1a0892dabb ['Camping Supplies ', '1st Grade Math Center: Putting Things in Order', 'Flipped Classroom Start-Up', 'A 3D Classroom', \"Chromebooks for Harlem's Brightest  \", \"Slimmer's Seat Pockets\", 'Class Trip Project: Washington DC', 'Help Us Achieve The Common Core', 'Brilliant Scholars In Need  Of A Larger Leveled Library', 'Yoga Mats for Awesome Kids']\n",
            "c5dd11c8e0d972f331b5770f07a69c82 ['Mapping To Save The Planet', '1st Grade Math Center: Putting Things in Order', 'Rocking The Bronx: Bringing Music To The Classroom', 'Flipped Classroom Start-Up', \"Slimmer's Seat Pockets\", 'Class Trip Project: Washington DC', 'Help Us Achieve The Common Core', 'Brilliant Scholars In Need  Of A Larger Leveled Library', 'Yoga Mats for Awesome Kids', 'Learning Through the Technological Lens ']\n",
            "d31d3a655a60ae1680041bc6d7a4966e ['Body Systems Frankenstein Project Supplies', '1st Grade Math Center: Putting Things in Order', 'Students Helping Students', 'A 3D Classroom', \"Chromebooks for Harlem's Brightest  \", \"Slimmer's Seat Pockets\", 'Class Trip Project: Washington DC', '\"Oh, the Places You\\'ll Go...\" With Technology! (2)', 'Help Us Achieve The Common Core', 'Brilliant Scholars In Need  Of A Larger Leveled Library']\n",
            "d84b7cb1bfbb21480e1a57273d6db03d ['Mapping To Save The Planet', 'Camping Supplies ', 'With a Small Group Table, We Can Learn Together!', '1st Grade Math Center: Putting Things in Order', 'Students Helping Students', 'Flipped Classroom Start-Up', 'A 3D Classroom', \"Slimmer's Seat Pockets\", 'Class Trip Project: Washington DC', 'Help Us Achieve The Common Core']\n",
            "da55357d0cedcf73a80e741a2cc269f2 ['Mapping To Save The Planet', 'Body Systems Frankenstein Project Supplies', '1st Grade Math Center: Putting Things in Order', 'Students Helping Students', 'Rocking The Bronx: Bringing Music To The Classroom', 'Flipped Classroom Start-Up', 'Make Math Fun ', 'Be a \"Bucket Filler\" Donate Prizes!', \"Slimmer's Seat Pockets\", 'Class Trip Project: Washington DC']\n",
            "da8470b574491adf01cf956ffbc97d53 ['Camping Supplies ', 'Body Systems Frankenstein Project Supplies', 'With a Small Group Table, We Can Learn Together!', '1st Grade Math Center: Putting Things in Order', 'Students Helping Students', 'Rocking The Bronx: Bringing Music To The Classroom', 'Flipped Classroom Start-Up', 'A 3D Classroom', 'Make Math Fun ', \"Slimmer's Seat Pockets\"]\n",
            "dbed7a8048f023c6e82572464f1466c2 ['Mapping To Save The Planet', '1st Grade Math Center: Putting Things in Order', 'Flipped Classroom Start-Up', 'Be a \"Bucket Filler\" Donate Prizes!', \"Chromebooks for Harlem's Brightest  \", \"Slimmer's Seat Pockets\", 'Class Trip Project: Washington DC', 'Help Us Achieve The Common Core', 'Spring Art Show Materials', 'Brilliant Scholars In Need  Of A Larger Leveled Library']\n",
            "e4b3f28646922d9d7db93ab9c23a43cc ['Mapping To Save The Planet', 'Camping Supplies ', 'With a Small Group Table, We Can Learn Together!', 'Rocking The Bronx: Bringing Music To The Classroom', 'Flipped Classroom Start-Up', 'Make Math Fun ', \"Slimmer's Seat Pockets\", 'Class Trip Project: Washington DC', 'Help Us Achieve The Common Core', 'Brilliant Scholars In Need  Of A Larger Leveled Library']\n",
            "e67a6e517c0da7369b05e764bc7b1fb7 ['Mapping To Save The Planet', 'Body Systems Frankenstein Project Supplies', '1st Grade Math Center: Putting Things in Order', 'Rocking The Bronx: Bringing Music To The Classroom', 'Flipped Classroom Start-Up', \"Slimmer's Seat Pockets\", 'Class Trip Project: Washington DC', 'Help Us Achieve The Common Core', 'Spring Art Show Materials', 'Brilliant Scholars In Need  Of A Larger Leveled Library']\n",
            "eab180b82016642084e061ec689940e2 ['Body Systems Frankenstein Project Supplies', '1st Grade Math Center: Putting Things in Order', 'Students Helping Students', 'Make Math Fun ', 'Be a \"Bucket Filler\" Donate Prizes!', \"Chromebooks for Harlem's Brightest  \", \"Slimmer's Seat Pockets\", 'Class Trip Project: Washington DC', 'Help Us Achieve The Common Core', 'Brilliant Scholars In Need  Of A Larger Leveled Library']\n",
            "ee060048c91706975922375604194e40 ['Camping Supplies ', 'With a Small Group Table, We Can Learn Together!', '1st Grade Math Center: Putting Things in Order', 'Students Helping Students', 'Rocking The Bronx: Bringing Music To The Classroom', 'Flipped Classroom Start-Up', 'Make Math Fun ', \"Chromebooks for Harlem's Brightest  \", \"Slimmer's Seat Pockets\", 'Class Trip Project: Washington DC']\n",
            "f0d87c2d326395980bf048376bf0c004 ['Mapping To Save The Planet', 'Camping Supplies ', 'Body Systems Frankenstein Project Supplies', 'With a Small Group Table, We Can Learn Together!', '1st Grade Math Center: Putting Things in Order', 'Students Helping Students', 'Rocking The Bronx: Bringing Music To The Classroom', 'Flipped Classroom Start-Up', 'Make Math Fun ', \"Slimmer's Seat Pockets\"]\n",
            "f373583e68beb68ab632e05735afd103 ['Camping Supplies ', 'Body Systems Frankenstein Project Supplies', 'With a Small Group Table, We Can Learn Together!', '1st Grade Math Center: Putting Things in Order', 'Rocking The Bronx: Bringing Music To The Classroom', 'A 3D Classroom', \"Chromebooks for Harlem's Brightest  \", \"Slimmer's Seat Pockets\", 'Class Trip Project: Washington DC', 'Help Us Achieve The Common Core']\n",
            "fe776054a20782f2d6f8fd2a6275dcae ['Body Systems Frankenstein Project Supplies', 'With a Small Group Table, We Can Learn Together!', '1st Grade Math Center: Putting Things in Order', 'Flipped Classroom Start-Up', 'A 3D Classroom', 'Make Math Fun ', \"Chromebooks for Harlem's Brightest  \", \"Slimmer's Seat Pockets\", 'Class Trip Project: Washington DC', '\"Oh, the Places You\\'ll Go...\" With Technology! (2)']\n",
            "00550d6678ef7b9c39efe929b4ce0298 ['Science Computers and Programming Innovation', 'With a Small Group Table, We Can Learn Together!', '1st Grade Math Center: Putting Things in Order', 'Rocking The Bronx: Bringing Music To The Classroom', 'Flipped Classroom Start-Up', 'Be a \"Bucket Filler\" Donate Prizes!', \"Slimmer's Seat Pockets\", 'Class Trip Project: Washington DC', 'Help Us Achieve The Common Core', 'Brilliant Scholars In Need  Of A Larger Leveled Library']\n",
            "0055574fec33c87661ca740aa492915e ['Mapping To Save The Planet', 'Camping Supplies ', 'With a Small Group Table, We Can Learn Together!', 'Rocking The Bronx: Bringing Music To The Classroom', 'Flipped Classroom Start-Up', 'A 3D Classroom', 'Be a \"Bucket Filler\" Donate Prizes!', 'Science Alive!', '\"Oh, the Places You\\'ll Go...\" With Technology! (2)', 'Help Us Achieve The Common Core']\n",
            "22531da33f1ff51d512b5a6fa21bbb49 ['Mapping To Save The Planet', 'Camping Supplies ', 'Science Computers and Programming Innovation', 'With a Small Group Table, We Can Learn Together!', 'Rocking The Bronx: Bringing Music To The Classroom', 'Flipped Classroom Start-Up', 'A 3D Classroom', 'Be a \"Bucket Filler\" Donate Prizes!', 'Class Trip Project: Washington DC', 'Help Us Achieve The Common Core']\n",
            "367882be77a9a71cfb11d48182c982b9 ['Mapping To Save The Planet', 'Camping Supplies ', 'Rocking The Bronx: Bringing Music To The Classroom', 'Flipped Classroom Start-Up', 'A 3D Classroom', 'Be a \"Bucket Filler\" Donate Prizes!', 'Science Alive!', '\"Oh, the Places You\\'ll Go...\" With Technology! (2)', 'Help Us Achieve The Common Core', 'Yoga Mats for Awesome Kids']\n",
            "4220d07fda5cfa1018f966e4f07c7189 ['Camping Supplies ', 'Body Systems Frankenstein Project Supplies', 'Rocking The Bronx: Bringing Music To The Classroom', 'Flipped Classroom Start-Up', 'A 3D Classroom', 'Be a \"Bucket Filler\" Donate Prizes!', 'Science Alive!', \"Slimmer's Seat Pockets\", 'Class Trip Project: Washington DC', '\"Oh, the Places You\\'ll Go...\" With Technology! (2)']\n",
            "4a5300bc828ffd77d253bd91bc872191 ['Camping Supplies ', 'Science Computers and Programming Innovation', 'Rocking The Bronx: Bringing Music To The Classroom', 'A 3D Classroom', 'Be a \"Bucket Filler\" Donate Prizes!', '\"Oh, the Places You\\'ll Go...\" With Technology! (2)', 'Help Us Achieve The Common Core', 'Strengthening Social Skills Through Reading', 'Support Females in Athletics!', 'Students Need Shakespeare\\'s Insults: \"Thou Cream Faced Loon\"']\n",
            "6b63518543c41a56659bde9be6520408 ['Mapping To Save The Planet', 'Camping Supplies ', 'With a Small Group Table, We Can Learn Together!', 'Rocking The Bronx: Bringing Music To The Classroom', 'Flipped Classroom Start-Up', 'A 3D Classroom', 'Make Math Fun ', 'Be a \"Bucket Filler\" Donate Prizes!', 'Science Alive!', '\"Oh, the Places You\\'ll Go...\" With Technology! (2)']\n",
            "cf9c5f42d74338774bef43ef33d4b3ef ['Mapping To Save The Planet', 'Camping Supplies ', 'Science Computers and Programming Innovation', 'Rocking The Bronx: Bringing Music To The Classroom', 'Flipped Classroom Start-Up', 'A 3D Classroom', 'Class Trip Project: Washington DC', '\"Oh, the Places You\\'ll Go...\" With Technology! (2)', 'Help Us Achieve The Common Core', 'Strengthening Social Skills Through Reading']\n",
            "e8e92c40f9920ba9187f82a67171eb8f ['Mapping To Save The Planet', 'Camping Supplies ', 'Rocking The Bronx: Bringing Music To The Classroom', 'Flipped Classroom Start-Up', 'A 3D Classroom', 'Make Math Fun ', \"Slimmer's Seat Pockets\", 'Class Trip Project: Washington DC', 'Help Us Achieve The Common Core', 'Spring Art Show Materials']\n",
            "005d4329138d8a6db8138858d2e0654a ['Mapping To Save The Planet', 'Science Computers and Programming Innovation', '1st Grade Math Center: Putting Things in Order', 'Rocking The Bronx: Bringing Music To The Classroom', 'Flipped Classroom Start-Up', 'A 3D Classroom', 'Class Trip Project: Washington DC', '\"Oh, the Places You\\'ll Go...\" With Technology! (2)', 'Help Us Achieve The Common Core', 'Brilliant Scholars In Need  Of A Larger Leveled Library']\n",
            "2c2fbbf584e7010561da977d1fa60bcd ['Mapping To Save The Planet', 'Camping Supplies ', '1st Grade Math Center: Putting Things in Order', 'Rocking The Bronx: Bringing Music To The Classroom', 'Flipped Classroom Start-Up', 'A 3D Classroom', \"Slimmer's Seat Pockets\", 'Class Trip Project: Washington DC', 'Help Us Achieve The Common Core', 'Spring Art Show Materials']\n",
            "0064439d63fa4483d98e99b1e60e70ff ['Mapping To Save The Planet', 'Camping Supplies ', 'A 3D Classroom', 'Be a \"Bucket Filler\" Donate Prizes!', \"Chromebooks for Harlem's Brightest  \", \"Slimmer's Seat Pockets\", 'Help Us Achieve The Common Core', 'Spring Art Show Materials', 'Brilliant Scholars In Need  Of A Larger Leveled Library', 'Students Need Shakespeare\\'s Insults: \"Thou Cream Faced Loon\"']\n",
            "0069035c796b1ff40ed5a2b486512899 ['Camping Supplies ', 'With a Small Group Table, We Can Learn Together!', '1st Grade Math Center: Putting Things in Order', 'Students Helping Students', 'Rocking The Bronx: Bringing Music To The Classroom', 'Flipped Classroom Start-Up', 'Make Math Fun ', 'Science Alive!', \"Slimmer's Seat Pockets\", 'Class Trip Project: Washington DC']\n",
            "006ba35bac881eb72b1f1f8b19fb6036 ['Camping Supplies ', 'Body Systems Frankenstein Project Supplies', 'With a Small Group Table, We Can Learn Together!', 'Students Helping Students', 'Rocking The Bronx: Bringing Music To The Classroom', 'A 3D Classroom', 'Be a \"Bucket Filler\" Donate Prizes!', \"Chromebooks for Harlem's Brightest  \", 'Science Alive!', 'Class Trip Project: Washington DC']\n",
            "006e617fc05dce46c42a3f70455ab7d0 ['Mapping To Save The Planet', 'Camping Supplies ', 'Science Computers and Programming Innovation', 'Body Systems Frankenstein Project Supplies', 'With a Small Group Table, We Can Learn Together!', 'Students Helping Students', 'A 3D Classroom', 'Be a \"Bucket Filler\" Donate Prizes!', \"Chromebooks for Harlem's Brightest  \", 'Science Alive!']\n",
            "a0edf1343edd1f59187086cc9940e6bb ['Mapping To Save The Planet', 'Camping Supplies ', 'Body Systems Frankenstein Project Supplies', 'With a Small Group Table, We Can Learn Together!', '1st Grade Math Center: Putting Things in Order', 'Students Helping Students', 'Rocking The Bronx: Bringing Music To The Classroom', 'A 3D Classroom', 'Make Math Fun ', 'Be a \"Bucket Filler\" Donate Prizes!']\n",
            "006f07b0b3f21269aa9445eb9f050fbb ['Science Computers and Programming Innovation', 'Body Systems Frankenstein Project Supplies', 'With a Small Group Table, We Can Learn Together!', '1st Grade Math Center: Putting Things in Order', 'Rocking The Bronx: Bringing Music To The Classroom', \"Slimmer's Seat Pockets\", 'Class Trip Project: Washington DC', '\"Oh, the Places You\\'ll Go...\" With Technology! (2)', 'Help Us Achieve The Common Core', 'Spring Art Show Materials']\n",
            "88b7446f3e81bf1983e4991456b4a0d0 ['Body Systems Frankenstein Project Supplies', 'With a Small Group Table, We Can Learn Together!', '1st Grade Math Center: Putting Things in Order', 'Students Helping Students', 'Rocking The Bronx: Bringing Music To The Classroom', 'Make Math Fun ', \"Chromebooks for Harlem's Brightest  \", \"Slimmer's Seat Pockets\", 'Class Trip Project: Washington DC', '\"Oh, the Places You\\'ll Go...\" With Technology! (2)']\n",
            "d4938ccc160ff2443b8d0de66fe3a6dd ['Body Systems Frankenstein Project Supplies', 'With a Small Group Table, We Can Learn Together!', '1st Grade Math Center: Putting Things in Order', 'Students Helping Students', 'Rocking The Bronx: Bringing Music To The Classroom', 'Flipped Classroom Start-Up', 'Be a \"Bucket Filler\" Donate Prizes!', 'Class Trip Project: Washington DC', 'Help Us Achieve The Common Core', 'Spring Art Show Materials']\n",
            "64f51b079c85892f33ead08b6f94228a ['Science Computers and Programming Innovation', 'Body Systems Frankenstein Project Supplies', 'With a Small Group Table, We Can Learn Together!', '1st Grade Math Center: Putting Things in Order', 'Students Helping Students', 'Rocking The Bronx: Bringing Music To The Classroom', 'Make Math Fun ', 'Be a \"Bucket Filler\" Donate Prizes!', 'Science Alive!', 'Class Trip Project: Washington DC']\n",
            "006ff7fb5e940fdf08fd7f6395b7cf85 ['Mapping To Save The Planet', 'Camping Supplies ', 'With a Small Group Table, We Can Learn Together!', 'Students Helping Students', 'Rocking The Bronx: Bringing Music To The Classroom', 'Flipped Classroom Start-Up', 'Make Math Fun ', \"Slimmer's Seat Pockets\", '\"Oh, the Places You\\'ll Go...\" With Technology! (2)', 'Help Us Achieve The Common Core']\n",
            "02a20f14b7783ffc58d1567f367803c8 ['Mapping To Save The Planet', 'Camping Supplies ', 'With a Small Group Table, We Can Learn Together!', 'Students Helping Students', 'Flipped Classroom Start-Up', 'A 3D Classroom', 'Make Math Fun ', \"Slimmer's Seat Pockets\", 'Class Trip Project: Washington DC', 'Help Us Achieve The Common Core']\n",
            "23ef09e7fbe932c68ce3d5359a831143 ['Camping Supplies ', 'Science Computers and Programming Innovation', 'With a Small Group Table, We Can Learn Together!', 'Rocking The Bronx: Bringing Music To The Classroom', 'Flipped Classroom Start-Up', \"Slimmer's Seat Pockets\", 'Class Trip Project: Washington DC', 'Help Us Achieve The Common Core', 'Spring Art Show Materials', 'Brilliant Scholars In Need  Of A Larger Leveled Library']\n",
            "292dcf2cc8c7b5ee6af0dade04680203 ['Mapping To Save The Planet', 'Rocking The Bronx: Bringing Music To The Classroom', 'Flipped Classroom Start-Up', \"Slimmer's Seat Pockets\", 'Class Trip Project: Washington DC', 'Help Us Achieve The Common Core', 'Spring Art Show Materials', 'Brilliant Scholars In Need  Of A Larger Leveled Library', 'Strengthening Social Skills Through Reading', 'Students Need Shakespeare\\'s Insults: \"Thou Cream Faced Loon\"']\n",
            "3ad9d33b714831597539f3b4862425db ['Camping Supplies ', 'With a Small Group Table, We Can Learn Together!', '1st Grade Math Center: Putting Things in Order', 'Rocking The Bronx: Bringing Music To The Classroom', 'Flipped Classroom Start-Up', 'A 3D Classroom', 'Make Math Fun ', 'Science Alive!', \"Slimmer's Seat Pockets\", 'Class Trip Project: Washington DC']\n",
            "41887f6f6fe9f239dcd6de41458addaa ['Camping Supplies ', 'Science Computers and Programming Innovation', 'With a Small Group Table, We Can Learn Together!', 'Students Helping Students', 'Flipped Classroom Start-Up', \"Slimmer's Seat Pockets\", 'Class Trip Project: Washington DC', '\"Oh, the Places You\\'ll Go...\" With Technology! (2)', 'Help Us Achieve The Common Core', 'Brilliant Scholars In Need  Of A Larger Leveled Library']\n",
            "5271c4ae0fe9f6eccdfdae0a843bf1f2 ['Camping Supplies ', 'With a Small Group Table, We Can Learn Together!', 'Rocking The Bronx: Bringing Music To The Classroom', 'Flipped Classroom Start-Up', 'A 3D Classroom', 'Make Math Fun ', 'Science Alive!', '\"Oh, the Places You\\'ll Go...\" With Technology! (2)', 'Help Us Achieve The Common Core', 'Spring Art Show Materials']\n",
            "6dd06447d3aa34e21bceb7170b54b54c ['Camping Supplies ', 'With a Small Group Table, We Can Learn Together!', 'Rocking The Bronx: Bringing Music To The Classroom', 'Flipped Classroom Start-Up', 'Make Math Fun ', \"Slimmer's Seat Pockets\", 'Class Trip Project: Washington DC', 'Help Us Achieve The Common Core', 'Spring Art Show Materials', 'Brilliant Scholars In Need  Of A Larger Leveled Library']\n",
            "810c7d76fb85e0df1a3faf883c844ec3 ['Mapping To Save The Planet', 'Camping Supplies ', 'Science Computers and Programming Innovation', 'With a Small Group Table, We Can Learn Together!', 'Rocking The Bronx: Bringing Music To The Classroom', 'Flipped Classroom Start-Up', 'A 3D Classroom', \"Slimmer's Seat Pockets\", 'Class Trip Project: Washington DC', 'Help Us Achieve The Common Core']\n",
            "84b41ed512d7187b18f0c6d5f817614f ['Camping Supplies ', 'With a Small Group Table, We Can Learn Together!', 'Rocking The Bronx: Bringing Music To The Classroom', 'Flipped Classroom Start-Up', 'A 3D Classroom', \"Slimmer's Seat Pockets\", 'Class Trip Project: Washington DC', 'Help Us Achieve The Common Core', 'Spring Art Show Materials', 'Brilliant Scholars In Need  Of A Larger Leveled Library']\n",
            "8b13db15f28b0d5cd1b9355c847c154c ['Science Computers and Programming Innovation', 'With a Small Group Table, We Can Learn Together!', 'Students Helping Students', 'Flipped Classroom Start-Up', 'A 3D Classroom', 'Be a \"Bucket Filler\" Donate Prizes!', \"Slimmer's Seat Pockets\", 'Class Trip Project: Washington DC', '\"Oh, the Places You\\'ll Go...\" With Technology! (2)', 'Help Us Achieve The Common Core']\n",
            "8c76651396e8e470969c2fbfaee549c9 ['Camping Supplies ', 'With a Small Group Table, We Can Learn Together!', 'Rocking The Bronx: Bringing Music To The Classroom', 'Flipped Classroom Start-Up', 'A 3D Classroom', \"Slimmer's Seat Pockets\", 'Class Trip Project: Washington DC', 'Help Us Achieve The Common Core', 'Spring Art Show Materials', 'Brilliant Scholars In Need  Of A Larger Leveled Library']\n",
            "90fbf1ac74d603a351855c6b660b1a4b ['Mapping To Save The Planet', 'Camping Supplies ', 'Rocking The Bronx: Bringing Music To The Classroom', 'Flipped Classroom Start-Up', 'Make Math Fun ', \"Slimmer's Seat Pockets\", 'Help Us Achieve The Common Core', 'Spring Art Show Materials', 'Support Females in Athletics!', 'Learning Through the Technological Lens ']\n",
            "9291e61ca20ec6f2e855f123c23c225b ['Camping Supplies ', 'With a Small Group Table, We Can Learn Together!', 'Rocking The Bronx: Bringing Music To The Classroom', 'Flipped Classroom Start-Up', 'Make Math Fun ', 'Science Alive!', \"Slimmer's Seat Pockets\", 'Class Trip Project: Washington DC', '\"Oh, the Places You\\'ll Go...\" With Technology! (2)', 'Help Us Achieve The Common Core']\n",
            "b3a9afa5a79307f392b0d40cce0f8612 ['Mapping To Save The Planet', 'Science Computers and Programming Innovation', 'With a Small Group Table, We Can Learn Together!', 'Rocking The Bronx: Bringing Music To The Classroom', 'Flipped Classroom Start-Up', \"Slimmer's Seat Pockets\", 'Class Trip Project: Washington DC', '\"Oh, the Places You\\'ll Go...\" With Technology! (2)', 'Help Us Achieve The Common Core', 'Spring Art Show Materials']\n",
            "bf558e91c7662a98b71512089a327d24 ['Camping Supplies ', 'With a Small Group Table, We Can Learn Together!', 'Rocking The Bronx: Bringing Music To The Classroom', 'Flipped Classroom Start-Up', 'Science Alive!', \"Slimmer's Seat Pockets\", 'Class Trip Project: Washington DC', 'Help Us Achieve The Common Core', 'Spring Art Show Materials', 'Singing with Preparation and Pride']\n",
            "cbd6c4d3f8323d4f45da1be321eeea69 ['Mapping To Save The Planet', 'Camping Supplies ', 'Science Computers and Programming Innovation', 'Students Helping Students', \"Slimmer's Seat Pockets\", 'Help Us Achieve The Common Core', 'Spring Art Show Materials', 'Support Females in Athletics!', 'Students Need Shakespeare\\'s Insults: \"Thou Cream Faced Loon\"', 'Keep Calm and Crochet On!']\n",
            "d60ee34a65f11d3f05918d3331b47ba6 ['Mapping To Save The Planet', 'With a Small Group Table, We Can Learn Together!', '1st Grade Math Center: Putting Things in Order', 'Rocking The Bronx: Bringing Music To The Classroom', 'Flipped Classroom Start-Up', 'Science Alive!', \"Slimmer's Seat Pockets\", 'Class Trip Project: Washington DC', 'Help Us Achieve The Common Core', 'Spring Art Show Materials']\n",
            "27defacbc27ab2be81e768f2d81b1c47 ['Camping Supplies ', 'Body Systems Frankenstein Project Supplies', 'With a Small Group Table, We Can Learn Together!', 'Students Helping Students', 'Rocking The Bronx: Bringing Music To The Classroom', 'Flipped Classroom Start-Up', 'A 3D Classroom', 'Make Math Fun ', 'Be a \"Bucket Filler\" Donate Prizes!', 'Science Alive!']\n",
            "3f8e7acb07398d4b271aafeea4b4f55b ['Mapping To Save The Planet', 'Body Systems Frankenstein Project Supplies', 'With a Small Group Table, We Can Learn Together!', 'Rocking The Bronx: Bringing Music To The Classroom', 'Flipped Classroom Start-Up', 'A 3D Classroom', 'Be a \"Bucket Filler\" Donate Prizes!', 'Science Alive!', '\"Oh, the Places You\\'ll Go...\" With Technology! (2)', 'Yoga Mats for Awesome Kids']\n",
            "45479e0afc9997794558bacdc030d5e8 ['Mapping To Save The Planet', 'Camping Supplies ', 'With a Small Group Table, We Can Learn Together!', 'Rocking The Bronx: Bringing Music To The Classroom', 'Flipped Classroom Start-Up', 'Be a \"Bucket Filler\" Donate Prizes!', 'Help Us Achieve The Common Core', 'Spring Art Show Materials', 'Learning Through the Technological Lens ', 'Students Need Shakespeare\\'s Insults: \"Thou Cream Faced Loon\"']\n",
            "6aa6140ae660a3aeb2075483188b1dbb ['Mapping To Save The Planet', 'Body Systems Frankenstein Project Supplies', 'With a Small Group Table, We Can Learn Together!', 'Students Helping Students', 'Rocking The Bronx: Bringing Music To The Classroom', 'Flipped Classroom Start-Up', 'Make Math Fun ', '\"Oh, the Places You\\'ll Go...\" With Technology! (2)', 'Help Us Achieve The Common Core', 'Spring Art Show Materials']\n",
            "99c2352242d88c259cc3f9772610d534 ['Mapping To Save The Planet', 'Body Systems Frankenstein Project Supplies', 'With a Small Group Table, We Can Learn Together!', '1st Grade Math Center: Putting Things in Order', 'Rocking The Bronx: Bringing Music To The Classroom', 'Flipped Classroom Start-Up', 'A 3D Classroom', \"Chromebooks for Harlem's Brightest  \", 'Science Alive!', '\"Oh, the Places You\\'ll Go...\" With Technology! (2)']\n",
            "f2766fe96c14716712c11bce1fd44921 ['Mapping To Save The Planet', 'Body Systems Frankenstein Project Supplies', 'With a Small Group Table, We Can Learn Together!', 'Students Helping Students', 'Flipped Classroom Start-Up', 'A 3D Classroom', 'Make Math Fun ', 'Be a \"Bucket Filler\" Donate Prizes!', 'Learning Through the Technological Lens ', 'Students Need Shakespeare\\'s Insults: \"Thou Cream Faced Loon\"']\n",
            "fa529c74a7c7518c906134d3e465b17e ['Mapping To Save The Planet', 'With a Small Group Table, We Can Learn Together!', '1st Grade Math Center: Putting Things in Order', 'Rocking The Bronx: Bringing Music To The Classroom', 'Flipped Classroom Start-Up', 'A 3D Classroom', 'Make Math Fun ', 'Help Us Achieve The Common Core', 'Spring Art Show Materials', 'Learning Through the Technological Lens ']\n",
            "00751142527c2796fe75b9c974a343f0 ['Camping Supplies ', 'With a Small Group Table, We Can Learn Together!', '1st Grade Math Center: Putting Things in Order', 'Rocking The Bronx: Bringing Music To The Classroom', 'Flipped Classroom Start-Up', 'A 3D Classroom', 'Be a \"Bucket Filler\" Donate Prizes!', \"Slimmer's Seat Pockets\", 'Class Trip Project: Washington DC', 'Spring Art Show Materials']\n",
            "4e12b6bb81e371cbc9a674535baad2a0 ['Camping Supplies ', 'Science Computers and Programming Innovation', '1st Grade Math Center: Putting Things in Order', 'Rocking The Bronx: Bringing Music To The Classroom', 'Flipped Classroom Start-Up', \"Slimmer's Seat Pockets\", 'Class Trip Project: Washington DC', 'Spring Art Show Materials', 'Brilliant Scholars In Need  Of A Larger Leveled Library', 'Strengthening Social Skills Through Reading']\n",
            "9bf6b8518da823e3bcb1012ccf5ee33a ['Camping Supplies ', 'Science Computers and Programming Innovation', '1st Grade Math Center: Putting Things in Order', 'Rocking The Bronx: Bringing Music To The Classroom', 'Flipped Classroom Start-Up', \"Slimmer's Seat Pockets\", 'Class Trip Project: Washington DC', 'Spring Art Show Materials', 'Brilliant Scholars In Need  Of A Larger Leveled Library', 'Strengthening Social Skills Through Reading']\n",
            "007901106e9b98a3888bfd6c4a87e06d ['Mapping To Save The Planet', 'Camping Supplies ', 'Body Systems Frankenstein Project Supplies', 'With a Small Group Table, We Can Learn Together!', '1st Grade Math Center: Putting Things in Order', 'Rocking The Bronx: Bringing Music To The Classroom', 'Flipped Classroom Start-Up', 'A 3D Classroom', \"Chromebooks for Harlem's Brightest  \", 'Science Alive!']\n",
            "4421044f522eebf08c6bd150a6cfbd7a ['Camping Supplies ', 'Body Systems Frankenstein Project Supplies', 'With a Small Group Table, We Can Learn Together!', 'Students Helping Students', 'A 3D Classroom', \"Chromebooks for Harlem's Brightest  \", 'Science Alive!', \"Slimmer's Seat Pockets\", '\"Oh, the Places You\\'ll Go...\" With Technology! (2)', 'Strengthening Social Skills Through Reading']\n",
            "44f926a15fcdeb0c2566d33aa094f470 ['Mapping To Save The Planet', 'Camping Supplies ', 'With a Small Group Table, We Can Learn Together!', 'Students Helping Students', 'Flipped Classroom Start-Up', 'A 3D Classroom', 'Be a \"Bucket Filler\" Donate Prizes!', 'Science Alive!', \"Slimmer's Seat Pockets\", 'Help Us Achieve The Common Core']\n",
            "5cdc6ff8eed4671911538c9656c9a9c3 ['Mapping To Save The Planet', 'Camping Supplies ', 'With a Small Group Table, We Can Learn Together!', '1st Grade Math Center: Putting Things in Order', 'Rocking The Bronx: Bringing Music To The Classroom', 'Flipped Classroom Start-Up', 'A 3D Classroom', 'Science Alive!', \"Slimmer's Seat Pockets\", 'Class Trip Project: Washington DC']\n",
            "007a81e108b23913efa763417ef3cdc3 ['Mapping To Save The Planet', 'Camping Supplies ', '1st Grade Math Center: Putting Things in Order', 'Rocking The Bronx: Bringing Music To The Classroom', 'Make Math Fun ', \"Chromebooks for Harlem's Brightest  \", 'Science Alive!', \"Slimmer's Seat Pockets\", 'Spring Art Show Materials', 'Brilliant Scholars In Need  Of A Larger Leveled Library']\n",
            "007bb9f95a7b759d83f57348377c8704 ['Mapping To Save The Planet', 'Camping Supplies ', '1st Grade Math Center: Putting Things in Order', 'Rocking The Bronx: Bringing Music To The Classroom', 'Flipped Classroom Start-Up', 'A 3D Classroom', 'Be a \"Bucket Filler\" Donate Prizes!', 'Science Alive!', 'Class Trip Project: Washington DC', 'Help Us Achieve The Common Core']\n",
            "2754f95b163f762072566bae7de0b7c7 ['Camping Supplies ', 'Rocking The Bronx: Bringing Music To The Classroom', 'Flipped Classroom Start-Up', 'A 3D Classroom', 'Be a \"Bucket Filler\" Donate Prizes!', 'Help Us Achieve The Common Core', 'Spring Art Show Materials', 'Brilliant Scholars In Need  Of A Larger Leveled Library', 'Students Need Shakespeare\\'s Insults: \"Thou Cream Faced Loon\"', 'Keep Calm and Crochet On!']\n",
            "dd17ce2a91bc8d9c102b350ca49b6cf4 ['Camping Supplies ', 'With a Small Group Table, We Can Learn Together!', '1st Grade Math Center: Putting Things in Order', 'Students Helping Students', 'Rocking The Bronx: Bringing Music To The Classroom', 'Flipped Classroom Start-Up', 'Be a \"Bucket Filler\" Donate Prizes!', 'Science Alive!', 'Help Us Achieve The Common Core', 'Spring Art Show Materials']\n",
            "528345e484f5d996fed9381755032d81 ['Mapping To Save The Planet', 'Body Systems Frankenstein Project Supplies', '1st Grade Math Center: Putting Things in Order', 'Rocking The Bronx: Bringing Music To The Classroom', 'Flipped Classroom Start-Up', 'A 3D Classroom', 'Class Trip Project: Washington DC', 'Brilliant Scholars In Need  Of A Larger Leveled Library', 'Strengthening Social Skills Through Reading', 'Learning Through the Technological Lens ']\n",
            "e858d0d9aca996736eb0fa1458949794 ['Mapping To Save The Planet', 'Science Computers and Programming Innovation', 'Body Systems Frankenstein Project Supplies', 'With a Small Group Table, We Can Learn Together!', '1st Grade Math Center: Putting Things in Order', 'Rocking The Bronx: Bringing Music To The Classroom', 'A 3D Classroom', 'Make Math Fun ', 'Class Trip Project: Washington DC', '\"Oh, the Places You\\'ll Go...\" With Technology! (2)']\n",
            "d9f10d1be04fb0a7dc9e6bf48962c202 ['Mapping To Save The Planet', 'Camping Supplies ', 'Rocking The Bronx: Bringing Music To The Classroom', 'Flipped Classroom Start-Up', 'A 3D Classroom', 'Be a \"Bucket Filler\" Donate Prizes!', 'Class Trip Project: Washington DC', 'Help Us Achieve The Common Core', 'Spring Art Show Materials', 'Learning Through the Technological Lens ']\n",
            "007c668353328a85e48a4cf229a195b9 ['Camping Supplies ', 'With a Small Group Table, We Can Learn Together!', '1st Grade Math Center: Putting Things in Order', 'Students Helping Students', 'A 3D Classroom', 'Make Math Fun ', 'Be a \"Bucket Filler\" Donate Prizes!', \"Chromebooks for Harlem's Brightest  \", 'Science Alive!', 'Class Trip Project: Washington DC']\n",
            "b3c716faee986f8bf13dd26f7a8a2d58 ['Camping Supplies ', 'With a Small Group Table, We Can Learn Together!', '1st Grade Math Center: Putting Things in Order', 'Students Helping Students', 'Rocking The Bronx: Bringing Music To The Classroom', 'Flipped Classroom Start-Up', 'Make Math Fun ', \"Chromebooks for Harlem's Brightest  \", \"Slimmer's Seat Pockets\", 'Class Trip Project: Washington DC']\n",
            "ec88fae5fb95b598fc3ed651ae4292c0 ['Camping Supplies ', 'Science Computers and Programming Innovation', 'Body Systems Frankenstein Project Supplies', 'With a Small Group Table, We Can Learn Together!', '1st Grade Math Center: Putting Things in Order', 'Rocking The Bronx: Bringing Music To The Classroom', 'A 3D Classroom', 'Make Math Fun ', 'Be a \"Bucket Filler\" Donate Prizes!', 'Class Trip Project: Washington DC']\n",
            "8df63d178e10d24a31f6997824ca3732 ['Mapping To Save The Planet', 'Camping Supplies ', 'With a Small Group Table, We Can Learn Together!', '1st Grade Math Center: Putting Things in Order', 'Students Helping Students', 'Rocking The Bronx: Bringing Music To The Classroom', 'Flipped Classroom Start-Up', 'A 3D Classroom', 'Be a \"Bucket Filler\" Donate Prizes!', \"Chromebooks for Harlem's Brightest  \"]\n",
            "007c7258b6d66bf08053452c19a51be0 ['Camping Supplies ', 'Science Computers and Programming Innovation', 'Rocking The Bronx: Bringing Music To The Classroom', 'Flipped Classroom Start-Up', 'A 3D Classroom', 'Be a \"Bucket Filler\" Donate Prizes!', 'Class Trip Project: Washington DC', 'Help Us Achieve The Common Core', 'Brilliant Scholars In Need  Of A Larger Leveled Library', 'Yoga Mats for Awesome Kids']\n",
            "007ddc26e048936c2231781b3f4d1047 ['Mapping To Save The Planet', 'Camping Supplies ', 'Body Systems Frankenstein Project Supplies', 'With a Small Group Table, We Can Learn Together!', '1st Grade Math Center: Putting Things in Order', 'Students Helping Students', 'Rocking The Bronx: Bringing Music To The Classroom', 'A 3D Classroom', 'Make Math Fun ', 'Be a \"Bucket Filler\" Donate Prizes!']\n",
            "00801e41c38f8f41e989da3a37babf32 ['Science Computers and Programming Innovation', 'Body Systems Frankenstein Project Supplies', 'A 3D Classroom', \"Chromebooks for Harlem's Brightest  \", 'Science Alive!', \"Slimmer's Seat Pockets\", 'Class Trip Project: Washington DC', '\"Oh, the Places You\\'ll Go...\" With Technology! (2)', 'Spring Art Show Materials', 'Strengthening Social Skills Through Reading']\n",
            "2a86339b402dd5ee83b8b03fff3eab06 ['Mapping To Save The Planet', 'Camping Supplies ', '1st Grade Math Center: Putting Things in Order', 'Rocking The Bronx: Bringing Music To The Classroom', 'Flipped Classroom Start-Up', 'A 3D Classroom', 'Be a \"Bucket Filler\" Donate Prizes!', 'Brilliant Scholars In Need  Of A Larger Leveled Library', 'Strengthening Social Skills Through Reading', 'Students Need Shakespeare\\'s Insults: \"Thou Cream Faced Loon\"']\n",
            "e6547435468176946ace3a7d5e240282 ['Science Computers and Programming Innovation', '1st Grade Math Center: Putting Things in Order', 'Rocking The Bronx: Bringing Music To The Classroom', 'Flipped Classroom Start-Up', 'A 3D Classroom', 'Class Trip Project: Washington DC', 'Help Us Achieve The Common Core', 'Spring Art Show Materials', 'Brilliant Scholars In Need  Of A Larger Leveled Library', 'Strengthening Social Skills Through Reading']\n",
            "2094bf44783cb3e722a0ccfae2280def ['With a Small Group Table, We Can Learn Together!', 'Rocking The Bronx: Bringing Music To The Classroom', 'Flipped Classroom Start-Up', 'Make Math Fun ', 'Science Alive!', \"Slimmer's Seat Pockets\", 'Class Trip Project: Washington DC', '\"Oh, the Places You\\'ll Go...\" With Technology! (2)', 'Help Us Achieve The Common Core', 'Spring Art Show Materials']\n",
            "e485c753aa3ff87cf7316d15fd5ff4f0 ['Science Computers and Programming Innovation', 'With a Small Group Table, We Can Learn Together!', '1st Grade Math Center: Putting Things in Order', 'Rocking The Bronx: Bringing Music To The Classroom', 'Flipped Classroom Start-Up', 'Science Alive!', 'Class Trip Project: Washington DC', '\"Oh, the Places You\\'ll Go...\" With Technology! (2)', 'Help Us Achieve The Common Core', 'Spring Art Show Materials']\n",
            "00835ac8ea59bb2bb1265fa42523512f ['Mapping To Save The Planet', 'Science Computers and Programming Innovation', 'With a Small Group Table, We Can Learn Together!', '1st Grade Math Center: Putting Things in Order', 'Rocking The Bronx: Bringing Music To The Classroom', 'Be a \"Bucket Filler\" Donate Prizes!', '\"Oh, the Places You\\'ll Go...\" With Technology! (2)', 'Help Us Achieve The Common Core', 'Strengthening Social Skills Through Reading', 'Support Females in Athletics!']\n",
            "2f0489c37d7b57e378de60c15f89f965 ['Mapping To Save The Planet', 'Science Computers and Programming Innovation', 'Body Systems Frankenstein Project Supplies', 'With a Small Group Table, We Can Learn Together!', 'Students Helping Students', 'Rocking The Bronx: Bringing Music To The Classroom', 'Be a \"Bucket Filler\" Donate Prizes!', '\"Oh, the Places You\\'ll Go...\" With Technology! (2)', 'Help Us Achieve The Common Core', 'Support Females in Athletics!']\n",
            "9a8b455ec4048e4c1efb93934192c015 ['Mapping To Save The Planet', 'Science Computers and Programming Innovation', 'With a Small Group Table, We Can Learn Together!', 'Rocking The Bronx: Bringing Music To The Classroom', 'A 3D Classroom', \"Slimmer's Seat Pockets\", 'Help Us Achieve The Common Core', 'Strengthening Social Skills Through Reading', 'Support Females in Athletics!', 'Students Need Shakespeare\\'s Insults: \"Thou Cream Faced Loon\"']\n",
            "0083bc90f84a6397059f374e9d7810a2 ['Mapping To Save The Planet', 'Camping Supplies ', 'Body Systems Frankenstein Project Supplies', 'With a Small Group Table, We Can Learn Together!', '1st Grade Math Center: Putting Things in Order', 'Students Helping Students', 'A 3D Classroom', 'Make Math Fun ', 'Be a \"Bucket Filler\" Donate Prizes!', \"Chromebooks for Harlem's Brightest  \"]\n",
            "0086199ef290828d575da0b0ace53e3c ['Camping Supplies ', 'Body Systems Frankenstein Project Supplies', 'With a Small Group Table, We Can Learn Together!', '1st Grade Math Center: Putting Things in Order', 'Students Helping Students', 'Rocking The Bronx: Bringing Music To The Classroom', 'Flipped Classroom Start-Up', 'Make Math Fun ', \"Chromebooks for Harlem's Brightest  \", 'Science Alive!']\n",
            "452e8107bc2fbb667eb2a016200eb2d6 ['Camping Supplies ', 'Body Systems Frankenstein Project Supplies', 'With a Small Group Table, We Can Learn Together!', '1st Grade Math Center: Putting Things in Order', 'Students Helping Students', 'Rocking The Bronx: Bringing Music To The Classroom', 'Flipped Classroom Start-Up', 'Make Math Fun ', 'Be a \"Bucket Filler\" Donate Prizes!', \"Chromebooks for Harlem's Brightest  \"]\n",
            "8928a0ddb6c7c1c08b44fc591e9caff6 ['Camping Supplies ', 'Body Systems Frankenstein Project Supplies', 'With a Small Group Table, We Can Learn Together!', '1st Grade Math Center: Putting Things in Order', 'Students Helping Students', 'Rocking The Bronx: Bringing Music To The Classroom', 'Make Math Fun ', 'Be a \"Bucket Filler\" Donate Prizes!', \"Chromebooks for Harlem's Brightest  \", 'Science Alive!']\n",
            "0086cefea2643e2cfedc0ce463f00703 ['With a Small Group Table, We Can Learn Together!', '1st Grade Math Center: Putting Things in Order', 'Students Helping Students', 'Rocking The Bronx: Bringing Music To The Classroom', 'Flipped Classroom Start-Up', 'A 3D Classroom', 'Be a \"Bucket Filler\" Donate Prizes!', 'Help Us Achieve The Common Core', 'Strengthening Social Skills Through Reading', 'Support Females in Athletics!']\n",
            "008739b9a6f6ae82e478bfbe709a1040 ['Camping Supplies ', 'With a Small Group Table, We Can Learn Together!', '1st Grade Math Center: Putting Things in Order', 'Rocking The Bronx: Bringing Music To The Classroom', 'Flipped Classroom Start-Up', 'A 3D Classroom', 'Be a \"Bucket Filler\" Donate Prizes!', \"Chromebooks for Harlem's Brightest  \", 'Science Alive!', \"Slimmer's Seat Pockets\"]\n",
            "761628e0b145a61faeec4a5f048a0e2a ['Mapping To Save The Planet', 'Science Computers and Programming Innovation', 'Rocking The Bronx: Bringing Music To The Classroom', 'Flipped Classroom Start-Up', \"Slimmer's Seat Pockets\", 'Help Us Achieve The Common Core', 'Spring Art Show Materials', 'Students Need Shakespeare\\'s Insults: \"Thou Cream Faced Loon\"', 'Tonka Toys...  for BOYS???', 'Motivation Station: No Hangry Child Left Behind']\n",
            "a57262a05b7185f2a9735bdaf91f58c9 ['Mapping To Save The Planet', 'Camping Supplies ', 'With a Small Group Table, We Can Learn Together!', '1st Grade Math Center: Putting Things in Order', 'Students Helping Students', 'Rocking The Bronx: Bringing Music To The Classroom', 'Flipped Classroom Start-Up', 'Make Math Fun ', 'Science Alive!', \"Slimmer's Seat Pockets\"]\n",
            "008bb612ab0ff38ce94beff00cf782ac ['Mapping To Save The Planet', 'Camping Supplies ', 'Science Computers and Programming Innovation', 'Rocking The Bronx: Bringing Music To The Classroom', 'A 3D Classroom', 'Make Math Fun ', 'Brilliant Scholars In Need  Of A Larger Leveled Library', 'Strengthening Social Skills Through Reading', 'Students Need Shakespeare\\'s Insults: \"Thou Cream Faced Loon\"', 'Visually Simplifying Concrete Theory and History']\n",
            "008bd5af9ec2330e762976335bd54cd8 ['Mapping To Save The Planet', 'Camping Supplies ', 'With a Small Group Table, We Can Learn Together!', '1st Grade Math Center: Putting Things in Order', 'Rocking The Bronx: Bringing Music To The Classroom', 'Flipped Classroom Start-Up', 'A 3D Classroom', 'Make Math Fun ', \"Slimmer's Seat Pockets\", 'Spring Art Show Materials']\n",
            "737b94e228ccd5a091186f1b985a6e39 ['Mapping To Save The Planet', 'Science Computers and Programming Innovation', 'Body Systems Frankenstein Project Supplies', 'With a Small Group Table, We Can Learn Together!', 'Students Helping Students', 'Rocking The Bronx: Bringing Music To The Classroom', 'Make Math Fun ', '\"Oh, the Places You\\'ll Go...\" With Technology! (2)', 'Yoga Mats for Awesome Kids', 'Strengthening Social Skills Through Reading']\n",
            "a1332f305527ba961e3a5f872d7d84b1 ['Camping Supplies ', 'Science Computers and Programming Innovation', 'Body Systems Frankenstein Project Supplies', 'With a Small Group Table, We Can Learn Together!', 'Students Helping Students', 'Rocking The Bronx: Bringing Music To The Classroom', 'A 3D Classroom', 'Make Math Fun ', 'Be a \"Bucket Filler\" Donate Prizes!', 'Class Trip Project: Washington DC']\n",
            "f632a59900a42e648f8e8933055df40f ['Mapping To Save The Planet', 'Camping Supplies ', 'Body Systems Frankenstein Project Supplies', 'With a Small Group Table, We Can Learn Together!', 'Students Helping Students', 'Rocking The Bronx: Bringing Music To The Classroom', 'A 3D Classroom', 'Make Math Fun ', \"Chromebooks for Harlem's Brightest  \", 'Science Alive!']\n",
            "203cb6a61284f98393c5b26022c9f1e5 ['Mapping To Save The Planet', 'Rocking The Bronx: Bringing Music To The Classroom', 'Flipped Classroom Start-Up', 'Be a \"Bucket Filler\" Donate Prizes!', \"Slimmer's Seat Pockets\", 'Class Trip Project: Washington DC', '\"Oh, the Places You\\'ll Go...\" With Technology! (2)', 'Help Us Achieve The Common Core', 'Spring Art Show Materials', 'Yoga Mats for Awesome Kids']\n",
            "3c816d75e829df47adc701cd3fd7b436 ['Mapping To Save The Planet', 'Science Computers and Programming Innovation', 'Body Systems Frankenstein Project Supplies', 'With a Small Group Table, We Can Learn Together!', '1st Grade Math Center: Putting Things in Order', 'Students Helping Students', 'Rocking The Bronx: Bringing Music To The Classroom', 'A 3D Classroom', 'Make Math Fun ', 'Be a \"Bucket Filler\" Donate Prizes!']\n",
            "4adc79587363e55a420bd3678a577aed ['Camping Supplies ', 'Rocking The Bronx: Bringing Music To The Classroom', 'Flipped Classroom Start-Up', 'A 3D Classroom', 'Be a \"Bucket Filler\" Donate Prizes!', '\"Oh, the Places You\\'ll Go...\" With Technology! (2)', 'Help Us Achieve The Common Core', 'Yoga Mats for Awesome Kids', 'Strengthening Social Skills Through Reading', 'Students Need Shakespeare\\'s Insults: \"Thou Cream Faced Loon\"']\n",
            "50b8eb4723d70e554825b1476b0f4f52 ['Science Computers and Programming Innovation', '1st Grade Math Center: Putting Things in Order', 'Rocking The Bronx: Bringing Music To The Classroom', 'Flipped Classroom Start-Up', 'Be a \"Bucket Filler\" Donate Prizes!', \"Slimmer's Seat Pockets\", 'Class Trip Project: Washington DC', '\"Oh, the Places You\\'ll Go...\" With Technology! (2)', 'Help Us Achieve The Common Core', 'Spring Art Show Materials']\n",
            "5d688d5ad58dc33d50010d9967a7dc67 ['Mapping To Save The Planet', 'Camping Supplies ', 'Science Computers and Programming Innovation', 'With a Small Group Table, We Can Learn Together!', 'Students Helping Students', 'A 3D Classroom', 'Make Math Fun ', \"Slimmer's Seat Pockets\", '\"Oh, the Places You\\'ll Go...\" With Technology! (2)', 'Help Us Achieve The Common Core']\n",
            "6c8d03ef0356f0eaedff39c25726b707 ['Mapping To Save The Planet', '1st Grade Math Center: Putting Things in Order', 'Rocking The Bronx: Bringing Music To The Classroom', 'Flipped Classroom Start-Up', 'Be a \"Bucket Filler\" Donate Prizes!', \"Slimmer's Seat Pockets\", 'Help Us Achieve The Common Core', 'Spring Art Show Materials', 'Support Females in Athletics!', 'Students Need Shakespeare\\'s Insults: \"Thou Cream Faced Loon\"']\n",
            "6e9830fc70ed001841daa98b11fe0185 ['Mapping To Save The Planet', 'Science Computers and Programming Innovation', '1st Grade Math Center: Putting Things in Order', 'Students Helping Students', 'Rocking The Bronx: Bringing Music To The Classroom', 'A 3D Classroom', 'Be a \"Bucket Filler\" Donate Prizes!', 'Help Us Achieve The Common Core', 'Yoga Mats for Awesome Kids', 'Support Females in Athletics!']\n",
            "71ae8f52be588fdb1c4a1816d52f4ab4 ['Mapping To Save The Planet', '1st Grade Math Center: Putting Things in Order', 'Flipped Classroom Start-Up', 'Be a \"Bucket Filler\" Donate Prizes!', 'Science Alive!', 'Help Us Achieve The Common Core', 'Spring Art Show Materials', 'Yoga Mats for Awesome Kids', 'Learning Through the Technological Lens ', 'Students Need Shakespeare\\'s Insults: \"Thou Cream Faced Loon\"']\n",
            "7387cccf80d8fd595224febe9d895d23 ['Mapping To Save The Planet', 'Science Computers and Programming Innovation', 'Body Systems Frankenstein Project Supplies', '1st Grade Math Center: Putting Things in Order', 'Rocking The Bronx: Bringing Music To The Classroom', 'A 3D Classroom', 'Be a \"Bucket Filler\" Donate Prizes!', \"Slimmer's Seat Pockets\", 'Brilliant Scholars In Need  Of A Larger Leveled Library', 'Yoga Mats for Awesome Kids']\n",
            "74d283b01c2bd47d4f3be98367fea2ad ['Mapping To Save The Planet', 'Science Computers and Programming Innovation', 'Body Systems Frankenstein Project Supplies', '1st Grade Math Center: Putting Things in Order', 'Rocking The Bronx: Bringing Music To The Classroom', 'A 3D Classroom', 'Make Math Fun ', \"Slimmer's Seat Pockets\", 'Class Trip Project: Washington DC', '\"Oh, the Places You\\'ll Go...\" With Technology! (2)']\n",
            "8bcee51b77d094517bf49df8c737f176 ['Mapping To Save The Planet', 'Camping Supplies ', 'With a Small Group Table, We Can Learn Together!', '1st Grade Math Center: Putting Things in Order', 'Students Helping Students', 'Rocking The Bronx: Bringing Music To The Classroom', 'Flipped Classroom Start-Up', 'A 3D Classroom', 'Make Math Fun ', 'Be a \"Bucket Filler\" Donate Prizes!']\n",
            "8dcac6ffefc691105069a4512ffeace8 ['Science Computers and Programming Innovation', '1st Grade Math Center: Putting Things in Order', 'Rocking The Bronx: Bringing Music To The Classroom', 'Flipped Classroom Start-Up', 'Be a \"Bucket Filler\" Donate Prizes!', \"Slimmer's Seat Pockets\", 'Help Us Achieve The Common Core', 'Spring Art Show Materials', 'Yoga Mats for Awesome Kids', 'Support Females in Athletics!']\n",
            "9d5da28e3d28de26795592ce9febd69b ['Camping Supplies ', 'Body Systems Frankenstein Project Supplies', 'Flipped Classroom Start-Up', 'A 3D Classroom', 'Be a \"Bucket Filler\" Donate Prizes!', \"Slimmer's Seat Pockets\", 'Spring Art Show Materials', 'Students Need Shakespeare\\'s Insults: \"Thou Cream Faced Loon\"', 'Keep Calm and Crochet On!', 'Snack Shop: Striving for Independence! ']\n",
            "a5b4223c20fed5ac980a6e5c982ef526 ['Mapping To Save The Planet', 'Body Systems Frankenstein Project Supplies', 'A 3D Classroom', 'Be a \"Bucket Filler\" Donate Prizes!', 'Help Us Achieve The Common Core', 'Yoga Mats for Awesome Kids', 'Students Need Shakespeare\\'s Insults: \"Thou Cream Faced Loon\"', 'Singing with Preparation and Pride', 'Keep Calm and Crochet On!', 'Kindle Saves the Day!']\n",
            "a9f9069e1071c055220554ae8140d8c4 ['Mapping To Save The Planet', 'Science Computers and Programming Innovation', 'Rocking The Bronx: Bringing Music To The Classroom', 'Flipped Classroom Start-Up', 'A 3D Classroom', 'Be a \"Bucket Filler\" Donate Prizes!', 'Help Us Achieve The Common Core', 'Yoga Mats for Awesome Kids', 'Students Need Shakespeare\\'s Insults: \"Thou Cream Faced Loon\"', 'Visually Simplifying Concrete Theory and History']\n",
            "aaf5ec37e0ea7941645d4eb5782d8a06 ['Mapping To Save The Planet', '1st Grade Math Center: Putting Things in Order', 'Rocking The Bronx: Bringing Music To The Classroom', 'Flipped Classroom Start-Up', 'A 3D Classroom', 'Be a \"Bucket Filler\" Donate Prizes!', 'Class Trip Project: Washington DC', 'Help Us Achieve The Common Core', 'Spring Art Show Materials', 'Brilliant Scholars In Need  Of A Larger Leveled Library']\n",
            "d6bb27953989dceb3afef4736cbebbf3 ['Camping Supplies ', 'Rocking The Bronx: Bringing Music To The Classroom', 'Flipped Classroom Start-Up', 'A 3D Classroom', 'Make Math Fun ', \"Slimmer's Seat Pockets\", 'Help Us Achieve The Common Core', 'Spring Art Show Materials', 'Students Need Shakespeare\\'s Insults: \"Thou Cream Faced Loon\"', 'Keep Calm and Crochet On!']\n",
            "dfb72be807bbf3dddec11b7a31c630e8 ['Mapping To Save The Planet', 'Camping Supplies ', 'Rocking The Bronx: Bringing Music To The Classroom', 'Flipped Classroom Start-Up', 'Be a \"Bucket Filler\" Donate Prizes!', \"Chromebooks for Harlem's Brightest  \", 'Science Alive!', \"Slimmer's Seat Pockets\", 'Help Us Achieve The Common Core', 'Spring Art Show Materials']\n",
            "e2ac03ad16fce589be7a928362275769 ['Camping Supplies ', 'Science Computers and Programming Innovation', 'With a Small Group Table, We Can Learn Together!', '1st Grade Math Center: Putting Things in Order', 'Rocking The Bronx: Bringing Music To The Classroom', 'A 3D Classroom', 'Be a \"Bucket Filler\" Donate Prizes!', \"Chromebooks for Harlem's Brightest  \", 'Science Alive!', \"Slimmer's Seat Pockets\"]\n",
            "e952144edc9c12ae1f10f6d576edc68f ['Camping Supplies ', 'Flipped Classroom Start-Up', 'Be a \"Bucket Filler\" Donate Prizes!', 'Science Alive!', \"Slimmer's Seat Pockets\", 'Class Trip Project: Washington DC', 'Help Us Achieve The Common Core', 'Spring Art Show Materials', 'Brilliant Scholars In Need  Of A Larger Leveled Library', 'Yoga Mats for Awesome Kids']\n",
            "25b9ff0ca87035137be7d009770846bc ['Mapping To Save The Planet', 'Camping Supplies ', 'With a Small Group Table, We Can Learn Together!', 'Students Helping Students', 'Rocking The Bronx: Bringing Music To The Classroom', 'Flipped Classroom Start-Up', 'A 3D Classroom', 'Make Math Fun ', \"Slimmer's Seat Pockets\", 'Spring Art Show Materials']\n",
            "2d9372a3215c0b933c750a73cd679fc1 ['Mapping To Save The Planet', 'Camping Supplies ', 'Rocking The Bronx: Bringing Music To The Classroom', 'Flipped Classroom Start-Up', 'Help Us Achieve The Common Core', 'Spring Art Show Materials', 'Learning Through the Technological Lens ', 'Students Need Shakespeare\\'s Insults: \"Thou Cream Faced Loon\"', 'Tonka Toys...  for BOYS???', 'Motivation Station: No Hangry Child Left Behind']\n",
            "b3884b520357c2bee532dd9eb8dd37d8 ['Camping Supplies ', 'Body Systems Frankenstein Project Supplies', 'With a Small Group Table, We Can Learn Together!', '1st Grade Math Center: Putting Things in Order', 'Students Helping Students', 'Rocking The Bronx: Bringing Music To The Classroom', 'Flipped Classroom Start-Up', 'A 3D Classroom', 'Make Math Fun ', \"Chromebooks for Harlem's Brightest  \"]\n",
            "cd303209d5aeb461c52b158101485e84 ['Camping Supplies ', '1st Grade Math Center: Putting Things in Order', 'Rocking The Bronx: Bringing Music To The Classroom', 'Flipped Classroom Start-Up', 'A 3D Classroom', 'Make Math Fun ', 'Spring Art Show Materials', 'Brilliant Scholars In Need  Of A Larger Leveled Library', 'Students Need Shakespeare\\'s Insults: \"Thou Cream Faced Loon\"', 'Keep Calm and Crochet On!']\n",
            "d69373a9be0a64545c333b5bfe5f1745 ['Mapping To Save The Planet', 'Camping Supplies ', 'With a Small Group Table, We Can Learn Together!', '1st Grade Math Center: Putting Things in Order', 'Rocking The Bronx: Bringing Music To The Classroom', 'Flipped Classroom Start-Up', 'A 3D Classroom', 'Make Math Fun ', 'Help Us Achieve The Common Core', 'Spring Art Show Materials']\n",
            "de7ab10a1d89d84992c2924b269a9bb5 ['Mapping To Save The Planet', 'Camping Supplies ', '1st Grade Math Center: Putting Things in Order', 'Rocking The Bronx: Bringing Music To The Classroom', 'Flipped Classroom Start-Up', 'A 3D Classroom', 'Be a \"Bucket Filler\" Donate Prizes!', 'Brilliant Scholars In Need  Of A Larger Leveled Library', 'Students Need Shakespeare\\'s Insults: \"Thou Cream Faced Loon\"', 'Visually Simplifying Concrete Theory and History']\n",
            "d2abfabc525e1720d8295c75d4a1e45e ['Mapping To Save The Planet', 'Camping Supplies ', 'Body Systems Frankenstein Project Supplies', 'With a Small Group Table, We Can Learn Together!', 'Rocking The Bronx: Bringing Music To The Classroom', 'A 3D Classroom', 'Make Math Fun ', \"Chromebooks for Harlem's Brightest  \", 'Science Alive!', '\"Oh, the Places You\\'ll Go...\" With Technology! (2)']\n",
            "2c48172d83e2562bf248a4c76c2a5693 ['Mapping To Save The Planet', 'Camping Supplies ', 'Science Computers and Programming Innovation', 'With a Small Group Table, We Can Learn Together!', '1st Grade Math Center: Putting Things in Order', 'Students Helping Students', 'A 3D Classroom', 'Be a \"Bucket Filler\" Donate Prizes!', \"Chromebooks for Harlem's Brightest  \", 'Class Trip Project: Washington DC']\n",
            "0dc2515d81a20717ee27e06b3f1ee1e0 ['Mapping To Save The Planet', 'Camping Supplies ', 'Body Systems Frankenstein Project Supplies', 'With a Small Group Table, We Can Learn Together!', '1st Grade Math Center: Putting Things in Order', 'Rocking The Bronx: Bringing Music To The Classroom', 'Flipped Classroom Start-Up', 'Make Math Fun ', \"Chromebooks for Harlem's Brightest  \", \"Slimmer's Seat Pockets\"]\n",
            "14aba752d6360c5194c8ef52abdd7266 ['Camping Supplies ', 'With a Small Group Table, We Can Learn Together!', '1st Grade Math Center: Putting Things in Order', 'Students Helping Students', 'Rocking The Bronx: Bringing Music To The Classroom', 'Flipped Classroom Start-Up', 'A 3D Classroom', 'Make Math Fun ', \"Chromebooks for Harlem's Brightest  \", 'Science Alive!']\n",
            "f904b66a2bae486a51b4f3884e33dcef ['Camping Supplies ', 'With a Small Group Table, We Can Learn Together!', '1st Grade Math Center: Putting Things in Order', 'Students Helping Students', 'Rocking The Bronx: Bringing Music To The Classroom', 'A 3D Classroom', 'Make Math Fun ', \"Slimmer's Seat Pockets\", 'Help Us Achieve The Common Core', 'Brilliant Scholars In Need  Of A Larger Leveled Library']\n",
            "f84297be330c286219dca1b6d5dfd541 ['Camping Supplies ', 'With a Small Group Table, We Can Learn Together!', '1st Grade Math Center: Putting Things in Order', 'Rocking The Bronx: Bringing Music To The Classroom', 'Flipped Classroom Start-Up', 'A 3D Classroom', 'Make Math Fun ', 'Be a \"Bucket Filler\" Donate Prizes!', 'Science Alive!', \"Slimmer's Seat Pockets\"]\n",
            "4aaebcb69ebe63f150f00354e132306c ['Camping Supplies ', 'Rocking The Bronx: Bringing Music To The Classroom', 'Flipped Classroom Start-Up', 'A 3D Classroom', 'Be a \"Bucket Filler\" Donate Prizes!', 'Science Alive!', \"Slimmer's Seat Pockets\", 'Class Trip Project: Washington DC', '\"Oh, the Places You\\'ll Go...\" With Technology! (2)', 'Help Us Achieve The Common Core']\n",
            "008cd437d0c8f48970fe37dca1a562e1 ['With a Small Group Table, We Can Learn Together!', '1st Grade Math Center: Putting Things in Order', 'Students Helping Students', 'Rocking The Bronx: Bringing Music To The Classroom', 'Flipped Classroom Start-Up', 'Make Math Fun ', 'Class Trip Project: Washington DC', 'Help Us Achieve The Common Core', 'Spring Art Show Materials', 'Strengthening Social Skills Through Reading']\n",
            "88236d14e0c14c929b2286f8b83182df ['With a Small Group Table, We Can Learn Together!', '1st Grade Math Center: Putting Things in Order', 'Students Helping Students', 'Rocking The Bronx: Bringing Music To The Classroom', 'Make Math Fun ', \"Chromebooks for Harlem's Brightest  \", 'Science Alive!', \"Slimmer's Seat Pockets\", 'Class Trip Project: Washington DC', '\"Oh, the Places You\\'ll Go...\" With Technology! (2)']\n",
            "c4007c617834de4f3cb7e4e489cf1d86 ['Body Systems Frankenstein Project Supplies', 'With a Small Group Table, We Can Learn Together!', '1st Grade Math Center: Putting Things in Order', 'Rocking The Bronx: Bringing Music To The Classroom', 'Flipped Classroom Start-Up', 'A 3D Classroom', 'Make Math Fun ', \"Chromebooks for Harlem's Brightest  \", 'Science Alive!', '\"Oh, the Places You\\'ll Go...\" With Technology! (2)']\n",
            "0cbdd2c1be5d44b02f3293db05ac54dd ['Mapping To Save The Planet', 'Camping Supplies ', 'With a Small Group Table, We Can Learn Together!', 'Students Helping Students', 'Rocking The Bronx: Bringing Music To The Classroom', 'Flipped Classroom Start-Up', 'Be a \"Bucket Filler\" Donate Prizes!', 'Help Us Achieve The Common Core', 'Spring Art Show Materials', 'Support Females in Athletics!']\n",
            "1926e2daa4092ed5d01679a4f93874c4 ['Mapping To Save The Planet', 'Camping Supplies ', 'Body Systems Frankenstein Project Supplies', 'With a Small Group Table, We Can Learn Together!', '1st Grade Math Center: Putting Things in Order', 'Students Helping Students', 'Rocking The Bronx: Bringing Music To The Classroom', 'Flipped Classroom Start-Up', 'A 3D Classroom', 'Make Math Fun ']\n",
            "1e82da12793733afb035624103fec5c2 ['With a Small Group Table, We Can Learn Together!', '1st Grade Math Center: Putting Things in Order', 'Rocking The Bronx: Bringing Music To The Classroom', 'Flipped Classroom Start-Up', 'Make Math Fun ', \"Slimmer's Seat Pockets\", 'Help Us Achieve The Common Core', 'Spring Art Show Materials', 'Strengthening Social Skills Through Reading', 'Support Females in Athletics!']\n",
            "2a8025de31f7deb34cd9b581e6dc241c ['Mapping To Save The Planet', 'With a Small Group Table, We Can Learn Together!', '1st Grade Math Center: Putting Things in Order', 'Rocking The Bronx: Bringing Music To The Classroom', 'Flipped Classroom Start-Up', 'Make Math Fun ', 'Help Us Achieve The Common Core', 'Spring Art Show Materials', 'Strengthening Social Skills Through Reading', 'Support Females in Athletics!']\n",
            "2db44c23d681ab613a3904c1583c990b ['Camping Supplies ', 'With a Small Group Table, We Can Learn Together!', '1st Grade Math Center: Putting Things in Order', 'Rocking The Bronx: Bringing Music To The Classroom', 'Flipped Classroom Start-Up', 'Make Math Fun ', '\"Oh, the Places You\\'ll Go...\" With Technology! (2)', 'Help Us Achieve The Common Core', 'Spring Art Show Materials', 'Strengthening Social Skills Through Reading']\n",
            "3dc5b9ace5e34fb1fc5232f15bf7a249 ['Mapping To Save The Planet', 'With a Small Group Table, We Can Learn Together!', '1st Grade Math Center: Putting Things in Order', 'Students Helping Students', 'Rocking The Bronx: Bringing Music To The Classroom', 'Flipped Classroom Start-Up', 'Make Math Fun ', 'Help Us Achieve The Common Core', 'Spring Art Show Materials', 'Strengthening Social Skills Through Reading']\n",
            "424ae13d4ccf148cf9e3782894d05a59 ['Mapping To Save The Planet', 'With a Small Group Table, We Can Learn Together!', '1st Grade Math Center: Putting Things in Order', 'Rocking The Bronx: Bringing Music To The Classroom', 'Flipped Classroom Start-Up', 'Make Math Fun ', \"Slimmer's Seat Pockets\", 'Help Us Achieve The Common Core', 'Spring Art Show Materials', 'Strengthening Social Skills Through Reading']\n",
            "707076dea408b7a3a9516df07b72ac82 ['Mapping To Save The Planet', '1st Grade Math Center: Putting Things in Order', 'Students Helping Students', 'Rocking The Bronx: Bringing Music To The Classroom', 'Flipped Classroom Start-Up', 'A 3D Classroom', 'Be a \"Bucket Filler\" Donate Prizes!', 'Help Us Achieve The Common Core', 'Spring Art Show Materials', 'Strengthening Social Skills Through Reading']\n",
            "7705bc0f5d29d2c66d189dc6ff5f8e6f ['Mapping To Save The Planet', 'Camping Supplies ', 'Body Systems Frankenstein Project Supplies', 'With a Small Group Table, We Can Learn Together!', 'Students Helping Students', 'Rocking The Bronx: Bringing Music To The Classroom', 'Make Math Fun ', '\"Oh, the Places You\\'ll Go...\" With Technology! (2)', 'Strengthening Social Skills Through Reading', 'Support Females in Athletics!']\n",
            "7d6444662b76199a41dc9be2e01ac446 ['Camping Supplies ', 'Body Systems Frankenstein Project Supplies', 'With a Small Group Table, We Can Learn Together!', 'Students Helping Students', 'Rocking The Bronx: Bringing Music To The Classroom', 'Flipped Classroom Start-Up', 'Make Math Fun ', \"Chromebooks for Harlem's Brightest  \", 'Science Alive!', \"Slimmer's Seat Pockets\"]\n",
            "8aa991945e3369d3e3c30eba5e88da23 ['Camping Supplies ', 'Science Computers and Programming Innovation', 'With a Small Group Table, We Can Learn Together!', '1st Grade Math Center: Putting Things in Order', 'Students Helping Students', 'Rocking The Bronx: Bringing Music To The Classroom', 'Flipped Classroom Start-Up', 'A 3D Classroom', 'Make Math Fun ', '\"Oh, the Places You\\'ll Go...\" With Technology! (2)']\n",
            "8bf179c954a01770361c8d2f83b9260e ['Science Computers and Programming Innovation', 'With a Small Group Table, We Can Learn Together!', '1st Grade Math Center: Putting Things in Order', 'Rocking The Bronx: Bringing Music To The Classroom', 'Flipped Classroom Start-Up', '\"Oh, the Places You\\'ll Go...\" With Technology! (2)', 'Help Us Achieve The Common Core', 'Spring Art Show Materials', 'Strengthening Social Skills Through Reading', 'Support Females in Athletics!']\n",
            "afdbae1d93fedd804fe28186908d26d8 ['Mapping To Save The Planet', 'Science Computers and Programming Innovation', '1st Grade Math Center: Putting Things in Order', 'Students Helping Students', 'Rocking The Bronx: Bringing Music To The Classroom', 'Flipped Classroom Start-Up', 'Be a \"Bucket Filler\" Donate Prizes!', 'Class Trip Project: Washington DC', 'Help Us Achieve The Common Core', 'Spring Art Show Materials']\n",
            "b0a092e6e2af3a7797216127806a80df ['Mapping To Save The Planet', 'Camping Supplies ', 'Body Systems Frankenstein Project Supplies', 'With a Small Group Table, We Can Learn Together!', '1st Grade Math Center: Putting Things in Order', 'Students Helping Students', 'Rocking The Bronx: Bringing Music To The Classroom', 'Flipped Classroom Start-Up', 'Make Math Fun ', \"Slimmer's Seat Pockets\"]\n",
            "c634dfe39915287cc6f0c33b7ad47ee5 ['Mapping To Save The Planet', 'Camping Supplies ', 'With a Small Group Table, We Can Learn Together!', 'Rocking The Bronx: Bringing Music To The Classroom', 'Flipped Classroom Start-Up', 'Make Math Fun ', \"Slimmer's Seat Pockets\", 'Help Us Achieve The Common Core', 'Spring Art Show Materials', 'Strengthening Social Skills Through Reading']\n",
            "eb2f06576999d1cd685296ab371d6f57 ['Mapping To Save The Planet', 'Body Systems Frankenstein Project Supplies', 'With a Small Group Table, We Can Learn Together!', '1st Grade Math Center: Putting Things in Order', 'Rocking The Bronx: Bringing Music To The Classroom', 'Flipped Classroom Start-Up', 'A 3D Classroom', 'Make Math Fun ', 'Help Us Achieve The Common Core', 'Strengthening Social Skills Through Reading']\n",
            "f097f5638fb90238c7472af89a7def8c ['Mapping To Save The Planet', 'Camping Supplies ', 'With a Small Group Table, We Can Learn Together!', 'Rocking The Bronx: Bringing Music To The Classroom', 'Flipped Classroom Start-Up', 'Make Math Fun ', 'Help Us Achieve The Common Core', 'Spring Art Show Materials', 'Strengthening Social Skills Through Reading', 'Support Females in Athletics!']\n",
            "008e9605f95753d617392b847b1972ec ['Mapping To Save The Planet', 'Science Computers and Programming Innovation', 'Body Systems Frankenstein Project Supplies', '1st Grade Math Center: Putting Things in Order', 'Rocking The Bronx: Bringing Music To The Classroom', 'Be a \"Bucket Filler\" Donate Prizes!', 'Spring Art Show Materials', 'Brilliant Scholars In Need  Of A Larger Leveled Library', 'Yoga Mats for Awesome Kids', 'Support Females in Athletics!']\n",
            "46b23955acc5dfc2befb44044a0db138 ['Mapping To Save The Planet', 'With a Small Group Table, We Can Learn Together!', '1st Grade Math Center: Putting Things in Order', 'Students Helping Students', 'Rocking The Bronx: Bringing Music To The Classroom', 'Flipped Classroom Start-Up', 'A 3D Classroom', 'Make Math Fun ', 'Class Trip Project: Washington DC', 'Spring Art Show Materials']\n",
            "b8b226a055320cef3356b24628b42676 ['Mapping To Save The Planet', '1st Grade Math Center: Putting Things in Order', 'Rocking The Bronx: Bringing Music To The Classroom', 'Flipped Classroom Start-Up', 'Be a \"Bucket Filler\" Donate Prizes!', 'Class Trip Project: Washington DC', 'Spring Art Show Materials', 'Brilliant Scholars In Need  Of A Larger Leveled Library', 'Strengthening Social Skills Through Reading', 'Support Females in Athletics!']\n",
            "d49cbf1f2579f9e830d4e6523f971622 ['Mapping To Save The Planet', 'Science Computers and Programming Innovation', 'With a Small Group Table, We Can Learn Together!', '1st Grade Math Center: Putting Things in Order', 'Rocking The Bronx: Bringing Music To The Classroom', 'Make Math Fun ', \"Slimmer's Seat Pockets\", 'Spring Art Show Materials', 'Support Females in Athletics!', 'Learning Through the Technological Lens ']\n",
            "f628223d35d9267ac320505249a1c2a0 ['Mapping To Save The Planet', '1st Grade Math Center: Putting Things in Order', 'Students Helping Students', 'Rocking The Bronx: Bringing Music To The Classroom', 'Flipped Classroom Start-Up', 'A 3D Classroom', 'Class Trip Project: Washington DC', 'Spring Art Show Materials', 'Brilliant Scholars In Need  Of A Larger Leveled Library', 'Strengthening Social Skills Through Reading']\n",
            "008eb6899feedd30b75ec79b81a2e826 ['Mapping To Save The Planet', 'Camping Supplies ', 'With a Small Group Table, We Can Learn Together!', 'Rocking The Bronx: Bringing Music To The Classroom', 'Flipped Classroom Start-Up', 'Make Math Fun ', \"Slimmer's Seat Pockets\", 'Class Trip Project: Washington DC', 'Help Us Achieve The Common Core', 'Brilliant Scholars In Need  Of A Larger Leveled Library']\n",
            "26b5c5277b4cc144cc55cbf28b104452 ['Mapping To Save The Planet', 'Camping Supplies ', 'Body Systems Frankenstein Project Supplies', 'With a Small Group Table, We Can Learn Together!', 'Rocking The Bronx: Bringing Music To The Classroom', 'Flipped Classroom Start-Up', 'Make Math Fun ', \"Chromebooks for Harlem's Brightest  \", 'Science Alive!', \"Slimmer's Seat Pockets\"]\n",
            "68484718b1c7acfae3fabe216037a85e ['Camping Supplies ', 'With a Small Group Table, We Can Learn Together!', '1st Grade Math Center: Putting Things in Order', 'Rocking The Bronx: Bringing Music To The Classroom', 'Flipped Classroom Start-Up', 'Make Math Fun ', \"Slimmer's Seat Pockets\", 'Class Trip Project: Washington DC', 'Help Us Achieve The Common Core', 'Spring Art Show Materials']\n",
            "869fd7de3aa6864e00c61a176e78a626 ['Mapping To Save The Planet', 'Camping Supplies ', 'Body Systems Frankenstein Project Supplies', 'With a Small Group Table, We Can Learn Together!', 'Rocking The Bronx: Bringing Music To The Classroom', 'A 3D Classroom', 'Make Math Fun ', \"Slimmer's Seat Pockets\", 'Class Trip Project: Washington DC', '\"Oh, the Places You\\'ll Go...\" With Technology! (2)']\n",
            "a795c02e4dd8abb26cf50614d5bca17c ['Body Systems Frankenstein Project Supplies', 'With a Small Group Table, We Can Learn Together!', '1st Grade Math Center: Putting Things in Order', 'Rocking The Bronx: Bringing Music To The Classroom', 'Make Math Fun ', \"Chromebooks for Harlem's Brightest  \", \"Slimmer's Seat Pockets\", 'Class Trip Project: Washington DC', 'Brilliant Scholars In Need  Of A Larger Leveled Library', 'Strengthening Social Skills Through Reading']\n",
            "ab0dc2db2419103fc73df4a89065eef4 ['Science Computers and Programming Innovation', 'With a Small Group Table, We Can Learn Together!', 'Students Helping Students', 'Rocking The Bronx: Bringing Music To The Classroom', 'Flipped Classroom Start-Up', 'Make Math Fun ', \"Slimmer's Seat Pockets\", 'Class Trip Project: Washington DC', 'Brilliant Scholars In Need  Of A Larger Leveled Library', 'Students Need Shakespeare\\'s Insults: \"Thou Cream Faced Loon\"']\n",
            "d3873f71b1debd6eed2c0d4bca860ab8 ['Camping Supplies ', 'Body Systems Frankenstein Project Supplies', 'With a Small Group Table, We Can Learn Together!', 'Rocking The Bronx: Bringing Music To The Classroom', 'Flipped Classroom Start-Up', 'Make Math Fun ', \"Slimmer's Seat Pockets\", 'Class Trip Project: Washington DC', 'Help Us Achieve The Common Core', 'Spring Art Show Materials']\n",
            "f90d0aee2c0a3d10ea06c20e4e244f4f ['Science Computers and Programming Innovation', 'Body Systems Frankenstein Project Supplies', 'With a Small Group Table, We Can Learn Together!', 'Rocking The Bronx: Bringing Music To The Classroom', 'Make Math Fun ', \"Slimmer's Seat Pockets\", 'Spring Art Show Materials', 'Brilliant Scholars In Need  Of A Larger Leveled Library', 'Strengthening Social Skills Through Reading', 'Support Females in Athletics!']\n",
            "00967c9fb1618c7f15b5d4ff026934fc ['Mapping To Save The Planet', 'Science Computers and Programming Innovation', 'Rocking The Bronx: Bringing Music To The Classroom', 'Flipped Classroom Start-Up', \"Slimmer's Seat Pockets\", 'Class Trip Project: Washington DC', 'Help Us Achieve The Common Core', 'Spring Art Show Materials', 'Brilliant Scholars In Need  Of A Larger Leveled Library', 'Strengthening Social Skills Through Reading']\n",
            "0096d3f3ca8a39890ea19ef0641c4352 ['Mapping To Save The Planet', 'Science Computers and Programming Innovation', 'Body Systems Frankenstein Project Supplies', 'With a Small Group Table, We Can Learn Together!', 'Students Helping Students', 'Flipped Classroom Start-Up', 'A 3D Classroom', 'Make Math Fun ', 'Be a \"Bucket Filler\" Donate Prizes!', 'Science Alive!']\n",
            "628e579144b96e39db466b954db54d10 ['Mapping To Save The Planet', 'Camping Supplies ', 'Science Computers and Programming Innovation', '1st Grade Math Center: Putting Things in Order', 'Students Helping Students', 'Flipped Classroom Start-Up', 'A 3D Classroom', 'Be a \"Bucket Filler\" Donate Prizes!', \"Chromebooks for Harlem's Brightest  \", 'Science Alive!']\n",
            "728587825275fc33d183d81aa679884b ['Mapping To Save The Planet', 'Camping Supplies ', 'Body Systems Frankenstein Project Supplies', 'With a Small Group Table, We Can Learn Together!', '1st Grade Math Center: Putting Things in Order', 'Students Helping Students', 'Flipped Classroom Start-Up', 'A 3D Classroom', 'Make Math Fun ', 'Be a \"Bucket Filler\" Donate Prizes!']\n",
            "00988ce528d033489198c8488a59c401 ['Mapping To Save The Planet', 'Camping Supplies ', 'Body Systems Frankenstein Project Supplies', '1st Grade Math Center: Putting Things in Order', 'Rocking The Bronx: Bringing Music To The Classroom', 'Flipped Classroom Start-Up', 'A 3D Classroom', 'Make Math Fun ', 'Be a \"Bucket Filler\" Donate Prizes!', 'Science Alive!']\n",
            "009a03bb09f909264a88d76bf75c56ec ['Camping Supplies ', 'Science Computers and Programming Innovation', 'With a Small Group Table, We Can Learn Together!', 'Rocking The Bronx: Bringing Music To The Classroom', 'Make Math Fun ', 'Be a \"Bucket Filler\" Donate Prizes!', \"Chromebooks for Harlem's Brightest  \", 'Science Alive!', 'Class Trip Project: Washington DC', '\"Oh, the Places You\\'ll Go...\" With Technology! (2)']\n",
            "27ff65065b81e22e2c3a1ce58f1ec316 ['Body Systems Frankenstein Project Supplies', 'With a Small Group Table, We Can Learn Together!', 'Students Helping Students', 'Rocking The Bronx: Bringing Music To The Classroom', 'A 3D Classroom', 'Make Math Fun ', 'Be a \"Bucket Filler\" Donate Prizes!', \"Chromebooks for Harlem's Brightest  \", 'Science Alive!', '\"Oh, the Places You\\'ll Go...\" With Technology! (2)']\n",
            "32e962cd9ba3d6f1ae02934456d6cf12 ['Science Computers and Programming Innovation', 'With a Small Group Table, We Can Learn Together!', '1st Grade Math Center: Putting Things in Order', 'Rocking The Bronx: Bringing Music To The Classroom', 'A 3D Classroom', 'Be a \"Bucket Filler\" Donate Prizes!', '\"Oh, the Places You\\'ll Go...\" With Technology! (2)', 'Help Us Achieve The Common Core', 'Yoga Mats for Awesome Kids', 'Learning Through the Technological Lens ']\n",
            "dd04163b695d803a5ad14e7f694bac7a ['Mapping To Save The Planet', 'Body Systems Frankenstein Project Supplies', 'With a Small Group Table, We Can Learn Together!', '1st Grade Math Center: Putting Things in Order', 'Rocking The Bronx: Bringing Music To The Classroom', 'Flipped Classroom Start-Up', 'A 3D Classroom', 'Make Math Fun ', \"Chromebooks for Harlem's Brightest  \", 'Science Alive!']\n",
            "00a07ad8d981ef352b6f0ce8e836c4f8 ['Mapping To Save The Planet', 'Camping Supplies ', 'Body Systems Frankenstein Project Supplies', 'With a Small Group Table, We Can Learn Together!', 'Rocking The Bronx: Bringing Music To The Classroom', 'Flipped Classroom Start-Up', 'A 3D Classroom', 'Make Math Fun ', 'Science Alive!', \"Slimmer's Seat Pockets\"]\n",
            "00a0d07754d88befa0ad0a957ea62f3f ['Mapping To Save The Planet', 'Body Systems Frankenstein Project Supplies', 'Rocking The Bronx: Bringing Music To The Classroom', 'A 3D Classroom', 'Make Math Fun ', 'Be a \"Bucket Filler\" Donate Prizes!', \"Chromebooks for Harlem's Brightest  \", 'Spring Art Show Materials', 'Students Need Shakespeare\\'s Insults: \"Thou Cream Faced Loon\"', 'Visually Simplifying Concrete Theory and History']\n",
            "00a8ccf957b68cd4be101f9d27995aa3 ['Camping Supplies ', 'Body Systems Frankenstein Project Supplies', '1st Grade Math Center: Putting Things in Order', 'Rocking The Bronx: Bringing Music To The Classroom', 'Flipped Classroom Start-Up', 'A 3D Classroom', \"Chromebooks for Harlem's Brightest  \", 'Science Alive!', 'Class Trip Project: Washington DC', '\"Oh, the Places You\\'ll Go...\" With Technology! (2)']\n",
            "5f582101d58dd0e536f591c9e31011b0 ['Mapping To Save The Planet', '1st Grade Math Center: Putting Things in Order', 'Rocking The Bronx: Bringing Music To The Classroom', 'Flipped Classroom Start-Up', 'A 3D Classroom', 'Make Math Fun ', 'Be a \"Bucket Filler\" Donate Prizes!', 'Science Alive!', \"Slimmer's Seat Pockets\", 'Class Trip Project: Washington DC']\n",
            "00ae0302879c09214fc506e84114d90a ['Science Computers and Programming Innovation', 'Body Systems Frankenstein Project Supplies', 'With a Small Group Table, We Can Learn Together!', 'Students Helping Students', 'A 3D Classroom', 'Be a \"Bucket Filler\" Donate Prizes!', \"Slimmer's Seat Pockets\", 'Class Trip Project: Washington DC', '\"Oh, the Places You\\'ll Go...\" With Technology! (2)', 'Yoga Mats for Awesome Kids']\n",
            "c5a87fefa18aaecdf1fd1958ad6fc485 ['Camping Supplies ', 'Science Computers and Programming Innovation', 'With a Small Group Table, We Can Learn Together!', 'Students Helping Students', 'A 3D Classroom', \"Chromebooks for Harlem's Brightest  \", 'Science Alive!', \"Slimmer's Seat Pockets\", '\"Oh, the Places You\\'ll Go...\" With Technology! (2)', 'Help Us Achieve The Common Core']\n",
            "d1ff11e6298c8f87d95427be2dc87c43 ['Science Computers and Programming Innovation', 'Body Systems Frankenstein Project Supplies', 'With a Small Group Table, We Can Learn Together!', 'A 3D Classroom', \"Slimmer's Seat Pockets\", '\"Oh, the Places You\\'ll Go...\" With Technology! (2)', 'Help Us Achieve The Common Core', 'Yoga Mats for Awesome Kids', 'Strengthening Social Skills Through Reading', 'Support Females in Athletics!']\n",
            "00af070f64d0aa9f832252fab98a9fe1 ['Science Computers and Programming Innovation', 'Body Systems Frankenstein Project Supplies', 'With a Small Group Table, We Can Learn Together!', 'Students Helping Students', 'Rocking The Bronx: Bringing Music To The Classroom', 'Flipped Classroom Start-Up', 'A 3D Classroom', 'Be a \"Bucket Filler\" Donate Prizes!', 'Science Alive!', 'Class Trip Project: Washington DC']\n",
            "4de4892ea47647c63f651cff539f3b8b ['Mapping To Save The Planet', 'Science Computers and Programming Innovation', 'Body Systems Frankenstein Project Supplies', 'With a Small Group Table, We Can Learn Together!', 'Students Helping Students', 'Rocking The Bronx: Bringing Music To The Classroom', 'Make Math Fun ', \"Slimmer's Seat Pockets\", 'Yoga Mats for Awesome Kids', 'Strengthening Social Skills Through Reading']\n",
            "52540d6a0e0d38687e2d70450f5b3c90 ['Science Computers and Programming Innovation', 'Body Systems Frankenstein Project Supplies', 'With a Small Group Table, We Can Learn Together!', '1st Grade Math Center: Putting Things in Order', 'Students Helping Students', 'A 3D Classroom', \"Chromebooks for Harlem's Brightest  \", '\"Oh, the Places You\\'ll Go...\" With Technology! (2)', 'Spring Art Show Materials', 'Strengthening Social Skills Through Reading']\n",
            "d032ad88a674b9bfd7ae535b759c3ebb ['Body Systems Frankenstein Project Supplies', 'With a Small Group Table, We Can Learn Together!', 'Students Helping Students', 'Rocking The Bronx: Bringing Music To The Classroom', 'A 3D Classroom', 'Make Math Fun ', \"Chromebooks for Harlem's Brightest  \", 'Science Alive!', '\"Oh, the Places You\\'ll Go...\" With Technology! (2)', 'Yoga Mats for Awesome Kids']\n",
            "f69b20f4f195f0891504037b08a08d84 ['Mapping To Save The Planet', 'Science Computers and Programming Innovation', 'Body Systems Frankenstein Project Supplies', 'With a Small Group Table, We Can Learn Together!', 'Students Helping Students', 'A 3D Classroom', \"Chromebooks for Harlem's Brightest  \", 'Science Alive!', '\"Oh, the Places You\\'ll Go...\" With Technology! (2)', 'Strengthening Social Skills Through Reading']\n",
            "f7b1f0b0223a48ee13dad9b7c8c4ee73 ['Mapping To Save The Planet', 'Camping Supplies ', 'Science Computers and Programming Innovation', 'Body Systems Frankenstein Project Supplies', '1st Grade Math Center: Putting Things in Order', 'Students Helping Students', 'A 3D Classroom', \"Chromebooks for Harlem's Brightest  \", \"Slimmer's Seat Pockets\", 'Strengthening Social Skills Through Reading']\n",
            "3fffedc7af28e7008b63c9ad4f909cfa ['Camping Supplies ', '1st Grade Math Center: Putting Things in Order', 'Rocking The Bronx: Bringing Music To The Classroom', 'Flipped Classroom Start-Up', 'A 3D Classroom', 'Be a \"Bucket Filler\" Donate Prizes!', \"Chromebooks for Harlem's Brightest  \", 'Science Alive!', 'Help Us Achieve The Common Core', 'Brilliant Scholars In Need  Of A Larger Leveled Library']\n",
            "d2b484e3b64c9fda7a91d9beb386ad11 ['Body Systems Frankenstein Project Supplies', '1st Grade Math Center: Putting Things in Order', 'Rocking The Bronx: Bringing Music To The Classroom', 'Flipped Classroom Start-Up', 'A 3D Classroom', 'Be a \"Bucket Filler\" Donate Prizes!', 'Science Alive!', 'Help Us Achieve The Common Core', 'Brilliant Scholars In Need  Of A Larger Leveled Library', 'Learning Through the Technological Lens ']\n",
            "00b460e0f461982fb52641310270273a ['Mapping To Save The Planet', 'With a Small Group Table, We Can Learn Together!', 'Rocking The Bronx: Bringing Music To The Classroom', 'Flipped Classroom Start-Up', 'Be a \"Bucket Filler\" Donate Prizes!', \"Slimmer's Seat Pockets\", 'Class Trip Project: Washington DC', 'Help Us Achieve The Common Core', 'Brilliant Scholars In Need  Of A Larger Leveled Library', 'Yoga Mats for Awesome Kids']\n",
            "00b69cd385955abac3b4d852e5708910 ['With a Small Group Table, We Can Learn Together!', 'Rocking The Bronx: Bringing Music To The Classroom', 'Make Math Fun ', \"Chromebooks for Harlem's Brightest  \", 'Science Alive!', \"Slimmer's Seat Pockets\", '\"Oh, the Places You\\'ll Go...\" With Technology! (2)', 'Learning Through the Technological Lens ', 'Singing with Preparation and Pride', 'Finding Books That Are \"Just Right\"']\n",
            "188b6e7a076abec9ff7179f3365160b4 ['Camping Supplies ', 'Body Systems Frankenstein Project Supplies', 'With a Small Group Table, We Can Learn Together!', '1st Grade Math Center: Putting Things in Order', 'Students Helping Students', 'Flipped Classroom Start-Up', 'A 3D Classroom', 'Make Math Fun ', 'Be a \"Bucket Filler\" Donate Prizes!', \"Chromebooks for Harlem's Brightest  \"]\n",
            "00b750f75c3390edfd01d5d997719796 ['Mapping To Save The Planet', 'Students Helping Students', 'Flipped Classroom Start-Up', 'Be a \"Bucket Filler\" Donate Prizes!', 'Help Us Achieve The Common Core', 'Spring Art Show Materials', 'Yoga Mats for Awesome Kids', 'Support Females in Athletics!', 'Students Need Shakespeare\\'s Insults: \"Thou Cream Faced Loon\"', 'Keep Calm and Crochet On!']\n",
            "4e2543943f3df1a7284274eed38d0e70 ['Mapping To Save The Planet', 'Science Computers and Programming Innovation', 'Students Helping Students', 'Flipped Classroom Start-Up', 'Be a \"Bucket Filler\" Donate Prizes!', 'Class Trip Project: Washington DC', '\"Oh, the Places You\\'ll Go...\" With Technology! (2)', 'Help Us Achieve The Common Core', 'Spring Art Show Materials', 'Support Females in Athletics!']\n",
            "80f48239c8ef0a88c7625bbe73b61390 ['Mapping To Save The Planet', 'Science Computers and Programming Innovation', 'Students Helping Students', 'Rocking The Bronx: Bringing Music To The Classroom', 'Flipped Classroom Start-Up', 'Be a \"Bucket Filler\" Donate Prizes!', 'Help Us Achieve The Common Core', 'Support Females in Athletics!', 'Students Need Shakespeare\\'s Insults: \"Thou Cream Faced Loon\"', 'Keep Calm and Crochet On!']\n",
            "dc5aa2fb11264a282b48a785d91f9e6f ['Mapping To Save The Planet', 'Camping Supplies ', 'Science Computers and Programming Innovation', 'Students Helping Students', 'Be a \"Bucket Filler\" Donate Prizes!', 'Class Trip Project: Washington DC', 'Help Us Achieve The Common Core', 'Spring Art Show Materials', 'Support Females in Athletics!', 'Learning Through the Technological Lens ']\n",
            "00b788bc3a23aaf854fcfd57db051407 ['Mapping To Save The Planet', 'Camping Supplies ', 'Science Computers and Programming Innovation', 'Rocking The Bronx: Bringing Music To The Classroom', 'Flipped Classroom Start-Up', 'A 3D Classroom', 'Be a \"Bucket Filler\" Donate Prizes!', 'Class Trip Project: Washington DC', '\"Oh, the Places You\\'ll Go...\" With Technology! (2)', 'Help Us Achieve The Common Core']\n",
            "00b7e1d1a7fbca92d1ee6836f0d9935a ['Mapping To Save The Planet', 'Camping Supplies ', 'Science Computers and Programming Innovation', 'Rocking The Bronx: Bringing Music To The Classroom', 'Flipped Classroom Start-Up', 'A 3D Classroom', \"Slimmer's Seat Pockets\", 'Class Trip Project: Washington DC', '\"Oh, the Places You\\'ll Go...\" With Technology! (2)', 'Help Us Achieve The Common Core']\n",
            "00bb5be5cc21b81ff4cb26081322f87e ['Mapping To Save The Planet', 'Body Systems Frankenstein Project Supplies', 'Students Helping Students', 'Rocking The Bronx: Bringing Music To The Classroom', 'Flipped Classroom Start-Up', 'A 3D Classroom', 'Be a \"Bucket Filler\" Donate Prizes!', 'Science Alive!', 'Class Trip Project: Washington DC', 'Spring Art Show Materials']\n",
            "00cff43c6f6129a5cbaa3642dd19bd7a ['Body Systems Frankenstein Project Supplies', 'With a Small Group Table, We Can Learn Together!', '1st Grade Math Center: Putting Things in Order', 'Students Helping Students', 'Rocking The Bronx: Bringing Music To The Classroom', 'Flipped Classroom Start-Up', 'A 3D Classroom', 'Make Math Fun ', \"Chromebooks for Harlem's Brightest  \", 'Science Alive!']\n",
            "5b6ecf216bdb03c0868f8d8e20ac1b82 ['Body Systems Frankenstein Project Supplies', 'With a Small Group Table, We Can Learn Together!', '1st Grade Math Center: Putting Things in Order', 'Students Helping Students', 'Rocking The Bronx: Bringing Music To The Classroom', 'Make Math Fun ', \"Chromebooks for Harlem's Brightest  \", 'Science Alive!', '\"Oh, the Places You\\'ll Go...\" With Technology! (2)', 'Support Females in Athletics!']\n",
            "94022b8a45226e6eaef9b32788d92a46 ['Mapping To Save The Planet', 'Camping Supplies ', 'Body Systems Frankenstein Project Supplies', 'With a Small Group Table, We Can Learn Together!', '1st Grade Math Center: Putting Things in Order', 'Students Helping Students', 'Rocking The Bronx: Bringing Music To The Classroom', 'Flipped Classroom Start-Up', 'Make Math Fun ', \"Chromebooks for Harlem's Brightest  \"]\n",
            "b75f6a54ddf7a12176f6b5c3ffc482bc ['Camping Supplies ', 'With a Small Group Table, We Can Learn Together!', '1st Grade Math Center: Putting Things in Order', 'Rocking The Bronx: Bringing Music To The Classroom', 'Flipped Classroom Start-Up', 'A 3D Classroom', 'Make Math Fun ', 'Be a \"Bucket Filler\" Donate Prizes!', \"Chromebooks for Harlem's Brightest  \", 'Science Alive!']\n",
            "00d1f67ca9fa6c58ab9945c3bd10c148 ['Science Computers and Programming Innovation', 'Students Helping Students', 'Be a \"Bucket Filler\" Donate Prizes!', 'Class Trip Project: Washington DC', '\"Oh, the Places You\\'ll Go...\" With Technology! (2)', 'Help Us Achieve The Common Core', 'Spring Art Show Materials', 'Yoga Mats for Awesome Kids', 'Strengthening Social Skills Through Reading', 'Support Females in Athletics!']\n",
            "36773e516959992fc88460292152ed3a ['Camping Supplies ', 'Science Computers and Programming Innovation', 'With a Small Group Table, We Can Learn Together!', 'Students Helping Students', 'A 3D Classroom', 'Be a \"Bucket Filler\" Donate Prizes!', \"Slimmer's Seat Pockets\", 'Class Trip Project: Washington DC', 'Help Us Achieve The Common Core', 'Strengthening Social Skills Through Reading']\n",
            "586529fea67e26eb2c2b6c6f36701da8 ['Camping Supplies ', 'Science Computers and Programming Innovation', 'Body Systems Frankenstein Project Supplies', 'With a Small Group Table, We Can Learn Together!', 'Students Helping Students', 'Rocking The Bronx: Bringing Music To The Classroom', 'A 3D Classroom', 'Make Math Fun ', 'Be a \"Bucket Filler\" Donate Prizes!', 'Science Alive!']\n",
            "b31f545d53f9c0968530a97b64b6fcdf ['Camping Supplies ', 'Students Helping Students', 'Rocking The Bronx: Bringing Music To The Classroom', 'Flipped Classroom Start-Up', 'A 3D Classroom', 'Be a \"Bucket Filler\" Donate Prizes!', 'Science Alive!', \"Slimmer's Seat Pockets\", 'Brilliant Scholars In Need  Of A Larger Leveled Library', 'Yoga Mats for Awesome Kids']\n",
            "b3dff8daa862a69d244c439102245354 ['Science Computers and Programming Innovation', 'Students Helping Students', 'Rocking The Bronx: Bringing Music To The Classroom', 'Flipped Classroom Start-Up', 'Be a \"Bucket Filler\" Donate Prizes!', 'Class Trip Project: Washington DC', 'Help Us Achieve The Common Core', 'Spring Art Show Materials', 'Brilliant Scholars In Need  Of A Larger Leveled Library', 'Support Females in Athletics!']\n",
            "b6981dec0ba09252249535ac0a6133a2 ['Science Computers and Programming Innovation', '1st Grade Math Center: Putting Things in Order', 'Students Helping Students', 'Rocking The Bronx: Bringing Music To The Classroom', 'Flipped Classroom Start-Up', 'A 3D Classroom', 'Be a \"Bucket Filler\" Donate Prizes!', 'Class Trip Project: Washington DC', '\"Oh, the Places You\\'ll Go...\" With Technology! (2)', 'Help Us Achieve The Common Core']\n",
            "b762803479bf26d3dee866fff854f417 ['Camping Supplies ', 'With a Small Group Table, We Can Learn Together!', 'Students Helping Students', 'Rocking The Bronx: Bringing Music To The Classroom', 'Flipped Classroom Start-Up', 'Make Math Fun ', \"Slimmer's Seat Pockets\", 'Class Trip Project: Washington DC', 'Help Us Achieve The Common Core', 'Spring Art Show Materials']\n",
            "e945e513f90581dcd5ae25137c7c0050 ['Camping Supplies ', 'Students Helping Students', 'Be a \"Bucket Filler\" Donate Prizes!', \"Slimmer's Seat Pockets\", 'Class Trip Project: Washington DC', '\"Oh, the Places You\\'ll Go...\" With Technology! (2)', 'Help Us Achieve The Common Core', 'Support Females in Athletics!', 'Learning Through the Technological Lens ', 'Students Need Shakespeare\\'s Insults: \"Thou Cream Faced Loon\"']\n",
            "f7a34217a650298d92ba7b281e0e6cf5 ['Mapping To Save The Planet', 'Science Computers and Programming Innovation', '1st Grade Math Center: Putting Things in Order', 'Rocking The Bronx: Bringing Music To The Classroom', 'A 3D Classroom', 'Be a \"Bucket Filler\" Donate Prizes!', 'Class Trip Project: Washington DC', '\"Oh, the Places You\\'ll Go...\" With Technology! (2)', 'Spring Art Show Materials', 'Brilliant Scholars In Need  Of A Larger Leveled Library']\n",
            "40b368f4a776777bc3d0d3f5ab185401 ['Science Computers and Programming Innovation', 'Body Systems Frankenstein Project Supplies', 'With a Small Group Table, We Can Learn Together!', '1st Grade Math Center: Putting Things in Order', 'Students Helping Students', 'Rocking The Bronx: Bringing Music To The Classroom', 'Make Math Fun ', 'Be a \"Bucket Filler\" Donate Prizes!', \"Chromebooks for Harlem's Brightest  \", 'Science Alive!']\n",
            "50912a22f941394457a70cee6bd67155 ['Science Computers and Programming Innovation', 'Body Systems Frankenstein Project Supplies', 'With a Small Group Table, We Can Learn Together!', '1st Grade Math Center: Putting Things in Order', 'Students Helping Students', 'Flipped Classroom Start-Up', 'A 3D Classroom', 'Be a \"Bucket Filler\" Donate Prizes!', \"Chromebooks for Harlem's Brightest  \", 'Science Alive!']\n",
            "6eaaa7da3b3a054cea7f8b43b88a0b04 ['Camping Supplies ', 'Body Systems Frankenstein Project Supplies', 'With a Small Group Table, We Can Learn Together!', '1st Grade Math Center: Putting Things in Order', 'Students Helping Students', 'Rocking The Bronx: Bringing Music To The Classroom', 'Flipped Classroom Start-Up', 'Make Math Fun ', 'Be a \"Bucket Filler\" Donate Prizes!', 'Science Alive!']\n",
            "743d53d310943d06c3fb7ac732647bfd ['Mapping To Save The Planet', 'Camping Supplies ', 'Science Computers and Programming Innovation', 'With a Small Group Table, We Can Learn Together!', 'Students Helping Students', 'Make Math Fun ', \"Slimmer's Seat Pockets\", 'Class Trip Project: Washington DC', 'Spring Art Show Materials', 'Brilliant Scholars In Need  Of A Larger Leveled Library']\n",
            "806abbe632b171c5c6cbba36bcd3ff39 ['Science Computers and Programming Innovation', 'Body Systems Frankenstein Project Supplies', 'With a Small Group Table, We Can Learn Together!', '1st Grade Math Center: Putting Things in Order', 'Students Helping Students', 'A 3D Classroom', 'Make Math Fun ', 'Be a \"Bucket Filler\" Donate Prizes!', \"Chromebooks for Harlem's Brightest  \", 'Class Trip Project: Washington DC']\n",
            "8e68aacda70f62a6ab867dea6e05e7fa ['Camping Supplies ', 'Science Computers and Programming Innovation', 'Body Systems Frankenstein Project Supplies', 'With a Small Group Table, We Can Learn Together!', '1st Grade Math Center: Putting Things in Order', 'Students Helping Students', 'Rocking The Bronx: Bringing Music To The Classroom', 'Make Math Fun ', 'Be a \"Bucket Filler\" Donate Prizes!', 'Class Trip Project: Washington DC']\n",
            "a85396012098216dc7545cffb5f8689b ['Mapping To Save The Planet', 'Camping Supplies ', 'Science Computers and Programming Innovation', 'Students Helping Students', 'Rocking The Bronx: Bringing Music To The Classroom', 'Flipped Classroom Start-Up', 'Be a \"Bucket Filler\" Donate Prizes!', 'Science Alive!', 'Spring Art Show Materials', 'Support Females in Athletics!']\n",
            "d9f85264adde4269e01cb2a33d563e4e ['Mapping To Save The Planet', 'Science Computers and Programming Innovation', 'Body Systems Frankenstein Project Supplies', 'Students Helping Students', 'Flipped Classroom Start-Up', 'A 3D Classroom', 'Be a \"Bucket Filler\" Donate Prizes!', 'Class Trip Project: Washington DC', 'Spring Art Show Materials', 'Yoga Mats for Awesome Kids']\n",
            "00d3adf22aafd359eadcfb9ed8ceb367 ['Science Computers and Programming Innovation', 'Body Systems Frankenstein Project Supplies', 'With a Small Group Table, We Can Learn Together!', '1st Grade Math Center: Putting Things in Order', 'Students Helping Students', 'Rocking The Bronx: Bringing Music To The Classroom', 'A 3D Classroom', 'Make Math Fun ', 'Be a \"Bucket Filler\" Donate Prizes!', 'Class Trip Project: Washington DC']\n",
            "095822bbc9ea91bdc2a2e5b6c0b50977 ['Mapping To Save The Planet', 'Camping Supplies ', 'Science Computers and Programming Innovation', 'With a Small Group Table, We Can Learn Together!', '1st Grade Math Center: Putting Things in Order', 'Students Helping Students', 'Rocking The Bronx: Bringing Music To The Classroom', 'Flipped Classroom Start-Up', 'A 3D Classroom', 'Be a \"Bucket Filler\" Donate Prizes!']\n",
            "00d73e4f5b8ffcfcd1594cfa888dc0de ['Camping Supplies ', 'Science Computers and Programming Innovation', 'Body Systems Frankenstein Project Supplies', 'A 3D Classroom', 'Be a \"Bucket Filler\" Donate Prizes!', 'Class Trip Project: Washington DC', '\"Oh, the Places You\\'ll Go...\" With Technology! (2)', 'Strengthening Social Skills Through Reading', 'Support Females in Athletics!', 'Keep Calm and Crochet On!']\n",
            "f8843ad1207c493484aff10e9f625924 ['Camping Supplies ', '1st Grade Math Center: Putting Things in Order', 'Rocking The Bronx: Bringing Music To The Classroom', 'Flipped Classroom Start-Up', 'A 3D Classroom', 'Be a \"Bucket Filler\" Donate Prizes!', 'Science Alive!', 'Class Trip Project: Washington DC', '\"Oh, the Places You\\'ll Go...\" With Technology! (2)', 'Help Us Achieve The Common Core']\n",
            "00d75eeaa2c471caed0ff55f511f086b ['Mapping To Save The Planet', 'Camping Supplies ', 'Body Systems Frankenstein Project Supplies', 'With a Small Group Table, We Can Learn Together!', 'Rocking The Bronx: Bringing Music To The Classroom', 'Flipped Classroom Start-Up', 'Make Math Fun ', 'Science Alive!', \"Slimmer's Seat Pockets\", 'Class Trip Project: Washington DC']\n",
            "1c7335fde2d3d54a05a8bb01baceca3a ['Mapping To Save The Planet', 'Body Systems Frankenstein Project Supplies', 'With a Small Group Table, We Can Learn Together!', 'Rocking The Bronx: Bringing Music To The Classroom', 'Flipped Classroom Start-Up', 'A 3D Classroom', 'Be a \"Bucket Filler\" Donate Prizes!', 'Science Alive!', '\"Oh, the Places You\\'ll Go...\" With Technology! (2)', 'Spring Art Show Materials']\n",
            "7c00f79fc4e2723ee6836b90dea44d2b ['Mapping To Save The Planet', 'Camping Supplies ', 'With a Small Group Table, We Can Learn Together!', 'Students Helping Students', 'Rocking The Bronx: Bringing Music To The Classroom', 'Flipped Classroom Start-Up', 'A 3D Classroom', 'Make Math Fun ', \"Slimmer's Seat Pockets\", 'Help Us Achieve The Common Core']\n",
            "b6bdcfed8ff2c77856bc5b919c9d7421 ['Science Computers and Programming Innovation', 'Body Systems Frankenstein Project Supplies', 'With a Small Group Table, We Can Learn Together!', '1st Grade Math Center: Putting Things in Order', 'Students Helping Students', 'Rocking The Bronx: Bringing Music To The Classroom', 'A 3D Classroom', 'Make Math Fun ', \"Chromebooks for Harlem's Brightest  \", 'Class Trip Project: Washington DC']\n",
            "c4e10105407bc9811a9fbe961eacd1ba ['Camping Supplies ', 'With a Small Group Table, We Can Learn Together!', '1st Grade Math Center: Putting Things in Order', 'Students Helping Students', 'Rocking The Bronx: Bringing Music To The Classroom', 'Flipped Classroom Start-Up', 'A 3D Classroom', 'Be a \"Bucket Filler\" Donate Prizes!', 'Science Alive!', \"Slimmer's Seat Pockets\"]\n",
            "1795c924a2753cc2122649d6d4ea6c3f ['Mapping To Save The Planet', 'Camping Supplies ', 'With a Small Group Table, We Can Learn Together!', '1st Grade Math Center: Putting Things in Order', 'Rocking The Bronx: Bringing Music To The Classroom', 'Flipped Classroom Start-Up', 'A 3D Classroom', 'Make Math Fun ', \"Chromebooks for Harlem's Brightest  \", 'Science Alive!']\n",
            "af9b7cd6efb4e03ce0b338a4407f76de ['Mapping To Save The Planet', 'Body Systems Frankenstein Project Supplies', 'With a Small Group Table, We Can Learn Together!', '1st Grade Math Center: Putting Things in Order', 'Rocking The Bronx: Bringing Music To The Classroom', 'Flipped Classroom Start-Up', 'A 3D Classroom', 'Make Math Fun ', 'Science Alive!', 'Strengthening Social Skills Through Reading']\n",
            "ebaca40c4599621b6770c903a5c8e67e ['Mapping To Save The Planet', 'Body Systems Frankenstein Project Supplies', '1st Grade Math Center: Putting Things in Order', 'Rocking The Bronx: Bringing Music To The Classroom', 'Flipped Classroom Start-Up', 'A 3D Classroom', 'Make Math Fun ', \"Slimmer's Seat Pockets\", 'Class Trip Project: Washington DC', 'Spring Art Show Materials']\n",
            "291e53839a587ddf76f7e5dcdb31b8fc ['Camping Supplies ', 'Science Computers and Programming Innovation', 'With a Small Group Table, We Can Learn Together!', 'Students Helping Students', 'Rocking The Bronx: Bringing Music To The Classroom', 'Make Math Fun ', 'Be a \"Bucket Filler\" Donate Prizes!', \"Chromebooks for Harlem's Brightest  \", 'Science Alive!', '\"Oh, the Places You\\'ll Go...\" With Technology! (2)']\n",
            "00e96a61f03ea750ceb7d8eba62cf99d ['Mapping To Save The Planet', 'Body Systems Frankenstein Project Supplies', 'With a Small Group Table, We Can Learn Together!', '1st Grade Math Center: Putting Things in Order', 'Rocking The Bronx: Bringing Music To The Classroom', 'Make Math Fun ', \"Chromebooks for Harlem's Brightest  \", \"Slimmer's Seat Pockets\", 'Class Trip Project: Washington DC', '\"Oh, the Places You\\'ll Go...\" With Technology! (2)']\n",
            "0d9ec1ee74c4be1fa665705776f7a231 ['Camping Supplies ', 'With a Small Group Table, We Can Learn Together!', 'Rocking The Bronx: Bringing Music To The Classroom', 'Flipped Classroom Start-Up', 'A 3D Classroom', 'Make Math Fun ', \"Chromebooks for Harlem's Brightest  \", 'Science Alive!', \"Slimmer's Seat Pockets\", 'Class Trip Project: Washington DC']\n",
            "b9a3307eee2a070afce78e6d59d916d6 ['Camping Supplies ', 'Body Systems Frankenstein Project Supplies', 'With a Small Group Table, We Can Learn Together!', '1st Grade Math Center: Putting Things in Order', 'Rocking The Bronx: Bringing Music To The Classroom', 'Flipped Classroom Start-Up', 'A 3D Classroom', \"Chromebooks for Harlem's Brightest  \", 'Science Alive!', '\"Oh, the Places You\\'ll Go...\" With Technology! (2)']\n",
            "ee051b219ea8935a797ff44a3ac2325e ['Mapping To Save The Planet', 'Camping Supplies ', 'Body Systems Frankenstein Project Supplies', 'With a Small Group Table, We Can Learn Together!', 'Students Helping Students', 'Rocking The Bronx: Bringing Music To The Classroom', 'Flipped Classroom Start-Up', 'Make Math Fun ', 'Be a \"Bucket Filler\" Donate Prizes!', \"Chromebooks for Harlem's Brightest  \"]\n",
            "00ec6960b80c25e44ac0b5d24bea579d ['Camping Supplies ', 'Science Computers and Programming Innovation', '1st Grade Math Center: Putting Things in Order', 'Students Helping Students', 'Rocking The Bronx: Bringing Music To The Classroom', 'A 3D Classroom', 'Make Math Fun ', 'Be a \"Bucket Filler\" Donate Prizes!', \"Chromebooks for Harlem's Brightest  \", 'Science Alive!']\n",
            "00edee8fbaaf30bc7bfd1d9e48e4a2e0 ['Mapping To Save The Planet', '1st Grade Math Center: Putting Things in Order', 'Students Helping Students', 'Rocking The Bronx: Bringing Music To The Classroom', 'Be a \"Bucket Filler\" Donate Prizes!', \"Slimmer's Seat Pockets\", 'Help Us Achieve The Common Core', 'Spring Art Show Materials', 'Brilliant Scholars In Need  Of A Larger Leveled Library', 'Yoga Mats for Awesome Kids']\n",
            "345ea5c216275167db5d34989b68d08e ['Mapping To Save The Planet', 'Body Systems Frankenstein Project Supplies', '1st Grade Math Center: Putting Things in Order', 'Students Helping Students', 'Rocking The Bronx: Bringing Music To The Classroom', 'Make Math Fun ', 'Be a \"Bucket Filler\" Donate Prizes!', 'Help Us Achieve The Common Core', 'Yoga Mats for Awesome Kids', 'Support Females in Athletics!']\n",
            "51c735fef4667bd09a546a3112b919e5 ['Mapping To Save The Planet', 'Science Computers and Programming Innovation', '1st Grade Math Center: Putting Things in Order', 'Rocking The Bronx: Bringing Music To The Classroom', \"Slimmer's Seat Pockets\", 'Class Trip Project: Washington DC', 'Help Us Achieve The Common Core', 'Spring Art Show Materials', 'Support Females in Athletics!', 'Students Need Shakespeare\\'s Insults: \"Thou Cream Faced Loon\"']\n",
            "65f037e5c464fd104adfc5fccd9c3e3a ['Camping Supplies ', '1st Grade Math Center: Putting Things in Order', 'Rocking The Bronx: Bringing Music To The Classroom', 'Make Math Fun ', \"Slimmer's Seat Pockets\", 'Class Trip Project: Washington DC', 'Help Us Achieve The Common Core', 'Spring Art Show Materials', 'Brilliant Scholars In Need  Of A Larger Leveled Library', 'Yoga Mats for Awesome Kids']\n",
            "c4dd7b2c1d6d40b6a527c5d8a8f694fa ['Mapping To Save The Planet', 'Science Computers and Programming Innovation', 'Body Systems Frankenstein Project Supplies', '1st Grade Math Center: Putting Things in Order', 'Students Helping Students', 'Rocking The Bronx: Bringing Music To The Classroom', 'Flipped Classroom Start-Up', 'Be a \"Bucket Filler\" Donate Prizes!', '\"Oh, the Places You\\'ll Go...\" With Technology! (2)', 'Spring Art Show Materials']\n",
            "00f99cf81744a56896ede7bd51d0a29b ['Mapping To Save The Planet', 'Body Systems Frankenstein Project Supplies', '1st Grade Math Center: Putting Things in Order', 'A 3D Classroom', \"Chromebooks for Harlem's Brightest  \", \"Slimmer's Seat Pockets\", 'Class Trip Project: Washington DC', 'Brilliant Scholars In Need  Of A Larger Leveled Library', 'Strengthening Social Skills Through Reading', 'Keep Calm and Crochet On!']\n",
            "00fbab39c1364ac9800f1d2cdc0a63b8 ['Mapping To Save The Planet', 'Camping Supplies ', 'Body Systems Frankenstein Project Supplies', 'With a Small Group Table, We Can Learn Together!', '1st Grade Math Center: Putting Things in Order', 'Rocking The Bronx: Bringing Music To The Classroom', 'Flipped Classroom Start-Up', 'A 3D Classroom', 'Be a \"Bucket Filler\" Donate Prizes!', \"Chromebooks for Harlem's Brightest  \"]\n",
            "00ff85b5bccf35aef5c7553dfd0b054f ['Mapping To Save The Planet', 'Camping Supplies ', 'Body Systems Frankenstein Project Supplies', '1st Grade Math Center: Putting Things in Order', 'Students Helping Students', 'Rocking The Bronx: Bringing Music To The Classroom', 'Flipped Classroom Start-Up', 'A 3D Classroom', 'Make Math Fun ', 'Be a \"Bucket Filler\" Donate Prizes!']\n",
            "00ffe28e1afb4e6e9a8dca4b4c9940c1 ['Camping Supplies ', 'Body Systems Frankenstein Project Supplies', '1st Grade Math Center: Putting Things in Order', 'Rocking The Bronx: Bringing Music To The Classroom', 'A 3D Classroom', 'Make Math Fun ', 'Be a \"Bucket Filler\" Donate Prizes!', \"Chromebooks for Harlem's Brightest  \", 'Science Alive!', \"Slimmer's Seat Pockets\"]\n",
            "010171d528d78c020bdc22208e9fac49 ['Camping Supplies ', 'Body Systems Frankenstein Project Supplies', 'With a Small Group Table, We Can Learn Together!', 'Students Helping Students', 'Make Math Fun ', 'Be a \"Bucket Filler\" Donate Prizes!', \"Chromebooks for Harlem's Brightest  \", 'Science Alive!', \"Slimmer's Seat Pockets\", '\"Oh, the Places You\\'ll Go...\" With Technology! (2)']\n",
            "0103e4d43fcf400b713f2a7abd925554 ['Camping Supplies ', 'Science Computers and Programming Innovation', 'With a Small Group Table, We Can Learn Together!', 'Students Helping Students', 'Flipped Classroom Start-Up', 'A 3D Classroom', 'Be a \"Bucket Filler\" Donate Prizes!', 'Class Trip Project: Washington DC', '\"Oh, the Places You\\'ll Go...\" With Technology! (2)', 'Help Us Achieve The Common Core']\n",
            "011252f986849391cfe86949103721ad ['Camping Supplies ', 'With a Small Group Table, We Can Learn Together!', '1st Grade Math Center: Putting Things in Order', 'Students Helping Students', 'Rocking The Bronx: Bringing Music To The Classroom', 'Flipped Classroom Start-Up', 'Be a \"Bucket Filler\" Donate Prizes!', 'Science Alive!', \"Slimmer's Seat Pockets\", 'Class Trip Project: Washington DC']\n",
            "37904f5b8fd10403b88ada012b2620fc ['Camping Supplies ', 'With a Small Group Table, We Can Learn Together!', '1st Grade Math Center: Putting Things in Order', 'Rocking The Bronx: Bringing Music To The Classroom', 'Flipped Classroom Start-Up', 'Be a \"Bucket Filler\" Donate Prizes!', 'Science Alive!', \"Slimmer's Seat Pockets\", 'Class Trip Project: Washington DC', 'Help Us Achieve The Common Core']\n",
            "011364d119dcf30b1450c745ec205798 ['Mapping To Save The Planet', 'Camping Supplies ', 'Science Computers and Programming Innovation', 'Body Systems Frankenstein Project Supplies', 'Students Helping Students', 'A 3D Classroom', 'Be a \"Bucket Filler\" Donate Prizes!', \"Slimmer's Seat Pockets\", 'Class Trip Project: Washington DC', 'Brilliant Scholars In Need  Of A Larger Leveled Library']\n",
            "5d820dd9af1c608ef77d95a8143d7e94 ['Mapping To Save The Planet', 'Body Systems Frankenstein Project Supplies', '1st Grade Math Center: Putting Things in Order', 'Students Helping Students', 'A 3D Classroom', 'Make Math Fun ', \"Chromebooks for Harlem's Brightest  \", \"Slimmer's Seat Pockets\", 'Brilliant Scholars In Need  Of A Larger Leveled Library', 'Yoga Mats for Awesome Kids']\n",
            "0114eb790dd7f53457978adba9a2f18d ['Camping Supplies ', 'With a Small Group Table, We Can Learn Together!', 'Rocking The Bronx: Bringing Music To The Classroom', 'Flipped Classroom Start-Up', 'A 3D Classroom', 'Make Math Fun ', \"Chromebooks for Harlem's Brightest  \", 'Science Alive!', \"Slimmer's Seat Pockets\", '\"Oh, the Places You\\'ll Go...\" With Technology! (2)']\n",
            "0fdf1aaaf227416141c0fbe060d5ae16 ['Camping Supplies ', 'Rocking The Bronx: Bringing Music To The Classroom', 'Flipped Classroom Start-Up', 'A 3D Classroom', 'Be a \"Bucket Filler\" Donate Prizes!', \"Chromebooks for Harlem's Brightest  \", 'Science Alive!', \"Slimmer's Seat Pockets\", '\"Oh, the Places You\\'ll Go...\" With Technology! (2)', 'Help Us Achieve The Common Core']\n",
            "347d3e6ed339dce3d88f103b97fed1af ['Mapping To Save The Planet', 'Camping Supplies ', 'Flipped Classroom Start-Up', 'A 3D Classroom', \"Chromebooks for Harlem's Brightest  \", \"Slimmer's Seat Pockets\", '\"Oh, the Places You\\'ll Go...\" With Technology! (2)', 'Help Us Achieve The Common Core', 'Yoga Mats for Awesome Kids', 'Strengthening Social Skills Through Reading']\n",
            "3cf7bc868be7a7562bfeb447484506dd ['Science Computers and Programming Innovation', 'Rocking The Bronx: Bringing Music To The Classroom', \"Slimmer's Seat Pockets\", '\"Oh, the Places You\\'ll Go...\" With Technology! (2)', 'Help Us Achieve The Common Core', 'Strengthening Social Skills Through Reading', 'Support Females in Athletics!', 'Learning Through the Technological Lens ', 'Students Need Shakespeare\\'s Insults: \"Thou Cream Faced Loon\"', 'Singing with Preparation and Pride']\n",
            "a46dcc4aec7c99889cfe2a84be7fe9b9 ['Mapping To Save The Planet', 'Camping Supplies ', 'Rocking The Bronx: Bringing Music To The Classroom', 'Flipped Classroom Start-Up', \"Slimmer's Seat Pockets\", 'Class Trip Project: Washington DC', '\"Oh, the Places You\\'ll Go...\" With Technology! (2)', 'Help Us Achieve The Common Core', 'Brilliant Scholars In Need  Of A Larger Leveled Library', 'Yoga Mats for Awesome Kids']\n",
            "d78d7a519ce64d745fe4e05ab14db383 ['Body Systems Frankenstein Project Supplies', '1st Grade Math Center: Putting Things in Order', 'Rocking The Bronx: Bringing Music To The Classroom', 'Flipped Classroom Start-Up', \"Chromebooks for Harlem's Brightest  \", \"Slimmer's Seat Pockets\", '\"Oh, the Places You\\'ll Go...\" With Technology! (2)', 'Help Us Achieve The Common Core', 'Brilliant Scholars In Need  Of A Larger Leveled Library', 'Yoga Mats for Awesome Kids']\n",
            "f735a8f1b7748b56e2c56045a0e6833a ['Camping Supplies ', 'With a Small Group Table, We Can Learn Together!', '1st Grade Math Center: Putting Things in Order', 'Rocking The Bronx: Bringing Music To The Classroom', 'Flipped Classroom Start-Up', 'A 3D Classroom', \"Chromebooks for Harlem's Brightest  \", '\"Oh, the Places You\\'ll Go...\" With Technology! (2)', 'Brilliant Scholars In Need  Of A Larger Leveled Library', 'Strengthening Social Skills Through Reading']\n",
            "f9846c5c34c49781f75bbf5eda052a66 ['Camping Supplies ', 'Rocking The Bronx: Bringing Music To The Classroom', 'A 3D Classroom', 'Be a \"Bucket Filler\" Donate Prizes!', \"Chromebooks for Harlem's Brightest  \", 'Science Alive!', '\"Oh, the Places You\\'ll Go...\" With Technology! (2)', 'Students Need Shakespeare\\'s Insults: \"Thou Cream Faced Loon\"', 'Singing with Preparation and Pride', 'Visually Simplifying Concrete Theory and History']\n",
            "0119c302ff7b786c655a403dcc332a1f ['Body Systems Frankenstein Project Supplies', 'With a Small Group Table, We Can Learn Together!', '1st Grade Math Center: Putting Things in Order', 'Students Helping Students', 'Rocking The Bronx: Bringing Music To The Classroom', 'A 3D Classroom', 'Make Math Fun ', \"Chromebooks for Harlem's Brightest  \", '\"Oh, the Places You\\'ll Go...\" With Technology! (2)', 'Brilliant Scholars In Need  Of A Larger Leveled Library']\n",
            "0d963866fa3dc50e5ed2defa7218f4af ['Mapping To Save The Planet', 'Camping Supplies ', 'With a Small Group Table, We Can Learn Together!', 'Rocking The Bronx: Bringing Music To The Classroom', 'Flipped Classroom Start-Up', 'Science Alive!', \"Slimmer's Seat Pockets\", 'Help Us Achieve The Common Core', 'Spring Art Show Materials', 'Learning Through the Technological Lens ']\n",
            "329de280a681b12581bd6dce2e8b9402 ['Mapping To Save The Planet', 'Camping Supplies ', 'With a Small Group Table, We Can Learn Together!', '1st Grade Math Center: Putting Things in Order', 'Rocking The Bronx: Bringing Music To The Classroom', 'Flipped Classroom Start-Up', 'Make Math Fun ', \"Slimmer's Seat Pockets\", 'Class Trip Project: Washington DC', 'Help Us Achieve The Common Core']\n",
            "598b8f6532fc42a809a0588d2d08be34 ['Mapping To Save The Planet', 'Science Computers and Programming Innovation', 'With a Small Group Table, We Can Learn Together!', '1st Grade Math Center: Putting Things in Order', 'Rocking The Bronx: Bringing Music To The Classroom', 'Make Math Fun ', '\"Oh, the Places You\\'ll Go...\" With Technology! (2)', 'Help Us Achieve The Common Core', 'Spring Art Show Materials', 'Yoga Mats for Awesome Kids']\n",
            "79ea5b97daa3c6b61d625dc813764646 ['Mapping To Save The Planet', 'Body Systems Frankenstein Project Supplies', '1st Grade Math Center: Putting Things in Order', 'Students Helping Students', 'Rocking The Bronx: Bringing Music To The Classroom', 'Flipped Classroom Start-Up', 'Make Math Fun ', \"Slimmer's Seat Pockets\", 'Class Trip Project: Washington DC', 'Help Us Achieve The Common Core']\n",
            "a8685173a21a253d64ac95420731be52 ['Camping Supplies ', 'Body Systems Frankenstein Project Supplies', 'With a Small Group Table, We Can Learn Together!', '1st Grade Math Center: Putting Things in Order', 'Students Helping Students', 'Rocking The Bronx: Bringing Music To The Classroom', 'Flipped Classroom Start-Up', 'Make Math Fun ', \"Chromebooks for Harlem's Brightest  \", 'Science Alive!']\n",
            "d11657cf365d4ef3cb467654b85ea13b ['Mapping To Save The Planet', 'Body Systems Frankenstein Project Supplies', 'With a Small Group Table, We Can Learn Together!', '1st Grade Math Center: Putting Things in Order', 'Students Helping Students', 'Rocking The Bronx: Bringing Music To The Classroom', 'Make Math Fun ', \"Chromebooks for Harlem's Brightest  \", 'Science Alive!', '\"Oh, the Places You\\'ll Go...\" With Technology! (2)']\n",
            "e3af767176317e4beb5944d6d978dfa3 ['Mapping To Save The Planet', 'Science Computers and Programming Innovation', 'With a Small Group Table, We Can Learn Together!', '1st Grade Math Center: Putting Things in Order', 'Rocking The Bronx: Bringing Music To The Classroom', 'Flipped Classroom Start-Up', 'A 3D Classroom', \"Slimmer's Seat Pockets\", 'Class Trip Project: Washington DC', 'Help Us Achieve The Common Core']\n",
            "efcfd43dc04cddd8c3108b491cdaf611 ['Mapping To Save The Planet', 'Body Systems Frankenstein Project Supplies', 'With a Small Group Table, We Can Learn Together!', '1st Grade Math Center: Putting Things in Order', 'Students Helping Students', 'Flipped Classroom Start-Up', 'A 3D Classroom', 'Make Math Fun ', \"Chromebooks for Harlem's Brightest  \", 'Science Alive!']\n",
            "866d344a121ecf9af09adc59991915a5 ['Body Systems Frankenstein Project Supplies', '1st Grade Math Center: Putting Things in Order', 'Rocking The Bronx: Bringing Music To The Classroom', 'A 3D Classroom', 'Make Math Fun ', \"Chromebooks for Harlem's Brightest  \", 'Science Alive!', '\"Oh, the Places You\\'ll Go...\" With Technology! (2)', 'Yoga Mats for Awesome Kids', 'Learning Through the Technological Lens ']\n",
            "dfe8cb2052dcc958a735b1f0eadc3ada ['Camping Supplies ', 'With a Small Group Table, We Can Learn Together!', '1st Grade Math Center: Putting Things in Order', 'Students Helping Students', 'Rocking The Bronx: Bringing Music To The Classroom', 'Flipped Classroom Start-Up', 'A 3D Classroom', 'Make Math Fun ', '\"Oh, the Places You\\'ll Go...\" With Technology! (2)', 'Help Us Achieve The Common Core']\n",
            "24acf6a422e354887dff88e83784b65f ['Mapping To Save The Planet', 'Body Systems Frankenstein Project Supplies', '1st Grade Math Center: Putting Things in Order', 'Rocking The Bronx: Bringing Music To The Classroom', 'Make Math Fun ', \"Slimmer's Seat Pockets\", 'Spring Art Show Materials', 'Brilliant Scholars In Need  Of A Larger Leveled Library', 'Yoga Mats for Awesome Kids', 'Strengthening Social Skills Through Reading']\n",
            "4a55657aa22260cbcbd13d4975af45ee ['Science Computers and Programming Innovation', 'Body Systems Frankenstein Project Supplies', '1st Grade Math Center: Putting Things in Order', 'Rocking The Bronx: Bringing Music To The Classroom', 'Make Math Fun ', \"Slimmer's Seat Pockets\", 'Class Trip Project: Washington DC', '\"Oh, the Places You\\'ll Go...\" With Technology! (2)', 'Help Us Achieve The Common Core', 'Spring Art Show Materials']\n",
            "5c0833d2267ea771ad0a26faddaebe32 ['Mapping To Save The Planet', 'Science Computers and Programming Innovation', 'Body Systems Frankenstein Project Supplies', '1st Grade Math Center: Putting Things in Order', 'Rocking The Bronx: Bringing Music To The Classroom', 'Make Math Fun ', \"Slimmer's Seat Pockets\", 'Class Trip Project: Washington DC', 'Spring Art Show Materials', 'Brilliant Scholars In Need  Of A Larger Leveled Library']\n",
            "b02aa719ec788b0f6e1a75e772621bf1 ['Mapping To Save The Planet', 'Science Computers and Programming Innovation', 'Body Systems Frankenstein Project Supplies', '1st Grade Math Center: Putting Things in Order', 'Rocking The Bronx: Bringing Music To The Classroom', 'Make Math Fun ', \"Slimmer's Seat Pockets\", 'Class Trip Project: Washington DC', 'Help Us Achieve The Common Core', 'Brilliant Scholars In Need  Of A Larger Leveled Library']\n",
            "a9a03e3f02ea2a76313b9673db1c4071 ['Mapping To Save The Planet', 'Camping Supplies ', 'Body Systems Frankenstein Project Supplies', 'With a Small Group Table, We Can Learn Together!', 'Students Helping Students', 'Flipped Classroom Start-Up', 'Make Math Fun ', \"Slimmer's Seat Pockets\", 'Class Trip Project: Washington DC', '\"Oh, the Places You\\'ll Go...\" With Technology! (2)']\n",
            "b5cfd088eda4425626093953ba280233 ['Mapping To Save The Planet', 'With a Small Group Table, We Can Learn Together!', 'Students Helping Students', 'Flipped Classroom Start-Up', 'Make Math Fun ', \"Slimmer's Seat Pockets\", 'Class Trip Project: Washington DC', '\"Oh, the Places You\\'ll Go...\" With Technology! (2)', 'Help Us Achieve The Common Core', 'Yoga Mats for Awesome Kids']\n",
            "c670885413aeec6ae4fa098f773470a7 ['Mapping To Save The Planet', 'Camping Supplies ', 'Body Systems Frankenstein Project Supplies', 'With a Small Group Table, We Can Learn Together!', 'Students Helping Students', 'Rocking The Bronx: Bringing Music To The Classroom', 'Flipped Classroom Start-Up', 'A 3D Classroom', 'Make Math Fun ', \"Chromebooks for Harlem's Brightest  \"]\n",
            "251c8c3e67329f20967eb1160cbbb171 ['Camping Supplies ', 'Body Systems Frankenstein Project Supplies', 'With a Small Group Table, We Can Learn Together!', 'Students Helping Students', 'A 3D Classroom', 'Be a \"Bucket Filler\" Donate Prizes!', 'Science Alive!', '\"Oh, the Places You\\'ll Go...\" With Technology! (2)', 'Spring Art Show Materials', 'Support Females in Athletics!']\n",
            "6ff4cf7411856e924469f9919a3ffeda ['Mapping To Save The Planet', 'Science Computers and Programming Innovation', 'Body Systems Frankenstein Project Supplies', '1st Grade Math Center: Putting Things in Order', 'Students Helping Students', 'Flipped Classroom Start-Up', 'A 3D Classroom', 'Be a \"Bucket Filler\" Donate Prizes!', 'Class Trip Project: Washington DC', 'Spring Art Show Materials']\n",
            "a7c51e657a17072b7384c354f71ba904 ['Camping Supplies ', 'Body Systems Frankenstein Project Supplies', 'With a Small Group Table, We Can Learn Together!', '1st Grade Math Center: Putting Things in Order', 'Students Helping Students', 'Rocking The Bronx: Bringing Music To The Classroom', 'A 3D Classroom', 'Make Math Fun ', 'Be a \"Bucket Filler\" Donate Prizes!', \"Chromebooks for Harlem's Brightest  \"]\n",
            "ac115797c675dffb7624f699fa0b3137 ['Camping Supplies ', 'Body Systems Frankenstein Project Supplies', 'With a Small Group Table, We Can Learn Together!', '1st Grade Math Center: Putting Things in Order', 'Students Helping Students', 'Rocking The Bronx: Bringing Music To The Classroom', 'Flipped Classroom Start-Up', 'A 3D Classroom', 'Make Math Fun ', 'Be a \"Bucket Filler\" Donate Prizes!']\n",
            "dda43c8b3aef1b4bd24bb91f14ba267e ['Camping Supplies ', 'Science Computers and Programming Innovation', '1st Grade Math Center: Putting Things in Order', 'Students Helping Students', 'A 3D Classroom', 'Be a \"Bucket Filler\" Donate Prizes!', \"Chromebooks for Harlem's Brightest  \", 'Class Trip Project: Washington DC', '\"Oh, the Places You\\'ll Go...\" With Technology! (2)', 'Spring Art Show Materials']\n",
            "27a678b9c5eb9dffda1a7a1013fc6cfa ['Science Computers and Programming Innovation', 'Body Systems Frankenstein Project Supplies', 'With a Small Group Table, We Can Learn Together!', '1st Grade Math Center: Putting Things in Order', 'Students Helping Students', 'A 3D Classroom', 'Make Math Fun ', \"Chromebooks for Harlem's Brightest  \", \"Slimmer's Seat Pockets\", 'Help Us Achieve The Common Core']\n",
            "d108d5ee082c8c7d843cbd3d04461764 ['Camping Supplies ', 'Body Systems Frankenstein Project Supplies', 'With a Small Group Table, We Can Learn Together!', '1st Grade Math Center: Putting Things in Order', 'Students Helping Students', 'Rocking The Bronx: Bringing Music To The Classroom', 'Make Math Fun ', \"Chromebooks for Harlem's Brightest  \", \"Slimmer's Seat Pockets\", 'Yoga Mats for Awesome Kids']\n",
            "ebc2d5d01f867e1944d706c7306c9354 ['Camping Supplies ', '1st Grade Math Center: Putting Things in Order', 'Students Helping Students', 'Rocking The Bronx: Bringing Music To The Classroom', 'Make Math Fun ', 'Be a \"Bucket Filler\" Donate Prizes!', \"Chromebooks for Harlem's Brightest  \", \"Slimmer's Seat Pockets\", 'Help Us Achieve The Common Core', 'Brilliant Scholars In Need  Of A Larger Leveled Library']\n",
            "ff1ced6d9a244d5238d06d21063444f8 ['Camping Supplies ', 'Body Systems Frankenstein Project Supplies', '1st Grade Math Center: Putting Things in Order', 'Students Helping Students', 'A 3D Classroom', 'Be a \"Bucket Filler\" Donate Prizes!', \"Chromebooks for Harlem's Brightest  \", \"Slimmer's Seat Pockets\", 'Help Us Achieve The Common Core', 'Brilliant Scholars In Need  Of A Larger Leveled Library']\n",
            "38d59237470c562a463c5c73c147eca0 ['Science Computers and Programming Innovation', 'With a Small Group Table, We Can Learn Together!', '1st Grade Math Center: Putting Things in Order', 'Rocking The Bronx: Bringing Music To The Classroom', 'Make Math Fun ', \"Chromebooks for Harlem's Brightest  \", 'Science Alive!', \"Slimmer's Seat Pockets\", 'Class Trip Project: Washington DC', '\"Oh, the Places You\\'ll Go...\" With Technology! (2)']\n",
            "3cbeb69f5af6d86a78f29bf2367bcee3 ['Science Computers and Programming Innovation', 'Body Systems Frankenstein Project Supplies', 'With a Small Group Table, We Can Learn Together!', '1st Grade Math Center: Putting Things in Order', 'Students Helping Students', 'Rocking The Bronx: Bringing Music To The Classroom', 'A 3D Classroom', 'Make Math Fun ', 'Be a \"Bucket Filler\" Donate Prizes!', \"Chromebooks for Harlem's Brightest  \"]\n",
            "62a7fb9e1247fd3ab78aa1083205847d ['Science Computers and Programming Innovation', 'Body Systems Frankenstein Project Supplies', '1st Grade Math Center: Putting Things in Order', 'Rocking The Bronx: Bringing Music To The Classroom', 'Flipped Classroom Start-Up', \"Slimmer's Seat Pockets\", 'Class Trip Project: Washington DC', 'Help Us Achieve The Common Core', 'Brilliant Scholars In Need  Of A Larger Leveled Library', 'Yoga Mats for Awesome Kids']\n",
            "897017d7541e7b755cdceb874c88e982 ['Science Computers and Programming Innovation', 'Body Systems Frankenstein Project Supplies', 'With a Small Group Table, We Can Learn Together!', '1st Grade Math Center: Putting Things in Order', 'Students Helping Students', 'Rocking The Bronx: Bringing Music To The Classroom', 'A 3D Classroom', 'Make Math Fun ', 'Be a \"Bucket Filler\" Donate Prizes!', \"Chromebooks for Harlem's Brightest  \"]\n",
            "906240043dd0c0f7eb241dd670add549 ['Mapping To Save The Planet', '1st Grade Math Center: Putting Things in Order', 'Rocking The Bronx: Bringing Music To The Classroom', 'Flipped Classroom Start-Up', 'Make Math Fun ', \"Chromebooks for Harlem's Brightest  \", \"Slimmer's Seat Pockets\", 'Help Us Achieve The Common Core', 'Spring Art Show Materials', 'Brilliant Scholars In Need  Of A Larger Leveled Library']\n",
            "97c7444005e321955ae8420c1980f245 ['Science Computers and Programming Innovation', 'Body Systems Frankenstein Project Supplies', '1st Grade Math Center: Putting Things in Order', 'Rocking The Bronx: Bringing Music To The Classroom', 'Make Math Fun ', \"Slimmer's Seat Pockets\", '\"Oh, the Places You\\'ll Go...\" With Technology! (2)', 'Help Us Achieve The Common Core', 'Yoga Mats for Awesome Kids', 'Support Females in Athletics!']\n",
            "dbb63ea467312ca57f73c8908bbe5e43 ['Science Computers and Programming Innovation', 'Body Systems Frankenstein Project Supplies', '1st Grade Math Center: Putting Things in Order', 'Students Helping Students', 'Rocking The Bronx: Bringing Music To The Classroom', 'A 3D Classroom', 'Be a \"Bucket Filler\" Donate Prizes!', '\"Oh, the Places You\\'ll Go...\" With Technology! (2)', 'Yoga Mats for Awesome Kids', 'Support Females in Athletics!']\n",
            "e2fa32659bfcd7cf491cefe118498ff3 ['Body Systems Frankenstein Project Supplies', 'With a Small Group Table, We Can Learn Together!', '1st Grade Math Center: Putting Things in Order', 'Rocking The Bronx: Bringing Music To The Classroom', 'Flipped Classroom Start-Up', 'Make Math Fun ', \"Slimmer's Seat Pockets\", 'Help Us Achieve The Common Core', 'Brilliant Scholars In Need  Of A Larger Leveled Library', 'Yoga Mats for Awesome Kids']\n",
            "011af79d7d061e2adef9b15d8a86fe60 ['Mapping To Save The Planet', 'Camping Supplies ', 'With a Small Group Table, We Can Learn Together!', '1st Grade Math Center: Putting Things in Order', 'Rocking The Bronx: Bringing Music To The Classroom', 'Flipped Classroom Start-Up', 'A 3D Classroom', 'Help Us Achieve The Common Core', 'Learning Through the Technological Lens ', 'Finding Books That Are \"Just Right\"']\n",
            "011c10ac77cfbf4eb49e3e1449c713a0 ['Science Computers and Programming Innovation', 'Body Systems Frankenstein Project Supplies', 'With a Small Group Table, We Can Learn Together!', 'Students Helping Students', 'Rocking The Bronx: Bringing Music To The Classroom', 'A 3D Classroom', \"Chromebooks for Harlem's Brightest  \", 'Science Alive!', '\"Oh, the Places You\\'ll Go...\" With Technology! (2)', 'Strengthening Social Skills Through Reading']\n",
            "011f61e61d9c271445b80382151ca0b7 ['With a Small Group Table, We Can Learn Together!', '1st Grade Math Center: Putting Things in Order', 'Rocking The Bronx: Bringing Music To The Classroom', 'Flipped Classroom Start-Up', 'Make Math Fun ', 'Science Alive!', \"Slimmer's Seat Pockets\", 'Class Trip Project: Washington DC', '\"Oh, the Places You\\'ll Go...\" With Technology! (2)', 'Spring Art Show Materials']\n",
            "2fbde835335367cdcdbfe97a096cca95 ['Camping Supplies ', 'With a Small Group Table, We Can Learn Together!', '1st Grade Math Center: Putting Things in Order', 'Rocking The Bronx: Bringing Music To The Classroom', 'Flipped Classroom Start-Up', 'A 3D Classroom', 'Make Math Fun ', \"Chromebooks for Harlem's Brightest  \", 'Science Alive!', \"Slimmer's Seat Pockets\"]\n",
            "4026d0fcd826488d45d4692ab0d84e5b ['Camping Supplies ', 'With a Small Group Table, We Can Learn Together!', 'Rocking The Bronx: Bringing Music To The Classroom', 'Flipped Classroom Start-Up', 'A 3D Classroom', 'Make Math Fun ', \"Chromebooks for Harlem's Brightest  \", 'Science Alive!', 'Class Trip Project: Washington DC', '\"Oh, the Places You\\'ll Go...\" With Technology! (2)']\n",
            "5a987d93c84812757f3c47f9c1396dbc ['Camping Supplies ', 'With a Small Group Table, We Can Learn Together!', 'Rocking The Bronx: Bringing Music To The Classroom', 'Flipped Classroom Start-Up', 'Make Math Fun ', 'Science Alive!', \"Slimmer's Seat Pockets\", 'Class Trip Project: Washington DC', '\"Oh, the Places You\\'ll Go...\" With Technology! (2)', 'Help Us Achieve The Common Core']\n",
            "012138c662c251082af916e126a156c4 ['Camping Supplies ', 'Body Systems Frankenstein Project Supplies', 'With a Small Group Table, We Can Learn Together!', '1st Grade Math Center: Putting Things in Order', 'Rocking The Bronx: Bringing Music To The Classroom', 'Make Math Fun ', \"Chromebooks for Harlem's Brightest  \", 'Science Alive!', \"Slimmer's Seat Pockets\", 'Class Trip Project: Washington DC']\n",
            "dbe05aeecc4d24c623e0e1eaa839e824 ['Mapping To Save The Planet', 'Body Systems Frankenstein Project Supplies', 'With a Small Group Table, We Can Learn Together!', '1st Grade Math Center: Putting Things in Order', 'Students Helping Students', 'A 3D Classroom', 'Make Math Fun ', \"Chromebooks for Harlem's Brightest  \", 'Science Alive!', 'Class Trip Project: Washington DC']\n",
            "0123129c7242c85e9bc1cf7854fa93a0 ['Mapping To Save The Planet', 'Body Systems Frankenstein Project Supplies', 'With a Small Group Table, We Can Learn Together!', '1st Grade Math Center: Putting Things in Order', 'Students Helping Students', 'Rocking The Bronx: Bringing Music To The Classroom', 'Flipped Classroom Start-Up', 'A 3D Classroom', 'Make Math Fun ', 'Be a \"Bucket Filler\" Donate Prizes!']\n",
            "303763b124a683a3d43585af1b8de7d7 ['Mapping To Save The Planet', 'Body Systems Frankenstein Project Supplies', 'With a Small Group Table, We Can Learn Together!', '1st Grade Math Center: Putting Things in Order', 'Students Helping Students', 'Rocking The Bronx: Bringing Music To The Classroom', 'Make Math Fun ', 'Class Trip Project: Washington DC', 'Help Us Achieve The Common Core', 'Brilliant Scholars In Need  Of A Larger Leveled Library']\n",
            "3185212d9bd35b72fde443970499518a ['Mapping To Save The Planet', 'Camping Supplies ', 'Body Systems Frankenstein Project Supplies', '1st Grade Math Center: Putting Things in Order', 'Students Helping Students', 'Rocking The Bronx: Bringing Music To The Classroom', 'Flipped Classroom Start-Up', 'A 3D Classroom', 'Be a \"Bucket Filler\" Donate Prizes!', \"Chromebooks for Harlem's Brightest  \"]\n",
            "9755c8301669e1d6835269c9272b4d22 ['Camping Supplies ', 'Body Systems Frankenstein Project Supplies', '1st Grade Math Center: Putting Things in Order', 'Students Helping Students', 'A 3D Classroom', 'Be a \"Bucket Filler\" Donate Prizes!', \"Chromebooks for Harlem's Brightest  \", 'Science Alive!', 'Class Trip Project: Washington DC', '\"Oh, the Places You\\'ll Go...\" With Technology! (2)']\n",
            "a73a7388230b71d62c37079d44c0e18a ['Mapping To Save The Planet', 'Body Systems Frankenstein Project Supplies', 'With a Small Group Table, We Can Learn Together!', '1st Grade Math Center: Putting Things in Order', 'Students Helping Students', 'Rocking The Bronx: Bringing Music To The Classroom', 'Flipped Classroom Start-Up', 'A 3D Classroom', 'Make Math Fun ', 'Be a \"Bucket Filler\" Donate Prizes!']\n",
            "01264221c6b4106ebd7cab55520d554b ['Mapping To Save The Planet', 'Science Computers and Programming Innovation', 'With a Small Group Table, We Can Learn Together!', 'Flipped Classroom Start-Up', 'A 3D Classroom', '\"Oh, the Places You\\'ll Go...\" With Technology! (2)', 'Help Us Achieve The Common Core', 'Spring Art Show Materials', 'Learning Through the Technological Lens ', 'Students Need Shakespeare\\'s Insults: \"Thou Cream Faced Loon\"']\n",
            "01296b19e61724c25069100ddfe0b15b ['Mapping To Save The Planet', 'Body Systems Frankenstein Project Supplies', 'Students Helping Students', 'A 3D Classroom', 'Make Math Fun ', 'Be a \"Bucket Filler\" Donate Prizes!', \"Chromebooks for Harlem's Brightest  \", 'Science Alive!', \"Slimmer's Seat Pockets\", 'Class Trip Project: Washington DC']\n",
            "012c6194e765b032b910b78db9491884 ['Mapping To Save The Planet', 'Science Computers and Programming Innovation', 'With a Small Group Table, We Can Learn Together!', 'Students Helping Students', 'Rocking The Bronx: Bringing Music To The Classroom', 'Flipped Classroom Start-Up', 'Make Math Fun ', '\"Oh, the Places You\\'ll Go...\" With Technology! (2)', 'Help Us Achieve The Common Core', 'Spring Art Show Materials']\n",
            "90ff414042411781467236da5331242c ['Mapping To Save The Planet', 'Camping Supplies ', 'Science Computers and Programming Innovation', 'With a Small Group Table, We Can Learn Together!', 'Students Helping Students', 'Rocking The Bronx: Bringing Music To The Classroom', 'Flipped Classroom Start-Up', 'A 3D Classroom', 'Make Math Fun ', 'Class Trip Project: Washington DC']\n",
            "012e42e7b6cf127241f9a85b4cf1495f ['Camping Supplies ', 'Science Computers and Programming Innovation', \"Chromebooks for Harlem's Brightest  \", \"Slimmer's Seat Pockets\", 'Class Trip Project: Washington DC', '\"Oh, the Places You\\'ll Go...\" With Technology! (2)', 'Help Us Achieve The Common Core', 'Spring Art Show Materials', 'Brilliant Scholars In Need  Of A Larger Leveled Library', 'Strengthening Social Skills Through Reading']\n",
            "1cea3f879de0e168fd9ca41308f5ea9d ['Camping Supplies ', 'Body Systems Frankenstein Project Supplies', 'Flipped Classroom Start-Up', 'A 3D Classroom', 'Be a \"Bucket Filler\" Donate Prizes!', \"Slimmer's Seat Pockets\", 'Class Trip Project: Washington DC', 'Help Us Achieve The Common Core', 'Spring Art Show Materials', 'Brilliant Scholars In Need  Of A Larger Leveled Library']\n",
            "1f0f66d2f80315b986a0d862bbaa771d ['Science Computers and Programming Innovation', 'Be a \"Bucket Filler\" Donate Prizes!', \"Chromebooks for Harlem's Brightest  \", \"Slimmer's Seat Pockets\", 'Class Trip Project: Washington DC', '\"Oh, the Places You\\'ll Go...\" With Technology! (2)', 'Help Us Achieve The Common Core', 'Spring Art Show Materials', 'Brilliant Scholars In Need  Of A Larger Leveled Library', 'Strengthening Social Skills Through Reading']\n",
            "329fe9a46c48e536cb15bb5f1ff90384 ['Mapping To Save The Planet', 'Science Computers and Programming Innovation', 'Body Systems Frankenstein Project Supplies', 'A 3D Classroom', 'Be a \"Bucket Filler\" Donate Prizes!', \"Chromebooks for Harlem's Brightest  \", \"Slimmer's Seat Pockets\", 'Class Trip Project: Washington DC', 'Spring Art Show Materials', 'Brilliant Scholars In Need  Of A Larger Leveled Library']\n",
            "3eda1bc73139f33741ba054339e665a5 ['Camping Supplies ', 'With a Small Group Table, We Can Learn Together!', '1st Grade Math Center: Putting Things in Order', 'Students Helping Students', 'Rocking The Bronx: Bringing Music To The Classroom', 'Flipped Classroom Start-Up', 'A 3D Classroom', 'Be a \"Bucket Filler\" Donate Prizes!', \"Chromebooks for Harlem's Brightest  \", 'Science Alive!']\n",
            "79bb96e6f41595a6c45a52ed76f7e372 ['Body Systems Frankenstein Project Supplies', '1st Grade Math Center: Putting Things in Order', 'Students Helping Students', 'Flipped Classroom Start-Up', 'Be a \"Bucket Filler\" Donate Prizes!', \"Slimmer's Seat Pockets\", 'Class Trip Project: Washington DC', 'Help Us Achieve The Common Core', 'Spring Art Show Materials', 'Brilliant Scholars In Need  Of A Larger Leveled Library']\n",
            "87474429a61605667009f7cc1a7ef9b8 ['Camping Supplies ', 'Science Computers and Programming Innovation', 'Body Systems Frankenstein Project Supplies', 'Be a \"Bucket Filler\" Donate Prizes!', \"Chromebooks for Harlem's Brightest  \", \"Slimmer's Seat Pockets\", '\"Oh, the Places You\\'ll Go...\" With Technology! (2)', 'Spring Art Show Materials', 'Brilliant Scholars In Need  Of A Larger Leveled Library', 'Yoga Mats for Awesome Kids']\n",
            "8caf016e9045059cfa2b195507f70146 ['Mapping To Save The Planet', 'Camping Supplies ', '1st Grade Math Center: Putting Things in Order', 'Rocking The Bronx: Bringing Music To The Classroom', 'Flipped Classroom Start-Up', \"Chromebooks for Harlem's Brightest  \", \"Slimmer's Seat Pockets\", 'Class Trip Project: Washington DC', 'Spring Art Show Materials', 'Brilliant Scholars In Need  Of A Larger Leveled Library']\n",
            "8e41b98fe083d20b2934e97b894d756b ['Camping Supplies ', 'Science Computers and Programming Innovation', 'Body Systems Frankenstein Project Supplies', 'A 3D Classroom', 'Be a \"Bucket Filler\" Donate Prizes!', \"Chromebooks for Harlem's Brightest  \", 'Science Alive!', \"Slimmer's Seat Pockets\", 'Class Trip Project: Washington DC', 'Spring Art Show Materials']\n",
            "b33446494e16fae612f229295cc0bd01 ['Mapping To Save The Planet', 'Body Systems Frankenstein Project Supplies', 'Flipped Classroom Start-Up', 'A 3D Classroom', \"Chromebooks for Harlem's Brightest  \", 'Science Alive!', \"Slimmer's Seat Pockets\", '\"Oh, the Places You\\'ll Go...\" With Technology! (2)', 'Help Us Achieve The Common Core', 'Spring Art Show Materials']\n",
            "d6e3fe62f68781fc28276115bf5c55e7 ['Camping Supplies ', '1st Grade Math Center: Putting Things in Order', 'Flipped Classroom Start-Up', 'A 3D Classroom', 'Be a \"Bucket Filler\" Donate Prizes!', \"Chromebooks for Harlem's Brightest  \", 'Science Alive!', \"Slimmer's Seat Pockets\", 'Spring Art Show Materials', 'Brilliant Scholars In Need  Of A Larger Leveled Library']\n",
            "e2bf1b1385b3cc2d1d508a5635d3cb7a ['Mapping To Save The Planet', '1st Grade Math Center: Putting Things in Order', 'Flipped Classroom Start-Up', \"Chromebooks for Harlem's Brightest  \", 'Science Alive!', \"Slimmer's Seat Pockets\", 'Class Trip Project: Washington DC', 'Help Us Achieve The Common Core', 'Spring Art Show Materials', 'Brilliant Scholars In Need  Of A Larger Leveled Library']\n",
            "fa4b4549ab23b0ebb494094e5cb3aad2 ['Body Systems Frankenstein Project Supplies', '1st Grade Math Center: Putting Things in Order', 'Students Helping Students', 'Flipped Classroom Start-Up', 'A 3D Classroom', 'Be a \"Bucket Filler\" Donate Prizes!', \"Chromebooks for Harlem's Brightest  \", 'Science Alive!', \"Slimmer's Seat Pockets\", 'Class Trip Project: Washington DC']\n",
            "ffeb72324daf8aeab32c7c9d52a8842e ['Mapping To Save The Planet', 'Body Systems Frankenstein Project Supplies', '1st Grade Math Center: Putting Things in Order', 'Rocking The Bronx: Bringing Music To The Classroom', 'Flipped Classroom Start-Up', 'Be a \"Bucket Filler\" Donate Prizes!', \"Chromebooks for Harlem's Brightest  \", 'Science Alive!', \"Slimmer's Seat Pockets\", 'Help Us Achieve The Common Core']\n",
            "012f8d375f3d7c572be1918f6f27c372 ['Camping Supplies ', 'Body Systems Frankenstein Project Supplies', 'With a Small Group Table, We Can Learn Together!', '1st Grade Math Center: Putting Things in Order', 'Students Helping Students', 'Rocking The Bronx: Bringing Music To The Classroom', 'Flipped Classroom Start-Up', 'A 3D Classroom', 'Make Math Fun ', 'Class Trip Project: Washington DC']\n",
            "013000d48c16756fce7f6c93b5e72e63 ['Mapping To Save The Planet', 'Camping Supplies ', 'Students Helping Students', 'Rocking The Bronx: Bringing Music To The Classroom', 'Flipped Classroom Start-Up', 'A 3D Classroom', 'Be a \"Bucket Filler\" Donate Prizes!', 'Science Alive!', \"Slimmer's Seat Pockets\", 'Spring Art Show Materials']\n",
            "46b5675ac4b514462b84ecb81fff8251 ['Science Computers and Programming Innovation', 'Body Systems Frankenstein Project Supplies', '1st Grade Math Center: Putting Things in Order', 'Students Helping Students', 'Rocking The Bronx: Bringing Music To The Classroom', 'Flipped Classroom Start-Up', 'A 3D Classroom', 'Make Math Fun ', 'Be a \"Bucket Filler\" Donate Prizes!', 'Science Alive!']\n",
            "6667cf5cbfbadab17e23c4f44c0efddf ['Mapping To Save The Planet', 'Science Computers and Programming Innovation', 'Body Systems Frankenstein Project Supplies', 'With a Small Group Table, We Can Learn Together!', '1st Grade Math Center: Putting Things in Order', 'Students Helping Students', 'Rocking The Bronx: Bringing Music To The Classroom', 'Flipped Classroom Start-Up', 'A 3D Classroom', 'Make Math Fun ']\n",
            "01344d19aa7c0f28bee5ea92824d1ecf ['Camping Supplies ', 'Body Systems Frankenstein Project Supplies', 'With a Small Group Table, We Can Learn Together!', 'Flipped Classroom Start-Up', 'A 3D Classroom', 'Be a \"Bucket Filler\" Donate Prizes!', \"Chromebooks for Harlem's Brightest  \", 'Science Alive!', 'Class Trip Project: Washington DC', '\"Oh, the Places You\\'ll Go...\" With Technology! (2)']\n",
            "0147247cd6d9d50faf76dd53786a45e4 ['Camping Supplies ', 'Science Computers and Programming Innovation', 'With a Small Group Table, We Can Learn Together!', 'Rocking The Bronx: Bringing Music To The Classroom', 'Flipped Classroom Start-Up', 'A 3D Classroom', 'Science Alive!', \"Slimmer's Seat Pockets\", 'Class Trip Project: Washington DC', '\"Oh, the Places You\\'ll Go...\" With Technology! (2)']\n",
            "53d280aa3cb72adf61cfcd5e73f45e47 ['Camping Supplies ', 'Science Computers and Programming Innovation', 'Body Systems Frankenstein Project Supplies', 'With a Small Group Table, We Can Learn Together!', '1st Grade Math Center: Putting Things in Order', 'Students Helping Students', 'Rocking The Bronx: Bringing Music To The Classroom', 'A 3D Classroom', 'Make Math Fun ', 'Be a \"Bucket Filler\" Donate Prizes!']\n",
            "07eb44d713ec988164cd834f89f863ef ['Science Computers and Programming Innovation', 'Students Helping Students', 'A 3D Classroom', 'Be a \"Bucket Filler\" Donate Prizes!', 'Class Trip Project: Washington DC', '\"Oh, the Places You\\'ll Go...\" With Technology! (2)', 'Help Us Achieve The Common Core', 'Support Females in Athletics!', 'Students Need Shakespeare\\'s Insults: \"Thou Cream Faced Loon\"', 'Keep Calm and Crochet On!']\n",
            "0bffce719a0016c617819f7336a959a6 ['Science Computers and Programming Innovation', 'Body Systems Frankenstein Project Supplies', 'Students Helping Students', 'A 3D Classroom', 'Be a \"Bucket Filler\" Donate Prizes!', 'Science Alive!', 'Class Trip Project: Washington DC', '\"Oh, the Places You\\'ll Go...\" With Technology! (2)', 'Yoga Mats for Awesome Kids', 'Support Females in Athletics!']\n",
            "15beadedc27fd97fdd38855911df6c8f ['Camping Supplies ', 'Science Computers and Programming Innovation', 'Students Helping Students', 'A 3D Classroom', 'Be a \"Bucket Filler\" Donate Prizes!', 'Science Alive!', 'Class Trip Project: Washington DC', '\"Oh, the Places You\\'ll Go...\" With Technology! (2)', 'Yoga Mats for Awesome Kids', 'Students Need Shakespeare\\'s Insults: \"Thou Cream Faced Loon\"']\n",
            "7680fcefd43ac4cfec5f6aa3ed8b3958 ['Science Computers and Programming Innovation', 'Students Helping Students', 'Flipped Classroom Start-Up', 'A 3D Classroom', 'Be a \"Bucket Filler\" Donate Prizes!', 'Science Alive!', 'Class Trip Project: Washington DC', 'Students Need Shakespeare\\'s Insults: \"Thou Cream Faced Loon\"', 'Keep Calm and Crochet On!', 'Motivation Station: No Hangry Child Left Behind']\n",
            "88b8aed7be5b07a367dc95fb358de08d ['Mapping To Save The Planet', 'Camping Supplies ', 'Science Computers and Programming Innovation', 'With a Small Group Table, We Can Learn Together!', 'Students Helping Students', 'Flipped Classroom Start-Up', 'A 3D Classroom', 'Be a \"Bucket Filler\" Donate Prizes!', 'Science Alive!', \"Slimmer's Seat Pockets\"]\n",
            "9ed8a06b7d69d6ec0eac5aecc1468e6d ['Camping Supplies ', 'Science Computers and Programming Innovation', 'Body Systems Frankenstein Project Supplies', 'With a Small Group Table, We Can Learn Together!', 'Students Helping Students', 'Rocking The Bronx: Bringing Music To The Classroom', 'A 3D Classroom', 'Be a \"Bucket Filler\" Donate Prizes!', 'Science Alive!', \"Slimmer's Seat Pockets\"]\n",
            "c6235dd6c3a87428228d9f8e048ff2af ['Camping Supplies ', 'Science Computers and Programming Innovation', 'A 3D Classroom', 'Be a \"Bucket Filler\" Donate Prizes!', \"Slimmer's Seat Pockets\", 'Class Trip Project: Washington DC', 'Help Us Achieve The Common Core', 'Spring Art Show Materials', 'Brilliant Scholars In Need  Of A Larger Leveled Library', 'Yoga Mats for Awesome Kids']\n",
            "014ed68c87c041a43295236d26ba0319 ['Mapping To Save The Planet', 'Camping Supplies ', '1st Grade Math Center: Putting Things in Order', 'Rocking The Bronx: Bringing Music To The Classroom', 'Flipped Classroom Start-Up', 'A 3D Classroom', 'Be a \"Bucket Filler\" Donate Prizes!', \"Slimmer's Seat Pockets\", 'Class Trip Project: Washington DC', 'Help Us Achieve The Common Core']\n",
            "5de91ac60a0515fc234cf89e603f5494 ['Camping Supplies ', 'Science Computers and Programming Innovation', 'With a Small Group Table, We Can Learn Together!', '1st Grade Math Center: Putting Things in Order', 'Rocking The Bronx: Bringing Music To The Classroom', 'Flipped Classroom Start-Up', 'A 3D Classroom', \"Slimmer's Seat Pockets\", 'Class Trip Project: Washington DC', '\"Oh, the Places You\\'ll Go...\" With Technology! (2)']\n",
            "014f498cdb5ea0c60ef69f32be32150c ['Camping Supplies ', 'With a Small Group Table, We Can Learn Together!', 'Rocking The Bronx: Bringing Music To The Classroom', 'Flipped Classroom Start-Up', 'A 3D Classroom', 'Make Math Fun ', 'Science Alive!', \"Slimmer's Seat Pockets\", 'Class Trip Project: Washington DC', '\"Oh, the Places You\\'ll Go...\" With Technology! (2)']\n",
            "383559b5d2723c4a0feda368813cabea ['Mapping To Save The Planet', 'Camping Supplies ', 'With a Small Group Table, We Can Learn Together!', 'Rocking The Bronx: Bringing Music To The Classroom', 'A 3D Classroom', 'Make Math Fun ', 'Science Alive!', \"Slimmer's Seat Pockets\", '\"Oh, the Places You\\'ll Go...\" With Technology! (2)', 'Help Us Achieve The Common Core']\n",
            "d5d1bba32e9b93cc999c0d3b07abcc95 ['Camping Supplies ', 'With a Small Group Table, We Can Learn Together!', 'Students Helping Students', 'Rocking The Bronx: Bringing Music To The Classroom', 'Flipped Classroom Start-Up', 'A 3D Classroom', 'Make Math Fun ', 'Be a \"Bucket Filler\" Donate Prizes!', \"Chromebooks for Harlem's Brightest  \", 'Science Alive!']\n",
            "dc544da730ba73b82f175b553cfd9988 ['Mapping To Save The Planet', 'Camping Supplies ', 'With a Small Group Table, We Can Learn Together!', 'Students Helping Students', 'Rocking The Bronx: Bringing Music To The Classroom', 'Flipped Classroom Start-Up', 'A 3D Classroom', 'Make Math Fun ', \"Chromebooks for Harlem's Brightest  \", 'Science Alive!']\n",
            "0157d7ddbe904dda7a5ea9e921f9a789 ['Camping Supplies ', 'Science Computers and Programming Innovation', 'Body Systems Frankenstein Project Supplies', 'With a Small Group Table, We Can Learn Together!', 'Students Helping Students', 'Rocking The Bronx: Bringing Music To The Classroom', 'A 3D Classroom', 'Make Math Fun ', 'Be a \"Bucket Filler\" Donate Prizes!', \"Chromebooks for Harlem's Brightest  \"]\n",
            "2144d56b1947ebb26a19e7f1d07c970a ['Camping Supplies ', 'Science Computers and Programming Innovation', 'Body Systems Frankenstein Project Supplies', 'With a Small Group Table, We Can Learn Together!', 'Students Helping Students', 'Rocking The Bronx: Bringing Music To The Classroom', 'Be a \"Bucket Filler\" Donate Prizes!', \"Chromebooks for Harlem's Brightest  \", 'Science Alive!', '\"Oh, the Places You\\'ll Go...\" With Technology! (2)']\n",
            "015d10b63c664d0392bab106f196a213 ['Mapping To Save The Planet', 'Body Systems Frankenstein Project Supplies', '1st Grade Math Center: Putting Things in Order', 'Students Helping Students', 'Rocking The Bronx: Bringing Music To The Classroom', 'Flipped Classroom Start-Up', 'Spring Art Show Materials', 'Brilliant Scholars In Need  Of A Larger Leveled Library', 'Strengthening Social Skills Through Reading', 'Support Females in Athletics!']\n",
            "015dc1cdfb54a2dd10d75ca6d5e899e0 ['Mapping To Save The Planet', 'Camping Supplies ', 'Body Systems Frankenstein Project Supplies', 'With a Small Group Table, We Can Learn Together!', 'Rocking The Bronx: Bringing Music To The Classroom', 'Make Math Fun ', \"Chromebooks for Harlem's Brightest  \", 'Science Alive!', \"Slimmer's Seat Pockets\", 'Spring Art Show Materials']\n",
            "016025ba068aa1f33fb8f10d3a297fab ['Camping Supplies ', 'Body Systems Frankenstein Project Supplies', 'With a Small Group Table, We Can Learn Together!', '1st Grade Math Center: Putting Things in Order', 'Students Helping Students', 'Rocking The Bronx: Bringing Music To The Classroom', 'A 3D Classroom', 'Make Math Fun ', 'Be a \"Bucket Filler\" Donate Prizes!', 'Science Alive!']\n",
            "0c0fbf552462c754d88371e46b789bef ['Camping Supplies ', 'With a Small Group Table, We Can Learn Together!', 'Rocking The Bronx: Bringing Music To The Classroom', 'Flipped Classroom Start-Up', 'A 3D Classroom', 'Make Math Fun ', \"Chromebooks for Harlem's Brightest  \", 'Science Alive!', \"Slimmer's Seat Pockets\", 'Spring Art Show Materials']\n",
            "0f7d2415dce55e3abb5c1d016b744e45 ['Camping Supplies ', 'Body Systems Frankenstein Project Supplies', 'With a Small Group Table, We Can Learn Together!', 'Rocking The Bronx: Bringing Music To The Classroom', 'A 3D Classroom', 'Make Math Fun ', 'Be a \"Bucket Filler\" Donate Prizes!', \"Chromebooks for Harlem's Brightest  \", 'Science Alive!', 'Class Trip Project: Washington DC']\n",
            "1ba2e2deddc14dc206aa0b8ec667748e ['Camping Supplies ', 'Body Systems Frankenstein Project Supplies', 'Students Helping Students', 'Rocking The Bronx: Bringing Music To The Classroom', 'Make Math Fun ', 'Be a \"Bucket Filler\" Donate Prizes!', \"Chromebooks for Harlem's Brightest  \", '\"Oh, the Places You\\'ll Go...\" With Technology! (2)', 'Spring Art Show Materials', 'Brilliant Scholars In Need  Of A Larger Leveled Library']\n",
            "1e56919a74cbba75b7932020bd2b4540 ['Camping Supplies ', 'Body Systems Frankenstein Project Supplies', '1st Grade Math Center: Putting Things in Order', 'Rocking The Bronx: Bringing Music To The Classroom', 'Flipped Classroom Start-Up', 'A 3D Classroom', 'Make Math Fun ', \"Chromebooks for Harlem's Brightest  \", \"Slimmer's Seat Pockets\", 'Class Trip Project: Washington DC']\n",
            "408f469500aeca5ec1acc562b6a9f8c2 ['Camping Supplies ', 'With a Small Group Table, We Can Learn Together!', '1st Grade Math Center: Putting Things in Order', 'Rocking The Bronx: Bringing Music To The Classroom', 'Flipped Classroom Start-Up', 'A 3D Classroom', 'Make Math Fun ', \"Chromebooks for Harlem's Brightest  \", 'Science Alive!', 'Spring Art Show Materials']\n",
            "71c76b1b10ddd2d289be2bd32dff4c1d ['Camping Supplies ', 'With a Small Group Table, We Can Learn Together!', '1st Grade Math Center: Putting Things in Order', 'Rocking The Bronx: Bringing Music To The Classroom', 'A 3D Classroom', 'Make Math Fun ', \"Chromebooks for Harlem's Brightest  \", 'Science Alive!', \"Slimmer's Seat Pockets\", 'Class Trip Project: Washington DC']\n",
            "79eb626a100222645c94850678c34ec7 ['Camping Supplies ', '1st Grade Math Center: Putting Things in Order', 'Rocking The Bronx: Bringing Music To The Classroom', 'Flipped Classroom Start-Up', 'Make Math Fun ', 'Be a \"Bucket Filler\" Donate Prizes!', \"Slimmer's Seat Pockets\", 'Spring Art Show Materials', 'Brilliant Scholars In Need  Of A Larger Leveled Library', 'Yoga Mats for Awesome Kids']\n",
            "8c78cb4ad64bc32eb223418fb7107199 ['Camping Supplies ', 'Body Systems Frankenstein Project Supplies', '1st Grade Math Center: Putting Things in Order', 'Students Helping Students', 'Rocking The Bronx: Bringing Music To The Classroom', 'A 3D Classroom', 'Make Math Fun ', \"Chromebooks for Harlem's Brightest  \", 'Science Alive!', 'Class Trip Project: Washington DC']\n",
            "b0ae5177cc0d5b0cc3d29078254f34ad ['Camping Supplies ', 'With a Small Group Table, We Can Learn Together!', 'Make Math Fun ', \"Chromebooks for Harlem's Brightest  \", \"Slimmer's Seat Pockets\", '\"Oh, the Places You\\'ll Go...\" With Technology! (2)', 'Help Us Achieve The Common Core', 'Spring Art Show Materials', 'Support Females in Athletics!', 'Learning Through the Technological Lens ']\n",
            "cac545be012c9b1c4a8a35cd5a296d57 ['Camping Supplies ', 'Body Systems Frankenstein Project Supplies', 'With a Small Group Table, We Can Learn Together!', '1st Grade Math Center: Putting Things in Order', 'Rocking The Bronx: Bringing Music To The Classroom', 'A 3D Classroom', 'Make Math Fun ', 'Be a \"Bucket Filler\" Donate Prizes!', \"Chromebooks for Harlem's Brightest  \", 'Science Alive!']\n",
            "e6802510b4fe0ded93ae9bfbfa1bf0b3 ['Camping Supplies ', 'Body Systems Frankenstein Project Supplies', '1st Grade Math Center: Putting Things in Order', 'Make Math Fun ', 'Be a \"Bucket Filler\" Donate Prizes!', \"Chromebooks for Harlem's Brightest  \", \"Slimmer's Seat Pockets\", 'Class Trip Project: Washington DC', 'Spring Art Show Materials', 'Brilliant Scholars In Need  Of A Larger Leveled Library']\n",
            "fe6e82344751141b73a4252bfb252020 ['Camping Supplies ', 'Body Systems Frankenstein Project Supplies', 'With a Small Group Table, We Can Learn Together!', 'Students Helping Students', 'Rocking The Bronx: Bringing Music To The Classroom', 'A 3D Classroom', 'Make Math Fun ', 'Be a \"Bucket Filler\" Donate Prizes!', \"Chromebooks for Harlem's Brightest  \", 'Science Alive!']\n",
            "0161c25ec4d44ea3f78b34f8dd6bb1a8 ['Mapping To Save The Planet', 'Camping Supplies ', 'Students Helping Students', 'Rocking The Bronx: Bringing Music To The Classroom', 'Flipped Classroom Start-Up', 'Be a \"Bucket Filler\" Donate Prizes!', '\"Oh, the Places You\\'ll Go...\" With Technology! (2)', 'Help Us Achieve The Common Core', 'Spring Art Show Materials', 'Support Females in Athletics!']\n",
            "016563f6daa27a17adc6fb6eff2cf4e4 ['Mapping To Save The Planet', 'Science Computers and Programming Innovation', 'With a Small Group Table, We Can Learn Together!', 'Students Helping Students', 'Rocking The Bronx: Bringing Music To The Classroom', 'A 3D Classroom', 'Be a \"Bucket Filler\" Donate Prizes!', 'Science Alive!', '\"Oh, the Places You\\'ll Go...\" With Technology! (2)', 'Learning Through the Technological Lens ']\n",
            "82452b5e2a4c24e64d6e804247a2b31e ['Camping Supplies ', 'Science Computers and Programming Innovation', 'With a Small Group Table, We Can Learn Together!', 'Students Helping Students', 'A 3D Classroom', \"Chromebooks for Harlem's Brightest  \", 'Science Alive!', '\"Oh, the Places You\\'ll Go...\" With Technology! (2)', 'Spring Art Show Materials', 'Learning Through the Technological Lens ']\n",
            "016833674db0d56ea6c6334dc9e3a2a7 ['Science Computers and Programming Innovation', 'Body Systems Frankenstein Project Supplies', '1st Grade Math Center: Putting Things in Order', 'Students Helping Students', 'Be a \"Bucket Filler\" Donate Prizes!', \"Chromebooks for Harlem's Brightest  \", 'Science Alive!', \"Slimmer's Seat Pockets\", 'Class Trip Project: Washington DC', '\"Oh, the Places You\\'ll Go...\" With Technology! (2)']\n",
            "84a369892fc56cca1f88f2d96d997f29 ['Mapping To Save The Planet', 'Body Systems Frankenstein Project Supplies', 'Students Helping Students', \"Chromebooks for Harlem's Brightest  \", 'Science Alive!', \"Slimmer's Seat Pockets\", '\"Oh, the Places You\\'ll Go...\" With Technology! (2)', 'Spring Art Show Materials', 'Yoga Mats for Awesome Kids', 'Strengthening Social Skills Through Reading']\n",
            "01683d664e716dd5f6ad45885c0d4c87 ['Camping Supplies ', 'Science Computers and Programming Innovation', 'Body Systems Frankenstein Project Supplies', 'With a Small Group Table, We Can Learn Together!', 'Students Helping Students', 'Rocking The Bronx: Bringing Music To The Classroom', 'Make Math Fun ', 'Science Alive!', \"Slimmer's Seat Pockets\", '\"Oh, the Places You\\'ll Go...\" With Technology! (2)']\n",
            "017ae8d0d3a9558e08c2d4b626dbe77b ['Camping Supplies ', 'Body Systems Frankenstein Project Supplies', 'With a Small Group Table, We Can Learn Together!', 'Students Helping Students', 'Rocking The Bronx: Bringing Music To The Classroom', 'Flipped Classroom Start-Up', 'Make Math Fun ', \"Chromebooks for Harlem's Brightest  \", 'Science Alive!', \"Slimmer's Seat Pockets\"]\n",
            "0684586677979bdc61a3cb2eb1acabda ['Camping Supplies ', 'Body Systems Frankenstein Project Supplies', 'With a Small Group Table, We Can Learn Together!', 'Students Helping Students', 'Rocking The Bronx: Bringing Music To The Classroom', 'A 3D Classroom', 'Make Math Fun ', \"Chromebooks for Harlem's Brightest  \", 'Science Alive!', \"Slimmer's Seat Pockets\"]\n",
            "0f87da1ba5bdf875ce7a9b06b047b85e ['Camping Supplies ', 'With a Small Group Table, We Can Learn Together!', 'Students Helping Students', 'Rocking The Bronx: Bringing Music To The Classroom', 'A 3D Classroom', 'Make Math Fun ', 'Be a \"Bucket Filler\" Donate Prizes!', \"Chromebooks for Harlem's Brightest  \", 'Science Alive!', \"Slimmer's Seat Pockets\"]\n",
            "30d94a63e7fa22edaa5fc887873901fb ['Body Systems Frankenstein Project Supplies', 'With a Small Group Table, We Can Learn Together!', '1st Grade Math Center: Putting Things in Order', 'Rocking The Bronx: Bringing Music To The Classroom', 'Flipped Classroom Start-Up', 'Make Math Fun ', 'Science Alive!', \"Slimmer's Seat Pockets\", 'Yoga Mats for Awesome Kids', 'Support Females in Athletics!']\n",
            "40563a0e6006ff94dc89a24857929091 ['Camping Supplies ', 'With a Small Group Table, We Can Learn Together!', 'Rocking The Bronx: Bringing Music To The Classroom', 'Flipped Classroom Start-Up', 'A 3D Classroom', 'Make Math Fun ', 'Science Alive!', \"Slimmer's Seat Pockets\", 'Yoga Mats for Awesome Kids', 'Learning Through the Technological Lens ']\n",
            "517bf324e4901f18c8397962b2e02a4e ['Mapping To Save The Planet', 'Body Systems Frankenstein Project Supplies', 'With a Small Group Table, We Can Learn Together!', '1st Grade Math Center: Putting Things in Order', 'Students Helping Students', 'A 3D Classroom', 'Make Math Fun ', \"Chromebooks for Harlem's Brightest  \", 'Science Alive!', 'Spring Art Show Materials']\n",
            "66a1c29c731c884f08c16abe0d3a58ac ['Camping Supplies ', 'Science Computers and Programming Innovation', 'With a Small Group Table, We Can Learn Together!', 'Rocking The Bronx: Bringing Music To The Classroom', 'Flipped Classroom Start-Up', 'A 3D Classroom', 'Make Math Fun ', 'Science Alive!', \"Slimmer's Seat Pockets\", '\"Oh, the Places You\\'ll Go...\" With Technology! (2)']\n",
            "7fde530a43f07b1d84ab8bdd06bb4569 ['Camping Supplies ', 'Body Systems Frankenstein Project Supplies', 'With a Small Group Table, We Can Learn Together!', 'Students Helping Students', 'Rocking The Bronx: Bringing Music To The Classroom', 'Flipped Classroom Start-Up', 'Make Math Fun ', \"Chromebooks for Harlem's Brightest  \", 'Science Alive!', \"Slimmer's Seat Pockets\"]\n",
            "914e38defd5d53368b8a53c42484f88f ['Camping Supplies ', 'Body Systems Frankenstein Project Supplies', 'With a Small Group Table, We Can Learn Together!', 'Students Helping Students', 'Rocking The Bronx: Bringing Music To The Classroom', 'Flipped Classroom Start-Up', 'A 3D Classroom', \"Chromebooks for Harlem's Brightest  \", 'Science Alive!', \"Slimmer's Seat Pockets\"]\n",
            "ee9a6682fa0b70f43b82cfde70dde21f ['Camping Supplies ', 'Body Systems Frankenstein Project Supplies', 'With a Small Group Table, We Can Learn Together!', 'Rocking The Bronx: Bringing Music To The Classroom', 'Flipped Classroom Start-Up', 'A 3D Classroom', 'Science Alive!', \"Slimmer's Seat Pockets\", '\"Oh, the Places You\\'ll Go...\" With Technology! (2)', 'Spring Art Show Materials']\n",
            "016f287c928d74476979fa6940bbdddc ['Camping Supplies ', 'Body Systems Frankenstein Project Supplies', 'With a Small Group Table, We Can Learn Together!', 'Rocking The Bronx: Bringing Music To The Classroom', 'Make Math Fun ', '\"Oh, the Places You\\'ll Go...\" With Technology! (2)', 'Spring Art Show Materials', 'Support Females in Athletics!', 'Learning Through the Technological Lens ', 'Singing with Preparation and Pride']\n",
            "4d8359c68b1f3b78ee0dc10fb8eb4621 ['Camping Supplies ', 'Body Systems Frankenstein Project Supplies', 'With a Small Group Table, We Can Learn Together!', 'Students Helping Students', 'A 3D Classroom', 'Make Math Fun ', 'Science Alive!', '\"Oh, the Places You\\'ll Go...\" With Technology! (2)', 'Spring Art Show Materials', 'Yoga Mats for Awesome Kids']\n",
            "587bf228ec87a94234f9a8d82e0baa84 ['Body Systems Frankenstein Project Supplies', 'Rocking The Bronx: Bringing Music To The Classroom', 'Flipped Classroom Start-Up', 'Make Math Fun ', 'Science Alive!', 'Spring Art Show Materials', 'Yoga Mats for Awesome Kids', 'Strengthening Social Skills Through Reading', 'Support Females in Athletics!', 'Learning Through the Technological Lens ']\n",
            "59d7e96fbc9c6536e01ec369639a430a ['Camping Supplies ', 'Body Systems Frankenstein Project Supplies', 'With a Small Group Table, We Can Learn Together!', 'Students Helping Students', 'Rocking The Bronx: Bringing Music To The Classroom', 'Flipped Classroom Start-Up', '\"Oh, the Places You\\'ll Go...\" With Technology! (2)', 'Help Us Achieve The Common Core', 'Spring Art Show Materials', 'Strengthening Social Skills Through Reading']\n",
            "5e2149e362bcd977fd18f0cf0d2bbdfe ['Camping Supplies ', 'Science Computers and Programming Innovation', 'Body Systems Frankenstein Project Supplies', 'With a Small Group Table, We Can Learn Together!', 'Students Helping Students', 'Rocking The Bronx: Bringing Music To The Classroom', 'Make Math Fun ', 'Be a \"Bucket Filler\" Donate Prizes!', 'Science Alive!', '\"Oh, the Places You\\'ll Go...\" With Technology! (2)']\n"
          ],
          "name": "stdout"
        }
      ]
    },
    {
      "metadata": {
        "id": "8Xuv3FKhiyMM",
        "colab_type": "code",
        "colab": {}
      },
      "cell_type": "code",
      "source": [
        "charity_arr = []"
      ],
      "execution_count": 0,
      "outputs": []
    },
    {
      "metadata": {
        "id": "JjyrekBz248g",
        "colab_type": "code",
        "colab": {}
      },
      "cell_type": "code",
      "source": [
        "project_ids = list(set(data_1000['Project Title']))"
      ],
      "execution_count": 0,
      "outputs": []
    },
    {
      "metadata": {
        "id": "n-3XKagp25E_",
        "colab_type": "code",
        "outputId": "5fb99280-2f85-486a-b65f-ca4d641efa6d",
        "colab": {
          "base_uri": "https://localhost:8080/",
          "height": 4648
        }
      },
      "cell_type": "code",
      "source": [
        "project_ids"
      ],
      "execution_count": 0,
      "outputs": [
        {
          "output_type": "execute_result",
          "data": {
            "text/plain": [
              "['The Future of the World Is in My Classroom Today...',\n",
              " 'Science Alive!',\n",
              " 'Technology In The Classroom!',\n",
              " 'Have You READ Any MATH Lately?',\n",
              " 'Help Support the \"Ball\" Chairs!',\n",
              " 'Mapping To Save The Planet',\n",
              " 'iPads to Inspire, Engage, and Ignite Young Inquisitors!',\n",
              " 'Project History to Reach Success!',\n",
              " 'Getting \"In the Spirit\"',\n",
              " 'iPad for Differentiation',\n",
              " 'We are Smart, Smart, Smart!',\n",
              " 'Help Bronx Students Back to School With These Books!',\n",
              " 'Please Help Us Get Along!',\n",
              " 'College Ready with Chromebooks!',\n",
              " 'Finding Books That Are \"Just Right\"',\n",
              " 'Practicing Like a Professional',\n",
              " 'Building Literacy with To Kill a Mockingbird',\n",
              " 'Help Us Learn in First Grade!',\n",
              " 'Tablets for our Future!',\n",
              " 'To Learn to Read is to Light a Fire',\n",
              " 'iLearn & iCreate With An iPad!',\n",
              " 'Develop Fine Motor Skills',\n",
              " 'Aidez-nous! We Need French Literacy Materials!',\n",
              " 'Books to Change Young Lives',\n",
              " 'Get (Kindle) FIREd Up About Reading!',\n",
              " 'Creating a Community of Readers: On a Rug.',\n",
              " 'Sophomore Camping Trip for Team Building!',\n",
              " 'Reading is the Magic Key',\n",
              " 'Readers Read, Writers Write! We are Both!',\n",
              " 'Rake in a Good Read',\n",
              " 'The Power Of Technology!',\n",
              " 'Our Tower Garden',\n",
              " 'Motivation Station: No Hangry Child Left Behind',\n",
              " 'eReaders to eNcourage Reluctant Readers',\n",
              " 'Speech-Language Therapy Space',\n",
              " 'Science Computers and Programming Innovation',\n",
              " 'Original iPAD Dies - Class is Devastated!',\n",
              " 'Books, Materials, and Students, Oh My...',\n",
              " 'Daring Books for Dedicated Teens',\n",
              " 'Classroom Library Needs Books',\n",
              " 'Print! Save! Share! ',\n",
              " 'Reading for the Stars',\n",
              " 'TABLE TENNIS for Physical Education!',\n",
              " '\"Oh, the Places You\\'ll Go...\" With Technology! (2)',\n",
              " 'New Year - New Supplies! Help Us Start the New Year Part II!',\n",
              " 'Rising Readers: One Chapter At A Time',\n",
              " 'The Class Needs A New Way To Sing and Move!',\n",
              " 'Catch Some Catchy Titles! ',\n",
              " 'Science Leveled Readers',\n",
              " \"4 C's With Chromebooks\",\n",
              " 'We Need To Read!',\n",
              " 'The Young Scientist Club',\n",
              " 'Body Systems Frankenstein Project Supplies',\n",
              " 'Engaging 4th Graders with Great Literature',\n",
              " 'Chemistry Lab Equipment for FSSA',\n",
              " 'RED is the Color of Reading!',\n",
              " 'Standing Up for My Students',\n",
              " 'Tools and Materials to Succeed in Math',\n",
              " 'Mathematicians Craving Technology!',\n",
              " 'Technologically Speaking',\n",
              " \"Let's Ball: Lions Basketball\",\n",
              " 'Helping Children See a Brighter Future ',\n",
              " 'A Desk for Dramatic Success',\n",
              " \"It's the 21st Century: Devices Need a Charging Station!\",\n",
              " \"Let's Support Everyone In The Classroom\",\n",
              " 'Sleeping Bags for Campers',\n",
              " 'Positive Reading Project: the Sequel',\n",
              " 'Leer, Leer, Leer! Part 2: Spanish Fiction Favorites',\n",
              " 'Make the Classroom \"Right\"!',\n",
              " 'Reading Like a Rock Star',\n",
              " 'Make Math Fun ',\n",
              " 'Get Healthy & Get Moving in 2nd Grade!',\n",
              " \"Chromebooks for Harlem's Brightest  \",\n",
              " 'In Need of a Better Presentation Option',\n",
              " 'Essential Oils for Various Student Needs!',\n",
              " 'Kindergarten Snack Time!',\n",
              " 'Growing in the First Grade!',\n",
              " 'Special Tools For Special Needs',\n",
              " 'Help Provide Access to Education for Children with Special Needs',\n",
              " 'Flipped Classroom Start-Up',\n",
              " 'Making Mac Magic!',\n",
              " 'Unlocking the Love of Reading is No Great Mystery!',\n",
              " 'Posting Their Thoughts',\n",
              " 'A Class Set of Chromebooks!',\n",
              " 'Technology for the History Classroom',\n",
              " 'Hear All Our Voices in Ferguson',\n",
              " 'Trash Troopers',\n",
              " 'Techologicaly Speaking',\n",
              " 'Engaging Autistic Students',\n",
              " 'Game Day Essentials ',\n",
              " 'Classroom Supplies',\n",
              " 'Kindle Saves the Day!',\n",
              " 'Classroom Library',\n",
              " 'Send Our Best To The Zoo!',\n",
              " 'Plentiful Poetry for Reading and Listening',\n",
              " 'Special Education Students Need Supplies!',\n",
              " 'Students Helping Students',\n",
              " '2nd Grade Connecticut Science Center field trip!',\n",
              " 'Night by Elie Wiesel Will Bring Us Out of Darkness',\n",
              " 'Eager Writers Need Ink!',\n",
              " 'Visualize and Learn!',\n",
              " 'Help Keep Our Classroom Color Printer Going!',\n",
              " '1st Grade Math Center: Putting Things in Order',\n",
              " 'Amazing Mathematicians',\n",
              " 'Cubbies To Foster Collaboration',\n",
              " 'Lakota Students Need a Culturally Relevant Classroom!',\n",
              " 'Help Keep Us Contained!',\n",
              " '2nd Graders with Great Listening Skills!',\n",
              " \"Slimmer's Seat Pockets\",\n",
              " 'Scientific Calculators for our Future Scientists! ',\n",
              " 'Wanted! !Students With Disabilities Seek Color Printer.',\n",
              " 'Printer Project',\n",
              " 'Spring Art Show Materials',\n",
              " 'Kindergarten Math Minds!',\n",
              " \"Bringing Color to the Campus - LaGuardia's Outside Garden \",\n",
              " 'Maximizing Space & Minds',\n",
              " 'Books and Buddies!',\n",
              " ' A Novel Idea',\n",
              " 'Take Reading & Math to the Next Level with an iPad!',\n",
              " 'Class Trip Project: Washington DC',\n",
              " \"A MAKERSPACE That MAKES Our Library's SPACE Shine!\",\n",
              " 'Renewable Resources Through Lamination',\n",
              " 'Computer Laptops = Technology & Enrichment',\n",
              " 'Be One with the State!',\n",
              " 'Learning Through the Technological Lens ',\n",
              " 'Weekly Nonfiction Fun - Time For Kids!',\n",
              " 'Chapter Book Project',\n",
              " \"Sitting Still Isn't Always A Good Thing!\",\n",
              " 'Supplies are Running Low!',\n",
              " 'Medical Spanish Resources For Future RNs/CNAs/Doctors',\n",
              " 'Social Skills Materials',\n",
              " 'Keeping Students \"In The News\"',\n",
              " 'The Mindfulness Project at LAG',\n",
              " \"An Exciting Trip To The Children's Museum\",\n",
              " 'Positive Reading Project ',\n",
              " 'Becoming Independent Learners',\n",
              " 'Yoga Mats for Awesome Kids',\n",
              " 'We Want SCORPIONS in Our Hands! (Okay, sort of)',\n",
              " 'Talking About Race in America ',\n",
              " 'Beating Bullying',\n",
              " 'Epson Picturemate Please, To Help Us Share Our Learning!',\n",
              " 'Anchors Away On Stage',\n",
              " 'Escaping Reality Through Literature ',\n",
              " 'Xylophone Fun!',\n",
              " 'Pint Sized Picassos Love To Make Pottery!!',\n",
              " 'Shelving Needed to Store and Protect Our Band Instruments!',\n",
              " 'Read to Succeed!',\n",
              " 'Organization Is Essential In Reading! ',\n",
              " 'Class Store',\n",
              " 'A Neat Seat!',\n",
              " 'Keep Calm and Crochet On!',\n",
              " 'Computer Research ',\n",
              " 'Citizens in Need of Grade Level Reads!',\n",
              " 'We Want To Be Kids And Play',\n",
              " 'Laptop Needed',\n",
              " 'Be a \"Bucket Filler\" Donate Prizes!',\n",
              " '6th Grade Techie',\n",
              " 'Disassemble and Create Anew!',\n",
              " 'Teaching Tolerance Using Technology ',\n",
              " 'Words, Image, and Sound: Literature and Art Through Technology',\n",
              " 'Learning Can Be Fun…Come Play With Us!',\n",
              " 'Just A Few More Things!',\n",
              " 'Say No to Bed Bugs!',\n",
              " 'Technology Comes To Harlem!',\n",
              " 'Garden Galore III',\n",
              " 'Seeing the World Through Their Eyes!',\n",
              " 'Computer Lab Publishing and Printing',\n",
              " 'Dance To The Music!!!',\n",
              " 'Camping Supplies ',\n",
              " 'Feeding the Reading Appetite!',\n",
              " \"Today's Readers, Tomorrow's Leaders\",\n",
              " 'Let The Pigeon Come To Pre-K',\n",
              " \"The Emperor's New Clothes\",\n",
              " 'Is It My Turn Yet? Maximizing Participation in PE',\n",
              " 'iPad for 21st Century Theater Students',\n",
              " 'Snacks For My Scholars!!!',\n",
              " 'Lab Materials Desperately Needed!! Hands-On Forensics Course',\n",
              " 'Arts Integration ... Chorus Supplies!',\n",
              " 'Literacy in the Classroom: Hooking High Schoolers',\n",
              " 'Computers Can Open Up New Worlds!',\n",
              " 'Rocking The Bronx: Bringing Music To The Classroom',\n",
              " 'Art Studio Organizational Needs',\n",
              " 'You Can Ukulele, Too!',\n",
              " 'Help Us Dash Our Way through Coding and Critical Thinking!',\n",
              " 'Oh No Ebola',\n",
              " 'Starting a Lacrosse Program in our Physical Education Class',\n",
              " 'Students Need Shakespeare\\'s Insults: \"Thou Cream Faced Loon\"',\n",
              " 'eReaders to eCourage Reading in ICT Classroom!',\n",
              " 'Brain Food- We Crave Non-Fiction',\n",
              " 'Chromebooks for Class V04!',\n",
              " 'From Page to Stage!',\n",
              " 'Just the Basics Please! So We Can Write, Paint, and Play!',\n",
              " 'Fifth Graders Need an Escape!',\n",
              " 'Need Seating for Kids to Curl Up with a Good Book!',\n",
              " 'Get Fit! Get Healthy!',\n",
              " 'Show It Live!!',\n",
              " 'Fund Olympic Fencing Programs at Democracy Prep!',\n",
              " 'Reading Resources for Ready Readers',\n",
              " 'Kids Matter Most',\n",
              " 'Help Wake Up Our Seniors with Kate Chopin\\'s \"The Awakening\"',\n",
              " \" Let's Use Flexible Seating in Our New Classrooms! \",\n",
              " 'Does Not Compute - In Need of Modern Technology!',\n",
              " 'Fresh Minds Need Fresh Books',\n",
              " 'Playwrights with Fire: Kindle Fire, That Is!',\n",
              " \"Help Improve Our Library's Book Collection\",\n",
              " 'Need Some WONDER for my Wonderful ICT Classroom!',\n",
              " \"Life Essentials: Let's Remove Barriers to Classroom Pride\",\n",
              " 'Solve and Wipe, Dry Erase Math!',\n",
              " 'Math and Reading Computer Games',\n",
              " 'Technology Needed!',\n",
              " 'Strange Science',\n",
              " 'With a Small Group Table, We Can Learn Together!',\n",
              " 'Watsons Go to Birmingham, Diversity in Literature',\n",
              " \"Celebrating Our School's Multicultural Community Through Art\",\n",
              " 'Photography For Kids!',\n",
              " 'Anime Animates Our Library!',\n",
              " 'A Trip Across America',\n",
              " 'Providing Eye Exams and Glasses!',\n",
              " \"From Computer to Children's Hands\",\n",
              " 'Technology Superheroes',\n",
              " 'Help Us Explore Our Love For Reading!',\n",
              " 'Springing into Learning!',\n",
              " 'The \"Magic\" of Reading',\n",
              " 'I Believe In You: Read to Succeed',\n",
              " 'Support Females in Athletics!',\n",
              " 'Singing with Preparation and Pride',\n",
              " 'Beyond These Four Walls',\n",
              " \"Let's Play...Wait Where are the Balls?\",\n",
              " \"Let's Have a Seat!\",\n",
              " 'Tech starved teacher of History need help ... FAME!',\n",
              " 'Building Academic Skills With Tehnology',\n",
              " 'Bringing History to Life with Book Clubs!',\n",
              " 'Technology for Environmental Science Classroom',\n",
              " 'Reading Citizen with the Citizens of Our School',\n",
              " 'Laptop for Learning!',\n",
              " 'Saving our Planet by Using Technology to Enhance Learning',\n",
              " 'Technology for Visually Impaired Students',\n",
              " 'School is NOT for Sitting Still',\n",
              " 'Helping Harlem Special Needs Students Math Stations',\n",
              " 'Complete Our Circuit!',\n",
              " 'Picc for Players!',\n",
              " 'Autism Success Academy',\n",
              " 'Information at Our Fingertips 4',\n",
              " 'Visually Simplifying Concrete Theory and History',\n",
              " 'Standing Desks for Stand Up Kids',\n",
              " 'Help My Girls Start Book Clubs!',\n",
              " 'Just Press Print!',\n",
              " 'White Boards Needed!',\n",
              " 'Tonka Toys...  for BOYS???',\n",
              " 'A 3D Classroom',\n",
              " 'Technologically Speaking, Take Two',\n",
              " 'Strengthening Social Skills Through Reading',\n",
              " 'Help Us Achieve The Common Core',\n",
              " 'Go Lions Go Lions GO GO GO!',\n",
              " 'A Whale of a Tale!',\n",
              " 'New Kiln! No Clay!!',\n",
              " 'Keys are Necessary to Mott Hall',\n",
              " 'Brilliant Scholars In Need  Of A Larger Leveled Library',\n",
              " 'Imaginations Run Wild During Play!',\n",
              " 'Help My Class be Technologically Saavy',\n",
              " '\"What In The World?\" ~  A Geography Literacy Proposal',\n",
              " 'Change Our Classroom From Obtrusive to Conducive to Learning',\n",
              " \"Mrs. E's Book Nook! Knowledge is Power!\",\n",
              " 'F is for Fidgets and Fine Motor Skills',\n",
              " 'All American Boys For My Girls',\n",
              " 'Snack Shop: Striving for Independence! ',\n",
              " 'Harlem Stage JazzReach: Blues, Be-Bop, and Basquiat',\n",
              " 'Final Trip to the Cliffs!',\n",
              " 'Building a Fourth Grade Classroom 4',\n",
              " 'Riveting Literature Made Accessible for Teens',\n",
              " 'Robo-Revolution: Streamlining Design for National Competition',\n",
              " 'Literacy Instantly in Your Hands',\n",
              " 'More Books to Breathe Some Uncommon into the Common Core!',\n",
              " \"Let's Stock Our Locker With Self-Care Products!\",\n",
              " 'Healthy Snacks for Healthy Girls!!',\n",
              " \"Anatomy Lessons: The Knee Bone's Connected to Everything! \",\n",
              " 'Every Child is an Artist...',\n",
              " 'Science Fridays',\n",
              " 'Get with the Programming!',\n",
              " 'Finding Identity, Navigating Society',\n",
              " 'Middle School PE Class Needs A Boost!',\n",
              " 'Robotics Revolution: Help Inner City Students Compete Nationally',\n",
              " 'The Heart of the Music Classroom:  A Piano (Keyboard)!',\n",
              " 'Help Us Hear!',\n",
              " 'Love of Library']"
            ]
          },
          "metadata": {
            "tags": []
          },
          "execution_count": 36
        }
      ]
    },
    {
      "metadata": {
        "colab_type": "code",
        "cellView": "both",
        "id": "yqkeq260SHMx",
        "outputId": "f20c0923-8467-4d48-d296-62a5e1646012",
        "colab": {
          "base_uri": "https://localhost:8080/",
          "height": 167
        }
      },
      "cell_type": "code",
      "source": [
        "#@title #Charity Recommender<br><br>\n",
        "\n",
        "#@markdown 1. Type 'CLEAR' before your first time using Charity Recommender\n",
        "#@markdown 2. Write your name in so taht we can track your input and tune the recommender\n",
        "#@markdown 3. Copy a charity from above, remove the apostrophes and quotes <br><br><br>\n",
        "\n",
        "\n",
        "name = 'JSON' #@param {type:\"string\"}\n",
        "charity = \"Providing Eye Exams and Glasses!\" #@param {type:\"string\"}\n",
        "\n",
        "if name == 'CLEAR':\n",
        "  data_1000 = data_1000[['Donor ID','Project Title','Donated']]\n",
        "  charity_arr = []\n",
        "else:\n",
        "  charity_arr.append(charity)\n",
        "  new_frame = pd.DataFrame([[name,charity,1]], columns=['Donor ID','Project Title','Donated'])\n",
        "  data_1000 = data_1000.append(new_frame)\n",
        "  print('Charities you said you donated to:')\n",
        "  for donated in list(set(charity_arr)):\n",
        "    print(donated)\n",
        "\n",
        "  print('\\n\\n')\n",
        "  all_recs = give_recs(name,data_1000)\n",
        "  print('Based on your past selections, you may also want to donate to...')\n",
        "  print(all_recs)\n",
        "#   for rec in all_recs:\n",
        "#     print(rec[0])"
      ],
      "execution_count": 0,
      "outputs": [
        {
          "output_type": "stream",
          "text": [
            "Charities you said you donated to:\n",
            "Providing Eye Exams and Glasses!\n",
            "Original iPAD Dies - Class is Devastated!\n",
            "\n",
            "\n",
            "\n",
            "Based on your past selections, you may also want to donate to...\n",
            "[('Technology Needed!', 0.9043860254185838), ('Readers Read, Writers Write! We are Both!', 0.9029874567513707), ('Solve and Wipe, Dry Erase Math!', 0.8868456878355657), ('Seeing the World Through Their Eyes!', 0.8762152794347482), ('Bringing History to Life with Book Clubs!', 0.861482598704288), (\"Bringing Color to the Campus - LaGuardia's Outside Garden \", 0.8606918568760067), ('Techologicaly Speaking', 0.8561745335519246), ('Snacks For My Scholars!!!', 0.8445083059912737), ('Technologically Speaking, Take Two', 0.8355226879509681), ('Words, Image, and Sound: Literature and Art Through Technology', 0.832124825450351)]\n"
          ],
          "name": "stdout"
        }
      ]
    },
    {
      "metadata": {
        "colab_type": "code",
        "id": "D9QiUu94SGyP",
        "colab": {}
      },
      "cell_type": "code",
      "source": [
        ""
      ],
      "execution_count": 0,
      "outputs": []
    },
    {
      "metadata": {
        "colab_type": "code",
        "id": "lQYjxmwmSGaw",
        "colab": {}
      },
      "cell_type": "code",
      "source": [
        ""
      ],
      "execution_count": 0,
      "outputs": []
    },
    {
      "metadata": {
        "id": "V6KjIEDIp29x",
        "colab_type": "code",
        "colab": {}
      },
      "cell_type": "code",
      "source": [
        ""
      ],
      "execution_count": 0,
      "outputs": []
    },
    {
      "metadata": {
        "id": "xCob0ma2p3ER",
        "colab_type": "code",
        "colab": {}
      },
      "cell_type": "code",
      "source": [
        ""
      ],
      "execution_count": 0,
      "outputs": []
    },
    {
      "metadata": {
        "id": "IK-yaPw4p3wK",
        "colab_type": "code",
        "colab": {}
      },
      "cell_type": "code",
      "source": [
        ""
      ],
      "execution_count": 0,
      "outputs": []
    },
    {
      "metadata": {
        "id": "Kqpmx2t_p3Be",
        "colab_type": "code",
        "colab": {}
      },
      "cell_type": "code",
      "source": [
        ""
      ],
      "execution_count": 0,
      "outputs": []
    },
    {
      "metadata": {
        "id": "7avYqnVsbzFD",
        "colab_type": "code",
        "colab": {}
      },
      "cell_type": "code",
      "source": [
        ""
      ],
      "execution_count": 0,
      "outputs": []
    },
    {
      "metadata": {
        "id": "haIMTWu_F3m7",
        "colab_type": "code",
        "outputId": "c1e7cf64-813a-41d9-ecbf-cc19687ef975",
        "colab": {
          "base_uri": "https://localhost:8080/",
          "height": 80
        }
      },
      "cell_type": "code",
      "source": [
        "new_frame.head()"
      ],
      "execution_count": 0,
      "outputs": [
        {
          "output_type": "execute_result",
          "data": {
            "text/html": [
              "<div>\n",
              "<style scoped>\n",
              "    .dataframe tbody tr th:only-of-type {\n",
              "        vertical-align: middle;\n",
              "    }\n",
              "\n",
              "    .dataframe tbody tr th {\n",
              "        vertical-align: top;\n",
              "    }\n",
              "\n",
              "    .dataframe thead th {\n",
              "        text-align: right;\n",
              "    }\n",
              "</style>\n",
              "<table border=\"1\" class=\"dataframe\">\n",
              "  <thead>\n",
              "    <tr style=\"text-align: right;\">\n",
              "      <th></th>\n",
              "      <th>Donor ID</th>\n",
              "      <th>Project Title</th>\n",
              "      <th>Donated</th>\n",
              "    </tr>\n",
              "  </thead>\n",
              "  <tbody>\n",
              "    <tr>\n",
              "      <th>0</th>\n",
              "      <td>Chris</td>\n",
              "      <td>YOUNG AUTHORS</td>\n",
              "      <td>1</td>\n",
              "    </tr>\n",
              "  </tbody>\n",
              "</table>\n",
              "</div>"
            ],
            "text/plain": [
              "  Donor ID  Project Title  Donated\n",
              "0    Chris  YOUNG AUTHORS        1"
            ]
          },
          "metadata": {
            "tags": []
          },
          "execution_count": 205
        }
      ]
    },
    {
      "metadata": {
        "id": "vG0XVovHFLQq",
        "colab_type": "code",
        "outputId": "f851dd1a-d4d5-41ec-a220-f37eab6b3a21",
        "colab": {
          "base_uri": "https://localhost:8080/",
          "height": 164
        }
      },
      "cell_type": "code",
      "source": [
        "algo.predict(new_frame)"
      ],
      "execution_count": 0,
      "outputs": [
        {
          "output_type": "error",
          "ename": "TypeError",
          "evalue": "ignored",
          "traceback": [
            "\u001b[0;31m---------------------------------------------------------------------------\u001b[0m",
            "\u001b[0;31mTypeError\u001b[0m                                 Traceback (most recent call last)",
            "\u001b[0;32m<ipython-input-204-8d5d9f49aad3>\u001b[0m in \u001b[0;36m<module>\u001b[0;34m()\u001b[0m\n\u001b[0;32m----> 1\u001b[0;31m \u001b[0malgo\u001b[0m\u001b[0;34m.\u001b[0m\u001b[0mpredict\u001b[0m\u001b[0;34m(\u001b[0m\u001b[0mnew_frame\u001b[0m\u001b[0;34m)\u001b[0m\u001b[0;34m\u001b[0m\u001b[0;34m\u001b[0m\u001b[0m\n\u001b[0m",
            "\u001b[0;31mTypeError\u001b[0m: predict() missing 1 required positional argument: 'iid'"
          ]
        }
      ]
    },
    {
      "metadata": {
        "id": "Cq6qtyQTcJwZ",
        "colab_type": "text"
      },
      "cell_type": "markdown",
      "source": [
        "### Get tuning parameters"
      ]
    },
    {
      "metadata": {
        "id": "yNdGVx4KcFes",
        "colab_type": "code",
        "outputId": "6639362f-5efe-44e7-e2c4-1f31200d07f0",
        "colab": {
          "base_uri": "https://localhost:8080/",
          "height": 119
        }
      },
      "cell_type": "code",
      "source": [
        "from surprise.model_selection import GridSearchCV\n",
        "\n",
        "data = Dataset.load_from_df(data_df[['Donor ID','Project ID','Donated']].head(1000), reader)\n",
        "\n",
        "param_grid = {'n_epochs': [5, 10], 'lr_all': [0.002, 0.005],\n",
        "              'reg_all': [0.4, 0.6]}\n",
        "\n",
        "gs = GridSearchCV(SVD, param_grid, measures=['rmse', 'mae'], cv=3)\n",
        "\n",
        "gspp = GridSearchCV(SVDpp, param_grid, measures=['rmse', 'mae'], cv=3)\n",
        "\n",
        "param_grid = {'n_epochs': [5, 10]}\n",
        "gscc = GridSearchCV(CoClustering, param_grid, measures=['rmse', 'mae'], cv=3)\n",
        "\n",
        "gs.fit(data)\n",
        "gspp.fit(data)\n",
        "gscc.fit(data)\n",
        "\n",
        "# best RMSE score\n",
        "print(gs.best_score['rmse'])\n",
        "print(gspp.best_score['rmse'])\n",
        "print(gscc.best_score['rmse'])\n",
        "\n",
        "# combination of parameters that gave the best RMSE score\n",
        "print(gs.best_params['rmse'])\n",
        "print(gspp.best_params['rmse'])\n",
        "print(gscc.best_params['rmse'])"
      ],
      "execution_count": 0,
      "outputs": [
        {
          "output_type": "stream",
          "text": [
            "0.014409938051232965\n",
            "0.012943792937745202\n",
            "0.0\n",
            "{'n_epochs': 10, 'lr_all': 0.005, 'reg_all': 0.6}\n",
            "{'n_epochs': 10, 'lr_all': 0.005, 'reg_all': 0.6}\n",
            "{'n_epochs': 5}\n"
          ],
          "name": "stdout"
        }
      ]
    }
  ]
}